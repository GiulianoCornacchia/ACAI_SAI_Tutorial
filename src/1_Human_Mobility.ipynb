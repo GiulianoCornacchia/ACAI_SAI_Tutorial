{
 "cells": [
  {
   "cell_type": "markdown",
   "id": "332ced6b",
   "metadata": {},
   "source": [
    "<span>\n",
    "<img src=\"https://raw.githubusercontent.com/scikit-mobility/scikit-mobility/master/logo_skmob.png\" width=\"260px\" align=\"right\"/>\n",
    "</span>\n",
    "<span>\n",
    "<b>Author:</b> <a href=\"https://kdd.isti.cnr.it/people/cornacchia-giuliano\">Giuliano Cornacchia</a><br/>\n",
    "<b>Python version:</b> 3.8.5<br/>\n",
    "<b>Scikit-mobility version:</b>  1.2.2<br/>\n",
    "<b>Last update:</b> 08/10/2021\n",
    "</span>"
   ]
  },
  {
   "cell_type": "markdown",
   "id": "81bf15b3",
   "metadata": {},
   "source": [
    "# Scikit-Mobility\n",
    "### Tutorial - Human Mobility Networks\n",
    "___\n",
    "\n",
    "<i>\"Human mobility is the discipline that studies the movements of individuals in space and time.\"</i>\n",
    "<br><br>\n",
    "`scikit-mobility` is a Python library designed for human mobility analysis in Python\n",
    "\n",
    "This notebook gives an introduction of the main concepts of the library with a focus on data **preprocessing**, **visualization**, and the creation of a **mobility network**.\n",
    "\n",
    "**Note:** this notebook is purposely not 100% comprehensive, it only discusses the basic things you need to get started.\n",
    "\n",
    "<img src=\"https://media.springernature.com/m685/springer-static/image/art%3A10.1038%2Fncomms9166/MediaObjects/41467_2015_Article_BFncomms9166_Fig1_HTML.jpg\"  width=\"500px\" height=\"auto\">\n",
    "<br><br>"
   ]
  },
  {
   "cell_type": "markdown",
   "id": "b7f351a0",
   "metadata": {},
   "source": [
    "## Table of Contents\n",
    "\n",
    "1. [Installing scikit-mobility](#install)\n",
    "2. [Introduction and Data Structures](#into_ds) \n",
    "    1. [Trajectory](#trajectory)\n",
    "    2. [Spatial Tessellation](#spatial_tess)\n",
    "    3. [Flow](#flow)\n",
    "3. [Preprocessing Mobility Data](#preprocess)\n",
    "    1. [Noise Filtering](#noise)\n",
    "    2. [Trajectory Compression](#compression)\n",
    "4. [Hands on tutorial: create a mobility network from real data](#tutorial)\n",
    "    1. [Dataset loading](#dataloading)\n",
    "    2. [Dataset preprocessing](#pptutorial)\n",
    "    3. [Mobility Network creation](#mobnet)\n",
    "    4. [Export the Mobility Network](#export)\n",
    "5. [Conclusion](#conclusion)\n",
    "6. [Exercises](#exercise)\n",
    "\n",
    "\n",
    "\n"
   ]
  },
  {
   "cell_type": "markdown",
   "id": "13bfa82d",
   "metadata": {},
   "source": [
    "## 1. Installing scikit-mobility<a id='install'></a>"
   ]
  },
  {
   "cell_type": "markdown",
   "id": "c7d0719d",
   "metadata": {},
   "source": [
    "The first step is to install `scikit-mobility` and check that it is working.\n",
    "\n",
    "The installation can be performed with conda.\n",
    "\n",
    "`conda install -c conda-forge scikit-mobility`"
   ]
  },
  {
   "cell_type": "markdown",
   "id": "0297f2de",
   "metadata": {},
   "source": [
    "`scikit-mobility` can be installed on Google Colab using the following commands:\n",
    "\n",
    "    !apt-get install -qq curl g++ make\n",
    "    !curl -L http://download.osgeo.org/libspatialindex/spatialindex-src-1.8.5.tar.gz | tar xz\n",
    "    import os\n",
    "    os.chdir('spatialindex-src-1.8.5')\n",
    "    !./configure\n",
    "    !make\n",
    "    !make install\n",
    "    !pip install rtree\n",
    "    !ldconfig\n",
    "    !pip install scikit-mobility"
   ]
  },
  {
   "cell_type": "markdown",
   "id": "7b68757b",
   "metadata": {},
   "source": [
    "To check if `scikit-mobility` is installed try to import it"
   ]
  },
  {
   "cell_type": "code",
   "execution_count": null,
   "id": "492641f9",
   "metadata": {},
   "outputs": [],
   "source": [
    "import skmob"
   ]
  },
  {
   "cell_type": "markdown",
   "id": "33141a70",
   "metadata": {},
   "source": [
    "The project is available on GitHub at https://github.com/scikit-mobility\n",
    "\n",
    "If you would like to contribute to the `scikit-mobility` project, feel free to fork the project, open an issue and contact the developers."
   ]
  },
  {
   "cell_type": "markdown",
   "id": "d912c0e7",
   "metadata": {},
   "source": [
    "<a id=\"into_ds\"></a>\n",
    "## 2. Introduction and Data Structures"
   ]
  },
  {
   "cell_type": "markdown",
   "id": "a38a3a8f",
   "metadata": {},
   "source": [
    "### 2.1 Trajectory <a id=\"trajectory\"></a>"
   ]
  },
  {
   "cell_type": "markdown",
   "id": "0513a213",
   "metadata": {},
   "source": [
    "#### Definition\n",
    "____\n",
    "The trajectory of an individual is a sequence of records that allows for reconstructing their movements during the period of observation. <br>\n",
    "\n",
    "A trajectory $T$ for an individual $u$ is defined as a **time ordered sequence** of spatial points, usually **GPS points**.\n",
    "\n",
    "$T_u=<(l_1, t_1), . . . , (l_n, t_n)>$, where:\n",
    "- $l_i=(x_i, y_i)$ is a location of coordinates $ x_i$ and $y_i$;\n",
    "- $t_i<t_j$ if $i<j$.\n",
    "<br><br>\n",
    "<img src=\"https://i.ibb.co/crmZmdT/img-def-trajectory.png\"  width=\"500px\" height=\"auto\"><br><br>"
   ]
  },
  {
   "cell_type": "markdown",
   "id": "021347da",
   "metadata": {},
   "source": [
    "#### Trajectory dataframe\n",
    "___\n",
    "In `scikit-mobility` a set of trajectories is modeled through a `TrajDataFrame` data structure that extends the pandas `DataFrame`.\n",
    "<br><br>\n",
    "\n",
    "Each row of a `TrajDataFrame` describes a trajectory's point and contains the following columns:\n",
    "\n",
    "```\n",
    "    lat: latitude of the point\n",
    "    lng: longitude of the point\n",
    "    datetime: timestamp of the point\n",
    "```\n",
    "For multi-user datasets, there is an optional column:\n",
    "\n",
    "    uid: user's identifier to which the trajectory belongs to\n",
    "\n",
    "In short words **WHO**, **WHEN** and **WHERE**."
   ]
  },
  {
   "cell_type": "markdown",
   "id": "96abbc68",
   "metadata": {},
   "source": [
    "Let's create a `TrajDataFrame` from a list of spatio-temporal points relative to the movements of two users (ID 24 and ID 11) walking in Berlin to reach the ACAI-2021 conference.\n",
    "<br><br>\n",
    "Each element in the list is in the form of: `[user_id, latitude, longitude, timestamp]`."
   ]
  },
  {
   "cell_type": "code",
   "execution_count": null,
   "id": "52b11004",
   "metadata": {},
   "outputs": [],
   "source": [
    "list_of_points = [[24, 52.516091, 13.378148, '2021-10-11 08:10:05'], # start user 24\n",
    "                  [24, 52.516469, 13.377842, '2021-10-11 08:11:45'],\n",
    "                  [24, 52.517760, 13.376662, '2021-10-11 08:11:59'],\n",
    "                  [24, 52.517745, 13.376325, '2021-10-11 08:12:33'],\n",
    "                  [24, 52.517775, 13.369990, '2021-10-11 08:22:32'],\n",
    "                  [24, 52.517321, 13.369051, '2021-10-11 08:33:32'],\n",
    "                  [24, 52.517658, 13.361681, '2021-10-11 08:35:12'],\n",
    "                  [24, 52.517116, 13.354575, '2021-10-11 08:44:02'],\n",
    "                  [24, 52.514408, 13.348412, '2021-10-11 08:50:12'],\n",
    "                  [24, 52.513306, 13.331626, '2021-10-11 08:51:02'],\n",
    "                  [24, 52.515921, 13.327897, '2021-10-11 08:58:05'], #end user 24\n",
    "                  [11, 52.506203, 13.332373, '2021-10-11 08:30:15'], #start user 11\n",
    "                  [11, 52.513286, 13.322168, '2021-10-11 08:37:24'],\n",
    "                  [11, 52.514590, 13.322360, '2021-10-11 08:44:02'],      \n",
    "                  [11, 52.517522, 13.324961, '2021-10-11 08:49:15'],                  \n",
    "                  [11, 52.515921, 13.328082, '2021-10-11 08:57:07']] #end user 11\n",
    "              \n",
    "\n",
    "# set the indexes of the mandatory columns using arguments latitude, longitude and datetime.\n",
    "tdf = skmob.TrajDataFrame(list_of_points, user_id=0, latitude=1, longitude=2, datetime=3)\n",
    "print(type(tdf))"
   ]
  },
  {
   "cell_type": "code",
   "execution_count": null,
   "id": "e7058a4b",
   "metadata": {},
   "outputs": [],
   "source": [
    "#the TrajDataFrame that contains the two trajectories.\n",
    "#sort the TrajDataFrame by uid and time (to ensure the continuity of trajectories)\n",
    "tdf = tdf.sort_by_uid_and_datetime()\n",
    "tdf"
   ]
  },
  {
   "cell_type": "markdown",
   "id": "9bad00b9",
   "metadata": {},
   "source": [
    "On a `TrajDataFrame` we can perform the same operations as on a pandas DataFrame."
   ]
  },
  {
   "cell_type": "code",
   "execution_count": null,
   "id": "d03f3988",
   "metadata": {},
   "outputs": [],
   "source": [
    "# example 1: filtering\n",
    "tdf.query(\"uid==24\")"
   ]
  },
  {
   "cell_type": "code",
   "execution_count": null,
   "id": "b4d7d0e9",
   "metadata": {},
   "outputs": [],
   "source": [
    "# example 2: group by\n",
    "tdf.groupby(['uid'], as_index=False).mean()"
   ]
  },
  {
   "cell_type": "markdown",
   "id": "402a091d",
   "metadata": {},
   "source": [
    "And many other functions supported by a pandas DataFrame.\n",
    "<br><br>\n",
    "`scikit-mobility` allows the visualization of the trajectories of a `TrajDataFrame` on a `Foulim` map using the method `plot_trajectory`."
   ]
  },
  {
   "cell_type": "code",
   "execution_count": null,
   "id": "8152f52e",
   "metadata": {},
   "outputs": [],
   "source": [
    "import warnings\n",
    "warnings.filterwarnings('ignore')\n",
    "from skmob.utils.plot import *\n",
    "\n",
    "tdf.plot_trajectory(zoom=13, weight=3, opacity=0.9, start_end_markers=True)"
   ]
  },
  {
   "cell_type": "markdown",
   "id": "22664826",
   "metadata": {},
   "source": [
    "### 2.2 Spatial Tessellation <a id=\"spatial_tess\"></a>"
   ]
  },
  {
   "cell_type": "markdown",
   "id": "2ea7c236",
   "metadata": {},
   "source": [
    "#### Definition\n",
    "___\n",
    "A **spatial tessellation** is a discretization of the spatial region into a set of non-overlapping **tiles**. Usually the tiles are squares or hexagons.\n",
    "Each tile represents a location.\n",
    "<br><br>\n",
    "<img src=\"https://i.ibb.co/k8586pG/img-def-tessellation.png\"  width=\"500px\" height=\"auto\"><br><br>"
   ]
  },
  {
   "cell_type": "markdown",
   "id": "c074a282",
   "metadata": {},
   "source": [
    "#### Spatial Tessellation\n",
    "____\n",
    "In `scikit-mobility` a tessellation is represented through a `GeoDataFrame` data structure that extends the pandas `DataFrame`.\n",
    "<br><br>\n",
    "\n",
    "Each row of a `GeoDataFrame` describes a tile and contains the following columns:\n",
    "\n",
    "    tile_ID: identifier of the tile\n",
    "    geometry: geometric shape of the tile\n",
    "    "
   ]
  },
  {
   "cell_type": "markdown",
   "id": "e22b464f",
   "metadata": {},
   "source": [
    "In `scikit-mobility` we can obtain a tessellation using the function `tiler` and by specifying the region, the shape, and the granularity of the tessellation.\n",
    "\n",
    "The available shapes are squared and hexagonal."
   ]
  },
  {
   "cell_type": "code",
   "execution_count": null,
   "id": "6e29038e",
   "metadata": {},
   "outputs": [],
   "source": [
    "from skmob.tessellation import *\n",
    "\n",
    "tess_berlin = tilers.tiler.get(\"squared\", base_shape=\"Berlin, Germany\", meters=2000)\n",
    "type(tess_berlin)"
   ]
  },
  {
   "cell_type": "code",
   "execution_count": null,
   "id": "db6fa8ca",
   "metadata": {},
   "outputs": [],
   "source": [
    "tess_berlin[:5]"
   ]
  },
  {
   "cell_type": "markdown",
   "id": "9f0fd6eb",
   "metadata": {},
   "source": [
    "Visualize the tessellation on a map.\n",
    "`scikit-mobility` allows the visualization of a `GeoDataFrame` on a `Foulim` map using the function `plot_gdf`."
   ]
  },
  {
   "cell_type": "code",
   "execution_count": null,
   "id": "15a50834",
   "metadata": {},
   "outputs": [],
   "source": [
    "# style of the tessellation\n",
    "tex_style = {'fillColor':'gray', 'color':'black', 'opacity': 0.2}\n",
    "\n",
    "plot_gdf(tess_berlin, style_func_args=tex_style, zoom=10, popup_features=['tile_ID'])"
   ]
  },
  {
   "cell_type": "markdown",
   "id": "a0e199d6",
   "metadata": {},
   "source": [
    "The spatial tessellation can be used for mapping GPS points to their corresponding tile.\n",
    "After the mapping, usually, at each point is assigned the **centroid's** coordinates of the corresponding tile.<br><br>\n",
    "The `mapping` function assigns each point of the `TrajDataFrame` to the corresponding tile of a spatial tessellation. If a point has no correspondance the special value `NaN` is used."
   ]
  },
  {
   "cell_type": "code",
   "execution_count": null,
   "id": "2d2786c5",
   "metadata": {},
   "outputs": [],
   "source": [
    "#mapping the trajectories w.r.t. the spatial tessellation\n",
    "tdf.mapping(tess_berlin)[:5]"
   ]
  },
  {
   "cell_type": "markdown",
   "id": "989150ac",
   "metadata": {},
   "source": [
    "<img src=\"https://i.ibb.co/Nnr4Q9T/mapped.png\" width=\"500px\" height=\"auto\">"
   ]
  },
  {
   "cell_type": "markdown",
   "id": "9a4804d7",
   "metadata": {},
   "source": [
    "Be careful!\n",
    "- the mapping results in a loss of trajectory's details;\n",
    "- the finer the tessellation, the less details will be lost."
   ]
  },
  {
   "cell_type": "markdown",
   "id": "f5e37641",
   "metadata": {},
   "source": [
    "### 2.3 Flow <a id=\"flow\"></a>"
   ]
  },
  {
   "cell_type": "markdown",
   "id": "16b19e25",
   "metadata": {},
   "source": [
    "#### Definition\n",
    "____\n",
    "A **flow**, in human mobility, describes the **movements (flows)** of individuals **between locations**.\n",
    "While trajectories refer to movements of single objects, flows refer to aggregated movements of objects between a set of locations.\n",
    "\n",
    "Formally, a flow is a $n\\times m$ matrix $M$, where:\n",
    "- $n$ is the number of distinct origin locations;\n",
    "- $m$ is the number of distinct destination locations;\n",
    "- the element $M_{ij}$ contains the number of inviduals moving from location $i$ to location $j$ during the observation period.\n",
    "<br><br>\n",
    "\n",
    "A flow represented in a directed graph is a <b>Mobility Network</b>.\n",
    "<br><br>\n",
    "<img src=\"https://i.ibb.co/wSbjdLY/img-def-flow.png\"  width=\"500px\" height=\"auto\"><br><br>\n"
   ]
  },
  {
   "cell_type": "markdown",
   "id": "2d9c7950",
   "metadata": {},
   "source": [
    "#### FlowDataFrame\n",
    "___\n",
    "In `scikit-mobility` a flow is modeled through a `FlowDataFrame` data structure that extends the pandas `DataFrame`.\n",
    "<br><br>\n",
    "\n",
    "Each row of a `FlowDataFrame` describes a flow and contains the following columns:\n",
    "\n",
    "    origin: ID of the origin tile\n",
    "    destination: ID of the destination tile\n",
    "    flow: number of people travelling from origin to destination\n",
    "    \n",
    "\n",
    "A `FlowDataFrame` is associated with a spatial tessellation that discretizes the spatial region into a set of tiles.\n",
    "\n",
    "___\n",
    "\n",
    "In `scikit-mobility` a `FlowDataFrame` can be obtined from a `TrajDataFrame` with the method `to_flowdataframe`.\n"
   ]
  },
  {
   "cell_type": "markdown",
   "id": "4c56e12f",
   "metadata": {},
   "source": [
    "Create the `FlowDataFrame` from the `TrajDataFrame` describing the movements of the individuals moving in Berlin using the squared tessellation."
   ]
  },
  {
   "cell_type": "code",
   "execution_count": null,
   "id": "3c5c6c0a",
   "metadata": {},
   "outputs": [],
   "source": [
    "fdf = tdf.to_flowdataframe(tessellation=tess_berlin, self_loops=False)\n",
    "type(fdf)"
   ]
  },
  {
   "cell_type": "code",
   "execution_count": null,
   "id": "73963efe",
   "metadata": {},
   "outputs": [],
   "source": [
    "fdf"
   ]
  },
  {
   "cell_type": "markdown",
   "id": "038ee46b",
   "metadata": {},
   "source": [
    "Visualize the Flow on a map.\n",
    "\n",
    "`scikit-mobility` allows the visualization of the flows represented by a `FlowDataFrame` on a `Foulim` map using the method `plot_flows`."
   ]
  },
  {
   "cell_type": "code",
   "execution_count": null,
   "id": "5c112fe4",
   "metadata": {},
   "outputs": [],
   "source": [
    "tex_style = {'fillColor':'gray', 'color':'black', 'opacity': 0.1}\n",
    "\n",
    "#first plot the spatial tessellation\n",
    "map_f = fdf.plot_tessellation(style_func_args=tex_style, tiles='CartoDB positron', \n",
    "                                   zoom=12)\n",
    "\n",
    "#then, usuing map_f as argument, plot the flows\n",
    "map_f = fdf.plot_flows(map_f=map_f, flow_color='green', tiles='CartoDB positron',\n",
    "                   opacity=1, flow_weight=2, radius_origin_point=2)\n",
    "\n",
    "# plot the original trajectory\n",
    "fdf.plot_flows(map_f=map_f, flow_color='green', tiles='CartoDB positron',\n",
    "                   opacity=1, flow_weight=2, radius_origin_point=3)\n"
   ]
  },
  {
   "cell_type": "markdown",
   "id": "268e8a2a",
   "metadata": {},
   "source": [
    "## 3.1 Preprocessing Mobility Data <a id=\"preprocess\"></a>"
   ]
  },
  {
   "cell_type": "markdown",
   "id": "6ed9a760",
   "metadata": {},
   "source": [
    "The main pre-processing steps to deal with mobility data are:\n",
    "- noise filtering;\n",
    "- trajectory compression."
   ]
  },
  {
   "cell_type": "code",
   "execution_count": null,
   "id": "602f23da",
   "metadata": {},
   "outputs": [],
   "source": [
    "# create a fake noisy trajectory\n",
    "\n",
    "noise_traj =  [[7, 52.505377, 13.440478, '2021-10-11 08:50:12'],#East Side gallery\n",
    "               [7, 52.516561, 13.4461621, '2021-10-11 08:50:13'],#\"Noise\" point (fast and far)\n",
    "               [7, 52.506509, 13.4375157 , '2021-10-11 08:55:02'],\n",
    "               [7, 52.508453, 13.43466914, '2021-10-11 08:58:05'],#Start group of close points\n",
    "               [7, 52.508370, 13.43471270, '2021-10-11 08:58:11'],\n",
    "               [7, 52.508560, 13.43507037, '2021-10-11 08:58:15'],#End group of close points\n",
    "               [7, 52.509067, 13.43552048, '2021-10-11 09:07:17']]\n",
    "\n",
    "#create the TrajDataFrame\n",
    "noisy_tdf = skmob.TrajDataFrame(noise_traj, user_id=0, latitude=1, longitude=2, datetime=3)\n",
    "noisy_tdf"
   ]
  },
  {
   "cell_type": "markdown",
   "id": "ef70f700",
   "metadata": {},
   "source": [
    "Let's visualize the trajectory"
   ]
  },
  {
   "cell_type": "code",
   "execution_count": null,
   "id": "0e2b21fb",
   "metadata": {},
   "outputs": [],
   "source": [
    "noisy_tdf.plot_trajectory(hex_color=\"red\", zoom=14)"
   ]
  },
  {
   "cell_type": "markdown",
   "id": "0c919113",
   "metadata": {},
   "source": [
    "### 3.1 Noise filtering <a id=\"noise\"></a>"
   ]
  },
  {
   "cell_type": "markdown",
   "id": "d65445be",
   "metadata": {},
   "source": [
    "`scikit-mobility` provides the `filter` function to filter out points with speed higher than `max_speed` km/h from the previous point."
   ]
  },
  {
   "cell_type": "code",
   "execution_count": null,
   "id": "8aca3225",
   "metadata": {},
   "outputs": [],
   "source": [
    "from skmob.preprocessing import *\n",
    "\n",
    "max_speed_kmh = 200\n",
    "tdf_filtered = filtering.filter(noisy_tdf, max_speed_kmh=max_speed_kmh, \n",
    "                                    include_loops=False)\n",
    "print(\"Filtered \"+str(len(noisy_tdf)-len(tdf_filtered))+\" GPS point.\")"
   ]
  },
  {
   "cell_type": "code",
   "execution_count": null,
   "id": "41fe90ea",
   "metadata": {},
   "outputs": [],
   "source": [
    "tdf_filtered"
   ]
  },
  {
   "cell_type": "markdown",
   "id": "e4c098a8",
   "metadata": {},
   "source": [
    "Let's compute the speed! the function `getDistanceByHaversine(p0, p1)` returns the distance in km between point p0 and p1."
   ]
  },
  {
   "cell_type": "code",
   "execution_count": null,
   "id": "d4e21c24",
   "metadata": {},
   "outputs": [],
   "source": [
    "dt = 1/3600 #1 second\n",
    "p0 = noisy_tdf[['lat','lng']].iloc[0].values\n",
    "p1 = noisy_tdf[['lat','lng']].iloc[1].values\n",
    "\n",
    "distance = skmob.utils.gislib.getDistanceByHaversine(p0, p1)\n",
    "\n",
    "print(\"Speed: \"+str(distance/dt)+\" km/h.\")"
   ]
  },
  {
   "cell_type": "markdown",
   "id": "24165486",
   "metadata": {},
   "source": [
    "### 3.2 Trajectory compression <a id=\"compression\">"
   ]
  },
  {
   "cell_type": "markdown",
   "id": "98d52db4",
   "metadata": {},
   "source": [
    "`scikit-mobility` provides the `compress` function to reduce the number of points in a trajectory. All points within a radius of `spatial_radius_km` kilometers from a given initial point are compressed into a single point that has the **median coordinates** of all points and the time of the initial point.\n",
    "\n",
    "<img src=\"https://i.ibb.co/HrBZqsH/compression.png\" width=\"500px\" height=\"auto\">\n"
   ]
  },
  {
   "cell_type": "code",
   "execution_count": null,
   "id": "e7fa9af8",
   "metadata": {},
   "outputs": [],
   "source": [
    "spatial_radius_km = 30/1000 # 30 meters\n",
    "tdf_compressed = compression.compress(tdf_filtered, spatial_radius_km=spatial_radius_km)\n",
    "\n",
    "print(\"Compressed \"+str(len(tdf_filtered)-len(tdf_compressed))+\" GPS points.\")"
   ]
  },
  {
   "cell_type": "markdown",
   "id": "291b5c24",
   "metadata": {},
   "source": [
    "Visualization of the noisy (red) and pre-processed (blue) trajectory."
   ]
  },
  {
   "cell_type": "code",
   "execution_count": null,
   "id": "119ed0da",
   "metadata": {},
   "outputs": [],
   "source": [
    "map_f = noisy_tdf.plot_trajectory(hex_color=\"red\", zoom=14)\n",
    "\n",
    "tdf_compressed.plot_trajectory(map_f=map_f, hex_color=\"blue\", zoom=14)"
   ]
  },
  {
   "cell_type": "markdown",
   "id": "202a5e19",
   "metadata": {},
   "source": [
    "## 4. Hands on tutorial: create a mobility network from real data <a id=\"tutorial\"></a>"
   ]
  },
  {
   "cell_type": "markdown",
   "id": "1fda201d",
   "metadata": {},
   "source": [
    "In this tutorial we will see how to create a mobility network relative to New York City describing the movements of one week."
   ]
  },
  {
   "cell_type": "markdown",
   "id": "672fcc65",
   "metadata": {},
   "source": [
    "### 4.1 Dataset loading <a id=\"dataloading\"></a>"
   ]
  },
  {
   "cell_type": "markdown",
   "id": "763cbf9d",
   "metadata": {},
   "source": [
    "The dataset includes long-term (about 10 months) check-in data in New York city from Foursquare from 12 April 2012 to 16 February 2013.\n",
    "The dataset contains 8 columns, which are:\n",
    "\n",
    "    1. User ID (anonymized)\n",
    "    2. Venue ID (Foursquare)\n",
    "    3. Venue category ID (Foursquare)\n",
    "    4. Venue category name (Fousquare)\n",
    "    5. Latitude\n",
    "    6. Longitude\n",
    "    7. Timezone offset in minutes (The offset in minutes between when this check-in occurred and the same time in UTC)\n",
    "    8. UTC time\n",
    "<br>    \n",
    "The dataset was collected by Dingqi Yang et al. [1].\n",
    "<br><br><br>\n",
    "[1] <i>Dingqi Yang, Daqing Zhang, Vincent W. Zheng, Zhiyong Yu. Modeling User Activity Preference by Leveraging User Spatial Temporal Characteristics in LBSNs. IEEE Trans. on Systems, Man, and Cybernetics: Systems, (TSMC), 45(1), 129-142, 2015.</i>"
   ]
  },
  {
   "cell_type": "markdown",
   "id": "234cdd57",
   "metadata": {},
   "source": [
    "Download the dataset and read it using pandas."
   ]
  },
  {
   "cell_type": "code",
   "execution_count": null,
   "id": "c54dc16f",
   "metadata": {},
   "outputs": [],
   "source": [
    "import pandas as pd\n",
    "\n",
    "# the url at which the dataset is available\n",
    "url_fs = 'https://drive.google.com/uc?export=download&id=1idA3yrFUpGlNpa466ZuN5udbeGVRYO_s'\n",
    "\n",
    "#download the dataset and open it in a pandas DataFrame\n",
    "df = pd.read_csv(url_fs, sep='\\t', \n",
    "                 names=['uid','venue_id','venue_category_id','venue_category_name','lat',\n",
    "                        'lng','tmz','datetime'], encoding=\"ISO-8859-1\", header=None)\n",
    "\n",
    "df.head()"
   ]
  },
  {
   "cell_type": "markdown",
   "id": "46bf3de3",
   "metadata": {},
   "source": [
    "There are a lot of interesting attributes, but keep it simple.<br>\n",
    "We select only the attributes that are necessary to create the `TrajDataFrame`."
   ]
  },
  {
   "cell_type": "code",
   "execution_count": null,
   "id": "52a5abc0",
   "metadata": {},
   "outputs": [],
   "source": [
    "#remember: WHO, WHERE, WHEN\n",
    "df = df[['uid','lat','lng','datetime']]\n",
    "df.head()"
   ]
  },
  {
   "cell_type": "markdown",
   "id": "8e333d66",
   "metadata": {},
   "source": [
    "Create the `TrajDataFrame`"
   ]
  },
  {
   "cell_type": "code",
   "execution_count": null,
   "id": "607817a0",
   "metadata": {},
   "outputs": [],
   "source": [
    "tdf = skmob.TrajDataFrame(df, user_id='uid', latitude='lat', longitude='lng', \n",
    "                          datetime='datetime')\n",
    "tdf = tdf.sort_by_uid_and_datetime()\n",
    "tdf.head()"
   ]
  },
  {
   "cell_type": "markdown",
   "id": "a0689c0c",
   "metadata": {},
   "source": [
    "Note that in the original dataset the datetime is in UTC time.\n",
    "We need to apply the timezone of New York City, and this be done as following:"
   ]
  },
  {
   "cell_type": "code",
   "execution_count": null,
   "id": "39a6d062",
   "metadata": {},
   "outputs": [],
   "source": [
    "tdf['datetime'] = tdf['datetime'].dt.tz_convert('US/Eastern')\n",
    "tdf.head()"
   ]
  },
  {
   "cell_type": "markdown",
   "id": "9c380ce2",
   "metadata": {},
   "source": [
    "Select only the GPS points from 05/10 to 05/18 (one week)"
   ]
  },
  {
   "cell_type": "code",
   "execution_count": null,
   "id": "9f0156d1",
   "metadata": {},
   "outputs": [],
   "source": [
    "start = pd.to_datetime('2012/05/10 00:00:00',utc=True)\n",
    "end = pd.to_datetime('2012/05/18 00:00:00',utc=True)\n",
    "\n",
    "tdf_week = tdf[(tdf['datetime']>=start)&(tdf['datetime']<end)]\n",
    "\n",
    "#used to sort the TrajDataFrame by uid and time (to ensure the continuity of trajectories)\n",
    "tdf_week = tdf_week.sort_by_uid_and_datetime()\n",
    "tdf_week.head()"
   ]
  },
  {
   "cell_type": "markdown",
   "id": "b7a8ceb5",
   "metadata": {},
   "source": [
    "Print some statistics"
   ]
  },
  {
   "cell_type": "code",
   "execution_count": null,
   "id": "1c2974c2",
   "metadata": {},
   "outputs": [],
   "source": [
    "#one week statistics\n",
    "\n",
    "print(\"There are \"+str(len(tdf_week))+\" GPS points.\")\n",
    "print(\"There are \"+str(len(tdf_week['uid'].unique()))+\" users.\")"
   ]
  },
  {
   "cell_type": "markdown",
   "id": "ce399652",
   "metadata": {},
   "source": [
    "Visualize a set of 100 trajectories"
   ]
  },
  {
   "cell_type": "code",
   "execution_count": null,
   "id": "bd5c2c06",
   "metadata": {},
   "outputs": [],
   "source": [
    "tdf_week.plot_trajectory(max_users=100, zoom=9, start_end_markers=False)"
   ]
  },
  {
   "cell_type": "markdown",
   "id": "7ac224ec",
   "metadata": {},
   "source": [
    "From the visualization, it is evident that the dataset contains trajectories made outside New York City (e.g., in New Jersey).\n",
    "Let's begin the data cleaning!"
   ]
  },
  {
   "cell_type": "markdown",
   "id": "7c64c01b",
   "metadata": {},
   "source": [
    "### 4.2 Preprocessing <a id=\"pptutorial\"></a>"
   ]
  },
  {
   "cell_type": "markdown",
   "id": "37923cb6",
   "metadata": {},
   "source": [
    "Create and visualize the spatial tessellation relative to New York City."
   ]
  },
  {
   "cell_type": "code",
   "execution_count": null,
   "id": "beb94b8d",
   "metadata": {},
   "outputs": [],
   "source": [
    "tess_nyc = tilers.tiler.get(\"squared\", base_shape=\"New York City, USA\", meters=2000)\n",
    "\n",
    "tex_style = {'fillColor':'gray', 'color':'black', 'opacity': 0.2}\n",
    "plot_gdf(tess_nyc, style_func_args=tex_style, zoom=10)"
   ]
  },
  {
   "cell_type": "markdown",
   "id": "a402c38d",
   "metadata": {},
   "source": [
    "Keep only the trajectory inside the spatial tessellation. <br>\n",
    "There are necessary two steps:\n",
    "- Map each point into a tile;\n",
    "- Discard the trajectory with at least one point outside the region."
   ]
  },
  {
   "cell_type": "markdown",
   "id": "00d79521",
   "metadata": {},
   "source": [
    "Map each point into a tile <br>\n",
    "Points that do not have a corresponding tile in the spatial tessellation have `tile_ID=NaN`."
   ]
  },
  {
   "cell_type": "code",
   "execution_count": null,
   "id": "afe81b2f",
   "metadata": {},
   "outputs": [],
   "source": [
    "mapped_tdf = tdf_week.mapping(tess_nyc, remove_na=False)\n",
    "mapped_tdf[2004:2008]"
   ]
  },
  {
   "cell_type": "code",
   "execution_count": null,
   "id": "f333f9be",
   "metadata": {},
   "outputs": [],
   "source": [
    "points_outside = mapped_tdf[mapped_tdf['tile_ID'].isna()]\n",
    "uid_outside = points_outside['uid'].unique()\n",
    "tdf_week_nyc = mapped_tdf[~mapped_tdf['uid'].isin(uid_outside)]\n",
    "\n",
    "print(str(len(points_outside))+\" GPS points outside New York City\")\n",
    "print(str(len(uid_outside))+\" trajectories with at least one GPS point outside New York City\")"
   ]
  },
  {
   "cell_type": "markdown",
   "id": "224b6a62",
   "metadata": {},
   "source": [
    "Visualize the trajectories in New York City"
   ]
  },
  {
   "cell_type": "code",
   "execution_count": null,
   "id": "d8b68e06",
   "metadata": {},
   "outputs": [],
   "source": [
    "tdf_week_nyc.plot_trajectory(max_users=100, zoom=10, start_end_markers=False)"
   ]
  },
  {
   "cell_type": "markdown",
   "id": "ce3718ae",
   "metadata": {},
   "source": [
    "#### Filtering"
   ]
  },
  {
   "cell_type": "code",
   "execution_count": null,
   "id": "5c27c683",
   "metadata": {},
   "outputs": [],
   "source": [
    "max_speed_kmh = 300\n",
    "tdf_filtered_nyc = filtering.filter(tdf_week_nyc, max_speed_kmh=max_speed_kmh)\n",
    "\n",
    "print(\"Filtered \"+str(len(tdf_week_nyc)-len(tdf_filtered_nyc))+\" GPS point.\")"
   ]
  },
  {
   "cell_type": "markdown",
   "id": "72317008",
   "metadata": {},
   "source": [
    "#### Compression"
   ]
  },
  {
   "cell_type": "code",
   "execution_count": null,
   "id": "6298fdff",
   "metadata": {},
   "outputs": [],
   "source": [
    "spatial_radius_km = 10/1000 #10 meters\n",
    "tdf_compressed_nyc = compression.compress(tdf_filtered_nyc, \n",
    "                                          spatial_radius_km=spatial_radius_km)\n",
    "\n",
    "print(\"Compressed \"+str(len(tdf_filtered_nyc)-len(tdf_compressed_nyc))+\" GPS points.\")"
   ]
  },
  {
   "cell_type": "code",
   "execution_count": null,
   "id": "49c97b0d",
   "metadata": {},
   "outputs": [],
   "source": [
    "print(\"Statistics after pre-processing:\\t\")\n",
    "\n",
    "print(\"There are \"+str(len(tdf_compressed_nyc))+\" GPS points.\")\n",
    "print(\"There are \"+str(len(tdf_compressed_nyc['uid'].unique()))+\" users.\")"
   ]
  },
  {
   "cell_type": "markdown",
   "id": "41ce7749",
   "metadata": {},
   "source": [
    "Filter out users with only one GPS point (no mobility can be inferred)"
   ]
  },
  {
   "cell_type": "code",
   "execution_count": null,
   "id": "0c2431c7",
   "metadata": {},
   "outputs": [],
   "source": [
    "# compute the number of points for each user\n",
    "tdf_gb = tdf_compressed_nyc.groupby(['uid'],as_index=False).count()\n",
    "tdf_gb[:3]"
   ]
  },
  {
   "cell_type": "code",
   "execution_count": null,
   "id": "0197a21c",
   "metadata": {},
   "outputs": [],
   "source": [
    "# list of users with more than one GPS point\n",
    "users_to_keep = tdf_gb.query(\"lat>1\")['uid']\n",
    "\n",
    "# TrajDataFrame of users WITH mobility (>1 GPS points)\n",
    "tdf_final = tdf_compressed_nyc[tdf_compressed_nyc['uid'].isin(users_to_keep)]\n",
    "\n",
    "print(\"# users with no mobility: \"\n",
    "      +str(len(tdf_compressed_nyc['uid'].unique())-len(users_to_keep)))"
   ]
  },
  {
   "cell_type": "code",
   "execution_count": null,
   "id": "d55fe184",
   "metadata": {},
   "outputs": [],
   "source": [
    "print(\"Final statistics:\\t\")\n",
    "\n",
    "print(\"There are \"+str(len(tdf_final))+\" GPS points.\")\n",
    "print(\"There are \"+str(len(tdf_final['uid'].unique()))+\" users.\")"
   ]
  },
  {
   "cell_type": "markdown",
   "id": "66f4ca34",
   "metadata": {},
   "source": [
    "## 4.3 Flow <a id=\"mobnet\"></a>"
   ]
  },
  {
   "cell_type": "markdown",
   "id": "3dbbb640",
   "metadata": {},
   "source": [
    "To create the mobility network we first need to create flows through a `TraDataFrame`."
   ]
  },
  {
   "cell_type": "code",
   "execution_count": null,
   "id": "0d8705a2",
   "metadata": {},
   "outputs": [],
   "source": [
    "#no self loops\n",
    "tdf_final = tdf_final.drop(['tile_ID'], axis=1)\n",
    "fdf = tdf_final.to_flowdataframe(tess_nyc, self_loops=False)"
   ]
  },
  {
   "cell_type": "code",
   "execution_count": null,
   "id": "9ee9a408",
   "metadata": {},
   "outputs": [],
   "source": [
    "fdf.head()"
   ]
  },
  {
   "cell_type": "markdown",
   "id": "7c15feb5",
   "metadata": {},
   "source": [
    "Visualize the flow/mobility network"
   ]
  },
  {
   "cell_type": "code",
   "execution_count": null,
   "id": "c5d22a95",
   "metadata": {
    "scrolled": false
   },
   "outputs": [],
   "source": [
    "tex_style = {'fillColor':'gray', 'color':'black', 'opacity': 0.1}\n",
    "map_f = fdf.plot_tessellation(style_func_args=tex_style, tiles='CartoDB positron', \n",
    "                                   zoom=10)\n",
    "fdf.plot_flows(map_f=map_f, flow_color='green', tiles='CartoDB positron',\n",
    "                   opacity=0.3, flow_weight=0.6, radius_origin_point=1)"
   ]
  },
  {
   "cell_type": "markdown",
   "id": "0399b131",
   "metadata": {},
   "source": [
    "What are the most \"important\" nodes?\n",
    "- Note the high flow in the area of Manhattan;\n",
    "- The JFK Airport (tile 518) plays an important role too."
   ]
  },
  {
   "cell_type": "code",
   "execution_count": null,
   "id": "086c0126",
   "metadata": {},
   "outputs": [],
   "source": [
    "to_208 = fdf[fdf['destination']==\"208\"]\n",
    "others = fdf[fdf['destination']!=\"208\"]\n",
    "\n",
    "map_f = fdf.plot_tessellation(style_func_args=tex_style, tiles='CartoDB positron',zoom=10)\n",
    "\n",
    "\n",
    "#others\n",
    "map_f = others.plot_flows(map_f=map_f, flow_color='green', tiles='CartoDB positron',\n",
    "                   opacity=0.3, flow_weight=0.6, radius_origin_point=1)\n",
    "#to 208\n",
    "map_f = to_208.plot_flows(map_f=map_f, flow_color='blue', tiles='CartoDB positron',\n",
    "                   opacity=0.7, flow_weight=1.5, radius_origin_point=1)\n",
    "\n",
    "\n",
    "map_f"
   ]
  },
  {
   "cell_type": "markdown",
   "id": "6cd2daf0",
   "metadata": {},
   "source": [
    "## 4.4 Export the Mobility Network <a id=\"export\"></a>"
   ]
  },
  {
   "cell_type": "code",
   "execution_count": null,
   "id": "53cd9e12",
   "metadata": {},
   "outputs": [],
   "source": [
    "fdf.head()"
   ]
  },
  {
   "cell_type": "markdown",
   "id": "3879bdbe",
   "metadata": {},
   "source": [
    "The `FlowDataFrame` is already in a **weighted edge list** representation, we can save it as a csv to use it later."
   ]
  },
  {
   "cell_type": "code",
   "execution_count": null,
   "id": "9d0c8369",
   "metadata": {},
   "outputs": [],
   "source": [
    "fdf.to_csv('mobility_network_nyc_acai2021.csv', sep=\",\", index=False)"
   ]
  },
  {
   "cell_type": "markdown",
   "id": "a5e278dc",
   "metadata": {},
   "source": [
    "## 5. Conclusions <a id=\"conclusion\"></a>\n",
    "In this notebook we introduced the basic functionalities of `scikit-mobility`, namely, how to **visualize and represent** trajectories, flows and tessellations, how to **filter and clean raw mobility data** by using standard techniques proposed in the mobility data mining literature, and how to extract a **mobility network** from real data. <br><br>\n",
    "\n",
    "\n",
    "For any question, please feel free to contact me at giuliano.cornacchia@phd.unipi.it\n",
    "\n",
    "For any issue, suggestion, bug report please contact us on the official GitHub at https://github.com/scikit-mobility"
   ]
  },
  {
   "cell_type": "markdown",
   "id": "c59b81bc",
   "metadata": {},
   "source": [
    "## 6. Exercises <a id=\"exercise\"></a>\n",
    "\n",
    "**Exercise 1:**\n",
    "- Download the dataset containing the GPS traces of 536 taxis operating in San Francisco over 25 days https://crawdad.org/epfl/mobility/20090224/;\n",
    "- Select only a subset of 5 taxis for this exercise;\n",
    "- Try to segment the trajectories with respect to each trip (tip: use the attribute `occupancy`);\n",
    "- Clean and preprocess the dataset using the standard methods;\n",
    "- Select and visualize a set of trajectories;\n",
    "- Try to answer the following questions:\n",
    "    - What are the five most visited tiles of San Francisco?\n",
    "    - What hour is the peak for departures from the San Francisco airport?\n",
    "- Create and visualize the mobility network as shown in the tutorial;\n",
    "- Create and visualize the mobility network by considering only origin and destination points for each trip.\n",
    "\n",
    "**Exercise 2:**\n",
    "- Given a trajectory $T$ of $n$ GPS points, and a squared spatial tessellation $S$ in which each square has size $x$. What is the upper bound of the \"mapping\" error caused by the mapping of $T$ with respect to the tessellation? (see 2.2 of this tutorial)"
   ]
  }
 ],
 "metadata": {
  "kernelspec": {
   "display_name": "Python 3",
   "language": "python",
   "name": "python3"
  },
  "language_info": {
   "codemirror_mode": {
    "name": "ipython",
    "version": 3
   },
   "file_extension": ".py",
   "mimetype": "text/x-python",
   "name": "python",
   "nbconvert_exporter": "python",
   "pygments_lexer": "ipython3",
   "version": "3.9.4"
  }
 },
 "nbformat": 4,
 "nbformat_minor": 5
}
