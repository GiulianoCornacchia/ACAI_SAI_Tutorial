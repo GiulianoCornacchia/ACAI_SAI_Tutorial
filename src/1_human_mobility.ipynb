{
 "cells": [
  {
   "cell_type": "markdown",
   "id": "332ced6b",
   "metadata": {},
   "source": [
    "<span>\n",
    "<img src=\"https://raw.githubusercontent.com/scikit-mobility/scikit-mobility/master/logo_skmob.png\" width=\"260px\" align=\"right\"/>\n",
    "</span>\n",
    "<span>\n",
    "<b>Author:</b> <a href=\"https://kdd.isti.cnr.it/people/cornacchia-giuliano\">Giuliano Cornacchia</a><br/>\n",
    "<b>Python version:</b> 3.8.5<br/>\n",
    "<b>Scikit-mobility version:</b>  1.2.2<br/>\n",
    "<b>Last update:</b> 08/10/2021\n",
    "</span>"
   ]
  },
  {
   "cell_type": "markdown",
   "id": "81bf15b3",
   "metadata": {},
   "source": [
    "# Scikit-Mobility\n",
    "### Tutorial - Human Mobility Networks\n",
    "___\n",
    "\n",
    "<i>\"Human mobility is the discipline that studies the movements of individuals in space and time.\"</i>\n",
    "<br><br>\n",
    "`scikit-mobility` is a Python library designed for human mobility analysis in Python\n",
    "\n",
    "This notebook gives an introduction of the main concepts of the library with a focus on data **preprocessing**, **visualization**, and the creation of a **mobility network**.\n",
    "\n",
    "**Note:** this notebook is purposely not 100% comprehensive, it only discusses the basic things you need to get started.\n",
    "\n",
    "<img src=\"https://media.springernature.com/m685/springer-static/image/art%3A10.1038%2Fncomms9166/MediaObjects/41467_2015_Article_BFncomms9166_Fig1_HTML.jpg\"  width=\"500px\" height=\"auto\">\n",
    "<br><br>"
   ]
  },
  {
   "cell_type": "markdown",
   "id": "b7f351a0",
   "metadata": {},
   "source": [
    "## Table of Contents\n",
    "\n",
    "1. [Installing scikit-mobility](#install)\n",
    "2. [Introduction and Data Structures](#into_ds) \n",
    "    1. [Trajectory](#trajectory)\n",
    "    2. [Spatial Tessellation](#spatial_tess)\n",
    "    3. [Flow](#flow)\n",
    "3. [Preprocessing Mobility Data](#preprocess)\n",
    "    1. [Noise Filtering](#noise)\n",
    "    2. [Trajectory Compression](#compression)\n",
    "4. [Hands on tutorial: create a mobility network from real data](#tutorial)\n",
    "    1. [Dataset loading](#dataloading)\n",
    "    2. [Dataset preprocessing](#pptutorial)\n",
    "    3. [Mobility Network creation](#mobnet)\n",
    "    4. [Export the Mobility Network](#export)\n",
    "5. [Conclusion](#conclusion)\n",
    "6. [Exercises](#exercise)\n",
    "\n",
    "\n",
    "\n"
   ]
  },
  {
   "cell_type": "markdown",
   "id": "13bfa82d",
   "metadata": {},
   "source": [
    "## 1. Installing scikit-mobility<a id='install'></a>"
   ]
  },
  {
   "cell_type": "markdown",
   "id": "c7d0719d",
   "metadata": {},
   "source": [
    "The first step is to install `scikit-mobility` and check that it is working.\n",
    "\n",
    "The installation can be performed with conda.\n",
    "\n",
    "`conda install -c conda-forge scikit-mobility`"
   ]
  },
  {
   "cell_type": "markdown",
   "id": "0297f2de",
   "metadata": {},
   "source": [
    "`scikit-mobility` can be installed on Google Colab using the following commands:\n",
    "\n",
    "    !apt-get install -qq curl g++ make\n",
    "    !curl -L http://download.osgeo.org/libspatialindex/spatialindex-src-1.8.5.tar.gz | tar xz\n",
    "    import os\n",
    "    os.chdir('spatialindex-src-1.8.5')\n",
    "    !./configure\n",
    "    !make\n",
    "    !make install\n",
    "    !pip install rtree\n",
    "    !ldconfig\n",
    "    !pip install scikit-mobility"
   ]
  },
  {
   "cell_type": "markdown",
   "id": "7b68757b",
   "metadata": {},
   "source": [
    "To check if `scikit-mobility` is installed try to import it"
   ]
  },
  {
   "cell_type": "code",
   "execution_count": 3,
   "id": "492641f9",
   "metadata": {},
   "outputs": [],
   "source": [
    "import skmob"
   ]
  },
  {
   "cell_type": "markdown",
   "id": "33141a70",
   "metadata": {},
   "source": [
    "The project is available on GitHub at https://github.com/scikit-mobility\n",
    "\n",
    "If you would like to contribute to the `scikit-mobility` project, feel free to fork the project, open an issue and contact the developers."
   ]
  },
  {
   "cell_type": "markdown",
   "id": "d912c0e7",
   "metadata": {},
   "source": [
    "<a id=\"into_ds\"></a>\n",
    "## 2. Introduction and Data Structures"
   ]
  },
  {
   "cell_type": "markdown",
   "id": "a38a3a8f",
   "metadata": {},
   "source": [
    "### 2.1 Trajectory <a id=\"trajectory\"></a>"
   ]
  },
  {
   "cell_type": "markdown",
   "id": "0513a213",
   "metadata": {},
   "source": [
    "#### Definition\n",
    "____\n",
    "The trajectory of an individual is a sequence of records that allows for reconstructing their movements during the period of observation. <br>\n",
    "\n",
    "A trajectory $T$ for an individual $u$ is defined as a **time ordered sequence** of spatial points, usually **GPS points**.\n",
    "\n",
    "$T_u=<(l_1, t_1), . . . , (l_n, t_n)>$, where:\n",
    "- $l_i=(x_i, y_i)$ is a location of coordinates $ x_i$ and $y_i$;\n",
    "- $t_i<t_j$ if $i<j$.\n",
    "<br><br>\n",
    "<img src=\"https://i.ibb.co/crmZmdT/img-def-trajectory.png\"  width=\"500px\" height=\"auto\"><br><br>"
   ]
  },
  {
   "cell_type": "markdown",
   "id": "021347da",
   "metadata": {},
   "source": [
    "#### Trajectory dataframe\n",
    "___\n",
    "In `scikit-mobility` a set of trajectories is modeled through a `TrajDataFrame` data structure that extends the pandas `DataFrame`.\n",
    "<br><br>\n",
    "\n",
    "Each row of a `TrajDataFrame` describes a trajectory's point and contains the following columns:\n",
    "\n",
    "```\n",
    "    lat: latitude of the point\n",
    "    lng: longitude of the point\n",
    "    datetime: timestamp of the point\n",
    "```\n",
    "For multi-user datasets, there is an optional column:\n",
    "\n",
    "    uid: user's identifier to which the trajectory belongs to\n",
    "\n",
    "In short words **WHO**, **WHEN** and **WHERE**."
   ]
  },
  {
   "cell_type": "markdown",
   "id": "96abbc68",
   "metadata": {},
   "source": [
    "Let's create a `TrajDataFrame` from a list of spatio-temporal points relative to the movements of two users (ID 24 and ID 11) walking in Berlin to reach the ACAI-2021 conference.\n",
    "<br><br>\n",
    "Each element in the list is in the form of: `[user_id, latitude, longitude, timestamp]`."
   ]
  },
  {
   "cell_type": "code",
   "execution_count": null,
   "id": "52b11004",
   "metadata": {},
   "outputs": [],
   "source": [
    "list_of_points = [[24, 52.516091, 13.378148, '2021-10-11 08:10:05'], # start user 24\n",
    "                  [24, 52.516469, 13.377842, '2021-10-11 08:11:45'],\n",
    "                  [24, 52.517760, 13.376662, '2021-10-11 08:11:59'],\n",
    "                  [24, 52.517745, 13.376325, '2021-10-11 08:12:33'],\n",
    "                  [24, 52.517775, 13.369990, '2021-10-11 08:22:32'],\n",
    "                  [24, 52.517321, 13.369051, '2021-10-11 08:33:32'],\n",
    "                  [24, 52.517658, 13.361681, '2021-10-11 08:35:12'],\n",
    "                  [24, 52.517116, 13.354575, '2021-10-11 08:44:02'],\n",
    "                  [24, 52.514408, 13.348412, '2021-10-11 08:50:12'],\n",
    "                  [24, 52.513306, 13.331626, '2021-10-11 08:51:02'],\n",
    "                  [24, 52.515921, 13.327897, '2021-10-11 08:58:05'], #end user 24\n",
    "                  [11, 52.506203, 13.332373, '2021-10-11 08:30:15'], #start user 11\n",
    "                  [11, 52.513286, 13.322168, '2021-10-11 08:37:24'],\n",
    "                  [11, 52.514590, 13.322360, '2021-10-11 08:44:02'],      \n",
    "                  [11, 52.517522, 13.324961, '2021-10-11 08:49:15'],                  \n",
    "                  [11, 52.515921, 13.328082, '2021-10-11 08:57:07']] #end user 11\n",
    "              \n",
    "\n",
    "# set the indexes of the mandatory columns using arguments latitude, longitude and datetime.\n",
    "tdf = skmob.TrajDataFrame(list_of_points, user_id=0, latitude=1, longitude=2, datetime=3)\n",
    "print(type(tdf))"
   ]
  },
  {
   "cell_type": "code",
   "execution_count": null,
   "id": "e7058a4b",
   "metadata": {},
   "outputs": [],
   "source": [
    "#the TrajDataFrame that contains the two trajectories.\n",
    "#sort the TrajDataFrame by uid and time (to ensure the continuity of trajectories)\n",
    "tdf = tdf.sort_by_uid_and_datetime()\n",
    "tdf"
   ]
  },
  {
   "cell_type": "markdown",
   "id": "9bad00b9",
   "metadata": {},
   "source": [
    "On a `TrajDataFrame` we can perform the same operations as on a pandas DataFrame."
   ]
  },
  {
   "cell_type": "code",
   "execution_count": null,
   "id": "d03f3988",
   "metadata": {},
   "outputs": [],
   "source": [
    "# example 1: filtering\n",
    "tdf.query(\"uid==24\")"
   ]
  },
  {
   "cell_type": "code",
   "execution_count": null,
   "id": "b4d7d0e9",
   "metadata": {},
   "outputs": [],
   "source": [
    "# example 2: group by\n",
    "tdf.groupby(['uid'], as_index=False).mean()"
   ]
  },
  {
   "cell_type": "markdown",
   "id": "402a091d",
   "metadata": {},
   "source": [
    "And many other functions supported by a pandas DataFrame.\n",
    "<br><br>\n",
    "`scikit-mobility` allows the visualization of the trajectories of a `TrajDataFrame` on a `Foulim` map using the method `plot_trajectory`."
   ]
  },
  {
   "cell_type": "code",
   "execution_count": null,
   "id": "8152f52e",
   "metadata": {},
   "outputs": [],
   "source": [
    "import warnings\n",
    "warnings.filterwarnings('ignore')\n",
    "from skmob.utils.plot import *\n",
    "\n",
    "tdf.plot_trajectory(zoom=13, weight=3, opacity=0.9, start_end_markers=True)"
   ]
  },
  {
   "cell_type": "markdown",
   "id": "22664826",
   "metadata": {},
   "source": [
    "### 2.2 Spatial Tessellation <a id=\"spatial_tess\"></a>"
   ]
  },
  {
   "cell_type": "markdown",
   "id": "2ea7c236",
   "metadata": {},
   "source": [
    "#### Definition\n",
    "___\n",
    "A **spatial tessellation** is a discretization of the spatial region into a set of non-overlapping **tiles**. Usually the tiles are squares or hexagons.\n",
    "Each tile represents a location.\n",
    "<br><br>\n",
    "<img src=\"https://i.ibb.co/k8586pG/img-def-tessellation.png\"  width=\"500px\" height=\"auto\"><br><br>"
   ]
  },
  {
   "cell_type": "markdown",
   "id": "c074a282",
   "metadata": {},
   "source": [
    "#### Spatial Tessellation\n",
    "____\n",
    "In `scikit-mobility` a tessellation is represented through a `GeoDataFrame` data structure that extends the pandas `DataFrame`.\n",
    "<br><br>\n",
    "\n",
    "Each row of a `GeoDataFrame` describes a tile and contains the following columns:\n",
    "\n",
    "    tile_ID: identifier of the tile\n",
    "    geometry: geometric shape of the tile\n",
    "    "
   ]
  },
  {
   "cell_type": "markdown",
   "id": "e22b464f",
   "metadata": {},
   "source": [
    "In `scikit-mobility` we can obtain a tessellation using the function `tiler` and by specifying the region, the shape, and the granularity of the tessellation.\n",
    "\n",
    "The available shapes are squared and hexagonal."
   ]
  },
  {
   "cell_type": "code",
   "execution_count": null,
   "id": "6e29038e",
   "metadata": {},
   "outputs": [],
   "source": [
    "from skmob.tessellation import *\n",
    "\n",
    "tess_berlin = tilers.tiler.get(\"squared\", base_shape=\"Berlin, Germany\", meters=2000)\n",
    "type(tess_berlin)"
   ]
  },
  {
   "cell_type": "code",
   "execution_count": null,
   "id": "db6fa8ca",
   "metadata": {},
   "outputs": [],
   "source": [
    "tess_berlin[:5]"
   ]
  },
  {
   "cell_type": "markdown",
   "id": "9f0fd6eb",
   "metadata": {},
   "source": [
    "Visualize the tessellation on a map.\n",
    "`scikit-mobility` allows the visualization of a `GeoDataFrame` on a `Foulim` map using the function `plot_gdf`."
   ]
  },
  {
   "cell_type": "code",
   "execution_count": null,
   "id": "15a50834",
   "metadata": {},
   "outputs": [],
   "source": [
    "# style of the tessellation\n",
    "tex_style = {'fillColor':'gray', 'color':'black', 'opacity': 0.2}\n",
    "\n",
    "plot_gdf(tess_berlin, style_func_args=tex_style, zoom=10, popup_features=['tile_ID'])"
   ]
  },
  {
   "cell_type": "markdown",
   "id": "a0e199d6",
   "metadata": {},
   "source": [
    "The spatial tessellation can be used for mapping GPS points to their corresponding tile.\n",
    "After the mapping, usually, at each point is assigned the **centroid's** coordinates of the corresponding tile.<br><br>\n",
    "The `mapping` function assigns each point of the `TrajDataFrame` to the corresponding tile of a spatial tessellation. If a point has no correspondance the special value `NaN` is used."
   ]
  },
  {
   "cell_type": "code",
   "execution_count": null,
   "id": "2d2786c5",
   "metadata": {},
   "outputs": [],
   "source": [
    "#mapping the trajectories w.r.t. the spatial tessellation\n",
    "tdf.mapping(tess_berlin)[:5]"
   ]
  },
  {
   "cell_type": "markdown",
   "id": "69baefb9",
   "metadata": {},
   "source": [
    "<img src=\"https://i.ibb.co/Nnr4Q9T/mapped.png\" width=\"500px\" height=\"auto\">"
   ]
  },
  {
   "cell_type": "markdown",
   "id": "9a4804d7",
   "metadata": {},
   "source": [
    "Important!\n",
    "- the mapping results in a loss of trajectory's details;\n",
    "- the finer the tessellation, the less details will be lost."
   ]
  },
  {
   "cell_type": "markdown",
   "id": "f5e37641",
   "metadata": {},
   "source": [
    "### 2.3 Flow <a id=\"flow\"></a>"
   ]
  },
  {
   "cell_type": "markdown",
   "id": "16b19e25",
   "metadata": {},
   "source": [
    "#### Definition\n",
    "____\n",
    "A **flow**, in human mobility, describes the **movements (flows)** of individuals **between locations**.\n",
    "While trajectories refer to movements of single objects, flows refer to aggregated movements of objects between a set of locations.\n",
    "\n",
    "Formally, a flow is a $n\\times m$ matrix $M$, where:\n",
    "- $n$ is the number of distinct origin locations;\n",
    "- $m$ is the number of distinct destination locations;\n",
    "- the element $M_{ij}$ contains the number of inviduals moving from location $i$ to location $j$ during the observation period.\n",
    "<br><br>\n",
    "\n",
    "A flow represented in a directed graph is a <b>Mobility Network</b>.\n",
    "<br><br>\n",
    "<img src=\"https://i.ibb.co/wSbjdLY/img-def-flow.png\"  width=\"500px\" height=\"auto\"><br><br>\n"
   ]
  },
  {
   "cell_type": "markdown",
   "id": "2d9c7950",
   "metadata": {},
   "source": [
    "#### FlowDataFrame\n",
    "___\n",
    "In `scikit-mobility` a flow is modeled through a `FlowDataFrame` data structure that extends the pandas `DataFrame`.\n",
    "<br><br>\n",
    "\n",
    "Each row of a `FlowDataFrame` describes a flow and contains the following columns:\n",
    "\n",
    "    origin: ID of the origin tile\n",
    "    destination: ID of the destination tile\n",
    "    flow: number of people travelling from origin to destination\n",
    "    \n",
    "\n",
    "A `FlowDataFrame` is associated with a spatial tessellation that discretizes the spatial region into a set of tiles.\n",
    "\n",
    "___\n",
    "\n",
    "In `scikit-mobility` a `FlowDataFrame` can be obtined from a `TrajDataFrame` with the method `to_flowdataframe`.\n"
   ]
  },
  {
   "cell_type": "markdown",
   "id": "4c56e12f",
   "metadata": {},
   "source": [
    "Create the `FlowDataFrame` from the `TrajDataFrame` describing the movements of the individuals moving in Berlin using the squared tessellation."
   ]
  },
  {
   "cell_type": "code",
   "execution_count": null,
   "id": "3c5c6c0a",
   "metadata": {},
   "outputs": [],
   "source": [
    "fdf = tdf.to_flowdataframe(tessellation=tess_berlin, self_loops=False)\n",
    "type(fdf)"
   ]
  },
  {
   "cell_type": "code",
   "execution_count": null,
   "id": "73963efe",
   "metadata": {},
   "outputs": [],
   "source": [
    "fdf"
   ]
  },
  {
   "cell_type": "markdown",
   "id": "038ee46b",
   "metadata": {},
   "source": [
    "Visualize the Flow on a map.\n",
    "\n",
    "`scikit-mobility` allows the visualization of the flows represented by a `FlowDataFrame` on a `Foulim` map using the method `plot_flows`."
   ]
  },
  {
   "cell_type": "code",
   "execution_count": null,
   "id": "5c112fe4",
   "metadata": {},
   "outputs": [],
   "source": [
    "tex_style = {'fillColor':'gray', 'color':'black', 'opacity': 0.1}\n",
    "\n",
    "#first plot the spatial tessellation\n",
    "map_f = fdf.plot_tessellation(style_func_args=tex_style, tiles='CartoDB positron', \n",
    "                                   zoom=12)\n",
    "\n",
    "#then, usuing map_f as argument, plot the flows\n",
    "map_f = fdf.plot_flows(map_f=map_f, flow_color='green', tiles='CartoDB positron',\n",
    "                   opacity=1, flow_weight=2, radius_origin_point=2)\n",
    "\n",
    "# plot the original trajectory\n",
    "fdf.plot_flows(map_f=map_f, flow_color='green', tiles='CartoDB positron',\n",
    "                   opacity=1, flow_weight=2, radius_origin_point=3)\n"
   ]
  },
  {
   "cell_type": "markdown",
   "id": "268e8a2a",
   "metadata": {},
   "source": [
    "## 3.1 Preprocessing Mobility Data <a id=\"preprocess\"></a>"
   ]
  },
  {
   "cell_type": "markdown",
   "id": "6ed9a760",
   "metadata": {},
   "source": [
    "The main pre-processing steps to deal with mobility data are:\n",
    "- noise filtering;\n",
    "- trajectory compression."
   ]
  },
  {
   "cell_type": "code",
   "execution_count": null,
   "id": "602f23da",
   "metadata": {},
   "outputs": [],
   "source": [
    "# create a fake noisy trajectory\n",
    "\n",
    "noise_traj =  [[7, 52.505377, 13.440478, '2021-10-11 08:50:12'],#East Side gallery\n",
    "               [7, 52.516561, 13.4461621, '2021-10-11 08:50:13'],#\"Noise\" point (fast and far)\n",
    "               [7, 52.506509, 13.4375157 , '2021-10-11 08:55:02'],\n",
    "               [7, 52.508453, 13.43466914, '2021-10-11 08:58:05'],#Start group of close points\n",
    "               [7, 52.508370, 13.43471270, '2021-10-11 08:58:11'],\n",
    "               [7, 52.508560, 13.43507037, '2021-10-11 08:58:15'],#End group of close points\n",
    "               [7, 52.509067, 13.43552048, '2021-10-11 09:07:17']]\n",
    "\n",
    "#create the TrajDataFrame\n",
    "noisy_tdf = skmob.TrajDataFrame(noise_traj, user_id=0, latitude=1, longitude=2, datetime=3)\n",
    "noisy_tdf"
   ]
  },
  {
   "cell_type": "markdown",
   "id": "ef70f700",
   "metadata": {},
   "source": [
    "Let's visualize the trajectory"
   ]
  },
  {
   "cell_type": "code",
   "execution_count": null,
   "id": "0e2b21fb",
   "metadata": {},
   "outputs": [],
   "source": [
    "noisy_tdf.plot_trajectory(hex_color=\"red\", zoom=14)"
   ]
  },
  {
   "cell_type": "markdown",
   "id": "0c919113",
   "metadata": {},
   "source": [
    "### 3.1 Noise filtering <a id=\"noise\"></a>"
   ]
  },
  {
   "cell_type": "markdown",
   "id": "d65445be",
   "metadata": {},
   "source": [
    "`scikit-mobility` provides the `filter` function to filter out points with speed higher than `max_speed` km/h from the previous point."
   ]
  },
  {
   "cell_type": "code",
   "execution_count": null,
   "id": "8aca3225",
   "metadata": {},
   "outputs": [],
   "source": [
    "from skmob.preprocessing import *\n",
    "\n",
    "max_speed_kmh = 200\n",
    "tdf_filtered = filtering.filter(noisy_tdf, max_speed_kmh=max_speed_kmh, \n",
    "                                    include_loops=False)\n",
    "print(\"Filtered \"+str(len(noisy_tdf)-len(tdf_filtered))+\" GPS point.\")"
   ]
  },
  {
   "cell_type": "code",
   "execution_count": null,
   "id": "0098f83d",
   "metadata": {},
   "outputs": [],
   "source": [
    "tdf_filtered"
   ]
  },
  {
   "cell_type": "markdown",
   "id": "47a8022f",
   "metadata": {},
   "source": [
    "Let's compute the speed! the function `getDistanceByHaversine(p0, p1)` returns the distance in km between point p0 and p1."
   ]
  },
  {
   "cell_type": "code",
   "execution_count": null,
   "id": "2fad71ec",
   "metadata": {},
   "outputs": [],
   "source": [
    "dt = 1/3600 #1 second\n",
    "p0 = noisy_tdf[['lat','lng']].iloc[0].values\n",
    "p1 = noisy_tdf[['lat','lng']].iloc[1].values\n",
    "\n",
    "distance = skmob.utils.gislib.getDistanceByHaversine(p0, p1)\n",
    "\n",
    "print(\"Speed: \"+str(distance/dt)+\" km/h.\")"
   ]
  },
  {
   "cell_type": "markdown",
   "id": "24165486",
   "metadata": {},
   "source": [
    "### 3.2 Trajectory compression <a id=\"compression\">"
   ]
  },
  {
   "cell_type": "markdown",
   "id": "98d52db4",
   "metadata": {},
   "source": [
    "`scikit-mobility` provides the `compress` function to reduce the number of points in a trajectory. All points within a radius of `spatial_radius_km` kilometers from a given initial point are compressed into a single point that has the **median coordinates** of all points and the time of the initial point.\n",
    "\n",
    "<img src=\"https://i.ibb.co/HrBZqsH/compression.png\" width=\"500px\" height=\"auto\">\n"
   ]
  },
  {
   "cell_type": "code",
   "execution_count": 1,
   "id": "e7fa9af8",
   "metadata": {},
   "outputs": [
    {
     "ename": "NameError",
     "evalue": "name 'compression' is not defined",
     "output_type": "error",
     "traceback": [
      "\u001b[1;31m---------------------------------------------------------------------------\u001b[0m",
      "\u001b[1;31mNameError\u001b[0m                                 Traceback (most recent call last)",
      "\u001b[1;32m<ipython-input-1-6877d00ff4bb>\u001b[0m in \u001b[0;36m<module>\u001b[1;34m\u001b[0m\n\u001b[0;32m      1\u001b[0m \u001b[0mspatial_radius_km\u001b[0m \u001b[1;33m=\u001b[0m \u001b[1;36m30\u001b[0m\u001b[1;33m/\u001b[0m\u001b[1;36m1000\u001b[0m \u001b[1;31m# 30 meters\u001b[0m\u001b[1;33m\u001b[0m\u001b[1;33m\u001b[0m\u001b[0m\n\u001b[1;32m----> 2\u001b[1;33m \u001b[0mtdf_compressed\u001b[0m \u001b[1;33m=\u001b[0m \u001b[0mcompression\u001b[0m\u001b[1;33m.\u001b[0m\u001b[0mcompress\u001b[0m\u001b[1;33m(\u001b[0m\u001b[0mtdf_filtered\u001b[0m\u001b[1;33m,\u001b[0m \u001b[0mspatial_radius_km\u001b[0m\u001b[1;33m=\u001b[0m\u001b[0mspatial_radius_km\u001b[0m\u001b[1;33m)\u001b[0m\u001b[1;33m\u001b[0m\u001b[1;33m\u001b[0m\u001b[0m\n\u001b[0m\u001b[0;32m      3\u001b[0m \u001b[1;33m\u001b[0m\u001b[0m\n\u001b[0;32m      4\u001b[0m \u001b[0mprint\u001b[0m\u001b[1;33m(\u001b[0m\u001b[1;34m\"Compressed \"\u001b[0m\u001b[1;33m+\u001b[0m\u001b[0mstr\u001b[0m\u001b[1;33m(\u001b[0m\u001b[0mlen\u001b[0m\u001b[1;33m(\u001b[0m\u001b[0mtdf_filtered\u001b[0m\u001b[1;33m)\u001b[0m\u001b[1;33m-\u001b[0m\u001b[0mlen\u001b[0m\u001b[1;33m(\u001b[0m\u001b[0mtdf_compressed\u001b[0m\u001b[1;33m)\u001b[0m\u001b[1;33m)\u001b[0m\u001b[1;33m+\u001b[0m\u001b[1;34m\" GPS points.\"\u001b[0m\u001b[1;33m)\u001b[0m\u001b[1;33m\u001b[0m\u001b[1;33m\u001b[0m\u001b[0m\n",
      "\u001b[1;31mNameError\u001b[0m: name 'compression' is not defined"
     ]
    }
   ],
   "source": [
    "spatial_radius_km = 30/1000 # 30 meters\n",
    "tdf_compressed = compression.compress(tdf_filtered, spatial_radius_km=spatial_radius_km)\n",
    "\n",
    "print(\"Compressed \"+str(len(tdf_filtered)-len(tdf_compressed))+\" GPS points.\")"
   ]
  },
  {
   "cell_type": "markdown",
   "id": "291b5c24",
   "metadata": {},
   "source": [
    "Visualization of the noisy (red) and pre-processed (blue) trajectory."
   ]
  },
  {
   "cell_type": "code",
   "execution_count": null,
   "id": "119ed0da",
   "metadata": {},
   "outputs": [],
   "source": [
    "map_f = noisy_tdf.plot_trajectory(hex_color=\"red\", zoom=14)\n",
    "\n",
    "tdf_compressed.plot_trajectory(map_f=map_f, hex_color=\"blue\", zoom=14)"
   ]
  },
  {
   "cell_type": "markdown",
   "id": "202a5e19",
   "metadata": {},
   "source": [
    "## 4. Hands on tutorial: create a mobility network from real data <a id=\"tutorial\"></a>"
   ]
  },
  {
   "cell_type": "markdown",
   "id": "09a594b8",
   "metadata": {},
   "source": [
    "In this tutorial we will see how to create a mobility network relative to New York City describing the movements of one week."
   ]
  },
  {
   "cell_type": "markdown",
   "id": "672fcc65",
   "metadata": {},
   "source": [
    "### 4.1 Dataset loading <a id=\"dataloading\"></a>"
   ]
  },
  {
   "cell_type": "markdown",
   "id": "763cbf9d",
   "metadata": {},
   "source": [
    "The dataset includes long-term (about 10 months) check-in data in New York city from Foursquare from 12 April 2012 to 16 February 2013.\n",
    "The dataset contains 8 columns, which are:\n",
    "\n",
    "    1. User ID (anonymized)\n",
    "    2. Venue ID (Foursquare)\n",
    "    3. Venue category ID (Foursquare)\n",
    "    4. Venue category name (Fousquare)\n",
    "    5. Latitude\n",
    "    6. Longitude\n",
    "    7. Timezone offset in minutes (The offset in minutes between when this check-in occurred and the same time in UTC)\n",
    "    8. UTC time\n",
    "<br>    \n",
    "The dataset was collected by Dingqi Yang et al. [1].\n",
    "<br><br><br>\n",
    "[1] <i>Dingqi Yang, Daqing Zhang, Vincent W. Zheng, Zhiyong Yu. Modeling User Activity Preference by Leveraging User Spatial Temporal Characteristics in LBSNs. IEEE Trans. on Systems, Man, and Cybernetics: Systems, (TSMC), 45(1), 129-142, 2015.</i>"
   ]
  },
  {
   "cell_type": "markdown",
   "id": "234cdd57",
   "metadata": {},
   "source": [
    "Download the dataset and read it using pandas."
   ]
  },
  {
   "cell_type": "code",
   "execution_count": 4,
   "id": "c54dc16f",
   "metadata": {},
   "outputs": [
    {
     "data": {
      "text/html": [
       "<div>\n",
       "<style scoped>\n",
       "    .dataframe tbody tr th:only-of-type {\n",
       "        vertical-align: middle;\n",
       "    }\n",
       "\n",
       "    .dataframe tbody tr th {\n",
       "        vertical-align: top;\n",
       "    }\n",
       "\n",
       "    .dataframe thead th {\n",
       "        text-align: right;\n",
       "    }\n",
       "</style>\n",
       "<table border=\"1\" class=\"dataframe\">\n",
       "  <thead>\n",
       "    <tr style=\"text-align: right;\">\n",
       "      <th></th>\n",
       "      <th>uid</th>\n",
       "      <th>venue_id</th>\n",
       "      <th>venue_category_id</th>\n",
       "      <th>venue_category_name</th>\n",
       "      <th>lat</th>\n",
       "      <th>lng</th>\n",
       "      <th>tmz</th>\n",
       "      <th>datetime</th>\n",
       "    </tr>\n",
       "  </thead>\n",
       "  <tbody>\n",
       "    <tr>\n",
       "      <th>0</th>\n",
       "      <td>470</td>\n",
       "      <td>49bbd6c0f964a520f4531fe3</td>\n",
       "      <td>4bf58dd8d48988d127951735</td>\n",
       "      <td>Arts &amp; Crafts Store</td>\n",
       "      <td>40.719810</td>\n",
       "      <td>-74.002581</td>\n",
       "      <td>-240</td>\n",
       "      <td>Tue Apr 03 18:00:09 +0000 2012</td>\n",
       "    </tr>\n",
       "    <tr>\n",
       "      <th>1</th>\n",
       "      <td>979</td>\n",
       "      <td>4a43c0aef964a520c6a61fe3</td>\n",
       "      <td>4bf58dd8d48988d1df941735</td>\n",
       "      <td>Bridge</td>\n",
       "      <td>40.606800</td>\n",
       "      <td>-74.044170</td>\n",
       "      <td>-240</td>\n",
       "      <td>Tue Apr 03 18:00:25 +0000 2012</td>\n",
       "    </tr>\n",
       "    <tr>\n",
       "      <th>2</th>\n",
       "      <td>69</td>\n",
       "      <td>4c5cc7b485a1e21e00d35711</td>\n",
       "      <td>4bf58dd8d48988d103941735</td>\n",
       "      <td>Home (private)</td>\n",
       "      <td>40.716162</td>\n",
       "      <td>-73.883070</td>\n",
       "      <td>-240</td>\n",
       "      <td>Tue Apr 03 18:02:24 +0000 2012</td>\n",
       "    </tr>\n",
       "    <tr>\n",
       "      <th>3</th>\n",
       "      <td>395</td>\n",
       "      <td>4bc7086715a7ef3bef9878da</td>\n",
       "      <td>4bf58dd8d48988d104941735</td>\n",
       "      <td>Medical Center</td>\n",
       "      <td>40.745164</td>\n",
       "      <td>-73.982519</td>\n",
       "      <td>-240</td>\n",
       "      <td>Tue Apr 03 18:02:41 +0000 2012</td>\n",
       "    </tr>\n",
       "    <tr>\n",
       "      <th>4</th>\n",
       "      <td>87</td>\n",
       "      <td>4cf2c5321d18a143951b5cec</td>\n",
       "      <td>4bf58dd8d48988d1cb941735</td>\n",
       "      <td>Food Truck</td>\n",
       "      <td>40.740104</td>\n",
       "      <td>-73.989658</td>\n",
       "      <td>-240</td>\n",
       "      <td>Tue Apr 03 18:03:00 +0000 2012</td>\n",
       "    </tr>\n",
       "  </tbody>\n",
       "</table>\n",
       "</div>"
      ],
      "text/plain": [
       "   uid                  venue_id         venue_category_id  \\\n",
       "0  470  49bbd6c0f964a520f4531fe3  4bf58dd8d48988d127951735   \n",
       "1  979  4a43c0aef964a520c6a61fe3  4bf58dd8d48988d1df941735   \n",
       "2   69  4c5cc7b485a1e21e00d35711  4bf58dd8d48988d103941735   \n",
       "3  395  4bc7086715a7ef3bef9878da  4bf58dd8d48988d104941735   \n",
       "4   87  4cf2c5321d18a143951b5cec  4bf58dd8d48988d1cb941735   \n",
       "\n",
       "   venue_category_name        lat        lng  tmz  \\\n",
       "0  Arts & Crafts Store  40.719810 -74.002581 -240   \n",
       "1               Bridge  40.606800 -74.044170 -240   \n",
       "2       Home (private)  40.716162 -73.883070 -240   \n",
       "3       Medical Center  40.745164 -73.982519 -240   \n",
       "4           Food Truck  40.740104 -73.989658 -240   \n",
       "\n",
       "                         datetime  \n",
       "0  Tue Apr 03 18:00:09 +0000 2012  \n",
       "1  Tue Apr 03 18:00:25 +0000 2012  \n",
       "2  Tue Apr 03 18:02:24 +0000 2012  \n",
       "3  Tue Apr 03 18:02:41 +0000 2012  \n",
       "4  Tue Apr 03 18:03:00 +0000 2012  "
      ]
     },
     "execution_count": 4,
     "metadata": {},
     "output_type": "execute_result"
    }
   ],
   "source": [
    "import pandas as pd\n",
    "\n",
    "# the url at which the dataset is available\n",
    "url_fs = 'https://drive.google.com/uc?export=download&id=1idA3yrFUpGlNpa466ZuN5udbeGVRYO_s'\n",
    "\n",
    "#download the dataset and open it in a pandas DataFrame\n",
    "df = pd.read_csv(url_fs, sep='\\t', \n",
    "                 names=['uid','venue_id','venue_category_id','venue_category_name','lat',\n",
    "                        'lng','tmz','datetime'], encoding=\"ISO-8859-1\", header=None)\n",
    "\n",
    "df.head()"
   ]
  },
  {
   "cell_type": "markdown",
   "id": "46bf3de3",
   "metadata": {},
   "source": [
    "There are a lot of interesting attributes, but keep it simple.<br>\n",
    "We select only the attributes that are necessary to create the `TrajDataFrame`."
   ]
  },
  {
   "cell_type": "code",
   "execution_count": 5,
   "id": "52a5abc0",
   "metadata": {},
   "outputs": [
    {
     "data": {
      "text/html": [
       "<div>\n",
       "<style scoped>\n",
       "    .dataframe tbody tr th:only-of-type {\n",
       "        vertical-align: middle;\n",
       "    }\n",
       "\n",
       "    .dataframe tbody tr th {\n",
       "        vertical-align: top;\n",
       "    }\n",
       "\n",
       "    .dataframe thead th {\n",
       "        text-align: right;\n",
       "    }\n",
       "</style>\n",
       "<table border=\"1\" class=\"dataframe\">\n",
       "  <thead>\n",
       "    <tr style=\"text-align: right;\">\n",
       "      <th></th>\n",
       "      <th>uid</th>\n",
       "      <th>lat</th>\n",
       "      <th>lng</th>\n",
       "      <th>datetime</th>\n",
       "    </tr>\n",
       "  </thead>\n",
       "  <tbody>\n",
       "    <tr>\n",
       "      <th>0</th>\n",
       "      <td>470</td>\n",
       "      <td>40.719810</td>\n",
       "      <td>-74.002581</td>\n",
       "      <td>Tue Apr 03 18:00:09 +0000 2012</td>\n",
       "    </tr>\n",
       "    <tr>\n",
       "      <th>1</th>\n",
       "      <td>979</td>\n",
       "      <td>40.606800</td>\n",
       "      <td>-74.044170</td>\n",
       "      <td>Tue Apr 03 18:00:25 +0000 2012</td>\n",
       "    </tr>\n",
       "    <tr>\n",
       "      <th>2</th>\n",
       "      <td>69</td>\n",
       "      <td>40.716162</td>\n",
       "      <td>-73.883070</td>\n",
       "      <td>Tue Apr 03 18:02:24 +0000 2012</td>\n",
       "    </tr>\n",
       "    <tr>\n",
       "      <th>3</th>\n",
       "      <td>395</td>\n",
       "      <td>40.745164</td>\n",
       "      <td>-73.982519</td>\n",
       "      <td>Tue Apr 03 18:02:41 +0000 2012</td>\n",
       "    </tr>\n",
       "    <tr>\n",
       "      <th>4</th>\n",
       "      <td>87</td>\n",
       "      <td>40.740104</td>\n",
       "      <td>-73.989658</td>\n",
       "      <td>Tue Apr 03 18:03:00 +0000 2012</td>\n",
       "    </tr>\n",
       "  </tbody>\n",
       "</table>\n",
       "</div>"
      ],
      "text/plain": [
       "   uid        lat        lng                        datetime\n",
       "0  470  40.719810 -74.002581  Tue Apr 03 18:00:09 +0000 2012\n",
       "1  979  40.606800 -74.044170  Tue Apr 03 18:00:25 +0000 2012\n",
       "2   69  40.716162 -73.883070  Tue Apr 03 18:02:24 +0000 2012\n",
       "3  395  40.745164 -73.982519  Tue Apr 03 18:02:41 +0000 2012\n",
       "4   87  40.740104 -73.989658  Tue Apr 03 18:03:00 +0000 2012"
      ]
     },
     "execution_count": 5,
     "metadata": {},
     "output_type": "execute_result"
    }
   ],
   "source": [
    "#remember: WHO, WHERE, WHEN\n",
    "df = df[['uid','lat','lng','datetime']]\n",
    "df.head()"
   ]
  },
  {
   "cell_type": "markdown",
   "id": "8e333d66",
   "metadata": {},
   "source": [
    "Create the `TrajDataFrame`"
   ]
  },
  {
   "cell_type": "code",
   "execution_count": 6,
   "id": "607817a0",
   "metadata": {},
   "outputs": [
    {
     "data": {
      "text/html": [
       "<div>\n",
       "<style scoped>\n",
       "    .dataframe tbody tr th:only-of-type {\n",
       "        vertical-align: middle;\n",
       "    }\n",
       "\n",
       "    .dataframe tbody tr th {\n",
       "        vertical-align: top;\n",
       "    }\n",
       "\n",
       "    .dataframe thead th {\n",
       "        text-align: right;\n",
       "    }\n",
       "</style>\n",
       "<table border=\"1\" class=\"dataframe\">\n",
       "  <thead>\n",
       "    <tr style=\"text-align: right;\">\n",
       "      <th></th>\n",
       "      <th>uid</th>\n",
       "      <th>lat</th>\n",
       "      <th>lng</th>\n",
       "      <th>datetime</th>\n",
       "    </tr>\n",
       "  </thead>\n",
       "  <tbody>\n",
       "    <tr>\n",
       "      <th>2454</th>\n",
       "      <td>1</td>\n",
       "      <td>40.781558</td>\n",
       "      <td>-73.975792</td>\n",
       "      <td>2012-04-04 23:31:31+00:00</td>\n",
       "    </tr>\n",
       "    <tr>\n",
       "      <th>3660</th>\n",
       "      <td>1</td>\n",
       "      <td>40.784018</td>\n",
       "      <td>-73.974524</td>\n",
       "      <td>2012-04-07 17:42:24+00:00</td>\n",
       "    </tr>\n",
       "    <tr>\n",
       "      <th>5603</th>\n",
       "      <td>1</td>\n",
       "      <td>40.739398</td>\n",
       "      <td>-73.993210</td>\n",
       "      <td>2012-04-08 18:20:29+00:00</td>\n",
       "    </tr>\n",
       "    <tr>\n",
       "      <th>5783</th>\n",
       "      <td>1</td>\n",
       "      <td>40.785677</td>\n",
       "      <td>-73.976498</td>\n",
       "      <td>2012-04-08 20:02:10+00:00</td>\n",
       "    </tr>\n",
       "    <tr>\n",
       "      <th>6696</th>\n",
       "      <td>1</td>\n",
       "      <td>40.719929</td>\n",
       "      <td>-74.008532</td>\n",
       "      <td>2012-04-09 16:20:52+00:00</td>\n",
       "    </tr>\n",
       "  </tbody>\n",
       "</table>\n",
       "</div>"
      ],
      "text/plain": [
       "      uid        lat        lng                  datetime\n",
       "2454    1  40.781558 -73.975792 2012-04-04 23:31:31+00:00\n",
       "3660    1  40.784018 -73.974524 2012-04-07 17:42:24+00:00\n",
       "5603    1  40.739398 -73.993210 2012-04-08 18:20:29+00:00\n",
       "5783    1  40.785677 -73.976498 2012-04-08 20:02:10+00:00\n",
       "6696    1  40.719929 -74.008532 2012-04-09 16:20:52+00:00"
      ]
     },
     "execution_count": 6,
     "metadata": {},
     "output_type": "execute_result"
    }
   ],
   "source": [
    "tdf = skmob.TrajDataFrame(df, user_id='uid', latitude='lat', longitude='lng', \n",
    "                          datetime='datetime')\n",
    "tdf = tdf.sort_by_uid_and_datetime()\n",
    "tdf.head()"
   ]
  },
  {
   "cell_type": "markdown",
   "id": "a0689c0c",
   "metadata": {},
   "source": [
    "Note that in the original dataset the datetime is in UTC time.\n",
    "We need to apply the timezone of New York City, and this be done as following:"
   ]
  },
  {
   "cell_type": "code",
   "execution_count": 7,
   "id": "39a6d062",
   "metadata": {},
   "outputs": [
    {
     "data": {
      "text/html": [
       "<div>\n",
       "<style scoped>\n",
       "    .dataframe tbody tr th:only-of-type {\n",
       "        vertical-align: middle;\n",
       "    }\n",
       "\n",
       "    .dataframe tbody tr th {\n",
       "        vertical-align: top;\n",
       "    }\n",
       "\n",
       "    .dataframe thead th {\n",
       "        text-align: right;\n",
       "    }\n",
       "</style>\n",
       "<table border=\"1\" class=\"dataframe\">\n",
       "  <thead>\n",
       "    <tr style=\"text-align: right;\">\n",
       "      <th></th>\n",
       "      <th>uid</th>\n",
       "      <th>lat</th>\n",
       "      <th>lng</th>\n",
       "      <th>datetime</th>\n",
       "    </tr>\n",
       "  </thead>\n",
       "  <tbody>\n",
       "    <tr>\n",
       "      <th>2454</th>\n",
       "      <td>1</td>\n",
       "      <td>40.781558</td>\n",
       "      <td>-73.975792</td>\n",
       "      <td>2012-04-04 19:31:31-04:00</td>\n",
       "    </tr>\n",
       "    <tr>\n",
       "      <th>3660</th>\n",
       "      <td>1</td>\n",
       "      <td>40.784018</td>\n",
       "      <td>-73.974524</td>\n",
       "      <td>2012-04-07 13:42:24-04:00</td>\n",
       "    </tr>\n",
       "    <tr>\n",
       "      <th>5603</th>\n",
       "      <td>1</td>\n",
       "      <td>40.739398</td>\n",
       "      <td>-73.993210</td>\n",
       "      <td>2012-04-08 14:20:29-04:00</td>\n",
       "    </tr>\n",
       "    <tr>\n",
       "      <th>5783</th>\n",
       "      <td>1</td>\n",
       "      <td>40.785677</td>\n",
       "      <td>-73.976498</td>\n",
       "      <td>2012-04-08 16:02:10-04:00</td>\n",
       "    </tr>\n",
       "    <tr>\n",
       "      <th>6696</th>\n",
       "      <td>1</td>\n",
       "      <td>40.719929</td>\n",
       "      <td>-74.008532</td>\n",
       "      <td>2012-04-09 12:20:52-04:00</td>\n",
       "    </tr>\n",
       "  </tbody>\n",
       "</table>\n",
       "</div>"
      ],
      "text/plain": [
       "      uid        lat        lng                  datetime\n",
       "2454    1  40.781558 -73.975792 2012-04-04 19:31:31-04:00\n",
       "3660    1  40.784018 -73.974524 2012-04-07 13:42:24-04:00\n",
       "5603    1  40.739398 -73.993210 2012-04-08 14:20:29-04:00\n",
       "5783    1  40.785677 -73.976498 2012-04-08 16:02:10-04:00\n",
       "6696    1  40.719929 -74.008532 2012-04-09 12:20:52-04:00"
      ]
     },
     "execution_count": 7,
     "metadata": {},
     "output_type": "execute_result"
    }
   ],
   "source": [
    "tdf['datetime'] = tdf['datetime'].dt.tz_convert('US/Eastern')\n",
    "tdf.head()"
   ]
  },
  {
   "cell_type": "markdown",
   "id": "9c380ce2",
   "metadata": {},
   "source": [
    "Select only the GPS points from 05/10 to 05/18 (one week)"
   ]
  },
  {
   "cell_type": "code",
   "execution_count": 9,
   "id": "9f0156d1",
   "metadata": {},
   "outputs": [
    {
     "data": {
      "text/html": [
       "<div>\n",
       "<style scoped>\n",
       "    .dataframe tbody tr th:only-of-type {\n",
       "        vertical-align: middle;\n",
       "    }\n",
       "\n",
       "    .dataframe tbody tr th {\n",
       "        vertical-align: top;\n",
       "    }\n",
       "\n",
       "    .dataframe thead th {\n",
       "        text-align: right;\n",
       "    }\n",
       "</style>\n",
       "<table border=\"1\" class=\"dataframe\">\n",
       "  <thead>\n",
       "    <tr style=\"text-align: right;\">\n",
       "      <th></th>\n",
       "      <th>uid</th>\n",
       "      <th>lat</th>\n",
       "      <th>lng</th>\n",
       "      <th>datetime</th>\n",
       "    </tr>\n",
       "  </thead>\n",
       "  <tbody>\n",
       "    <tr>\n",
       "      <th>60549</th>\n",
       "      <td>1</td>\n",
       "      <td>40.719690</td>\n",
       "      <td>-74.008543</td>\n",
       "      <td>2012-05-11 12:10:55-04:00</td>\n",
       "    </tr>\n",
       "    <tr>\n",
       "      <th>61756</th>\n",
       "      <td>1</td>\n",
       "      <td>40.786766</td>\n",
       "      <td>-73.975734</td>\n",
       "      <td>2012-05-11 21:20:06-04:00</td>\n",
       "    </tr>\n",
       "    <tr>\n",
       "      <th>62929</th>\n",
       "      <td>1</td>\n",
       "      <td>40.771426</td>\n",
       "      <td>-73.973501</td>\n",
       "      <td>2012-05-12 14:40:38-04:00</td>\n",
       "    </tr>\n",
       "    <tr>\n",
       "      <th>63516</th>\n",
       "      <td>1</td>\n",
       "      <td>40.784101</td>\n",
       "      <td>-73.977686</td>\n",
       "      <td>2012-05-12 18:44:11-04:00</td>\n",
       "    </tr>\n",
       "    <tr>\n",
       "      <th>63680</th>\n",
       "      <td>1</td>\n",
       "      <td>40.776187</td>\n",
       "      <td>-73.982420</td>\n",
       "      <td>2012-05-12 20:01:58-04:00</td>\n",
       "    </tr>\n",
       "  </tbody>\n",
       "</table>\n",
       "</div>"
      ],
      "text/plain": [
       "       uid        lat        lng                  datetime\n",
       "60549    1  40.719690 -74.008543 2012-05-11 12:10:55-04:00\n",
       "61756    1  40.786766 -73.975734 2012-05-11 21:20:06-04:00\n",
       "62929    1  40.771426 -73.973501 2012-05-12 14:40:38-04:00\n",
       "63516    1  40.784101 -73.977686 2012-05-12 18:44:11-04:00\n",
       "63680    1  40.776187 -73.982420 2012-05-12 20:01:58-04:00"
      ]
     },
     "execution_count": 9,
     "metadata": {},
     "output_type": "execute_result"
    }
   ],
   "source": [
    "start = pd.to_datetime('2012/05/10 00:00:00',utc=True)\n",
    "end = pd.to_datetime('2012/05/18 00:00:00',utc=True)\n",
    "\n",
    "tdf_week = tdf[(tdf['datetime']>=start)&(tdf['datetime']<end)]\n",
    "\n",
    "#used to sort the TrajDataFrame by uid and time (to ensure the continuity of trajectories)\n",
    "tdf_week = tdf_week.sort_by_uid_and_datetime()\n",
    "tdf_week.head()"
   ]
  },
  {
   "cell_type": "markdown",
   "id": "b7a8ceb5",
   "metadata": {},
   "source": [
    "Print some statistics"
   ]
  },
  {
   "cell_type": "code",
   "execution_count": 10,
   "id": "1c2974c2",
   "metadata": {},
   "outputs": [
    {
     "name": "stdout",
     "output_type": "stream",
     "text": [
      "There are 16061 GPS points.\n",
      "There are 944 users.\n"
     ]
    }
   ],
   "source": [
    "#one week statistics\n",
    "\n",
    "print(\"There are \"+str(len(tdf_week))+\" GPS points.\")\n",
    "print(\"There are \"+str(len(tdf_week['uid'].unique()))+\" users.\")"
   ]
  },
  {
   "cell_type": "markdown",
   "id": "ce399652",
   "metadata": {},
   "source": [
    "Visualize a set of 100 trajectories"
   ]
  },
  {
   "cell_type": "code",
   "execution_count": 13,
   "id": "bd5c2c06",
   "metadata": {},
   "outputs": [
    {
     "data": {
      "text/html": [
       "<div style=\"width:100%;\"><div style=\"position:relative;width:100%;height:0;padding-bottom:60%;\"><span style=\"color:#565656\">Make this Notebook Trusted to load map: File -> Trust Notebook</span><iframe src=\"about:blank\" style=\"position:absolute;width:100%;height:100%;left:0;top:0;border:none !important;\" data-html=%3C%21DOCTYPE%20html%3E%0A%3Chead%3E%20%20%20%20%0A%20%20%20%20%3Cmeta%20http-equiv%3D%22content-type%22%20content%3D%22text/html%3B%20charset%3DUTF-8%22%20/%3E%0A%20%20%20%20%0A%20%20%20%20%20%20%20%20%3Cscript%3E%0A%20%20%20%20%20%20%20%20%20%20%20%20L_NO_TOUCH%20%3D%20false%3B%0A%20%20%20%20%20%20%20%20%20%20%20%20L_DISABLE_3D%20%3D%20false%3B%0A%20%20%20%20%20%20%20%20%3C/script%3E%0A%20%20%20%20%0A%20%20%20%20%3Cstyle%3Ehtml%2C%20body%20%7Bwidth%3A%20100%25%3Bheight%3A%20100%25%3Bmargin%3A%200%3Bpadding%3A%200%3B%7D%3C/style%3E%0A%20%20%20%20%3Cstyle%3E%23map%20%7Bposition%3Aabsolute%3Btop%3A0%3Bbottom%3A0%3Bright%3A0%3Bleft%3A0%3B%7D%3C/style%3E%0A%20%20%20%20%3Cscript%20src%3D%22https%3A//cdn.jsdelivr.net/npm/leaflet%401.6.0/dist/leaflet.js%22%3E%3C/script%3E%0A%20%20%20%20%3Cscript%20src%3D%22https%3A//code.jquery.com/jquery-1.12.4.min.js%22%3E%3C/script%3E%0A%20%20%20%20%3Cscript%20src%3D%22https%3A//maxcdn.bootstrapcdn.com/bootstrap/3.2.0/js/bootstrap.min.js%22%3E%3C/script%3E%0A%20%20%20%20%3Cscript%20src%3D%22https%3A//cdnjs.cloudflare.com/ajax/libs/Leaflet.awesome-markers/2.0.2/leaflet.awesome-markers.js%22%3E%3C/script%3E%0A%20%20%20%20%3Clink%20rel%3D%22stylesheet%22%20href%3D%22https%3A//cdn.jsdelivr.net/npm/leaflet%401.6.0/dist/leaflet.css%22/%3E%0A%20%20%20%20%3Clink%20rel%3D%22stylesheet%22%20href%3D%22https%3A//maxcdn.bootstrapcdn.com/bootstrap/3.2.0/css/bootstrap.min.css%22/%3E%0A%20%20%20%20%3Clink%20rel%3D%22stylesheet%22%20href%3D%22https%3A//maxcdn.bootstrapcdn.com/bootstrap/3.2.0/css/bootstrap-theme.min.css%22/%3E%0A%20%20%20%20%3Clink%20rel%3D%22stylesheet%22%20href%3D%22https%3A//maxcdn.bootstrapcdn.com/font-awesome/4.6.3/css/font-awesome.min.css%22/%3E%0A%20%20%20%20%3Clink%20rel%3D%22stylesheet%22%20href%3D%22https%3A//cdnjs.cloudflare.com/ajax/libs/Leaflet.awesome-markers/2.0.2/leaflet.awesome-markers.css%22/%3E%0A%20%20%20%20%3Clink%20rel%3D%22stylesheet%22%20href%3D%22https%3A//cdn.jsdelivr.net/gh/python-visualization/folium/folium/templates/leaflet.awesome.rotate.min.css%22/%3E%0A%20%20%20%20%0A%20%20%20%20%20%20%20%20%20%20%20%20%3Cmeta%20name%3D%22viewport%22%20content%3D%22width%3Ddevice-width%2C%0A%20%20%20%20%20%20%20%20%20%20%20%20%20%20%20%20initial-scale%3D1.0%2C%20maximum-scale%3D1.0%2C%20user-scalable%3Dno%22%20/%3E%0A%20%20%20%20%20%20%20%20%20%20%20%20%3Cstyle%3E%0A%20%20%20%20%20%20%20%20%20%20%20%20%20%20%20%20%23map_00b4a9a43dbb4e13b22179f670065c95%20%7B%0A%20%20%20%20%20%20%20%20%20%20%20%20%20%20%20%20%20%20%20%20position%3A%20relative%3B%0A%20%20%20%20%20%20%20%20%20%20%20%20%20%20%20%20%20%20%20%20width%3A%20100.0%25%3B%0A%20%20%20%20%20%20%20%20%20%20%20%20%20%20%20%20%20%20%20%20height%3A%20100.0%25%3B%0A%20%20%20%20%20%20%20%20%20%20%20%20%20%20%20%20%20%20%20%20left%3A%200.0%25%3B%0A%20%20%20%20%20%20%20%20%20%20%20%20%20%20%20%20%20%20%20%20top%3A%200.0%25%3B%0A%20%20%20%20%20%20%20%20%20%20%20%20%20%20%20%20%7D%0A%20%20%20%20%20%20%20%20%20%20%20%20%3C/style%3E%0A%20%20%20%20%20%20%20%20%0A%3C/head%3E%0A%3Cbody%3E%20%20%20%20%0A%20%20%20%20%0A%20%20%20%20%20%20%20%20%20%20%20%20%3Cdiv%20class%3D%22folium-map%22%20id%3D%22map_00b4a9a43dbb4e13b22179f670065c95%22%20%3E%3C/div%3E%0A%20%20%20%20%20%20%20%20%0A%3C/body%3E%0A%3Cscript%3E%20%20%20%20%0A%20%20%20%20%0A%20%20%20%20%20%20%20%20%20%20%20%20var%20map_00b4a9a43dbb4e13b22179f670065c95%20%3D%20L.map%28%0A%20%20%20%20%20%20%20%20%20%20%20%20%20%20%20%20%22map_00b4a9a43dbb4e13b22179f670065c95%22%2C%0A%20%20%20%20%20%20%20%20%20%20%20%20%20%20%20%20%7B%0A%20%20%20%20%20%20%20%20%20%20%20%20%20%20%20%20%20%20%20%20center%3A%20%5B40.776187%2C%20-73.97948193619018%5D%2C%0A%20%20%20%20%20%20%20%20%20%20%20%20%20%20%20%20%20%20%20%20crs%3A%20L.CRS.EPSG3857%2C%0A%20%20%20%20%20%20%20%20%20%20%20%20%20%20%20%20%20%20%20%20zoom%3A%209%2C%0A%20%20%20%20%20%20%20%20%20%20%20%20%20%20%20%20%20%20%20%20zoomControl%3A%20true%2C%0A%20%20%20%20%20%20%20%20%20%20%20%20%20%20%20%20%20%20%20%20preferCanvas%3A%20false%2C%0A%20%20%20%20%20%20%20%20%20%20%20%20%20%20%20%20%7D%0A%20%20%20%20%20%20%20%20%20%20%20%20%29%3B%0A%20%20%20%20%20%20%20%20%20%20%20%20L.control.scale%28%29.addTo%28map_00b4a9a43dbb4e13b22179f670065c95%29%3B%0A%0A%20%20%20%20%20%20%20%20%20%20%20%20%0A%0A%20%20%20%20%20%20%20%20%0A%20%20%20%20%0A%20%20%20%20%20%20%20%20%20%20%20%20var%20tile_layer_5e7481fbc2b14073a332b78206cef4e5%20%3D%20L.tileLayer%28%0A%20%20%20%20%20%20%20%20%20%20%20%20%20%20%20%20%22https%3A//cartodb-basemaps-%7Bs%7D.global.ssl.fastly.net/light_all/%7Bz%7D/%7Bx%7D/%7By%7D.png%22%2C%0A%20%20%20%20%20%20%20%20%20%20%20%20%20%20%20%20%7B%22attribution%22%3A%20%22%5Cu0026copy%3B%20%5Cu003ca%20href%3D%5C%22http%3A//www.openstreetmap.org/copyright%5C%22%5Cu003eOpenStreetMap%5Cu003c/a%5Cu003e%20contributors%20%5Cu0026copy%3B%20%5Cu003ca%20href%3D%5C%22http%3A//cartodb.com/attributions%5C%22%5Cu003eCartoDB%5Cu003c/a%5Cu003e%2C%20CartoDB%20%5Cu003ca%20href%20%3D%5C%22http%3A//cartodb.com/attributions%5C%22%5Cu003eattributions%5Cu003c/a%5Cu003e%22%2C%20%22detectRetina%22%3A%20false%2C%20%22maxNativeZoom%22%3A%2018%2C%20%22maxZoom%22%3A%2018%2C%20%22minZoom%22%3A%200%2C%20%22noWrap%22%3A%20false%2C%20%22opacity%22%3A%201%2C%20%22subdomains%22%3A%20%22abc%22%2C%20%22tms%22%3A%20false%7D%0A%20%20%20%20%20%20%20%20%20%20%20%20%29.addTo%28map_00b4a9a43dbb4e13b22179f670065c95%29%3B%0A%20%20%20%20%20%20%20%20%0A%20%20%20%20%0A%20%20%20%20%20%20%20%20function%20geo_json_1bc3c265c48e4e4caed2f0d821bc7f5e_styler%28feature%29%20%7B%0A%20%20%20%20%20%20%20%20%20%20%20%20switch%28feature.id%29%20%7B%0A%20%20%20%20%20%20%20%20%20%20%20%20%20%20%20%20default%3A%0A%20%20%20%20%20%20%20%20%20%20%20%20%20%20%20%20%20%20%20%20return%20%7B%22color%22%3A%20%22%2300DCB5%22%2C%20%22dashArray%22%3A%20%220%2C%200%22%2C%20%22opacity%22%3A%200.75%2C%20%22weight%22%3A%202%7D%3B%0A%20%20%20%20%20%20%20%20%20%20%20%20%7D%0A%20%20%20%20%20%20%20%20%7D%0A%0A%20%20%20%20%20%20%20%20function%20geo_json_1bc3c265c48e4e4caed2f0d821bc7f5e_onEachFeature%28feature%2C%20layer%29%20%7B%0A%20%20%20%20%20%20%20%20%20%20%20%20layer.on%28%7B%0A%20%20%20%20%20%20%20%20%20%20%20%20%7D%29%3B%0A%20%20%20%20%20%20%20%20%7D%3B%0A%20%20%20%20%20%20%20%20var%20geo_json_1bc3c265c48e4e4caed2f0d821bc7f5e%20%3D%20L.geoJson%28null%2C%20%7B%0A%20%20%20%20%20%20%20%20%20%20%20%20%20%20%20%20onEachFeature%3A%20geo_json_1bc3c265c48e4e4caed2f0d821bc7f5e_onEachFeature%2C%0A%20%20%20%20%20%20%20%20%20%20%20%20%0A%20%20%20%20%20%20%20%20%20%20%20%20%20%20%20%20style%3A%20geo_json_1bc3c265c48e4e4caed2f0d821bc7f5e_styler%2C%0A%20%20%20%20%20%20%20%20%7D%29%3B%0A%0A%20%20%20%20%20%20%20%20function%20geo_json_1bc3c265c48e4e4caed2f0d821bc7f5e_add%20%28data%29%20%7B%0A%20%20%20%20%20%20%20%20%20%20%20%20geo_json_1bc3c265c48e4e4caed2f0d821bc7f5e%0A%20%20%20%20%20%20%20%20%20%20%20%20%20%20%20%20.addData%28data%29%0A%20%20%20%20%20%20%20%20%20%20%20%20%20%20%20%20.addTo%28map_00b4a9a43dbb4e13b22179f670065c95%29%3B%0A%20%20%20%20%20%20%20%20%7D%0A%20%20%20%20%20%20%20%20%20%20%20%20geo_json_1bc3c265c48e4e4caed2f0d821bc7f5e_add%28%7B%22features%22%3A%20%5B%7B%22geometry%22%3A%20%7B%22coordinates%22%3A%20%5B%5B-74.008543%2C%2040.71969%5D%2C%20%5B-73.975734%2C%2040.786766%5D%2C%20%5B-73.973501%2C%2040.771426%5D%2C%20%5B-73.977686%2C%2040.784101%5D%2C%20%5B-73.98242%2C%2040.776187%5D%2C%20%5B-73.979482%2C%2040.776624%5D%2C%20%5B-73.981734%2C%2040.774364%5D%5D%2C%20%22type%22%3A%20%22LineString%22%7D%2C%20%22id%22%3A%20%220%22%2C%20%22type%22%3A%20%22Feature%22%7D%5D%2C%20%22type%22%3A%20%22FeatureCollection%22%7D%29%3B%0A%0A%20%20%20%20%20%20%20%20%0A%20%20%20%20%0A%20%20%20%20%20%20%20%20function%20geo_json_e290abf6e2e44a1eaa30002536e36a0d_styler%28feature%29%20%7B%0A%20%20%20%20%20%20%20%20%20%20%20%20switch%28feature.id%29%20%7B%0A%20%20%20%20%20%20%20%20%20%20%20%20%20%20%20%20default%3A%0A%20%20%20%20%20%20%20%20%20%20%20%20%20%20%20%20%20%20%20%20return%20%7B%22color%22%3A%20%22%23008607%22%2C%20%22dashArray%22%3A%20%220%2C%200%22%2C%20%22opacity%22%3A%200.75%2C%20%22weight%22%3A%202%7D%3B%0A%20%20%20%20%20%20%20%20%20%20%20%20%7D%0A%20%20%20%20%20%20%20%20%7D%0A%0A%20%20%20%20%20%20%20%20function%20geo_json_e290abf6e2e44a1eaa30002536e36a0d_onEachFeature%28feature%2C%20layer%29%20%7B%0A%20%20%20%20%20%20%20%20%20%20%20%20layer.on%28%7B%0A%20%20%20%20%20%20%20%20%20%20%20%20%7D%29%3B%0A%20%20%20%20%20%20%20%20%7D%3B%0A%20%20%20%20%20%20%20%20var%20geo_json_e290abf6e2e44a1eaa30002536e36a0d%20%3D%20L.geoJson%28null%2C%20%7B%0A%20%20%20%20%20%20%20%20%20%20%20%20%20%20%20%20onEachFeature%3A%20geo_json_e290abf6e2e44a1eaa30002536e36a0d_onEachFeature%2C%0A%20%20%20%20%20%20%20%20%20%20%20%20%0A%20%20%20%20%20%20%20%20%20%20%20%20%20%20%20%20style%3A%20geo_json_e290abf6e2e44a1eaa30002536e36a0d_styler%2C%0A%20%20%20%20%20%20%20%20%7D%29%3B%0A%0A%20%20%20%20%20%20%20%20function%20geo_json_e290abf6e2e44a1eaa30002536e36a0d_add%20%28data%29%20%7B%0A%20%20%20%20%20%20%20%20%20%20%20%20geo_json_e290abf6e2e44a1eaa30002536e36a0d%0A%20%20%20%20%20%20%20%20%20%20%20%20%20%20%20%20.addData%28data%29%0A%20%20%20%20%20%20%20%20%20%20%20%20%20%20%20%20.addTo%28map_00b4a9a43dbb4e13b22179f670065c95%29%3B%0A%20%20%20%20%20%20%20%20%7D%0A%20%20%20%20%20%20%20%20%20%20%20%20geo_json_e290abf6e2e44a1eaa30002536e36a0d_add%28%7B%22features%22%3A%20%5B%7B%22geometry%22%3A%20%7B%22coordinates%22%3A%20%5B%5B-73.99104%2C%2040.740647%5D%2C%20%5B-73.999309%2C%2040.722127%5D%2C%20%5B-73.998225%2C%2040.72388%5D%2C%20%5B-73.902669%2C%2040.646099%5D%2C%20%5B-73.959323%2C%2040.780266%5D%2C%20%5B-73.963434%2C%2040.765901%5D%2C%20%5B-73.913992%2C%2040.646689%5D%2C%20%5B-74.028545%2C%2040.62956%5D%2C%20%5B-74.03414%2C%2040.609766%5D%2C%20%5B-73.840098%2C%2040.661442%5D%2C%20%5B-74.063331%2C%2040.602338%5D%2C%20%5B-74.158227%2C%2040.625353%5D%2C%20%5B-74.142421%2C%2040.624587%5D%2C%20%5B-73.898699%2C%2040.676928%5D%2C%20%5B-73.913992%2C%2040.646689%5D%2C%20%5B-73.988564%2C%2040.750614%5D%2C%20%5B-73.98222%2C%2040.773884%5D%2C%20%5B-73.980389%2C%2040.778031%5D%5D%2C%20%22type%22%3A%20%22LineString%22%7D%2C%20%22id%22%3A%20%220%22%2C%20%22type%22%3A%20%22Feature%22%7D%5D%2C%20%22type%22%3A%20%22FeatureCollection%22%7D%29%3B%0A%0A%20%20%20%20%20%20%20%20%0A%20%20%20%20%0A%20%20%20%20%20%20%20%20function%20geo_json_d0fb0ab2658c44748103090c7c797db5_styler%28feature%29%20%7B%0A%20%20%20%20%20%20%20%20%20%20%20%20switch%28feature.id%29%20%7B%0A%20%20%20%20%20%20%20%20%20%20%20%20%20%20%20%20default%3A%0A%20%20%20%20%20%20%20%20%20%20%20%20%20%20%20%20%20%20%20%20return%20%7B%22color%22%3A%20%22%23009FFA%22%2C%20%22dashArray%22%3A%20%220%2C%200%22%2C%20%22opacity%22%3A%200.75%2C%20%22weight%22%3A%202%7D%3B%0A%20%20%20%20%20%20%20%20%20%20%20%20%7D%0A%20%20%20%20%20%20%20%20%7D%0A%0A%20%20%20%20%20%20%20%20function%20geo_json_d0fb0ab2658c44748103090c7c797db5_onEachFeature%28feature%2C%20layer%29%20%7B%0A%20%20%20%20%20%20%20%20%20%20%20%20layer.on%28%7B%0A%20%20%20%20%20%20%20%20%20%20%20%20%7D%29%3B%0A%20%20%20%20%20%20%20%20%7D%3B%0A%20%20%20%20%20%20%20%20var%20geo_json_d0fb0ab2658c44748103090c7c797db5%20%3D%20L.geoJson%28null%2C%20%7B%0A%20%20%20%20%20%20%20%20%20%20%20%20%20%20%20%20onEachFeature%3A%20geo_json_d0fb0ab2658c44748103090c7c797db5_onEachFeature%2C%0A%20%20%20%20%20%20%20%20%20%20%20%20%0A%20%20%20%20%20%20%20%20%20%20%20%20%20%20%20%20style%3A%20geo_json_d0fb0ab2658c44748103090c7c797db5_styler%2C%0A%20%20%20%20%20%20%20%20%7D%29%3B%0A%0A%20%20%20%20%20%20%20%20function%20geo_json_d0fb0ab2658c44748103090c7c797db5_add%20%28data%29%20%7B%0A%20%20%20%20%20%20%20%20%20%20%20%20geo_json_d0fb0ab2658c44748103090c7c797db5%0A%20%20%20%20%20%20%20%20%20%20%20%20%20%20%20%20.addData%28data%29%0A%20%20%20%20%20%20%20%20%20%20%20%20%20%20%20%20.addTo%28map_00b4a9a43dbb4e13b22179f670065c95%29%3B%0A%20%20%20%20%20%20%20%20%7D%0A%20%20%20%20%20%20%20%20%20%20%20%20geo_json_d0fb0ab2658c44748103090c7c797db5_add%28%7B%22features%22%3A%20%5B%7B%22geometry%22%3A%20%7B%22coordinates%22%3A%20%5B%5B-73.991563%2C%2040.749049%5D%2C%20%5B-73.993566%2C%2040.756307%5D%2C%20%5B-73.987993%2C%2040.745837%5D%2C%20%5B-73.993521%2C%2040.751516%5D%2C%20%5B-73.99162%2C%2040.749298%5D%2C%20%5B-73.99216%2C%2040.725163%5D%2C%20%5B-73.987993%2C%2040.745837%5D%2C%20%5B-73.988521%2C%2040.745889%5D%2C%20%5B-73.988601%2C%2040.745885%5D%5D%2C%20%22type%22%3A%20%22LineString%22%7D%2C%20%22id%22%3A%20%220%22%2C%20%22type%22%3A%20%22Feature%22%7D%5D%2C%20%22type%22%3A%20%22FeatureCollection%22%7D%29%3B%0A%0A%20%20%20%20%20%20%20%20%0A%20%20%20%20%0A%20%20%20%20%20%20%20%20function%20geo_json_6f2d9cdcee6041c3aa1f1af9a2c97db7_styler%28feature%29%20%7B%0A%20%20%20%20%20%20%20%20%20%20%20%20switch%28feature.id%29%20%7B%0A%20%20%20%20%20%20%20%20%20%20%20%20%20%20%20%20default%3A%0A%20%20%20%20%20%20%20%20%20%20%20%20%20%20%20%20%20%20%20%20return%20%7B%22color%22%3A%20%22%23F60239%22%2C%20%22dashArray%22%3A%20%220%2C%200%22%2C%20%22opacity%22%3A%200.75%2C%20%22weight%22%3A%202%7D%3B%0A%20%20%20%20%20%20%20%20%20%20%20%20%7D%0A%20%20%20%20%20%20%20%20%7D%0A%0A%20%20%20%20%20%20%20%20function%20geo_json_6f2d9cdcee6041c3aa1f1af9a2c97db7_onEachFeature%28feature%2C%20layer%29%20%7B%0A%20%20%20%20%20%20%20%20%20%20%20%20layer.on%28%7B%0A%20%20%20%20%20%20%20%20%20%20%20%20%7D%29%3B%0A%20%20%20%20%20%20%20%20%7D%3B%0A%20%20%20%20%20%20%20%20var%20geo_json_6f2d9cdcee6041c3aa1f1af9a2c97db7%20%3D%20L.geoJson%28null%2C%20%7B%0A%20%20%20%20%20%20%20%20%20%20%20%20%20%20%20%20onEachFeature%3A%20geo_json_6f2d9cdcee6041c3aa1f1af9a2c97db7_onEachFeature%2C%0A%20%20%20%20%20%20%20%20%20%20%20%20%0A%20%20%20%20%20%20%20%20%20%20%20%20%20%20%20%20style%3A%20geo_json_6f2d9cdcee6041c3aa1f1af9a2c97db7_styler%2C%0A%20%20%20%20%20%20%20%20%7D%29%3B%0A%0A%20%20%20%20%20%20%20%20function%20geo_json_6f2d9cdcee6041c3aa1f1af9a2c97db7_add%20%28data%29%20%7B%0A%20%20%20%20%20%20%20%20%20%20%20%20geo_json_6f2d9cdcee6041c3aa1f1af9a2c97db7%0A%20%20%20%20%20%20%20%20%20%20%20%20%20%20%20%20.addData%28data%29%0A%20%20%20%20%20%20%20%20%20%20%20%20%20%20%20%20.addTo%28map_00b4a9a43dbb4e13b22179f670065c95%29%3B%0A%20%20%20%20%20%20%20%20%7D%0A%20%20%20%20%20%20%20%20%20%20%20%20geo_json_6f2d9cdcee6041c3aa1f1af9a2c97db7_add%28%7B%22features%22%3A%20%5B%7B%22geometry%22%3A%20%7B%22coordinates%22%3A%20%5B%5B-73.974776%2C%2040.782691%5D%2C%20%5B-73.963107%2C%2040.811581%5D%2C%20%5B-73.983448%2C%2040.723605%5D%2C%20%5B-73.941393%2C%2040.816816%5D%2C%20%5B-73.982547%2C%2040.766607%5D%2C%20%5B-73.982495%2C%2040.764434%5D%2C%20%5B-73.953235%2C%2040.811177%5D%5D%2C%20%22type%22%3A%20%22LineString%22%7D%2C%20%22id%22%3A%20%220%22%2C%20%22type%22%3A%20%22Feature%22%7D%5D%2C%20%22type%22%3A%20%22FeatureCollection%22%7D%29%3B%0A%0A%20%20%20%20%20%20%20%20%0A%20%20%20%20%0A%20%20%20%20%20%20%20%20function%20geo_json_b457c2c130564acf8b73ace53d310af6_styler%28feature%29%20%7B%0A%20%20%20%20%20%20%20%20%20%20%20%20switch%28feature.id%29%20%7B%0A%20%20%20%20%20%20%20%20%20%20%20%20%20%20%20%20default%3A%0A%20%20%20%20%20%20%20%20%20%20%20%20%20%20%20%20%20%20%20%20return%20%7B%22color%22%3A%20%22%23009FFA%22%2C%20%22dashArray%22%3A%20%220%2C%200%22%2C%20%22opacity%22%3A%200.75%2C%20%22weight%22%3A%202%7D%3B%0A%20%20%20%20%20%20%20%20%20%20%20%20%7D%0A%20%20%20%20%20%20%20%20%7D%0A%0A%20%20%20%20%20%20%20%20function%20geo_json_b457c2c130564acf8b73ace53d310af6_onEachFeature%28feature%2C%20layer%29%20%7B%0A%20%20%20%20%20%20%20%20%20%20%20%20layer.on%28%7B%0A%20%20%20%20%20%20%20%20%20%20%20%20%7D%29%3B%0A%20%20%20%20%20%20%20%20%7D%3B%0A%20%20%20%20%20%20%20%20var%20geo_json_b457c2c130564acf8b73ace53d310af6%20%3D%20L.geoJson%28null%2C%20%7B%0A%20%20%20%20%20%20%20%20%20%20%20%20%20%20%20%20onEachFeature%3A%20geo_json_b457c2c130564acf8b73ace53d310af6_onEachFeature%2C%0A%20%20%20%20%20%20%20%20%20%20%20%20%0A%20%20%20%20%20%20%20%20%20%20%20%20%20%20%20%20style%3A%20geo_json_b457c2c130564acf8b73ace53d310af6_styler%2C%0A%20%20%20%20%20%20%20%20%7D%29%3B%0A%0A%20%20%20%20%20%20%20%20function%20geo_json_b457c2c130564acf8b73ace53d310af6_add%20%28data%29%20%7B%0A%20%20%20%20%20%20%20%20%20%20%20%20geo_json_b457c2c130564acf8b73ace53d310af6%0A%20%20%20%20%20%20%20%20%20%20%20%20%20%20%20%20.addData%28data%29%0A%20%20%20%20%20%20%20%20%20%20%20%20%20%20%20%20.addTo%28map_00b4a9a43dbb4e13b22179f670065c95%29%3B%0A%20%20%20%20%20%20%20%20%7D%0A%20%20%20%20%20%20%20%20%20%20%20%20geo_json_b457c2c130564acf8b73ace53d310af6_add%28%7B%22features%22%3A%20%5B%7B%22geometry%22%3A%20%7B%22coordinates%22%3A%20%5B%5B-73.949071%2C%2040.80927%5D%2C%20%5B-73.959236%2C%2040.774626%5D%2C%20%5B-73.957343%2C%2040.801791%5D%2C%20%5B-73.954893%2C%2040.805028%5D%2C%20%5B-73.943267%2C%2040.81009%5D%2C%20%5B-73.960955%2C%2040.772111%5D%2C%20%5B-73.955066%2C%2040.770037%5D%2C%20%5B-73.993576%2C%2040.750795%5D%2C%20%5B-73.948872%2C%2040.793674%5D%2C%20%5B-73.949071%2C%2040.80927%5D%2C%20%5B-73.959236%2C%2040.774626%5D%2C%20%5B-73.960955%2C%2040.772111%5D%2C%20%5B-73.948872%2C%2040.793674%5D%2C%20%5B-73.947051%2C%2040.79097%5D%2C%20%5B-73.945279%2C%2040.800181%5D%2C%20%5B-73.979723%2C%2040.752207%5D%5D%2C%20%22type%22%3A%20%22LineString%22%7D%2C%20%22id%22%3A%20%220%22%2C%20%22type%22%3A%20%22Feature%22%7D%5D%2C%20%22type%22%3A%20%22FeatureCollection%22%7D%29%3B%0A%0A%20%20%20%20%20%20%20%20%0A%20%20%20%20%0A%20%20%20%20%20%20%20%20function%20geo_json_de2b8c56ec82499d920ffd7a7b9c16fb_styler%28feature%29%20%7B%0A%20%20%20%20%20%20%20%20%20%20%20%20switch%28feature.id%29%20%7B%0A%20%20%20%20%20%20%20%20%20%20%20%20%20%20%20%20default%3A%0A%20%20%20%20%20%20%20%20%20%20%20%20%20%20%20%20%20%20%20%20return%20%7B%22color%22%3A%20%22%2300DCB5%22%2C%20%22dashArray%22%3A%20%220%2C%200%22%2C%20%22opacity%22%3A%200.75%2C%20%22weight%22%3A%202%7D%3B%0A%20%20%20%20%20%20%20%20%20%20%20%20%7D%0A%20%20%20%20%20%20%20%20%7D%0A%0A%20%20%20%20%20%20%20%20function%20geo_json_de2b8c56ec82499d920ffd7a7b9c16fb_onEachFeature%28feature%2C%20layer%29%20%7B%0A%20%20%20%20%20%20%20%20%20%20%20%20layer.on%28%7B%0A%20%20%20%20%20%20%20%20%20%20%20%20%7D%29%3B%0A%20%20%20%20%20%20%20%20%7D%3B%0A%20%20%20%20%20%20%20%20var%20geo_json_de2b8c56ec82499d920ffd7a7b9c16fb%20%3D%20L.geoJson%28null%2C%20%7B%0A%20%20%20%20%20%20%20%20%20%20%20%20%20%20%20%20onEachFeature%3A%20geo_json_de2b8c56ec82499d920ffd7a7b9c16fb_onEachFeature%2C%0A%20%20%20%20%20%20%20%20%20%20%20%20%0A%20%20%20%20%20%20%20%20%20%20%20%20%20%20%20%20style%3A%20geo_json_de2b8c56ec82499d920ffd7a7b9c16fb_styler%2C%0A%20%20%20%20%20%20%20%20%7D%29%3B%0A%0A%20%20%20%20%20%20%20%20function%20geo_json_de2b8c56ec82499d920ffd7a7b9c16fb_add%20%28data%29%20%7B%0A%20%20%20%20%20%20%20%20%20%20%20%20geo_json_de2b8c56ec82499d920ffd7a7b9c16fb%0A%20%20%20%20%20%20%20%20%20%20%20%20%20%20%20%20.addData%28data%29%0A%20%20%20%20%20%20%20%20%20%20%20%20%20%20%20%20.addTo%28map_00b4a9a43dbb4e13b22179f670065c95%29%3B%0A%20%20%20%20%20%20%20%20%7D%0A%20%20%20%20%20%20%20%20%20%20%20%20geo_json_de2b8c56ec82499d920ffd7a7b9c16fb_add%28%7B%22features%22%3A%20%5B%7B%22geometry%22%3A%20%7B%22coordinates%22%3A%20%5B%5B-73.97947%2C%2040.781465%5D%2C%20%5B-73.966987%2C%2040.755817%5D%2C%20%5B-73.994267%2C%2040.72222%5D%2C%20%5B-73.97947%2C%2040.781465%5D%2C%20%5B-73.979762%2C%2040.781723%5D%2C%20%5B-73.97947%2C%2040.781465%5D%5D%2C%20%22type%22%3A%20%22LineString%22%7D%2C%20%22id%22%3A%20%220%22%2C%20%22type%22%3A%20%22Feature%22%7D%5D%2C%20%22type%22%3A%20%22FeatureCollection%22%7D%29%3B%0A%0A%20%20%20%20%20%20%20%20%0A%20%20%20%20%0A%20%20%20%20%20%20%20%20function%20geo_json_31df61646a7548da9d8bc48c515e679e_styler%28feature%29%20%7B%0A%20%20%20%20%20%20%20%20%20%20%20%20switch%28feature.id%29%20%7B%0A%20%20%20%20%20%20%20%20%20%20%20%20%20%20%20%20default%3A%0A%20%20%20%20%20%20%20%20%20%20%20%20%20%20%20%20%20%20%20%20return%20%7B%22color%22%3A%20%22%23008169%22%2C%20%22dashArray%22%3A%20%220%2C%200%22%2C%20%22opacity%22%3A%200.75%2C%20%22weight%22%3A%202%7D%3B%0A%20%20%20%20%20%20%20%20%20%20%20%20%7D%0A%20%20%20%20%20%20%20%20%7D%0A%0A%20%20%20%20%20%20%20%20function%20geo_json_31df61646a7548da9d8bc48c515e679e_onEachFeature%28feature%2C%20layer%29%20%7B%0A%20%20%20%20%20%20%20%20%20%20%20%20layer.on%28%7B%0A%20%20%20%20%20%20%20%20%20%20%20%20%7D%29%3B%0A%20%20%20%20%20%20%20%20%7D%3B%0A%20%20%20%20%20%20%20%20var%20geo_json_31df61646a7548da9d8bc48c515e679e%20%3D%20L.geoJson%28null%2C%20%7B%0A%20%20%20%20%20%20%20%20%20%20%20%20%20%20%20%20onEachFeature%3A%20geo_json_31df61646a7548da9d8bc48c515e679e_onEachFeature%2C%0A%20%20%20%20%20%20%20%20%20%20%20%20%0A%20%20%20%20%20%20%20%20%20%20%20%20%20%20%20%20style%3A%20geo_json_31df61646a7548da9d8bc48c515e679e_styler%2C%0A%20%20%20%20%20%20%20%20%7D%29%3B%0A%0A%20%20%20%20%20%20%20%20function%20geo_json_31df61646a7548da9d8bc48c515e679e_add%20%28data%29%20%7B%0A%20%20%20%20%20%20%20%20%20%20%20%20geo_json_31df61646a7548da9d8bc48c515e679e%0A%20%20%20%20%20%20%20%20%20%20%20%20%20%20%20%20.addData%28data%29%0A%20%20%20%20%20%20%20%20%20%20%20%20%20%20%20%20.addTo%28map_00b4a9a43dbb4e13b22179f670065c95%29%3B%0A%20%20%20%20%20%20%20%20%7D%0A%20%20%20%20%20%20%20%20%20%20%20%20geo_json_31df61646a7548da9d8bc48c515e679e_add%28%7B%22features%22%3A%20%5B%7B%22geometry%22%3A%20%7B%22coordinates%22%3A%20%5B%5B-73.973501%2C%2040.771426%5D%2C%20%5B-73.99267%2C%2040.734029%5D%2C%20%5B-73.983798%2C%2040.739072%5D%2C%20%5B-73.992666%2C%2040.734865%5D%2C%20%5B-73.992515%2C%2040.732831%5D%2C%20%5B-73.996181%2C%2040.731682%5D%2C%20%5B-73.988842%2C%2040.721545%5D%2C%20%5B-73.987901%2C%2040.720933%5D%2C%20%5B-73.98251%2C%2040.66564%5D%2C%20%5B-74.006902%2C%2040.731078%5D%2C%20%5B-74.008595%2C%2040.7495%5D%2C%20%5B-73.961305%2C%2040.719857%5D%2C%20%5B-73.967078%2C%2040.716707%5D%2C%20%5B-73.97481%2C%2040.691182%5D%2C%20%5B-73.993576%2C%2040.750795%5D%2C%20%5B-73.986949%2C%2040.740724%5D%2C%20%5B-73.989015%2C%2040.742656%5D%2C%20%5B-73.967662%2C%2040.71077%5D%2C%20%5B-73.965025%2C%2040.714281%5D%2C%20%5B-73.999132%2C%2040.734184%5D%2C%20%5B-74.010512%2C%2040.732289%5D%2C%20%5B-74.008551%2C%2040.734188%5D%5D%2C%20%22type%22%3A%20%22LineString%22%7D%2C%20%22id%22%3A%20%220%22%2C%20%22type%22%3A%20%22Feature%22%7D%5D%2C%20%22type%22%3A%20%22FeatureCollection%22%7D%29%3B%0A%0A%20%20%20%20%20%20%20%20%0A%20%20%20%20%0A%20%20%20%20%20%20%20%20function%20geo_json_6fcece720673434393d3e4739c421c0a_styler%28feature%29%20%7B%0A%20%20%20%20%20%20%20%20%20%20%20%20switch%28feature.id%29%20%7B%0A%20%20%20%20%20%20%20%20%20%20%20%20%20%20%20%20default%3A%0A%20%20%20%20%20%20%20%20%20%20%20%20%20%20%20%20%20%20%20%20return%20%7B%22color%22%3A%20%22%23FF71FD%22%2C%20%22dashArray%22%3A%20%220%2C%200%22%2C%20%22opacity%22%3A%200.75%2C%20%22weight%22%3A%202%7D%3B%0A%20%20%20%20%20%20%20%20%20%20%20%20%7D%0A%20%20%20%20%20%20%20%20%7D%0A%0A%20%20%20%20%20%20%20%20function%20geo_json_6fcece720673434393d3e4739c421c0a_onEachFeature%28feature%2C%20layer%29%20%7B%0A%20%20%20%20%20%20%20%20%20%20%20%20layer.on%28%7B%0A%20%20%20%20%20%20%20%20%20%20%20%20%7D%29%3B%0A%20%20%20%20%20%20%20%20%7D%3B%0A%20%20%20%20%20%20%20%20var%20geo_json_6fcece720673434393d3e4739c421c0a%20%3D%20L.geoJson%28null%2C%20%7B%0A%20%20%20%20%20%20%20%20%20%20%20%20%20%20%20%20onEachFeature%3A%20geo_json_6fcece720673434393d3e4739c421c0a_onEachFeature%2C%0A%20%20%20%20%20%20%20%20%20%20%20%20%0A%20%20%20%20%20%20%20%20%20%20%20%20%20%20%20%20style%3A%20geo_json_6fcece720673434393d3e4739c421c0a_styler%2C%0A%20%20%20%20%20%20%20%20%7D%29%3B%0A%0A%20%20%20%20%20%20%20%20function%20geo_json_6fcece720673434393d3e4739c421c0a_add%20%28data%29%20%7B%0A%20%20%20%20%20%20%20%20%20%20%20%20geo_json_6fcece720673434393d3e4739c421c0a%0A%20%20%20%20%20%20%20%20%20%20%20%20%20%20%20%20.addData%28data%29%0A%20%20%20%20%20%20%20%20%20%20%20%20%20%20%20%20.addTo%28map_00b4a9a43dbb4e13b22179f670065c95%29%3B%0A%20%20%20%20%20%20%20%20%7D%0A%20%20%20%20%20%20%20%20%20%20%20%20geo_json_6fcece720673434393d3e4739c421c0a_add%28%7B%22features%22%3A%20%5B%7B%22geometry%22%3A%20%7B%22coordinates%22%3A%20%5B%5B-73.992318%2C%2040.758765%5D%2C%20%5B-73.98541%2C%2040.717952%5D%2C%20%5B-73.983768%2C%2040.727007%5D%2C%20%5B-74.008758%2C%2040.752294%5D%2C%20%5B-73.978103%2C%2040.746131%5D%2C%20%5B-73.993175%2C%2040.758661%5D%2C%20%5B-73.996871%2C%2040.719209%5D%2C%20%5B-73.976475%2C%2040.745138%5D%2C%20%5B-73.992318%2C%2040.758765%5D%2C%20%5B-73.976475%2C%2040.745138%5D%2C%20%5B-73.953616%2C%2040.785491%5D%2C%20%5B-73.982989%2C%2040.756941%5D%2C%20%5B-73.983688%2C%2040.753728%5D%2C%20%5B-73.987987%2C%2040.754658%5D%5D%2C%20%22type%22%3A%20%22LineString%22%7D%2C%20%22id%22%3A%20%220%22%2C%20%22type%22%3A%20%22Feature%22%7D%5D%2C%20%22type%22%3A%20%22FeatureCollection%22%7D%29%3B%0A%0A%20%20%20%20%20%20%20%20%0A%20%20%20%20%0A%20%20%20%20%20%20%20%20function%20geo_json_7d7fb958512147edb490d82348fb5573_styler%28feature%29%20%7B%0A%20%20%20%20%20%20%20%20%20%20%20%20switch%28feature.id%29%20%7B%0A%20%20%20%20%20%20%20%20%20%20%20%20%20%20%20%20default%3A%0A%20%20%20%20%20%20%20%20%20%20%20%20%20%20%20%20%20%20%20%20return%20%7B%22color%22%3A%20%22%2300DCB5%22%2C%20%22dashArray%22%3A%20%220%2C%200%22%2C%20%22opacity%22%3A%200.75%2C%20%22weight%22%3A%202%7D%3B%0A%20%20%20%20%20%20%20%20%20%20%20%20%7D%0A%20%20%20%20%20%20%20%20%7D%0A%0A%20%20%20%20%20%20%20%20function%20geo_json_7d7fb958512147edb490d82348fb5573_onEachFeature%28feature%2C%20layer%29%20%7B%0A%20%20%20%20%20%20%20%20%20%20%20%20layer.on%28%7B%0A%20%20%20%20%20%20%20%20%20%20%20%20%7D%29%3B%0A%20%20%20%20%20%20%20%20%7D%3B%0A%20%20%20%20%20%20%20%20var%20geo_json_7d7fb958512147edb490d82348fb5573%20%3D%20L.geoJson%28null%2C%20%7B%0A%20%20%20%20%20%20%20%20%20%20%20%20%20%20%20%20onEachFeature%3A%20geo_json_7d7fb958512147edb490d82348fb5573_onEachFeature%2C%0A%20%20%20%20%20%20%20%20%20%20%20%20%0A%20%20%20%20%20%20%20%20%20%20%20%20%20%20%20%20style%3A%20geo_json_7d7fb958512147edb490d82348fb5573_styler%2C%0A%20%20%20%20%20%20%20%20%7D%29%3B%0A%0A%20%20%20%20%20%20%20%20function%20geo_json_7d7fb958512147edb490d82348fb5573_add%20%28data%29%20%7B%0A%20%20%20%20%20%20%20%20%20%20%20%20geo_json_7d7fb958512147edb490d82348fb5573%0A%20%20%20%20%20%20%20%20%20%20%20%20%20%20%20%20.addData%28data%29%0A%20%20%20%20%20%20%20%20%20%20%20%20%20%20%20%20.addTo%28map_00b4a9a43dbb4e13b22179f670065c95%29%3B%0A%20%20%20%20%20%20%20%20%7D%0A%20%20%20%20%20%20%20%20%20%20%20%20geo_json_7d7fb958512147edb490d82348fb5573_add%28%7B%22features%22%3A%20%5B%7B%22geometry%22%3A%20%7B%22coordinates%22%3A%20%5B%5B-73.883958%2C%2040.747615%5D%2C%20%5B-73.817825%2C%2040.764876%5D%2C%20%5B-73.802569%2C%2040.707381%5D%2C%20%5B-73.802707%2C%2040.706475%5D%2C%20%5B-74.00094%2C%2040.717929%5D%2C%20%5B-73.999524%2C%2040.720288%5D%2C%20%5B-73.817825%2C%2040.764876%5D%2C%20%5B-73.82964%2C%2040.758115%5D%2C%20%5B-73.802569%2C%2040.707381%5D%2C%20%5B-73.997324%2C%2040.715908%5D%2C%20%5B-73.998639%2C%2040.716546%5D%2C%20%5B-73.998868%2C%2040.716452%5D%2C%20%5B-73.980412%2C%2040.605028%5D%2C%20%5B-73.984814%2C%2040.605863%5D%2C%20%5B-73.831531%2C%2040.758347%5D%2C%20%5B-73.83085%2C%2040.78293%5D%2C%20%5B-73.833447%2C%2040.783222%5D%2C%20%5B-73.82964%2C%2040.758115%5D%2C%20%5B-73.829124%2C%2040.763963%5D%2C%20%5B-73.828082%2C%2040.764123%5D%2C%20%5B-73.802707%2C%2040.706475%5D%2C%20%5B-73.828303%2C%2040.757851%5D%2C%20%5B-73.827476%2C%2040.757493%5D%2C%20%5B-73.830641%2C%2040.760812%5D%2C%20%5B-73.802707%2C%2040.706475%5D%2C%20%5B-73.802569%2C%2040.707381%5D%2C%20%5B-73.830204%2C%2040.76007%5D%2C%20%5B-73.829124%2C%2040.763963%5D%2C%20%5B-73.802707%2C%2040.706475%5D%2C%20%5B-73.828027%2C%2040.757822%5D%2C%20%5B-73.828082%2C%2040.764123%5D%2C%20%5B-73.802707%2C%2040.706475%5D%2C%20%5B-73.802569%2C%2040.707381%5D%2C%20%5B-73.829124%2C%2040.763963%5D%5D%2C%20%22type%22%3A%20%22LineString%22%7D%2C%20%22id%22%3A%20%220%22%2C%20%22type%22%3A%20%22Feature%22%7D%5D%2C%20%22type%22%3A%20%22FeatureCollection%22%7D%29%3B%0A%0A%20%20%20%20%20%20%20%20%0A%20%20%20%20%0A%20%20%20%20%20%20%20%20function%20geo_json_fa88f00f21784af2b8bb1001c868287d_styler%28feature%29%20%7B%0A%20%20%20%20%20%20%20%20%20%20%20%20switch%28feature.id%29%20%7B%0A%20%20%20%20%20%20%20%20%20%20%20%20%20%20%20%20default%3A%0A%20%20%20%20%20%20%20%20%20%20%20%20%20%20%20%20%20%20%20%20return%20%7B%22color%22%3A%20%22%23009FFA%22%2C%20%22dashArray%22%3A%20%220%2C%200%22%2C%20%22opacity%22%3A%200.75%2C%20%22weight%22%3A%202%7D%3B%0A%20%20%20%20%20%20%20%20%20%20%20%20%7D%0A%20%20%20%20%20%20%20%20%7D%0A%0A%20%20%20%20%20%20%20%20function%20geo_json_fa88f00f21784af2b8bb1001c868287d_onEachFeature%28feature%2C%20layer%29%20%7B%0A%20%20%20%20%20%20%20%20%20%20%20%20layer.on%28%7B%0A%20%20%20%20%20%20%20%20%20%20%20%20%7D%29%3B%0A%20%20%20%20%20%20%20%20%7D%3B%0A%20%20%20%20%20%20%20%20var%20geo_json_fa88f00f21784af2b8bb1001c868287d%20%3D%20L.geoJson%28null%2C%20%7B%0A%20%20%20%20%20%20%20%20%20%20%20%20%20%20%20%20onEachFeature%3A%20geo_json_fa88f00f21784af2b8bb1001c868287d_onEachFeature%2C%0A%20%20%20%20%20%20%20%20%20%20%20%20%0A%20%20%20%20%20%20%20%20%20%20%20%20%20%20%20%20style%3A%20geo_json_fa88f00f21784af2b8bb1001c868287d_styler%2C%0A%20%20%20%20%20%20%20%20%7D%29%3B%0A%0A%20%20%20%20%20%20%20%20function%20geo_json_fa88f00f21784af2b8bb1001c868287d_add%20%28data%29%20%7B%0A%20%20%20%20%20%20%20%20%20%20%20%20geo_json_fa88f00f21784af2b8bb1001c868287d%0A%20%20%20%20%20%20%20%20%20%20%20%20%20%20%20%20.addData%28data%29%0A%20%20%20%20%20%20%20%20%20%20%20%20%20%20%20%20.addTo%28map_00b4a9a43dbb4e13b22179f670065c95%29%3B%0A%20%20%20%20%20%20%20%20%7D%0A%20%20%20%20%20%20%20%20%20%20%20%20geo_json_fa88f00f21784af2b8bb1001c868287d_add%28%7B%22features%22%3A%20%5B%7B%22geometry%22%3A%20%7B%22coordinates%22%3A%20%5B%5B-73.987924%2C%2040.742188%5D%2C%20%5B-73.987924%2C%2040.742188%5D%2C%20%5B-73.993703%2C%2040.734225%5D%2C%20%5B-73.987924%2C%2040.742188%5D%2C%20%5B-73.989434%2C%2040.741862%5D%2C%20%5B-73.987924%2C%2040.742188%5D%2C%20%5B-73.987924%2C%2040.742188%5D%2C%20%5B-73.989279%2C%2040.736549%5D%2C%20%5B-73.987924%2C%2040.742188%5D%2C%20%5B-73.988682%2C%2040.740337%5D%2C%20%5B-73.988438%2C%2040.741408%5D%2C%20%5B-73.987924%2C%2040.742188%5D%2C%20%5B-73.987924%2C%2040.742188%5D%2C%20%5B-73.987924%2C%2040.742188%5D%2C%20%5B-73.987924%2C%2040.742188%5D%2C%20%5B-73.996378%2C%2040.725191%5D%2C%20%5B-73.997307%2C%2040.725769%5D%2C%20%5B-73.988438%2C%2040.741408%5D%2C%20%5B-73.987924%2C%2040.742188%5D%2C%20%5B-73.987924%2C%2040.742188%5D%2C%20%5B-73.987924%2C%2040.742188%5D%2C%20%5B-73.984527%2C%2040.756725%5D%2C%20%5B-73.983861%2C%2040.756693%5D%2C%20%5B-73.987924%2C%2040.742188%5D%2C%20%5B-73.985611%2C%2040.746963%5D%2C%20%5B-73.987924%2C%2040.742188%5D%2C%20%5B-73.987924%2C%2040.742188%5D%5D%2C%20%22type%22%3A%20%22LineString%22%7D%2C%20%22id%22%3A%20%220%22%2C%20%22type%22%3A%20%22Feature%22%7D%5D%2C%20%22type%22%3A%20%22FeatureCollection%22%7D%29%3B%0A%0A%20%20%20%20%20%20%20%20%0A%20%20%20%20%0A%20%20%20%20%20%20%20%20function%20geo_json_71db7a20005c4e91bc85af280da4d646_styler%28feature%29%20%7B%0A%20%20%20%20%20%20%20%20%20%20%20%20switch%28feature.id%29%20%7B%0A%20%20%20%20%20%20%20%20%20%20%20%20%20%20%20%20default%3A%0A%20%20%20%20%20%20%20%20%20%20%20%20%20%20%20%20%20%20%20%20return%20%7B%22color%22%3A%20%22%239400E6%22%2C%20%22dashArray%22%3A%20%220%2C%200%22%2C%20%22opacity%22%3A%200.75%2C%20%22weight%22%3A%202%7D%3B%0A%20%20%20%20%20%20%20%20%20%20%20%20%7D%0A%20%20%20%20%20%20%20%20%7D%0A%0A%20%20%20%20%20%20%20%20function%20geo_json_71db7a20005c4e91bc85af280da4d646_onEachFeature%28feature%2C%20layer%29%20%7B%0A%20%20%20%20%20%20%20%20%20%20%20%20layer.on%28%7B%0A%20%20%20%20%20%20%20%20%20%20%20%20%7D%29%3B%0A%20%20%20%20%20%20%20%20%7D%3B%0A%20%20%20%20%20%20%20%20var%20geo_json_71db7a20005c4e91bc85af280da4d646%20%3D%20L.geoJson%28null%2C%20%7B%0A%20%20%20%20%20%20%20%20%20%20%20%20%20%20%20%20onEachFeature%3A%20geo_json_71db7a20005c4e91bc85af280da4d646_onEachFeature%2C%0A%20%20%20%20%20%20%20%20%20%20%20%20%0A%20%20%20%20%20%20%20%20%20%20%20%20%20%20%20%20style%3A%20geo_json_71db7a20005c4e91bc85af280da4d646_styler%2C%0A%20%20%20%20%20%20%20%20%7D%29%3B%0A%0A%20%20%20%20%20%20%20%20function%20geo_json_71db7a20005c4e91bc85af280da4d646_add%20%28data%29%20%7B%0A%20%20%20%20%20%20%20%20%20%20%20%20geo_json_71db7a20005c4e91bc85af280da4d646%0A%20%20%20%20%20%20%20%20%20%20%20%20%20%20%20%20.addData%28data%29%0A%20%20%20%20%20%20%20%20%20%20%20%20%20%20%20%20.addTo%28map_00b4a9a43dbb4e13b22179f670065c95%29%3B%0A%20%20%20%20%20%20%20%20%7D%0A%20%20%20%20%20%20%20%20%20%20%20%20geo_json_71db7a20005c4e91bc85af280da4d646_add%28%7B%22features%22%3A%20%5B%7B%22geometry%22%3A%20%7B%22coordinates%22%3A%20%5B%5B-73.985359%2C%2040.732558%5D%2C%20%5B-74.000395%2C%2040.726289%5D%2C%20%5B-73.985359%2C%2040.732558%5D%2C%20%5B-74.00887%2C%2040.71582%5D%2C%20%5B-73.972728%2C%2040.794197%5D%2C%20%5B-73.999207%2C%2040.760725%5D%2C%20%5B-74.000633%2C%2040.762539%5D%2C%20%5B-74.000633%2C%2040.762539%5D%2C%20%5B-74.000395%2C%2040.726289%5D%2C%20%5B-73.985359%2C%2040.732558%5D%2C%20%5B-73.96687%2C%2040.780866%5D%2C%20%5B-73.952879%2C%2040.723638%5D%2C%20%5B-73.997614%2C%2040.721449%5D%2C%20%5B-74.002742%2C%2040.724438%5D%2C%20%5B-73.985359%2C%2040.732558%5D%2C%20%5B-74.000633%2C%2040.762539%5D%2C%20%5B-73.99538%2C%2040.722925%5D%2C%20%5B-73.999103%2C%2040.760803%5D%2C%20%5B-73.989554%2C%2040.756113%5D%2C%20%5B-73.981577%2C%2040.772012%5D%2C%20%5B-73.972834%2C%2040.785679%5D%5D%2C%20%22type%22%3A%20%22LineString%22%7D%2C%20%22id%22%3A%20%220%22%2C%20%22type%22%3A%20%22Feature%22%7D%5D%2C%20%22type%22%3A%20%22FeatureCollection%22%7D%29%3B%0A%0A%20%20%20%20%20%20%20%20%0A%20%20%20%20%0A%20%20%20%20%20%20%20%20function%20geo_json_133517c8fe104b0b8431052f00a3de2e_styler%28feature%29%20%7B%0A%20%20%20%20%20%20%20%20%20%20%20%20switch%28feature.id%29%20%7B%0A%20%20%20%20%20%20%20%20%20%20%20%20%20%20%20%20default%3A%0A%20%20%20%20%20%20%20%20%20%20%20%20%20%20%20%20%20%20%20%20return%20%7B%22color%22%3A%20%22%239400E6%22%2C%20%22dashArray%22%3A%20%220%2C%200%22%2C%20%22opacity%22%3A%200.75%2C%20%22weight%22%3A%202%7D%3B%0A%20%20%20%20%20%20%20%20%20%20%20%20%7D%0A%20%20%20%20%20%20%20%20%7D%0A%0A%20%20%20%20%20%20%20%20function%20geo_json_133517c8fe104b0b8431052f00a3de2e_onEachFeature%28feature%2C%20layer%29%20%7B%0A%20%20%20%20%20%20%20%20%20%20%20%20layer.on%28%7B%0A%20%20%20%20%20%20%20%20%20%20%20%20%7D%29%3B%0A%20%20%20%20%20%20%20%20%7D%3B%0A%20%20%20%20%20%20%20%20var%20geo_json_133517c8fe104b0b8431052f00a3de2e%20%3D%20L.geoJson%28null%2C%20%7B%0A%20%20%20%20%20%20%20%20%20%20%20%20%20%20%20%20onEachFeature%3A%20geo_json_133517c8fe104b0b8431052f00a3de2e_onEachFeature%2C%0A%20%20%20%20%20%20%20%20%20%20%20%20%0A%20%20%20%20%20%20%20%20%20%20%20%20%20%20%20%20style%3A%20geo_json_133517c8fe104b0b8431052f00a3de2e_styler%2C%0A%20%20%20%20%20%20%20%20%7D%29%3B%0A%0A%20%20%20%20%20%20%20%20function%20geo_json_133517c8fe104b0b8431052f00a3de2e_add%20%28data%29%20%7B%0A%20%20%20%20%20%20%20%20%20%20%20%20geo_json_133517c8fe104b0b8431052f00a3de2e%0A%20%20%20%20%20%20%20%20%20%20%20%20%20%20%20%20.addData%28data%29%0A%20%20%20%20%20%20%20%20%20%20%20%20%20%20%20%20.addTo%28map_00b4a9a43dbb4e13b22179f670065c95%29%3B%0A%20%20%20%20%20%20%20%20%7D%0A%20%20%20%20%20%20%20%20%20%20%20%20geo_json_133517c8fe104b0b8431052f00a3de2e_add%28%7B%22features%22%3A%20%5B%7B%22geometry%22%3A%20%7B%22coordinates%22%3A%20%5B%5B-73.982621%2C%2040.831104%5D%2C%20%5B-73.98888%2C%2040.829984%5D%2C%20%5B-73.976021%2C%2040.823052%5D%2C%20%5B-74.033182%2C%2040.85413%5D%2C%20%5B-74.033182%2C%2040.85413%5D%2C%20%5B-74.04356%2C%2040.855176%5D%2C%20%5B-74.033182%2C%2040.85413%5D%2C%20%5B-73.995838%2C%2040.826475%5D%2C%20%5B-73.976021%2C%2040.823052%5D%2C%20%5B-74.033182%2C%2040.85413%5D%2C%20%5B-73.974506%2C%2040.853284%5D%2C%20%5B-73.968415%2C%2040.90401%5D%2C%20%5B-73.968415%2C%2040.90401%5D%2C%20%5B-73.977066%2C%2040.81825%5D%2C%20%5B-73.973789%2C%2040.824584%5D%2C%20%5B-74.191425%2C%2040.739193%5D%2C%20%5B-73.974506%2C%2040.853284%5D%5D%2C%20%22type%22%3A%20%22LineString%22%7D%2C%20%22id%22%3A%20%220%22%2C%20%22type%22%3A%20%22Feature%22%7D%5D%2C%20%22type%22%3A%20%22FeatureCollection%22%7D%29%3B%0A%0A%20%20%20%20%20%20%20%20%0A%20%20%20%20%0A%20%20%20%20%20%20%20%20function%20geo_json_00f461e1fdbd4fb7b23142a3bd04b88a_styler%28feature%29%20%7B%0A%20%20%20%20%20%20%20%20%20%20%20%20switch%28feature.id%29%20%7B%0A%20%20%20%20%20%20%20%20%20%20%20%20%20%20%20%20default%3A%0A%20%20%20%20%20%20%20%20%20%20%20%20%20%20%20%20%20%20%20%20return%20%7B%22color%22%3A%20%22%23FF71FD%22%2C%20%22dashArray%22%3A%20%220%2C%200%22%2C%20%22opacity%22%3A%200.75%2C%20%22weight%22%3A%202%7D%3B%0A%20%20%20%20%20%20%20%20%20%20%20%20%7D%0A%20%20%20%20%20%20%20%20%7D%0A%0A%20%20%20%20%20%20%20%20function%20geo_json_00f461e1fdbd4fb7b23142a3bd04b88a_onEachFeature%28feature%2C%20layer%29%20%7B%0A%20%20%20%20%20%20%20%20%20%20%20%20layer.on%28%7B%0A%20%20%20%20%20%20%20%20%20%20%20%20%7D%29%3B%0A%20%20%20%20%20%20%20%20%7D%3B%0A%20%20%20%20%20%20%20%20var%20geo_json_00f461e1fdbd4fb7b23142a3bd04b88a%20%3D%20L.geoJson%28null%2C%20%7B%0A%20%20%20%20%20%20%20%20%20%20%20%20%20%20%20%20onEachFeature%3A%20geo_json_00f461e1fdbd4fb7b23142a3bd04b88a_onEachFeature%2C%0A%20%20%20%20%20%20%20%20%20%20%20%20%0A%20%20%20%20%20%20%20%20%20%20%20%20%20%20%20%20style%3A%20geo_json_00f461e1fdbd4fb7b23142a3bd04b88a_styler%2C%0A%20%20%20%20%20%20%20%20%7D%29%3B%0A%0A%20%20%20%20%20%20%20%20function%20geo_json_00f461e1fdbd4fb7b23142a3bd04b88a_add%20%28data%29%20%7B%0A%20%20%20%20%20%20%20%20%20%20%20%20geo_json_00f461e1fdbd4fb7b23142a3bd04b88a%0A%20%20%20%20%20%20%20%20%20%20%20%20%20%20%20%20.addData%28data%29%0A%20%20%20%20%20%20%20%20%20%20%20%20%20%20%20%20.addTo%28map_00b4a9a43dbb4e13b22179f670065c95%29%3B%0A%20%20%20%20%20%20%20%20%7D%0A%20%20%20%20%20%20%20%20%20%20%20%20geo_json_00f461e1fdbd4fb7b23142a3bd04b88a_add%28%7B%22features%22%3A%20%5B%7B%22geometry%22%3A%20%7B%22coordinates%22%3A%20%5B%5B-74.154764%2C%2040.878162%5D%2C%20%5B-74.134207%2C%2040.919833%5D%2C%20%5B-74.123379%2C%2040.919899%5D%2C%20%5B-74.134207%2C%2040.919833%5D%2C%20%5B-74.042827%2C%2040.720013%5D%2C%20%5B-73.996406%2C%2040.744279%5D%2C%20%5B-73.988504%2C%2040.723067%5D%2C%20%5B-73.97613%2C%2040.744465%5D%2C%20%5B-74.042702%2C%2040.719485%5D%2C%20%5B-74.134207%2C%2040.919833%5D%2C%20%5B-74.147705%2C%2040.880745%5D%2C%20%5B-74.134207%2C%2040.919833%5D%2C%20%5B-74.147705%2C%2040.880745%5D%2C%20%5B-74.154764%2C%2040.878162%5D%2C%20%5B-74.158981%2C%2040.878283%5D%5D%2C%20%22type%22%3A%20%22LineString%22%7D%2C%20%22id%22%3A%20%220%22%2C%20%22type%22%3A%20%22Feature%22%7D%5D%2C%20%22type%22%3A%20%22FeatureCollection%22%7D%29%3B%0A%0A%20%20%20%20%20%20%20%20%0A%20%20%20%20%0A%20%20%20%20%20%20%20%20function%20geo_json_e83789c370ae4bf8bd7c39681fd54822_styler%28feature%29%20%7B%0A%20%20%20%20%20%20%20%20%20%20%20%20switch%28feature.id%29%20%7B%0A%20%20%20%20%20%20%20%20%20%20%20%20%20%20%20%20default%3A%0A%20%20%20%20%20%20%20%20%20%20%20%20%20%20%20%20%20%20%20%20return%20%7B%22color%22%3A%20%22%23008169%22%2C%20%22dashArray%22%3A%20%220%2C%200%22%2C%20%22opacity%22%3A%200.75%2C%20%22weight%22%3A%202%7D%3B%0A%20%20%20%20%20%20%20%20%20%20%20%20%7D%0A%20%20%20%20%20%20%20%20%7D%0A%0A%20%20%20%20%20%20%20%20function%20geo_json_e83789c370ae4bf8bd7c39681fd54822_onEachFeature%28feature%2C%20layer%29%20%7B%0A%20%20%20%20%20%20%20%20%20%20%20%20layer.on%28%7B%0A%20%20%20%20%20%20%20%20%20%20%20%20%7D%29%3B%0A%20%20%20%20%20%20%20%20%7D%3B%0A%20%20%20%20%20%20%20%20var%20geo_json_e83789c370ae4bf8bd7c39681fd54822%20%3D%20L.geoJson%28null%2C%20%7B%0A%20%20%20%20%20%20%20%20%20%20%20%20%20%20%20%20onEachFeature%3A%20geo_json_e83789c370ae4bf8bd7c39681fd54822_onEachFeature%2C%0A%20%20%20%20%20%20%20%20%20%20%20%20%0A%20%20%20%20%20%20%20%20%20%20%20%20%20%20%20%20style%3A%20geo_json_e83789c370ae4bf8bd7c39681fd54822_styler%2C%0A%20%20%20%20%20%20%20%20%7D%29%3B%0A%0A%20%20%20%20%20%20%20%20function%20geo_json_e83789c370ae4bf8bd7c39681fd54822_add%20%28data%29%20%7B%0A%20%20%20%20%20%20%20%20%20%20%20%20geo_json_e83789c370ae4bf8bd7c39681fd54822%0A%20%20%20%20%20%20%20%20%20%20%20%20%20%20%20%20.addData%28data%29%0A%20%20%20%20%20%20%20%20%20%20%20%20%20%20%20%20.addTo%28map_00b4a9a43dbb4e13b22179f670065c95%29%3B%0A%20%20%20%20%20%20%20%20%7D%0A%20%20%20%20%20%20%20%20%20%20%20%20geo_json_e83789c370ae4bf8bd7c39681fd54822_add%28%7B%22features%22%3A%20%5B%7B%22geometry%22%3A%20%7B%22coordinates%22%3A%20%5B%5B-74.030189%2C%2040.746386%5D%2C%20%5B-74.035185%2C%2040.77487%5D%2C%20%5B-74.029367%2C%2040.771637%5D%2C%20%5B-74.027777%2C%2040.770021%5D%2C%20%5B-74.02654%2C%2040.770374%5D%2C%20%5B-74.024137%2C%2040.746107%5D%2C%20%5B-74.025006%2C%2040.752707%5D%2C%20%5B-74.026171%2C%2040.753109%5D%2C%20%5B-74.02654%2C%2040.770374%5D%2C%20%5B-74.024137%2C%2040.755989%5D%2C%20%5B-74.029286%2C%2040.770236%5D%2C%20%5B-74.035264%2C%2040.776012%5D%2C%20%5B-74.030387%2C%2040.738717%5D%2C%20%5B-74.033418%2C%2040.737125%5D%2C%20%5B-74.029137%2C%2040.736687%5D%2C%20%5B-74.030922%2C%2040.737501%5D%2C%20%5B-74.030922%2C%2040.737501%5D%2C%20%5B-74.030061%2C%2040.740222%5D%2C%20%5B-74.024868%2C%2040.77386%5D%2C%20%5B-73.985563%2C%2040.748281%5D%2C%20%5B-73.99302%2C%2040.747648%5D%2C%20%5B-74.029681%2C%2040.741423%5D%2C%20%5B-74.029681%2C%2040.741423%5D%2C%20%5B-74.030427%2C%2040.739174%5D%2C%20%5B-74.02991%2C%2040.740553%5D%2C%20%5B-74.030922%2C%2040.737501%5D%2C%20%5B-73.99302%2C%2040.747648%5D%5D%2C%20%22type%22%3A%20%22LineString%22%7D%2C%20%22id%22%3A%20%220%22%2C%20%22type%22%3A%20%22Feature%22%7D%5D%2C%20%22type%22%3A%20%22FeatureCollection%22%7D%29%3B%0A%0A%20%20%20%20%20%20%20%20%0A%20%20%20%20%0A%20%20%20%20%20%20%20%20function%20geo_json_653f432a429c4ac1a010314032ac3301_styler%28feature%29%20%7B%0A%20%20%20%20%20%20%20%20%20%20%20%20switch%28feature.id%29%20%7B%0A%20%20%20%20%20%20%20%20%20%20%20%20%20%20%20%20default%3A%0A%20%20%20%20%20%20%20%20%20%20%20%20%20%20%20%20%20%20%20%20return%20%7B%22color%22%3A%20%22%23FF71FD%22%2C%20%22dashArray%22%3A%20%220%2C%200%22%2C%20%22opacity%22%3A%200.75%2C%20%22weight%22%3A%202%7D%3B%0A%20%20%20%20%20%20%20%20%20%20%20%20%7D%0A%20%20%20%20%20%20%20%20%7D%0A%0A%20%20%20%20%20%20%20%20function%20geo_json_653f432a429c4ac1a010314032ac3301_onEachFeature%28feature%2C%20layer%29%20%7B%0A%20%20%20%20%20%20%20%20%20%20%20%20layer.on%28%7B%0A%20%20%20%20%20%20%20%20%20%20%20%20%7D%29%3B%0A%20%20%20%20%20%20%20%20%7D%3B%0A%20%20%20%20%20%20%20%20var%20geo_json_653f432a429c4ac1a010314032ac3301%20%3D%20L.geoJson%28null%2C%20%7B%0A%20%20%20%20%20%20%20%20%20%20%20%20%20%20%20%20onEachFeature%3A%20geo_json_653f432a429c4ac1a010314032ac3301_onEachFeature%2C%0A%20%20%20%20%20%20%20%20%20%20%20%20%0A%20%20%20%20%20%20%20%20%20%20%20%20%20%20%20%20style%3A%20geo_json_653f432a429c4ac1a010314032ac3301_styler%2C%0A%20%20%20%20%20%20%20%20%7D%29%3B%0A%0A%20%20%20%20%20%20%20%20function%20geo_json_653f432a429c4ac1a010314032ac3301_add%20%28data%29%20%7B%0A%20%20%20%20%20%20%20%20%20%20%20%20geo_json_653f432a429c4ac1a010314032ac3301%0A%20%20%20%20%20%20%20%20%20%20%20%20%20%20%20%20.addData%28data%29%0A%20%20%20%20%20%20%20%20%20%20%20%20%20%20%20%20.addTo%28map_00b4a9a43dbb4e13b22179f670065c95%29%3B%0A%20%20%20%20%20%20%20%20%7D%0A%20%20%20%20%20%20%20%20%20%20%20%20geo_json_653f432a429c4ac1a010314032ac3301_add%28%7B%22features%22%3A%20%5B%7B%22geometry%22%3A%20%7B%22coordinates%22%3A%20%5B%5B-73.985273%2C%2040.737523%5D%2C%20%5B-73.990122%2C%2040.619196%5D%2C%20%5B-73.967318%2C%2040.673543%5D%2C%20%5B-73.985324%2C%2040.596945%5D%2C%20%5B-73.990122%2C%2040.619196%5D%2C%20%5B-73.810405%2C%2040.733176%5D%5D%2C%20%22type%22%3A%20%22LineString%22%7D%2C%20%22id%22%3A%20%220%22%2C%20%22type%22%3A%20%22Feature%22%7D%5D%2C%20%22type%22%3A%20%22FeatureCollection%22%7D%29%3B%0A%0A%20%20%20%20%20%20%20%20%0A%20%20%20%20%0A%20%20%20%20%20%20%20%20function%20geo_json_5622650c3c134d248122df099fb8d1ac_styler%28feature%29%20%7B%0A%20%20%20%20%20%20%20%20%20%20%20%20switch%28feature.id%29%20%7B%0A%20%20%20%20%20%20%20%20%20%20%20%20%20%20%20%20default%3A%0A%20%20%20%20%20%20%20%20%20%20%20%20%20%20%20%20%20%20%20%20return%20%7B%22color%22%3A%20%22%2368023F%22%2C%20%22dashArray%22%3A%20%220%2C%200%22%2C%20%22opacity%22%3A%200.75%2C%20%22weight%22%3A%202%7D%3B%0A%20%20%20%20%20%20%20%20%20%20%20%20%7D%0A%20%20%20%20%20%20%20%20%7D%0A%0A%20%20%20%20%20%20%20%20function%20geo_json_5622650c3c134d248122df099fb8d1ac_onEachFeature%28feature%2C%20layer%29%20%7B%0A%20%20%20%20%20%20%20%20%20%20%20%20layer.on%28%7B%0A%20%20%20%20%20%20%20%20%20%20%20%20%7D%29%3B%0A%20%20%20%20%20%20%20%20%7D%3B%0A%20%20%20%20%20%20%20%20var%20geo_json_5622650c3c134d248122df099fb8d1ac%20%3D%20L.geoJson%28null%2C%20%7B%0A%20%20%20%20%20%20%20%20%20%20%20%20%20%20%20%20onEachFeature%3A%20geo_json_5622650c3c134d248122df099fb8d1ac_onEachFeature%2C%0A%20%20%20%20%20%20%20%20%20%20%20%20%0A%20%20%20%20%20%20%20%20%20%20%20%20%20%20%20%20style%3A%20geo_json_5622650c3c134d248122df099fb8d1ac_styler%2C%0A%20%20%20%20%20%20%20%20%7D%29%3B%0A%0A%20%20%20%20%20%20%20%20function%20geo_json_5622650c3c134d248122df099fb8d1ac_add%20%28data%29%20%7B%0A%20%20%20%20%20%20%20%20%20%20%20%20geo_json_5622650c3c134d248122df099fb8d1ac%0A%20%20%20%20%20%20%20%20%20%20%20%20%20%20%20%20.addData%28data%29%0A%20%20%20%20%20%20%20%20%20%20%20%20%20%20%20%20.addTo%28map_00b4a9a43dbb4e13b22179f670065c95%29%3B%0A%20%20%20%20%20%20%20%20%7D%0A%20%20%20%20%20%20%20%20%20%20%20%20geo_json_5622650c3c134d248122df099fb8d1ac_add%28%7B%22features%22%3A%20%5B%7B%22geometry%22%3A%20%7B%22coordinates%22%3A%20%5B%5B-74.008566%2C%2040.719943%5D%2C%20%5B-73.962585%2C%2040.759931%5D%2C%20%5B-73.977284%2C%2040.758315%5D%2C%20%5B-73.974466%2C%2040.762272%5D%2C%20%5B-73.962585%2C%2040.759931%5D%2C%20%5B-73.965742%2C%2040.75441%5D%2C%20%5B-73.9719%2C%2040.762539%5D%2C%20%5B-73.962321%2C%2040.759154%5D%2C%20%5B-73.9719%2C%2040.762539%5D%2C%20%5B-73.999814%2C%2040.721803%5D%2C%20%5B-73.999957%2C%2040.721725%5D%5D%2C%20%22type%22%3A%20%22LineString%22%7D%2C%20%22id%22%3A%20%220%22%2C%20%22type%22%3A%20%22Feature%22%7D%5D%2C%20%22type%22%3A%20%22FeatureCollection%22%7D%29%3B%0A%0A%20%20%20%20%20%20%20%20%0A%20%20%20%20%0A%20%20%20%20%20%20%20%20function%20geo_json_f0879873e917455b8d593ce4c70598a1_styler%28feature%29%20%7B%0A%20%20%20%20%20%20%20%20%20%20%20%20switch%28feature.id%29%20%7B%0A%20%20%20%20%20%20%20%20%20%20%20%20%20%20%20%20default%3A%0A%20%20%20%20%20%20%20%20%20%20%20%20%20%20%20%20%20%20%20%20return%20%7B%22color%22%3A%20%22%23FF71FD%22%2C%20%22dashArray%22%3A%20%220%2C%200%22%2C%20%22opacity%22%3A%200.75%2C%20%22weight%22%3A%202%7D%3B%0A%20%20%20%20%20%20%20%20%20%20%20%20%7D%0A%20%20%20%20%20%20%20%20%7D%0A%0A%20%20%20%20%20%20%20%20function%20geo_json_f0879873e917455b8d593ce4c70598a1_onEachFeature%28feature%2C%20layer%29%20%7B%0A%20%20%20%20%20%20%20%20%20%20%20%20layer.on%28%7B%0A%20%20%20%20%20%20%20%20%20%20%20%20%7D%29%3B%0A%20%20%20%20%20%20%20%20%7D%3B%0A%20%20%20%20%20%20%20%20var%20geo_json_f0879873e917455b8d593ce4c70598a1%20%3D%20L.geoJson%28null%2C%20%7B%0A%20%20%20%20%20%20%20%20%20%20%20%20%20%20%20%20onEachFeature%3A%20geo_json_f0879873e917455b8d593ce4c70598a1_onEachFeature%2C%0A%20%20%20%20%20%20%20%20%20%20%20%20%0A%20%20%20%20%20%20%20%20%20%20%20%20%20%20%20%20style%3A%20geo_json_f0879873e917455b8d593ce4c70598a1_styler%2C%0A%20%20%20%20%20%20%20%20%7D%29%3B%0A%0A%20%20%20%20%20%20%20%20function%20geo_json_f0879873e917455b8d593ce4c70598a1_add%20%28data%29%20%7B%0A%20%20%20%20%20%20%20%20%20%20%20%20geo_json_f0879873e917455b8d593ce4c70598a1%0A%20%20%20%20%20%20%20%20%20%20%20%20%20%20%20%20.addData%28data%29%0A%20%20%20%20%20%20%20%20%20%20%20%20%20%20%20%20.addTo%28map_00b4a9a43dbb4e13b22179f670065c95%29%3B%0A%20%20%20%20%20%20%20%20%7D%0A%20%20%20%20%20%20%20%20%20%20%20%20geo_json_f0879873e917455b8d593ce4c70598a1_add%28%7B%22features%22%3A%20%5B%7B%22geometry%22%3A%20%7B%22coordinates%22%3A%20%5B%5B-73.985405%2C%2040.739772%5D%2C%20%5B-73.983639%2C%2040.739023%5D%2C%20%5B-73.96398%2C%2040.732734%5D%2C%20%5B-73.945118%2C%2040.808451%5D%2C%20%5B-73.94186%2C%2040.813431%5D%2C%20%5B-73.945118%2C%2040.808451%5D%2C%20%5B-73.94358%2C%2040.804593%5D%5D%2C%20%22type%22%3A%20%22LineString%22%7D%2C%20%22id%22%3A%20%220%22%2C%20%22type%22%3A%20%22Feature%22%7D%5D%2C%20%22type%22%3A%20%22FeatureCollection%22%7D%29%3B%0A%0A%20%20%20%20%20%20%20%20%0A%20%20%20%20%0A%20%20%20%20%20%20%20%20function%20geo_json_986a45fb20a74f7980a0605062903e40_styler%28feature%29%20%7B%0A%20%20%20%20%20%20%20%20%20%20%20%20switch%28feature.id%29%20%7B%0A%20%20%20%20%20%20%20%20%20%20%20%20%20%20%20%20default%3A%0A%20%20%20%20%20%20%20%20%20%20%20%20%20%20%20%20%20%20%20%20return%20%7B%22color%22%3A%20%22%23008169%22%2C%20%22dashArray%22%3A%20%220%2C%200%22%2C%20%22opacity%22%3A%200.75%2C%20%22weight%22%3A%202%7D%3B%0A%20%20%20%20%20%20%20%20%20%20%20%20%7D%0A%20%20%20%20%20%20%20%20%7D%0A%0A%20%20%20%20%20%20%20%20function%20geo_json_986a45fb20a74f7980a0605062903e40_onEachFeature%28feature%2C%20layer%29%20%7B%0A%20%20%20%20%20%20%20%20%20%20%20%20layer.on%28%7B%0A%20%20%20%20%20%20%20%20%20%20%20%20%7D%29%3B%0A%20%20%20%20%20%20%20%20%7D%3B%0A%20%20%20%20%20%20%20%20var%20geo_json_986a45fb20a74f7980a0605062903e40%20%3D%20L.geoJson%28null%2C%20%7B%0A%20%20%20%20%20%20%20%20%20%20%20%20%20%20%20%20onEachFeature%3A%20geo_json_986a45fb20a74f7980a0605062903e40_onEachFeature%2C%0A%20%20%20%20%20%20%20%20%20%20%20%20%0A%20%20%20%20%20%20%20%20%20%20%20%20%20%20%20%20style%3A%20geo_json_986a45fb20a74f7980a0605062903e40_styler%2C%0A%20%20%20%20%20%20%20%20%7D%29%3B%0A%0A%20%20%20%20%20%20%20%20function%20geo_json_986a45fb20a74f7980a0605062903e40_add%20%28data%29%20%7B%0A%20%20%20%20%20%20%20%20%20%20%20%20geo_json_986a45fb20a74f7980a0605062903e40%0A%20%20%20%20%20%20%20%20%20%20%20%20%20%20%20%20.addData%28data%29%0A%20%20%20%20%20%20%20%20%20%20%20%20%20%20%20%20.addTo%28map_00b4a9a43dbb4e13b22179f670065c95%29%3B%0A%20%20%20%20%20%20%20%20%7D%0A%20%20%20%20%20%20%20%20%20%20%20%20geo_json_986a45fb20a74f7980a0605062903e40_add%28%7B%22features%22%3A%20%5B%7B%22geometry%22%3A%20%7B%22coordinates%22%3A%20%5B%5B-73.97318%2C%2040.798674%5D%2C%20%5B-73.988478%2C%2040.774319%5D%2C%20%5B-73.97318%2C%2040.798674%5D%2C%20%5B-73.97318%2C%2040.798674%5D%2C%20%5B-73.967928%2C%2040.801867%5D%2C%20%5B-73.97318%2C%2040.798674%5D%2C%20%5B-73.97318%2C%2040.798674%5D%2C%20%5B-73.990286%2C%2040.769853%5D%2C%20%5B-73.97318%2C%2040.798674%5D%2C%20%5B-73.990286%2C%2040.769853%5D%2C%20%5B-73.97318%2C%2040.798674%5D%2C%20%5B-73.990286%2C%2040.769853%5D%2C%20%5B-73.988478%2C%2040.774319%5D%5D%2C%20%22type%22%3A%20%22LineString%22%7D%2C%20%22id%22%3A%20%220%22%2C%20%22type%22%3A%20%22Feature%22%7D%5D%2C%20%22type%22%3A%20%22FeatureCollection%22%7D%29%3B%0A%0A%20%20%20%20%20%20%20%20%0A%20%20%20%20%0A%20%20%20%20%20%20%20%20function%20geo_json_b67550c32c7549c2a4be133e73d8987e_styler%28feature%29%20%7B%0A%20%20%20%20%20%20%20%20%20%20%20%20switch%28feature.id%29%20%7B%0A%20%20%20%20%20%20%20%20%20%20%20%20%20%20%20%20default%3A%0A%20%20%20%20%20%20%20%20%20%20%20%20%20%20%20%20%20%20%20%20return%20%7B%22color%22%3A%20%22%23008607%22%2C%20%22dashArray%22%3A%20%220%2C%200%22%2C%20%22opacity%22%3A%200.75%2C%20%22weight%22%3A%202%7D%3B%0A%20%20%20%20%20%20%20%20%20%20%20%20%7D%0A%20%20%20%20%20%20%20%20%7D%0A%0A%20%20%20%20%20%20%20%20function%20geo_json_b67550c32c7549c2a4be133e73d8987e_onEachFeature%28feature%2C%20layer%29%20%7B%0A%20%20%20%20%20%20%20%20%20%20%20%20layer.on%28%7B%0A%20%20%20%20%20%20%20%20%20%20%20%20%7D%29%3B%0A%20%20%20%20%20%20%20%20%7D%3B%0A%20%20%20%20%20%20%20%20var%20geo_json_b67550c32c7549c2a4be133e73d8987e%20%3D%20L.geoJson%28null%2C%20%7B%0A%20%20%20%20%20%20%20%20%20%20%20%20%20%20%20%20onEachFeature%3A%20geo_json_b67550c32c7549c2a4be133e73d8987e_onEachFeature%2C%0A%20%20%20%20%20%20%20%20%20%20%20%20%0A%20%20%20%20%20%20%20%20%20%20%20%20%20%20%20%20style%3A%20geo_json_b67550c32c7549c2a4be133e73d8987e_styler%2C%0A%20%20%20%20%20%20%20%20%7D%29%3B%0A%0A%20%20%20%20%20%20%20%20function%20geo_json_b67550c32c7549c2a4be133e73d8987e_add%20%28data%29%20%7B%0A%20%20%20%20%20%20%20%20%20%20%20%20geo_json_b67550c32c7549c2a4be133e73d8987e%0A%20%20%20%20%20%20%20%20%20%20%20%20%20%20%20%20.addData%28data%29%0A%20%20%20%20%20%20%20%20%20%20%20%20%20%20%20%20.addTo%28map_00b4a9a43dbb4e13b22179f670065c95%29%3B%0A%20%20%20%20%20%20%20%20%7D%0A%20%20%20%20%20%20%20%20%20%20%20%20geo_json_b67550c32c7549c2a4be133e73d8987e_add%28%7B%22features%22%3A%20%5B%7B%22geometry%22%3A%20%7B%22coordinates%22%3A%20%5B%5B-73.94692%2C%2040.888385%5D%2C%20%5B-74.011288%2C%2040.761171%5D%2C%20%5B-73.985152%2C%2040.762032%5D%2C%20%5B-73.988538%2C%2040.744215%5D%2C%20%5B-73.988538%2C%2040.744215%5D%2C%20%5B-74.106378%2C%2040.915636%5D%2C%20%5B-74.068365%2C%2040.889104%5D%2C%20%5B-74.068483%2C%2040.888862%5D%2C%20%5B-74.021454%2C%2040.872853%5D%2C%20%5B-74.106378%2C%2040.915636%5D%2C%20%5B-73.952065%2C%2040.851216%5D%2C%20%5B-73.793514%2C%2040.799817%5D%2C%20%5B-74.108491%2C%2040.913999%5D%2C%20%5B-73.944871%2C%2040.892323%5D%2C%20%5B-74.094631%2C%2040.91398%5D%2C%20%5B-73.944814%2C%2040.892514%5D%2C%20%5B-73.944125%2C%2040.892523%5D%2C%20%5B-74.104253%2C%2040.873003%5D%2C%20%5B-74.106378%2C%2040.915636%5D%2C%20%5B-74.108743%2C%2040.913434%5D%5D%2C%20%22type%22%3A%20%22LineString%22%7D%2C%20%22id%22%3A%20%220%22%2C%20%22type%22%3A%20%22Feature%22%7D%5D%2C%20%22type%22%3A%20%22FeatureCollection%22%7D%29%3B%0A%0A%20%20%20%20%20%20%20%20%0A%20%20%20%20%0A%20%20%20%20%20%20%20%20function%20geo_json_0ddb8872e02f4c9cbed7d1682603f69a_styler%28feature%29%20%7B%0A%20%20%20%20%20%20%20%20%20%20%20%20switch%28feature.id%29%20%7B%0A%20%20%20%20%20%20%20%20%20%20%20%20%20%20%20%20default%3A%0A%20%20%20%20%20%20%20%20%20%20%20%20%20%20%20%20%20%20%20%20return%20%7B%22color%22%3A%20%22%2300E307%22%2C%20%22dashArray%22%3A%20%220%2C%200%22%2C%20%22opacity%22%3A%200.75%2C%20%22weight%22%3A%202%7D%3B%0A%20%20%20%20%20%20%20%20%20%20%20%20%7D%0A%20%20%20%20%20%20%20%20%7D%0A%0A%20%20%20%20%20%20%20%20function%20geo_json_0ddb8872e02f4c9cbed7d1682603f69a_onEachFeature%28feature%2C%20layer%29%20%7B%0A%20%20%20%20%20%20%20%20%20%20%20%20layer.on%28%7B%0A%20%20%20%20%20%20%20%20%20%20%20%20%7D%29%3B%0A%20%20%20%20%20%20%20%20%7D%3B%0A%20%20%20%20%20%20%20%20var%20geo_json_0ddb8872e02f4c9cbed7d1682603f69a%20%3D%20L.geoJson%28null%2C%20%7B%0A%20%20%20%20%20%20%20%20%20%20%20%20%20%20%20%20onEachFeature%3A%20geo_json_0ddb8872e02f4c9cbed7d1682603f69a_onEachFeature%2C%0A%20%20%20%20%20%20%20%20%20%20%20%20%0A%20%20%20%20%20%20%20%20%20%20%20%20%20%20%20%20style%3A%20geo_json_0ddb8872e02f4c9cbed7d1682603f69a_styler%2C%0A%20%20%20%20%20%20%20%20%7D%29%3B%0A%0A%20%20%20%20%20%20%20%20function%20geo_json_0ddb8872e02f4c9cbed7d1682603f69a_add%20%28data%29%20%7B%0A%20%20%20%20%20%20%20%20%20%20%20%20geo_json_0ddb8872e02f4c9cbed7d1682603f69a%0A%20%20%20%20%20%20%20%20%20%20%20%20%20%20%20%20.addData%28data%29%0A%20%20%20%20%20%20%20%20%20%20%20%20%20%20%20%20.addTo%28map_00b4a9a43dbb4e13b22179f670065c95%29%3B%0A%20%20%20%20%20%20%20%20%7D%0A%20%20%20%20%20%20%20%20%20%20%20%20geo_json_0ddb8872e02f4c9cbed7d1682603f69a_add%28%7B%22features%22%3A%20%5B%7B%22geometry%22%3A%20%7B%22coordinates%22%3A%20%5B%5B-73.904555%2C%2040.887145%5D%2C%20%5B-73.906588%2C%2040.887297%5D%2C%20%5B-73.906588%2C%2040.887297%5D%2C%20%5B-73.904555%2C%2040.887145%5D%2C%20%5B-73.973088%2C%2040.763939%5D%5D%2C%20%22type%22%3A%20%22LineString%22%7D%2C%20%22id%22%3A%20%220%22%2C%20%22type%22%3A%20%22Feature%22%7D%5D%2C%20%22type%22%3A%20%22FeatureCollection%22%7D%29%3B%0A%0A%20%20%20%20%20%20%20%20%0A%20%20%20%20%0A%20%20%20%20%20%20%20%20function%20geo_json_9742f302d4c44b65b630ebfaef6434e5_styler%28feature%29%20%7B%0A%20%20%20%20%20%20%20%20%20%20%20%20switch%28feature.id%29%20%7B%0A%20%20%20%20%20%20%20%20%20%20%20%20%20%20%20%20default%3A%0A%20%20%20%20%20%20%20%20%20%20%20%20%20%20%20%20%20%20%20%20return%20%7B%22color%22%3A%20%22%2300E307%22%2C%20%22dashArray%22%3A%20%220%2C%200%22%2C%20%22opacity%22%3A%200.75%2C%20%22weight%22%3A%202%7D%3B%0A%20%20%20%20%20%20%20%20%20%20%20%20%7D%0A%20%20%20%20%20%20%20%20%7D%0A%0A%20%20%20%20%20%20%20%20function%20geo_json_9742f302d4c44b65b630ebfaef6434e5_onEachFeature%28feature%2C%20layer%29%20%7B%0A%20%20%20%20%20%20%20%20%20%20%20%20layer.on%28%7B%0A%20%20%20%20%20%20%20%20%20%20%20%20%7D%29%3B%0A%20%20%20%20%20%20%20%20%7D%3B%0A%20%20%20%20%20%20%20%20var%20geo_json_9742f302d4c44b65b630ebfaef6434e5%20%3D%20L.geoJson%28null%2C%20%7B%0A%20%20%20%20%20%20%20%20%20%20%20%20%20%20%20%20onEachFeature%3A%20geo_json_9742f302d4c44b65b630ebfaef6434e5_onEachFeature%2C%0A%20%20%20%20%20%20%20%20%20%20%20%20%0A%20%20%20%20%20%20%20%20%20%20%20%20%20%20%20%20style%3A%20geo_json_9742f302d4c44b65b630ebfaef6434e5_styler%2C%0A%20%20%20%20%20%20%20%20%7D%29%3B%0A%0A%20%20%20%20%20%20%20%20function%20geo_json_9742f302d4c44b65b630ebfaef6434e5_add%20%28data%29%20%7B%0A%20%20%20%20%20%20%20%20%20%20%20%20geo_json_9742f302d4c44b65b630ebfaef6434e5%0A%20%20%20%20%20%20%20%20%20%20%20%20%20%20%20%20.addData%28data%29%0A%20%20%20%20%20%20%20%20%20%20%20%20%20%20%20%20.addTo%28map_00b4a9a43dbb4e13b22179f670065c95%29%3B%0A%20%20%20%20%20%20%20%20%7D%0A%20%20%20%20%20%20%20%20%20%20%20%20geo_json_9742f302d4c44b65b630ebfaef6434e5_add%28%7B%22features%22%3A%20%5B%7B%22geometry%22%3A%20%7B%22coordinates%22%3A%20%5B%5B-74.212766%2C%2040.712315%5D%2C%20%5B-74.236289%2C%2040.745579%5D%2C%20%5B-73.942363%2C%2040.806618%5D%2C%20%5B-73.942012%2C%2040.80631%5D%2C%20%5B-74.189458%2C%2040.733835%5D%2C%20%5B-73.98777%2C%2040.758132%5D%2C%20%5B-74.223788%2C%2040.751985%5D%2C%20%5B-74.212766%2C%2040.712315%5D%2C%20%5B-74.210844%2C%2040.664298%5D%2C%20%5B-74.218916%2C%2040.66971%5D%5D%2C%20%22type%22%3A%20%22LineString%22%7D%2C%20%22id%22%3A%20%220%22%2C%20%22type%22%3A%20%22Feature%22%7D%5D%2C%20%22type%22%3A%20%22FeatureCollection%22%7D%29%3B%0A%0A%20%20%20%20%20%20%20%20%0A%20%20%20%20%0A%20%20%20%20%20%20%20%20function%20geo_json_1e1f18840795418d90c5c2f177a5bd1b_styler%28feature%29%20%7B%0A%20%20%20%20%20%20%20%20%20%20%20%20switch%28feature.id%29%20%7B%0A%20%20%20%20%20%20%20%20%20%20%20%20%20%20%20%20default%3A%0A%20%20%20%20%20%20%20%20%20%20%20%20%20%20%20%20%20%20%20%20return%20%7B%22color%22%3A%20%22%23009FFA%22%2C%20%22dashArray%22%3A%20%220%2C%200%22%2C%20%22opacity%22%3A%200.75%2C%20%22weight%22%3A%202%7D%3B%0A%20%20%20%20%20%20%20%20%20%20%20%20%7D%0A%20%20%20%20%20%20%20%20%7D%0A%0A%20%20%20%20%20%20%20%20function%20geo_json_1e1f18840795418d90c5c2f177a5bd1b_onEachFeature%28feature%2C%20layer%29%20%7B%0A%20%20%20%20%20%20%20%20%20%20%20%20layer.on%28%7B%0A%20%20%20%20%20%20%20%20%20%20%20%20%7D%29%3B%0A%20%20%20%20%20%20%20%20%7D%3B%0A%20%20%20%20%20%20%20%20var%20geo_json_1e1f18840795418d90c5c2f177a5bd1b%20%3D%20L.geoJson%28null%2C%20%7B%0A%20%20%20%20%20%20%20%20%20%20%20%20%20%20%20%20onEachFeature%3A%20geo_json_1e1f18840795418d90c5c2f177a5bd1b_onEachFeature%2C%0A%20%20%20%20%20%20%20%20%20%20%20%20%0A%20%20%20%20%20%20%20%20%20%20%20%20%20%20%20%20style%3A%20geo_json_1e1f18840795418d90c5c2f177a5bd1b_styler%2C%0A%20%20%20%20%20%20%20%20%7D%29%3B%0A%0A%20%20%20%20%20%20%20%20function%20geo_json_1e1f18840795418d90c5c2f177a5bd1b_add%20%28data%29%20%7B%0A%20%20%20%20%20%20%20%20%20%20%20%20geo_json_1e1f18840795418d90c5c2f177a5bd1b%0A%20%20%20%20%20%20%20%20%20%20%20%20%20%20%20%20.addData%28data%29%0A%20%20%20%20%20%20%20%20%20%20%20%20%20%20%20%20.addTo%28map_00b4a9a43dbb4e13b22179f670065c95%29%3B%0A%20%20%20%20%20%20%20%20%7D%0A%20%20%20%20%20%20%20%20%20%20%20%20geo_json_1e1f18840795418d90c5c2f177a5bd1b_add%28%7B%22features%22%3A%20%5B%7B%22geometry%22%3A%20%7B%22coordinates%22%3A%20%5B%5B-74.005818%2C%2040.736337%5D%2C%20%5B-74.000705%2C%2040.729812%5D%2C%20%5B-73.982234%2C%2040.768224%5D%2C%20%5B-73.987566%2C%2040.748175%5D%2C%20%5B-73.989026%2C%2040.757031%5D%2C%20%5B-73.986076%2C%2040.760724%5D%2C%20%5B-73.981869%2C%2040.768033%5D%2C%20%5B-73.984653%2C%2040.588101%5D%2C%20%5B-74.005818%2C%2040.736337%5D%5D%2C%20%22type%22%3A%20%22LineString%22%7D%2C%20%22id%22%3A%20%220%22%2C%20%22type%22%3A%20%22Feature%22%7D%5D%2C%20%22type%22%3A%20%22FeatureCollection%22%7D%29%3B%0A%0A%20%20%20%20%20%20%20%20%0A%20%20%20%20%0A%20%20%20%20%20%20%20%20function%20geo_json_9f17300f4aaf47b9830713e40d45aacd_styler%28feature%29%20%7B%0A%20%20%20%20%20%20%20%20%20%20%20%20switch%28feature.id%29%20%7B%0A%20%20%20%20%20%20%20%20%20%20%20%20%20%20%20%20default%3A%0A%20%20%20%20%20%20%20%20%20%20%20%20%20%20%20%20%20%20%20%20return%20%7B%22color%22%3A%20%22%2300E307%22%2C%20%22dashArray%22%3A%20%220%2C%200%22%2C%20%22opacity%22%3A%200.75%2C%20%22weight%22%3A%202%7D%3B%0A%20%20%20%20%20%20%20%20%20%20%20%20%7D%0A%20%20%20%20%20%20%20%20%7D%0A%0A%20%20%20%20%20%20%20%20function%20geo_json_9f17300f4aaf47b9830713e40d45aacd_onEachFeature%28feature%2C%20layer%29%20%7B%0A%20%20%20%20%20%20%20%20%20%20%20%20layer.on%28%7B%0A%20%20%20%20%20%20%20%20%20%20%20%20%7D%29%3B%0A%20%20%20%20%20%20%20%20%7D%3B%0A%20%20%20%20%20%20%20%20var%20geo_json_9f17300f4aaf47b9830713e40d45aacd%20%3D%20L.geoJson%28null%2C%20%7B%0A%20%20%20%20%20%20%20%20%20%20%20%20%20%20%20%20onEachFeature%3A%20geo_json_9f17300f4aaf47b9830713e40d45aacd_onEachFeature%2C%0A%20%20%20%20%20%20%20%20%20%20%20%20%0A%20%20%20%20%20%20%20%20%20%20%20%20%20%20%20%20style%3A%20geo_json_9f17300f4aaf47b9830713e40d45aacd_styler%2C%0A%20%20%20%20%20%20%20%20%7D%29%3B%0A%0A%20%20%20%20%20%20%20%20function%20geo_json_9f17300f4aaf47b9830713e40d45aacd_add%20%28data%29%20%7B%0A%20%20%20%20%20%20%20%20%20%20%20%20geo_json_9f17300f4aaf47b9830713e40d45aacd%0A%20%20%20%20%20%20%20%20%20%20%20%20%20%20%20%20.addData%28data%29%0A%20%20%20%20%20%20%20%20%20%20%20%20%20%20%20%20.addTo%28map_00b4a9a43dbb4e13b22179f670065c95%29%3B%0A%20%20%20%20%20%20%20%20%7D%0A%20%20%20%20%20%20%20%20%20%20%20%20geo_json_9f17300f4aaf47b9830713e40d45aacd_add%28%7B%22features%22%3A%20%5B%7B%22geometry%22%3A%20%7B%22coordinates%22%3A%20%5B%5B-74.018206%2C%2040.707294%5D%2C%20%5B-73.926553%2C%2040.828277%5D%2C%20%5B-74.008199%2C%2040.745125%5D%2C%20%5B-74.008624%2C%2040.746326%5D%2C%20%5B-74.012385%2C%2040.704898%5D%2C%20%5B-74.008911%2C%2040.713857%5D%2C%20%5B-74.00957%2C%2040.714899%5D%2C%20%5B-74.016531%2C%2040.713161%5D%2C%20%5B-74.012385%2C%2040.704898%5D%2C%20%5B-74.012385%2C%2040.704898%5D%2C%20%5B-74.011355%2C%2040.705162%5D%2C%20%5B-74.010156%2C%2040.704238%5D%2C%20%5B-74.008624%2C%2040.746326%5D%2C%20%5B-74.002702%2C%2040.750067%5D%2C%20%5B-74.008624%2C%2040.746326%5D%5D%2C%20%22type%22%3A%20%22LineString%22%7D%2C%20%22id%22%3A%20%220%22%2C%20%22type%22%3A%20%22Feature%22%7D%5D%2C%20%22type%22%3A%20%22FeatureCollection%22%7D%29%3B%0A%0A%20%20%20%20%20%20%20%20%0A%20%20%20%20%0A%20%20%20%20%20%20%20%20function%20geo_json_445b67fd8f8d41bd9207cf578cb2aabe_styler%28feature%29%20%7B%0A%20%20%20%20%20%20%20%20%20%20%20%20switch%28feature.id%29%20%7B%0A%20%20%20%20%20%20%20%20%20%20%20%20%20%20%20%20default%3A%0A%20%20%20%20%20%20%20%20%20%20%20%20%20%20%20%20%20%20%20%20return%20%7B%22color%22%3A%20%22%23009FFA%22%2C%20%22dashArray%22%3A%20%220%2C%200%22%2C%20%22opacity%22%3A%200.75%2C%20%22weight%22%3A%202%7D%3B%0A%20%20%20%20%20%20%20%20%20%20%20%20%7D%0A%20%20%20%20%20%20%20%20%7D%0A%0A%20%20%20%20%20%20%20%20function%20geo_json_445b67fd8f8d41bd9207cf578cb2aabe_onEachFeature%28feature%2C%20layer%29%20%7B%0A%20%20%20%20%20%20%20%20%20%20%20%20layer.on%28%7B%0A%20%20%20%20%20%20%20%20%20%20%20%20%7D%29%3B%0A%20%20%20%20%20%20%20%20%7D%3B%0A%20%20%20%20%20%20%20%20var%20geo_json_445b67fd8f8d41bd9207cf578cb2aabe%20%3D%20L.geoJson%28null%2C%20%7B%0A%20%20%20%20%20%20%20%20%20%20%20%20%20%20%20%20onEachFeature%3A%20geo_json_445b67fd8f8d41bd9207cf578cb2aabe_onEachFeature%2C%0A%20%20%20%20%20%20%20%20%20%20%20%20%0A%20%20%20%20%20%20%20%20%20%20%20%20%20%20%20%20style%3A%20geo_json_445b67fd8f8d41bd9207cf578cb2aabe_styler%2C%0A%20%20%20%20%20%20%20%20%7D%29%3B%0A%0A%20%20%20%20%20%20%20%20function%20geo_json_445b67fd8f8d41bd9207cf578cb2aabe_add%20%28data%29%20%7B%0A%20%20%20%20%20%20%20%20%20%20%20%20geo_json_445b67fd8f8d41bd9207cf578cb2aabe%0A%20%20%20%20%20%20%20%20%20%20%20%20%20%20%20%20.addData%28data%29%0A%20%20%20%20%20%20%20%20%20%20%20%20%20%20%20%20.addTo%28map_00b4a9a43dbb4e13b22179f670065c95%29%3B%0A%20%20%20%20%20%20%20%20%7D%0A%20%20%20%20%20%20%20%20%20%20%20%20geo_json_445b67fd8f8d41bd9207cf578cb2aabe_add%28%7B%22features%22%3A%20%5B%7B%22geometry%22%3A%20%7B%22coordinates%22%3A%20%5B%5B-73.963434%2C%2040.765901%5D%2C%20%5B-73.954164%2C%2040.766281%5D%2C%20%5B-73.909793%2C%2040.752459%5D%2C%20%5B-73.909707%2C%2040.752719%5D%2C%20%5B-73.891026%2C%2040.74696%5D%2C%20%5B-73.891026%2C%2040.74696%5D%5D%2C%20%22type%22%3A%20%22LineString%22%7D%2C%20%22id%22%3A%20%220%22%2C%20%22type%22%3A%20%22Feature%22%7D%5D%2C%20%22type%22%3A%20%22FeatureCollection%22%7D%29%3B%0A%0A%20%20%20%20%20%20%20%20%0A%20%20%20%20%0A%20%20%20%20%20%20%20%20function%20geo_json_23d510ccbdb540788c91b929c7e036f2_styler%28feature%29%20%7B%0A%20%20%20%20%20%20%20%20%20%20%20%20switch%28feature.id%29%20%7B%0A%20%20%20%20%20%20%20%20%20%20%20%20%20%20%20%20default%3A%0A%20%20%20%20%20%20%20%20%20%20%20%20%20%20%20%20%20%20%20%20return%20%7B%22color%22%3A%20%22%23FF71FD%22%2C%20%22dashArray%22%3A%20%220%2C%200%22%2C%20%22opacity%22%3A%200.75%2C%20%22weight%22%3A%202%7D%3B%0A%20%20%20%20%20%20%20%20%20%20%20%20%7D%0A%20%20%20%20%20%20%20%20%7D%0A%0A%20%20%20%20%20%20%20%20function%20geo_json_23d510ccbdb540788c91b929c7e036f2_onEachFeature%28feature%2C%20layer%29%20%7B%0A%20%20%20%20%20%20%20%20%20%20%20%20layer.on%28%7B%0A%20%20%20%20%20%20%20%20%20%20%20%20%7D%29%3B%0A%20%20%20%20%20%20%20%20%7D%3B%0A%20%20%20%20%20%20%20%20var%20geo_json_23d510ccbdb540788c91b929c7e036f2%20%3D%20L.geoJson%28null%2C%20%7B%0A%20%20%20%20%20%20%20%20%20%20%20%20%20%20%20%20onEachFeature%3A%20geo_json_23d510ccbdb540788c91b929c7e036f2_onEachFeature%2C%0A%20%20%20%20%20%20%20%20%20%20%20%20%0A%20%20%20%20%20%20%20%20%20%20%20%20%20%20%20%20style%3A%20geo_json_23d510ccbdb540788c91b929c7e036f2_styler%2C%0A%20%20%20%20%20%20%20%20%7D%29%3B%0A%0A%20%20%20%20%20%20%20%20function%20geo_json_23d510ccbdb540788c91b929c7e036f2_add%20%28data%29%20%7B%0A%20%20%20%20%20%20%20%20%20%20%20%20geo_json_23d510ccbdb540788c91b929c7e036f2%0A%20%20%20%20%20%20%20%20%20%20%20%20%20%20%20%20.addData%28data%29%0A%20%20%20%20%20%20%20%20%20%20%20%20%20%20%20%20.addTo%28map_00b4a9a43dbb4e13b22179f670065c95%29%3B%0A%20%20%20%20%20%20%20%20%7D%0A%20%20%20%20%20%20%20%20%20%20%20%20geo_json_23d510ccbdb540788c91b929c7e036f2_add%28%7B%22features%22%3A%20%5B%7B%22geometry%22%3A%20%7B%22coordinates%22%3A%20%5B%5B-73.998575%2C%2040.715537%5D%2C%20%5B-73.977867%2C%2040.749183%5D%2C%20%5B-73.982476%2C%2040.74508%5D%2C%20%5B-73.983115%2C%2040.741349%5D%5D%2C%20%22type%22%3A%20%22LineString%22%7D%2C%20%22id%22%3A%20%220%22%2C%20%22type%22%3A%20%22Feature%22%7D%5D%2C%20%22type%22%3A%20%22FeatureCollection%22%7D%29%3B%0A%0A%20%20%20%20%20%20%20%20%0A%20%20%20%20%0A%20%20%20%20%20%20%20%20function%20geo_json_d2e02fe4a8fe4fdca0cc2c330911d4e9_styler%28feature%29%20%7B%0A%20%20%20%20%20%20%20%20%20%20%20%20switch%28feature.id%29%20%7B%0A%20%20%20%20%20%20%20%20%20%20%20%20%20%20%20%20default%3A%0A%20%20%20%20%20%20%20%20%20%20%20%20%20%20%20%20%20%20%20%20return%20%7B%22color%22%3A%20%22%23008607%22%2C%20%22dashArray%22%3A%20%220%2C%200%22%2C%20%22opacity%22%3A%200.75%2C%20%22weight%22%3A%202%7D%3B%0A%20%20%20%20%20%20%20%20%20%20%20%20%7D%0A%20%20%20%20%20%20%20%20%7D%0A%0A%20%20%20%20%20%20%20%20function%20geo_json_d2e02fe4a8fe4fdca0cc2c330911d4e9_onEachFeature%28feature%2C%20layer%29%20%7B%0A%20%20%20%20%20%20%20%20%20%20%20%20layer.on%28%7B%0A%20%20%20%20%20%20%20%20%20%20%20%20%7D%29%3B%0A%20%20%20%20%20%20%20%20%7D%3B%0A%20%20%20%20%20%20%20%20var%20geo_json_d2e02fe4a8fe4fdca0cc2c330911d4e9%20%3D%20L.geoJson%28null%2C%20%7B%0A%20%20%20%20%20%20%20%20%20%20%20%20%20%20%20%20onEachFeature%3A%20geo_json_d2e02fe4a8fe4fdca0cc2c330911d4e9_onEachFeature%2C%0A%20%20%20%20%20%20%20%20%20%20%20%20%0A%20%20%20%20%20%20%20%20%20%20%20%20%20%20%20%20style%3A%20geo_json_d2e02fe4a8fe4fdca0cc2c330911d4e9_styler%2C%0A%20%20%20%20%20%20%20%20%7D%29%3B%0A%0A%20%20%20%20%20%20%20%20function%20geo_json_d2e02fe4a8fe4fdca0cc2c330911d4e9_add%20%28data%29%20%7B%0A%20%20%20%20%20%20%20%20%20%20%20%20geo_json_d2e02fe4a8fe4fdca0cc2c330911d4e9%0A%20%20%20%20%20%20%20%20%20%20%20%20%20%20%20%20.addData%28data%29%0A%20%20%20%20%20%20%20%20%20%20%20%20%20%20%20%20.addTo%28map_00b4a9a43dbb4e13b22179f670065c95%29%3B%0A%20%20%20%20%20%20%20%20%7D%0A%20%20%20%20%20%20%20%20%20%20%20%20geo_json_d2e02fe4a8fe4fdca0cc2c330911d4e9_add%28%7B%22features%22%3A%20%5B%7B%22geometry%22%3A%20%7B%22coordinates%22%3A%20%5B%5B-73.94186%2C%2040.704774%5D%2C%20%5B-73.94186%2C%2040.704774%5D%2C%20%5B-73.94186%2C%2040.704774%5D%2C%20%5B-73.94186%2C%2040.704774%5D%2C%20%5B-73.94186%2C%2040.704774%5D%2C%20%5B-73.954939%2C%2040.733135%5D%2C%20%5B-73.94186%2C%2040.704774%5D%2C%20%5B-73.957545%2C%2040.71811%5D%2C%20%5B-73.933644%2C%2040.705079%5D%2C%20%5B-73.94186%2C%2040.704774%5D%2C%20%5B-73.94186%2C%2040.704774%5D%2C%20%5B-73.94186%2C%2040.704774%5D%2C%20%5B-73.94186%2C%2040.704774%5D%5D%2C%20%22type%22%3A%20%22LineString%22%7D%2C%20%22id%22%3A%20%220%22%2C%20%22type%22%3A%20%22Feature%22%7D%5D%2C%20%22type%22%3A%20%22FeatureCollection%22%7D%29%3B%0A%0A%20%20%20%20%20%20%20%20%0A%20%20%20%20%0A%20%20%20%20%20%20%20%20function%20geo_json_24d8d7836f04422fb69b3c71b394d843_styler%28feature%29%20%7B%0A%20%20%20%20%20%20%20%20%20%20%20%20switch%28feature.id%29%20%7B%0A%20%20%20%20%20%20%20%20%20%20%20%20%20%20%20%20default%3A%0A%20%20%20%20%20%20%20%20%20%20%20%20%20%20%20%20%20%20%20%20return%20%7B%22color%22%3A%20%22%2300DCB5%22%2C%20%22dashArray%22%3A%20%220%2C%200%22%2C%20%22opacity%22%3A%200.75%2C%20%22weight%22%3A%202%7D%3B%0A%20%20%20%20%20%20%20%20%20%20%20%20%7D%0A%20%20%20%20%20%20%20%20%7D%0A%0A%20%20%20%20%20%20%20%20function%20geo_json_24d8d7836f04422fb69b3c71b394d843_onEachFeature%28feature%2C%20layer%29%20%7B%0A%20%20%20%20%20%20%20%20%20%20%20%20layer.on%28%7B%0A%20%20%20%20%20%20%20%20%20%20%20%20%7D%29%3B%0A%20%20%20%20%20%20%20%20%7D%3B%0A%20%20%20%20%20%20%20%20var%20geo_json_24d8d7836f04422fb69b3c71b394d843%20%3D%20L.geoJson%28null%2C%20%7B%0A%20%20%20%20%20%20%20%20%20%20%20%20%20%20%20%20onEachFeature%3A%20geo_json_24d8d7836f04422fb69b3c71b394d843_onEachFeature%2C%0A%20%20%20%20%20%20%20%20%20%20%20%20%0A%20%20%20%20%20%20%20%20%20%20%20%20%20%20%20%20style%3A%20geo_json_24d8d7836f04422fb69b3c71b394d843_styler%2C%0A%20%20%20%20%20%20%20%20%7D%29%3B%0A%0A%20%20%20%20%20%20%20%20function%20geo_json_24d8d7836f04422fb69b3c71b394d843_add%20%28data%29%20%7B%0A%20%20%20%20%20%20%20%20%20%20%20%20geo_json_24d8d7836f04422fb69b3c71b394d843%0A%20%20%20%20%20%20%20%20%20%20%20%20%20%20%20%20.addData%28data%29%0A%20%20%20%20%20%20%20%20%20%20%20%20%20%20%20%20.addTo%28map_00b4a9a43dbb4e13b22179f670065c95%29%3B%0A%20%20%20%20%20%20%20%20%7D%0A%20%20%20%20%20%20%20%20%20%20%20%20geo_json_24d8d7836f04422fb69b3c71b394d843_add%28%7B%22features%22%3A%20%5B%7B%22geometry%22%3A%20%7B%22coordinates%22%3A%20%5B%5B-73.89483%2C%2040.767237%5D%2C%20%5B-73.922753%2C%2040.755596%5D%2C%20%5B-73.89483%2C%2040.767237%5D%2C%20%5B-73.915114%2C%2040.763966%5D%2C%20%5B-73.989594%2C%2040.699169%5D%2C%20%5B-73.885812%2C%2040.738225%5D%2C%20%5B-73.915114%2C%2040.763966%5D%2C%20%5B-73.89483%2C%2040.767237%5D%2C%20%5B-73.78356%2C%2040.839036%5D%2C%20%5B-73.904421%2C%2040.770135%5D%2C%20%5B-73.94773%2C%2040.751874%5D%2C%20%5B-73.957043%2C%2040.74555%5D%2C%20%5B-73.89483%2C%2040.767237%5D%2C%20%5B-73.989594%2C%2040.699169%5D%2C%20%5B-73.89483%2C%2040.767237%5D%2C%20%5B-73.915114%2C%2040.763966%5D%2C%20%5B-73.89483%2C%2040.767237%5D%2C%20%5B-73.915114%2C%2040.763966%5D%2C%20%5B-73.89483%2C%2040.767237%5D%2C%20%5B-73.989594%2C%2040.699169%5D%2C%20%5B-73.89483%2C%2040.767237%5D%2C%20%5B-73.989594%2C%2040.699169%5D%2C%20%5B-73.89483%2C%2040.767237%5D%5D%2C%20%22type%22%3A%20%22LineString%22%7D%2C%20%22id%22%3A%20%220%22%2C%20%22type%22%3A%20%22Feature%22%7D%5D%2C%20%22type%22%3A%20%22FeatureCollection%22%7D%29%3B%0A%0A%20%20%20%20%20%20%20%20%0A%20%20%20%20%0A%20%20%20%20%20%20%20%20function%20geo_json_f828e8a874634c23a54e236c3752f5f1_styler%28feature%29%20%7B%0A%20%20%20%20%20%20%20%20%20%20%20%20switch%28feature.id%29%20%7B%0A%20%20%20%20%20%20%20%20%20%20%20%20%20%20%20%20default%3A%0A%20%20%20%20%20%20%20%20%20%20%20%20%20%20%20%20%20%20%20%20return%20%7B%22color%22%3A%20%22%23008607%22%2C%20%22dashArray%22%3A%20%220%2C%200%22%2C%20%22opacity%22%3A%200.75%2C%20%22weight%22%3A%202%7D%3B%0A%20%20%20%20%20%20%20%20%20%20%20%20%7D%0A%20%20%20%20%20%20%20%20%7D%0A%0A%20%20%20%20%20%20%20%20function%20geo_json_f828e8a874634c23a54e236c3752f5f1_onEachFeature%28feature%2C%20layer%29%20%7B%0A%20%20%20%20%20%20%20%20%20%20%20%20layer.on%28%7B%0A%20%20%20%20%20%20%20%20%20%20%20%20%7D%29%3B%0A%20%20%20%20%20%20%20%20%7D%3B%0A%20%20%20%20%20%20%20%20var%20geo_json_f828e8a874634c23a54e236c3752f5f1%20%3D%20L.geoJson%28null%2C%20%7B%0A%20%20%20%20%20%20%20%20%20%20%20%20%20%20%20%20onEachFeature%3A%20geo_json_f828e8a874634c23a54e236c3752f5f1_onEachFeature%2C%0A%20%20%20%20%20%20%20%20%20%20%20%20%0A%20%20%20%20%20%20%20%20%20%20%20%20%20%20%20%20style%3A%20geo_json_f828e8a874634c23a54e236c3752f5f1_styler%2C%0A%20%20%20%20%20%20%20%20%7D%29%3B%0A%0A%20%20%20%20%20%20%20%20function%20geo_json_f828e8a874634c23a54e236c3752f5f1_add%20%28data%29%20%7B%0A%20%20%20%20%20%20%20%20%20%20%20%20geo_json_f828e8a874634c23a54e236c3752f5f1%0A%20%20%20%20%20%20%20%20%20%20%20%20%20%20%20%20.addData%28data%29%0A%20%20%20%20%20%20%20%20%20%20%20%20%20%20%20%20.addTo%28map_00b4a9a43dbb4e13b22179f670065c95%29%3B%0A%20%20%20%20%20%20%20%20%7D%0A%20%20%20%20%20%20%20%20%20%20%20%20geo_json_f828e8a874634c23a54e236c3752f5f1_add%28%7B%22features%22%3A%20%5B%7B%22geometry%22%3A%20%7B%22coordinates%22%3A%20%5B%5B-73.973088%2C%2040.763939%5D%2C%20%5B-73.992435%2C%2040.769735%5D%2C%20%5B-73.987815%2C%2040.733665%5D%2C%20%5B-73.965371%2C%2040.668554%5D%2C%20%5B-73.965371%2C%2040.668554%5D%2C%20%5B-73.957687%2C%2040.671275%5D%2C%20%5B-73.957614%2C%2040.713723%5D%2C%20%5B-73.957393%2C%2040.711771%5D%2C%20%5B-73.958004%2C%2040.712598%5D%2C%20%5B-73.965371%2C%2040.668554%5D%2C%20%5B-73.965371%2C%2040.668554%5D%2C%20%5B-73.933794%2C%2040.710768%5D%2C%20%5B-73.998971%2C%2040.72789%5D%2C%20%5B-73.965371%2C%2040.668554%5D%2C%20%5B-73.965371%2C%2040.668554%5D%2C%20%5B-73.973088%2C%2040.763939%5D%2C%20%5B-73.990306%2C%2040.70715%5D%2C%20%5B-73.965371%2C%2040.668554%5D%2C%20%5B-73.965371%2C%2040.668554%5D%2C%20%5B-73.957687%2C%2040.671275%5D%2C%20%5B-73.973088%2C%2040.763939%5D%2C%20%5B-73.965371%2C%2040.668554%5D%2C%20%5B-73.965371%2C%2040.668554%5D%2C%20%5B-73.957687%2C%2040.671275%5D%2C%20%5B-73.973088%2C%2040.763939%5D%2C%20%5B-73.957687%2C%2040.671275%5D%2C%20%5B-73.973088%2C%2040.763939%5D%2C%20%5B-73.970601%2C%2040.764013%5D%2C%20%5B-73.989026%2C%2040.757031%5D%2C%20%5B-73.965371%2C%2040.668554%5D%5D%2C%20%22type%22%3A%20%22LineString%22%7D%2C%20%22id%22%3A%20%220%22%2C%20%22type%22%3A%20%22Feature%22%7D%5D%2C%20%22type%22%3A%20%22FeatureCollection%22%7D%29%3B%0A%0A%20%20%20%20%20%20%20%20%0A%20%20%20%20%0A%20%20%20%20%20%20%20%20function%20geo_json_2556dec54a2c444482cd481272e5fc6a_styler%28feature%29%20%7B%0A%20%20%20%20%20%20%20%20%20%20%20%20switch%28feature.id%29%20%7B%0A%20%20%20%20%20%20%20%20%20%20%20%20%20%20%20%20default%3A%0A%20%20%20%20%20%20%20%20%20%20%20%20%20%20%20%20%20%20%20%20return%20%7B%22color%22%3A%20%22%23009FFA%22%2C%20%22dashArray%22%3A%20%220%2C%200%22%2C%20%22opacity%22%3A%200.75%2C%20%22weight%22%3A%202%7D%3B%0A%20%20%20%20%20%20%20%20%20%20%20%20%7D%0A%20%20%20%20%20%20%20%20%7D%0A%0A%20%20%20%20%20%20%20%20function%20geo_json_2556dec54a2c444482cd481272e5fc6a_onEachFeature%28feature%2C%20layer%29%20%7B%0A%20%20%20%20%20%20%20%20%20%20%20%20layer.on%28%7B%0A%20%20%20%20%20%20%20%20%20%20%20%20%7D%29%3B%0A%20%20%20%20%20%20%20%20%7D%3B%0A%20%20%20%20%20%20%20%20var%20geo_json_2556dec54a2c444482cd481272e5fc6a%20%3D%20L.geoJson%28null%2C%20%7B%0A%20%20%20%20%20%20%20%20%20%20%20%20%20%20%20%20onEachFeature%3A%20geo_json_2556dec54a2c444482cd481272e5fc6a_onEachFeature%2C%0A%20%20%20%20%20%20%20%20%20%20%20%20%0A%20%20%20%20%20%20%20%20%20%20%20%20%20%20%20%20style%3A%20geo_json_2556dec54a2c444482cd481272e5fc6a_styler%2C%0A%20%20%20%20%20%20%20%20%7D%29%3B%0A%0A%20%20%20%20%20%20%20%20function%20geo_json_2556dec54a2c444482cd481272e5fc6a_add%20%28data%29%20%7B%0A%20%20%20%20%20%20%20%20%20%20%20%20geo_json_2556dec54a2c444482cd481272e5fc6a%0A%20%20%20%20%20%20%20%20%20%20%20%20%20%20%20%20.addData%28data%29%0A%20%20%20%20%20%20%20%20%20%20%20%20%20%20%20%20.addTo%28map_00b4a9a43dbb4e13b22179f670065c95%29%3B%0A%20%20%20%20%20%20%20%20%7D%0A%20%20%20%20%20%20%20%20%20%20%20%20geo_json_2556dec54a2c444482cd481272e5fc6a_add%28%7B%22features%22%3A%20%5B%7B%22geometry%22%3A%20%7B%22coordinates%22%3A%20%5B%5B-73.977427%2C%2040.772108%5D%2C%20%5B-74.009152%2C%2040.713236%5D%2C%20%5B-73.977427%2C%2040.772108%5D%2C%20%5B-73.975499%2C%2040.772655%5D%2C%20%5B-73.982059%2C%2040.774693%5D%2C%20%5B-73.925651%2C%2040.827861%5D%2C%20%5B-73.977427%2C%2040.772108%5D%2C%20%5B-73.971498%2C%2040.771085%5D%2C%20%5B-73.991654%2C%2040.776577%5D%2C%20%5B-73.995241%2C%2040.77031%5D%2C%20%5B-74.009152%2C%2040.713236%5D%2C%20%5B-74.032611%2C%2040.713852%5D%2C%20%5B-74.009152%2C%2040.713236%5D%2C%20%5B-73.977427%2C%2040.772108%5D%2C%20%5B-73.970389%2C%2040.753889%5D%2C%20%5B-74.0004%2C%2040.730599%5D%2C%20%5B-74.001573%2C%2040.731198%5D%2C%20%5B-73.982454%2C%2040.777398%5D%5D%2C%20%22type%22%3A%20%22LineString%22%7D%2C%20%22id%22%3A%20%220%22%2C%20%22type%22%3A%20%22Feature%22%7D%5D%2C%20%22type%22%3A%20%22FeatureCollection%22%7D%29%3B%0A%0A%20%20%20%20%20%20%20%20%0A%20%20%20%20%0A%20%20%20%20%20%20%20%20function%20geo_json_0273d751f3ea47b0bbe052453f90ca6c_styler%28feature%29%20%7B%0A%20%20%20%20%20%20%20%20%20%20%20%20switch%28feature.id%29%20%7B%0A%20%20%20%20%20%20%20%20%20%20%20%20%20%20%20%20default%3A%0A%20%20%20%20%20%20%20%20%20%20%20%20%20%20%20%20%20%20%20%20return%20%7B%22color%22%3A%20%22%23003C86%22%2C%20%22dashArray%22%3A%20%220%2C%200%22%2C%20%22opacity%22%3A%200.75%2C%20%22weight%22%3A%202%7D%3B%0A%20%20%20%20%20%20%20%20%20%20%20%20%7D%0A%20%20%20%20%20%20%20%20%7D%0A%0A%20%20%20%20%20%20%20%20function%20geo_json_0273d751f3ea47b0bbe052453f90ca6c_onEachFeature%28feature%2C%20layer%29%20%7B%0A%20%20%20%20%20%20%20%20%20%20%20%20layer.on%28%7B%0A%20%20%20%20%20%20%20%20%20%20%20%20%7D%29%3B%0A%20%20%20%20%20%20%20%20%7D%3B%0A%20%20%20%20%20%20%20%20var%20geo_json_0273d751f3ea47b0bbe052453f90ca6c%20%3D%20L.geoJson%28null%2C%20%7B%0A%20%20%20%20%20%20%20%20%20%20%20%20%20%20%20%20onEachFeature%3A%20geo_json_0273d751f3ea47b0bbe052453f90ca6c_onEachFeature%2C%0A%20%20%20%20%20%20%20%20%20%20%20%20%0A%20%20%20%20%20%20%20%20%20%20%20%20%20%20%20%20style%3A%20geo_json_0273d751f3ea47b0bbe052453f90ca6c_styler%2C%0A%20%20%20%20%20%20%20%20%7D%29%3B%0A%0A%20%20%20%20%20%20%20%20function%20geo_json_0273d751f3ea47b0bbe052453f90ca6c_add%20%28data%29%20%7B%0A%20%20%20%20%20%20%20%20%20%20%20%20geo_json_0273d751f3ea47b0bbe052453f90ca6c%0A%20%20%20%20%20%20%20%20%20%20%20%20%20%20%20%20.addData%28data%29%0A%20%20%20%20%20%20%20%20%20%20%20%20%20%20%20%20.addTo%28map_00b4a9a43dbb4e13b22179f670065c95%29%3B%0A%20%20%20%20%20%20%20%20%7D%0A%20%20%20%20%20%20%20%20%20%20%20%20geo_json_0273d751f3ea47b0bbe052453f90ca6c_add%28%7B%22features%22%3A%20%5B%7B%22geometry%22%3A%20%7B%22coordinates%22%3A%20%5B%5B-73.950307%2C%2040.820057%5D%2C%20%5B-73.982813%2C%2040.773083%5D%2C%20%5B-73.92165%2C%2040.76034%5D%2C%20%5B-73.922035%2C%2040.760384%5D%2C%20%5B-73.917833%2C%2040.758494%5D%2C%20%5B-73.95002%2C%2040.820091%5D%2C%20%5B-73.992146%2C%2040.725292%5D%2C%20%5B-73.894343%2C%2040.862252%5D%5D%2C%20%22type%22%3A%20%22LineString%22%7D%2C%20%22id%22%3A%20%220%22%2C%20%22type%22%3A%20%22Feature%22%7D%5D%2C%20%22type%22%3A%20%22FeatureCollection%22%7D%29%3B%0A%0A%20%20%20%20%20%20%20%20%0A%20%20%20%20%0A%20%20%20%20%20%20%20%20function%20geo_json_87ab3e2546be410ca0a96e61b39bee8e_styler%28feature%29%20%7B%0A%20%20%20%20%20%20%20%20%20%20%20%20switch%28feature.id%29%20%7B%0A%20%20%20%20%20%20%20%20%20%20%20%20%20%20%20%20default%3A%0A%20%20%20%20%20%20%20%20%20%20%20%20%20%20%20%20%20%20%20%20return%20%7B%22color%22%3A%20%22%236A0213%22%2C%20%22dashArray%22%3A%20%220%2C%200%22%2C%20%22opacity%22%3A%200.75%2C%20%22weight%22%3A%202%7D%3B%0A%20%20%20%20%20%20%20%20%20%20%20%20%7D%0A%20%20%20%20%20%20%20%20%7D%0A%0A%20%20%20%20%20%20%20%20function%20geo_json_87ab3e2546be410ca0a96e61b39bee8e_onEachFeature%28feature%2C%20layer%29%20%7B%0A%20%20%20%20%20%20%20%20%20%20%20%20layer.on%28%7B%0A%20%20%20%20%20%20%20%20%20%20%20%20%7D%29%3B%0A%20%20%20%20%20%20%20%20%7D%3B%0A%20%20%20%20%20%20%20%20var%20geo_json_87ab3e2546be410ca0a96e61b39bee8e%20%3D%20L.geoJson%28null%2C%20%7B%0A%20%20%20%20%20%20%20%20%20%20%20%20%20%20%20%20onEachFeature%3A%20geo_json_87ab3e2546be410ca0a96e61b39bee8e_onEachFeature%2C%0A%20%20%20%20%20%20%20%20%20%20%20%20%0A%20%20%20%20%20%20%20%20%20%20%20%20%20%20%20%20style%3A%20geo_json_87ab3e2546be410ca0a96e61b39bee8e_styler%2C%0A%20%20%20%20%20%20%20%20%7D%29%3B%0A%0A%20%20%20%20%20%20%20%20function%20geo_json_87ab3e2546be410ca0a96e61b39bee8e_add%20%28data%29%20%7B%0A%20%20%20%20%20%20%20%20%20%20%20%20geo_json_87ab3e2546be410ca0a96e61b39bee8e%0A%20%20%20%20%20%20%20%20%20%20%20%20%20%20%20%20.addData%28data%29%0A%20%20%20%20%20%20%20%20%20%20%20%20%20%20%20%20.addTo%28map_00b4a9a43dbb4e13b22179f670065c95%29%3B%0A%20%20%20%20%20%20%20%20%7D%0A%20%20%20%20%20%20%20%20%20%20%20%20geo_json_87ab3e2546be410ca0a96e61b39bee8e_add%28%7B%22features%22%3A%20%5B%7B%22geometry%22%3A%20%7B%22coordinates%22%3A%20%5B%5B-73.99975%2C%2040.725237%5D%2C%20%5B-73.997249%2C%2040.723206%5D%2C%20%5B-73.998002%2C%2040.722638%5D%2C%20%5B-74.003467%2C%2040.726785%5D%2C%20%5B-73.977749%2C%2040.763464%5D%2C%20%5B-73.996343%2C%2040.723703%5D%2C%20%5B-73.998002%2C%2040.722638%5D%2C%20%5B-73.998413%2C%2040.725007%5D%2C%20%5B-73.997249%2C%2040.723206%5D%2C%20%5B-73.999963%2C%2040.725454%5D%2C%20%5B-73.996911%2C%2040.723925%5D%2C%20%5B-73.997249%2C%2040.723206%5D%2C%20%5B-73.994262%2C%2040.721291%5D%5D%2C%20%22type%22%3A%20%22LineString%22%7D%2C%20%22id%22%3A%20%220%22%2C%20%22type%22%3A%20%22Feature%22%7D%5D%2C%20%22type%22%3A%20%22FeatureCollection%22%7D%29%3B%0A%0A%20%20%20%20%20%20%20%20%0A%20%20%20%20%0A%20%20%20%20%20%20%20%20function%20geo_json_e6afe8c7e139417e81c6390595003c04_styler%28feature%29%20%7B%0A%20%20%20%20%20%20%20%20%20%20%20%20switch%28feature.id%29%20%7B%0A%20%20%20%20%20%20%20%20%20%20%20%20%20%20%20%20default%3A%0A%20%20%20%20%20%20%20%20%20%20%20%20%20%20%20%20%20%20%20%20return%20%7B%22color%22%3A%20%22%23FFCFE2%22%2C%20%22dashArray%22%3A%20%220%2C%200%22%2C%20%22opacity%22%3A%200.75%2C%20%22weight%22%3A%202%7D%3B%0A%20%20%20%20%20%20%20%20%20%20%20%20%7D%0A%20%20%20%20%20%20%20%20%7D%0A%0A%20%20%20%20%20%20%20%20function%20geo_json_e6afe8c7e139417e81c6390595003c04_onEachFeature%28feature%2C%20layer%29%20%7B%0A%20%20%20%20%20%20%20%20%20%20%20%20layer.on%28%7B%0A%20%20%20%20%20%20%20%20%20%20%20%20%7D%29%3B%0A%20%20%20%20%20%20%20%20%7D%3B%0A%20%20%20%20%20%20%20%20var%20geo_json_e6afe8c7e139417e81c6390595003c04%20%3D%20L.geoJson%28null%2C%20%7B%0A%20%20%20%20%20%20%20%20%20%20%20%20%20%20%20%20onEachFeature%3A%20geo_json_e6afe8c7e139417e81c6390595003c04_onEachFeature%2C%0A%20%20%20%20%20%20%20%20%20%20%20%20%0A%20%20%20%20%20%20%20%20%20%20%20%20%20%20%20%20style%3A%20geo_json_e6afe8c7e139417e81c6390595003c04_styler%2C%0A%20%20%20%20%20%20%20%20%7D%29%3B%0A%0A%20%20%20%20%20%20%20%20function%20geo_json_e6afe8c7e139417e81c6390595003c04_add%20%28data%29%20%7B%0A%20%20%20%20%20%20%20%20%20%20%20%20geo_json_e6afe8c7e139417e81c6390595003c04%0A%20%20%20%20%20%20%20%20%20%20%20%20%20%20%20%20.addData%28data%29%0A%20%20%20%20%20%20%20%20%20%20%20%20%20%20%20%20.addTo%28map_00b4a9a43dbb4e13b22179f670065c95%29%3B%0A%20%20%20%20%20%20%20%20%7D%0A%20%20%20%20%20%20%20%20%20%20%20%20geo_json_e6afe8c7e139417e81c6390595003c04_add%28%7B%22features%22%3A%20%5B%7B%22geometry%22%3A%20%7B%22coordinates%22%3A%20%5B%5B-73.829946%2C%2040.759633%5D%2C%20%5B-73.828906%2C%2040.760121%5D%2C%20%5B-73.826649%2C%2040.760328%5D%2C%20%5B-73.926293%2C%2040.74374%5D%2C%20%5B-73.917597%2C%2040.743342%5D%2C%20%5B-73.917752%2C%2040.743265%5D%2C%20%5B-73.926398%2C%2040.762384%5D%2C%20%5B-73.899219%2C%2040.746369%5D%2C%20%5B-73.809124%2C%2040.763281%5D%2C%20%5B-73.91878%2C%2040.743653%5D%2C%20%5B-73.807697%2C%2040.746964%5D%2C%20%5B-73.826649%2C%2040.760328%5D%2C%20%5B-74.010167%2C%2040.712525%5D%2C%20%5B-73.799203%2C%2040.755174%5D%5D%2C%20%22type%22%3A%20%22LineString%22%7D%2C%20%22id%22%3A%20%220%22%2C%20%22type%22%3A%20%22Feature%22%7D%5D%2C%20%22type%22%3A%20%22FeatureCollection%22%7D%29%3B%0A%0A%20%20%20%20%20%20%20%20%0A%20%20%20%20%0A%20%20%20%20%20%20%20%20function%20geo_json_a0ce531c0c4a425088fd85700112e989_styler%28feature%29%20%7B%0A%20%20%20%20%20%20%20%20%20%20%20%20switch%28feature.id%29%20%7B%0A%20%20%20%20%20%20%20%20%20%20%20%20%20%20%20%20default%3A%0A%20%20%20%20%20%20%20%20%20%20%20%20%20%20%20%20%20%20%20%20return%20%7B%22color%22%3A%20%22%23EF0096%22%2C%20%22dashArray%22%3A%20%220%2C%200%22%2C%20%22opacity%22%3A%200.75%2C%20%22weight%22%3A%202%7D%3B%0A%20%20%20%20%20%20%20%20%20%20%20%20%7D%0A%20%20%20%20%20%20%20%20%7D%0A%0A%20%20%20%20%20%20%20%20function%20geo_json_a0ce531c0c4a425088fd85700112e989_onEachFeature%28feature%2C%20layer%29%20%7B%0A%20%20%20%20%20%20%20%20%20%20%20%20layer.on%28%7B%0A%20%20%20%20%20%20%20%20%20%20%20%20%7D%29%3B%0A%20%20%20%20%20%20%20%20%7D%3B%0A%20%20%20%20%20%20%20%20var%20geo_json_a0ce531c0c4a425088fd85700112e989%20%3D%20L.geoJson%28null%2C%20%7B%0A%20%20%20%20%20%20%20%20%20%20%20%20%20%20%20%20onEachFeature%3A%20geo_json_a0ce531c0c4a425088fd85700112e989_onEachFeature%2C%0A%20%20%20%20%20%20%20%20%20%20%20%20%0A%20%20%20%20%20%20%20%20%20%20%20%20%20%20%20%20style%3A%20geo_json_a0ce531c0c4a425088fd85700112e989_styler%2C%0A%20%20%20%20%20%20%20%20%7D%29%3B%0A%0A%20%20%20%20%20%20%20%20function%20geo_json_a0ce531c0c4a425088fd85700112e989_add%20%28data%29%20%7B%0A%20%20%20%20%20%20%20%20%20%20%20%20geo_json_a0ce531c0c4a425088fd85700112e989%0A%20%20%20%20%20%20%20%20%20%20%20%20%20%20%20%20.addData%28data%29%0A%20%20%20%20%20%20%20%20%20%20%20%20%20%20%20%20.addTo%28map_00b4a9a43dbb4e13b22179f670065c95%29%3B%0A%20%20%20%20%20%20%20%20%7D%0A%20%20%20%20%20%20%20%20%20%20%20%20geo_json_a0ce531c0c4a425088fd85700112e989_add%28%7B%22features%22%3A%20%5B%7B%22geometry%22%3A%20%7B%22coordinates%22%3A%20%5B%5B-73.862071%2C%2040.768777%5D%2C%20%5B-73.961509%2C%2040.655262%5D%2C%20%5B-73.99057%2C%2040.707149%5D%2C%20%5B-73.989315%2C%2040.741372%5D%2C%20%5B-73.99057%2C%2040.707149%5D%2C%20%5B-73.961509%2C%2040.655262%5D%2C%20%5B-73.989315%2C%2040.741372%5D%2C%20%5B-73.989315%2C%2040.741372%5D%2C%20%5B-73.99057%2C%2040.707149%5D%2C%20%5B-73.961509%2C%2040.655262%5D%2C%20%5B-73.961509%2C%2040.655262%5D%2C%20%5B-73.99057%2C%2040.707149%5D%5D%2C%20%22type%22%3A%20%22LineString%22%7D%2C%20%22id%22%3A%20%220%22%2C%20%22type%22%3A%20%22Feature%22%7D%5D%2C%20%22type%22%3A%20%22FeatureCollection%22%7D%29%3B%0A%0A%20%20%20%20%20%20%20%20%0A%20%20%20%20%0A%20%20%20%20%20%20%20%20function%20geo_json_5d6b22f41473459a8993c9b008a3f416_styler%28feature%29%20%7B%0A%20%20%20%20%20%20%20%20%20%20%20%20switch%28feature.id%29%20%7B%0A%20%20%20%20%20%20%20%20%20%20%20%20%20%20%20%20default%3A%0A%20%20%20%20%20%20%20%20%20%20%20%20%20%20%20%20%20%20%20%20return%20%7B%22color%22%3A%20%22%2300DCB5%22%2C%20%22dashArray%22%3A%20%220%2C%200%22%2C%20%22opacity%22%3A%200.75%2C%20%22weight%22%3A%202%7D%3B%0A%20%20%20%20%20%20%20%20%20%20%20%20%7D%0A%20%20%20%20%20%20%20%20%7D%0A%0A%20%20%20%20%20%20%20%20function%20geo_json_5d6b22f41473459a8993c9b008a3f416_onEachFeature%28feature%2C%20layer%29%20%7B%0A%20%20%20%20%20%20%20%20%20%20%20%20layer.on%28%7B%0A%20%20%20%20%20%20%20%20%20%20%20%20%7D%29%3B%0A%20%20%20%20%20%20%20%20%7D%3B%0A%20%20%20%20%20%20%20%20var%20geo_json_5d6b22f41473459a8993c9b008a3f416%20%3D%20L.geoJson%28null%2C%20%7B%0A%20%20%20%20%20%20%20%20%20%20%20%20%20%20%20%20onEachFeature%3A%20geo_json_5d6b22f41473459a8993c9b008a3f416_onEachFeature%2C%0A%20%20%20%20%20%20%20%20%20%20%20%20%0A%20%20%20%20%20%20%20%20%20%20%20%20%20%20%20%20style%3A%20geo_json_5d6b22f41473459a8993c9b008a3f416_styler%2C%0A%20%20%20%20%20%20%20%20%7D%29%3B%0A%0A%20%20%20%20%20%20%20%20function%20geo_json_5d6b22f41473459a8993c9b008a3f416_add%20%28data%29%20%7B%0A%20%20%20%20%20%20%20%20%20%20%20%20geo_json_5d6b22f41473459a8993c9b008a3f416%0A%20%20%20%20%20%20%20%20%20%20%20%20%20%20%20%20.addData%28data%29%0A%20%20%20%20%20%20%20%20%20%20%20%20%20%20%20%20.addTo%28map_00b4a9a43dbb4e13b22179f670065c95%29%3B%0A%20%20%20%20%20%20%20%20%7D%0A%20%20%20%20%20%20%20%20%20%20%20%20geo_json_5d6b22f41473459a8993c9b008a3f416_add%28%7B%22features%22%3A%20%5B%7B%22geometry%22%3A%20%7B%22coordinates%22%3A%20%5B%5B-73.824606%2C%2040.79656%5D%2C%20%5B-73.782095%2C%2040.767017%5D%2C%20%5B-73.793042%2C%2040.763292%5D%2C%20%5B-73.789064%2C%2040.769822%5D%2C%20%5B-73.789104%2C%2040.786848%5D%2C%20%5B-73.793514%2C%2040.799817%5D%2C%20%5B-73.803599%2C%2040.817804%5D%2C%20%5B-73.851154%2C%2040.948944%5D%2C%20%5B-73.955312%2C%2040.865053%5D%2C%20%5B-73.952065%2C%2040.851216%5D%2C%20%5B-73.788403%2C%2040.764122%5D%2C%20%5B-73.954457%2C%2040.756734%5D%2C%20%5B-73.788403%2C%2040.764122%5D%2C%20%5B-73.782095%2C%2040.767017%5D%2C%20%5B-73.789104%2C%2040.786848%5D%2C%20%5B-73.790184%2C%2040.769579%5D%5D%2C%20%22type%22%3A%20%22LineString%22%7D%2C%20%22id%22%3A%20%220%22%2C%20%22type%22%3A%20%22Feature%22%7D%5D%2C%20%22type%22%3A%20%22FeatureCollection%22%7D%29%3B%0A%0A%20%20%20%20%20%20%20%20%0A%20%20%20%20%0A%20%20%20%20%20%20%20%20function%20geo_json_885e1c784ba64aaab7206d779aadeec5_styler%28feature%29%20%7B%0A%20%20%20%20%20%20%20%20%20%20%20%20switch%28feature.id%29%20%7B%0A%20%20%20%20%20%20%20%20%20%20%20%20%20%20%20%20default%3A%0A%20%20%20%20%20%20%20%20%20%20%20%20%20%20%20%20%20%20%20%20return%20%7B%22color%22%3A%20%22%2368023F%22%2C%20%22dashArray%22%3A%20%220%2C%200%22%2C%20%22opacity%22%3A%200.75%2C%20%22weight%22%3A%202%7D%3B%0A%20%20%20%20%20%20%20%20%20%20%20%20%7D%0A%20%20%20%20%20%20%20%20%7D%0A%0A%20%20%20%20%20%20%20%20function%20geo_json_885e1c784ba64aaab7206d779aadeec5_onEachFeature%28feature%2C%20layer%29%20%7B%0A%20%20%20%20%20%20%20%20%20%20%20%20layer.on%28%7B%0A%20%20%20%20%20%20%20%20%20%20%20%20%7D%29%3B%0A%20%20%20%20%20%20%20%20%7D%3B%0A%20%20%20%20%20%20%20%20var%20geo_json_885e1c784ba64aaab7206d779aadeec5%20%3D%20L.geoJson%28null%2C%20%7B%0A%20%20%20%20%20%20%20%20%20%20%20%20%20%20%20%20onEachFeature%3A%20geo_json_885e1c784ba64aaab7206d779aadeec5_onEachFeature%2C%0A%20%20%20%20%20%20%20%20%20%20%20%20%0A%20%20%20%20%20%20%20%20%20%20%20%20%20%20%20%20style%3A%20geo_json_885e1c784ba64aaab7206d779aadeec5_styler%2C%0A%20%20%20%20%20%20%20%20%7D%29%3B%0A%0A%20%20%20%20%20%20%20%20function%20geo_json_885e1c784ba64aaab7206d779aadeec5_add%20%28data%29%20%7B%0A%20%20%20%20%20%20%20%20%20%20%20%20geo_json_885e1c784ba64aaab7206d779aadeec5%0A%20%20%20%20%20%20%20%20%20%20%20%20%20%20%20%20.addData%28data%29%0A%20%20%20%20%20%20%20%20%20%20%20%20%20%20%20%20.addTo%28map_00b4a9a43dbb4e13b22179f670065c95%29%3B%0A%20%20%20%20%20%20%20%20%7D%0A%20%20%20%20%20%20%20%20%20%20%20%20geo_json_885e1c784ba64aaab7206d779aadeec5_add%28%7B%22features%22%3A%20%5B%7B%22geometry%22%3A%20%7B%22coordinates%22%3A%20%5B%5B-74.247367%2C%2040.737866%5D%5D%2C%20%22type%22%3A%20%22LineString%22%7D%2C%20%22id%22%3A%20%220%22%2C%20%22type%22%3A%20%22Feature%22%7D%5D%2C%20%22type%22%3A%20%22FeatureCollection%22%7D%29%3B%0A%0A%20%20%20%20%20%20%20%20%0A%20%20%20%20%0A%20%20%20%20%20%20%20%20function%20geo_json_923117efa6b844afbf586c2ab40eb5b9_styler%28feature%29%20%7B%0A%20%20%20%20%20%20%20%20%20%20%20%20switch%28feature.id%29%20%7B%0A%20%20%20%20%20%20%20%20%20%20%20%20%20%20%20%20default%3A%0A%20%20%20%20%20%20%20%20%20%20%20%20%20%20%20%20%20%20%20%20return%20%7B%22color%22%3A%20%22%23F60239%22%2C%20%22dashArray%22%3A%20%220%2C%200%22%2C%20%22opacity%22%3A%200.75%2C%20%22weight%22%3A%202%7D%3B%0A%20%20%20%20%20%20%20%20%20%20%20%20%7D%0A%20%20%20%20%20%20%20%20%7D%0A%0A%20%20%20%20%20%20%20%20function%20geo_json_923117efa6b844afbf586c2ab40eb5b9_onEachFeature%28feature%2C%20layer%29%20%7B%0A%20%20%20%20%20%20%20%20%20%20%20%20layer.on%28%7B%0A%20%20%20%20%20%20%20%20%20%20%20%20%7D%29%3B%0A%20%20%20%20%20%20%20%20%7D%3B%0A%20%20%20%20%20%20%20%20var%20geo_json_923117efa6b844afbf586c2ab40eb5b9%20%3D%20L.geoJson%28null%2C%20%7B%0A%20%20%20%20%20%20%20%20%20%20%20%20%20%20%20%20onEachFeature%3A%20geo_json_923117efa6b844afbf586c2ab40eb5b9_onEachFeature%2C%0A%20%20%20%20%20%20%20%20%20%20%20%20%0A%20%20%20%20%20%20%20%20%20%20%20%20%20%20%20%20style%3A%20geo_json_923117efa6b844afbf586c2ab40eb5b9_styler%2C%0A%20%20%20%20%20%20%20%20%7D%29%3B%0A%0A%20%20%20%20%20%20%20%20function%20geo_json_923117efa6b844afbf586c2ab40eb5b9_add%20%28data%29%20%7B%0A%20%20%20%20%20%20%20%20%20%20%20%20geo_json_923117efa6b844afbf586c2ab40eb5b9%0A%20%20%20%20%20%20%20%20%20%20%20%20%20%20%20%20.addData%28data%29%0A%20%20%20%20%20%20%20%20%20%20%20%20%20%20%20%20.addTo%28map_00b4a9a43dbb4e13b22179f670065c95%29%3B%0A%20%20%20%20%20%20%20%20%7D%0A%20%20%20%20%20%20%20%20%20%20%20%20geo_json_923117efa6b844afbf586c2ab40eb5b9_add%28%7B%22features%22%3A%20%5B%7B%22geometry%22%3A%20%7B%22coordinates%22%3A%20%5B%5B-74.005628%2C%2040.742933%5D%2C%20%5B-74.005106%2C%2040.74208%5D%2C%20%5B-74.006305%2C%2040.74129%5D%2C%20%5B-73.984938%2C%2040.732137%5D%2C%20%5B-73.985174%2C%2040.732458%5D%2C%20%5B-74.000633%2C%2040.752659%5D%2C%20%5B-73.993221%2C%2040.757294%5D%2C%20%5B-73.993261%2C%2040.757338%5D%2C%20%5B-73.993628%2C%2040.756847%5D%2C%20%5B-73.993508%2C%2040.75714%5D%2C%20%5B-73.998696%2C%2040.749916%5D%2C%20%5B-73.998091%2C%2040.74619%5D%2C%20%5B-73.998266%2C%2040.745796%5D%2C%20%5B-74.00055%2C%2040.74723%5D%2C%20%5B-74.000269%2C%2040.747739%5D%2C%20%5B-74.00055%2C%2040.74723%5D%2C%20%5B-74.00055%2C%2040.74723%5D%2C%20%5B-74.000538%2C%2040.747625%5D%5D%2C%20%22type%22%3A%20%22LineString%22%7D%2C%20%22id%22%3A%20%220%22%2C%20%22type%22%3A%20%22Feature%22%7D%5D%2C%20%22type%22%3A%20%22FeatureCollection%22%7D%29%3B%0A%0A%20%20%20%20%20%20%20%20%0A%20%20%20%20%0A%20%20%20%20%20%20%20%20function%20geo_json_051ee0dd553b41139b9d4411241b34e9_styler%28feature%29%20%7B%0A%20%20%20%20%20%20%20%20%20%20%20%20switch%28feature.id%29%20%7B%0A%20%20%20%20%20%20%20%20%20%20%20%20%20%20%20%20default%3A%0A%20%20%20%20%20%20%20%20%20%20%20%20%20%20%20%20%20%20%20%20return%20%7B%22color%22%3A%20%22%23008169%22%2C%20%22dashArray%22%3A%20%220%2C%200%22%2C%20%22opacity%22%3A%200.75%2C%20%22weight%22%3A%202%7D%3B%0A%20%20%20%20%20%20%20%20%20%20%20%20%7D%0A%20%20%20%20%20%20%20%20%7D%0A%0A%20%20%20%20%20%20%20%20function%20geo_json_051ee0dd553b41139b9d4411241b34e9_onEachFeature%28feature%2C%20layer%29%20%7B%0A%20%20%20%20%20%20%20%20%20%20%20%20layer.on%28%7B%0A%20%20%20%20%20%20%20%20%20%20%20%20%7D%29%3B%0A%20%20%20%20%20%20%20%20%7D%3B%0A%20%20%20%20%20%20%20%20var%20geo_json_051ee0dd553b41139b9d4411241b34e9%20%3D%20L.geoJson%28null%2C%20%7B%0A%20%20%20%20%20%20%20%20%20%20%20%20%20%20%20%20onEachFeature%3A%20geo_json_051ee0dd553b41139b9d4411241b34e9_onEachFeature%2C%0A%20%20%20%20%20%20%20%20%20%20%20%20%0A%20%20%20%20%20%20%20%20%20%20%20%20%20%20%20%20style%3A%20geo_json_051ee0dd553b41139b9d4411241b34e9_styler%2C%0A%20%20%20%20%20%20%20%20%7D%29%3B%0A%0A%20%20%20%20%20%20%20%20function%20geo_json_051ee0dd553b41139b9d4411241b34e9_add%20%28data%29%20%7B%0A%20%20%20%20%20%20%20%20%20%20%20%20geo_json_051ee0dd553b41139b9d4411241b34e9%0A%20%20%20%20%20%20%20%20%20%20%20%20%20%20%20%20.addData%28data%29%0A%20%20%20%20%20%20%20%20%20%20%20%20%20%20%20%20.addTo%28map_00b4a9a43dbb4e13b22179f670065c95%29%3B%0A%20%20%20%20%20%20%20%20%7D%0A%20%20%20%20%20%20%20%20%20%20%20%20geo_json_051ee0dd553b41139b9d4411241b34e9_add%28%7B%22features%22%3A%20%5B%7B%22geometry%22%3A%20%7B%22coordinates%22%3A%20%5B%5B-73.887684%2C%2040.730864%5D%2C%20%5B-73.952138%2C%2040.78129%5D%2C%20%5B-73.95017%2C%2040.780081%5D%2C%20%5B-73.999116%2C%2040.714464%5D%2C%20%5B-73.990415%2C%2040.72489%5D%2C%20%5B-73.831157%2C%2040.713917%5D%2C%20%5B-73.899219%2C%2040.746369%5D%2C%20%5B-73.887534%2C%2040.737149%5D%2C%20%5B-73.831157%2C%2040.713917%5D%2C%20%5B-73.887781%2C%2040.730633%5D%2C%20%5B-73.887781%2C%2040.730633%5D%5D%2C%20%22type%22%3A%20%22LineString%22%7D%2C%20%22id%22%3A%20%220%22%2C%20%22type%22%3A%20%22Feature%22%7D%5D%2C%20%22type%22%3A%20%22FeatureCollection%22%7D%29%3B%0A%0A%20%20%20%20%20%20%20%20%0A%20%20%20%20%0A%20%20%20%20%20%20%20%20function%20geo_json_ce4f9f58abc548d3803e668cb8b6d846_styler%28feature%29%20%7B%0A%20%20%20%20%20%20%20%20%20%20%20%20switch%28feature.id%29%20%7B%0A%20%20%20%20%20%20%20%20%20%20%20%20%20%20%20%20default%3A%0A%20%20%20%20%20%20%20%20%20%20%20%20%20%20%20%20%20%20%20%20return%20%7B%22color%22%3A%20%22%23F60239%22%2C%20%22dashArray%22%3A%20%220%2C%200%22%2C%20%22opacity%22%3A%200.75%2C%20%22weight%22%3A%202%7D%3B%0A%20%20%20%20%20%20%20%20%20%20%20%20%7D%0A%20%20%20%20%20%20%20%20%7D%0A%0A%20%20%20%20%20%20%20%20function%20geo_json_ce4f9f58abc548d3803e668cb8b6d846_onEachFeature%28feature%2C%20layer%29%20%7B%0A%20%20%20%20%20%20%20%20%20%20%20%20layer.on%28%7B%0A%20%20%20%20%20%20%20%20%20%20%20%20%7D%29%3B%0A%20%20%20%20%20%20%20%20%7D%3B%0A%20%20%20%20%20%20%20%20var%20geo_json_ce4f9f58abc548d3803e668cb8b6d846%20%3D%20L.geoJson%28null%2C%20%7B%0A%20%20%20%20%20%20%20%20%20%20%20%20%20%20%20%20onEachFeature%3A%20geo_json_ce4f9f58abc548d3803e668cb8b6d846_onEachFeature%2C%0A%20%20%20%20%20%20%20%20%20%20%20%20%0A%20%20%20%20%20%20%20%20%20%20%20%20%20%20%20%20style%3A%20geo_json_ce4f9f58abc548d3803e668cb8b6d846_styler%2C%0A%20%20%20%20%20%20%20%20%7D%29%3B%0A%0A%20%20%20%20%20%20%20%20function%20geo_json_ce4f9f58abc548d3803e668cb8b6d846_add%20%28data%29%20%7B%0A%20%20%20%20%20%20%20%20%20%20%20%20geo_json_ce4f9f58abc548d3803e668cb8b6d846%0A%20%20%20%20%20%20%20%20%20%20%20%20%20%20%20%20.addData%28data%29%0A%20%20%20%20%20%20%20%20%20%20%20%20%20%20%20%20.addTo%28map_00b4a9a43dbb4e13b22179f670065c95%29%3B%0A%20%20%20%20%20%20%20%20%7D%0A%20%20%20%20%20%20%20%20%20%20%20%20geo_json_ce4f9f58abc548d3803e668cb8b6d846_add%28%7B%22features%22%3A%20%5B%7B%22geometry%22%3A%20%7B%22coordinates%22%3A%20%5B%5B-74.002275%2C%2040.72947%5D%2C%20%5B-73.981542%2C%2040.746674%5D%2C%20%5B-73.914578%2C%2040.763755%5D%2C%20%5B-74.009255%2C%2040.713953%5D%2C%20%5B-73.981542%2C%2040.746674%5D%2C%20%5B-73.99302%2C%2040.747648%5D%2C%20%5B-74.001973%2C%2040.732626%5D%2C%20%5B-73.995752%2C%2040.726786%5D%5D%2C%20%22type%22%3A%20%22LineString%22%7D%2C%20%22id%22%3A%20%220%22%2C%20%22type%22%3A%20%22Feature%22%7D%5D%2C%20%22type%22%3A%20%22FeatureCollection%22%7D%29%3B%0A%0A%20%20%20%20%20%20%20%20%0A%20%20%20%20%0A%20%20%20%20%20%20%20%20function%20geo_json_86e38833fad0426d9832667fede9b173_styler%28feature%29%20%7B%0A%20%20%20%20%20%20%20%20%20%20%20%20switch%28feature.id%29%20%7B%0A%20%20%20%20%20%20%20%20%20%20%20%20%20%20%20%20default%3A%0A%20%20%20%20%20%20%20%20%20%20%20%20%20%20%20%20%20%20%20%20return%20%7B%22color%22%3A%20%22%236A0213%22%2C%20%22dashArray%22%3A%20%220%2C%200%22%2C%20%22opacity%22%3A%200.75%2C%20%22weight%22%3A%202%7D%3B%0A%20%20%20%20%20%20%20%20%20%20%20%20%7D%0A%20%20%20%20%20%20%20%20%7D%0A%0A%20%20%20%20%20%20%20%20function%20geo_json_86e38833fad0426d9832667fede9b173_onEachFeature%28feature%2C%20layer%29%20%7B%0A%20%20%20%20%20%20%20%20%20%20%20%20layer.on%28%7B%0A%20%20%20%20%20%20%20%20%20%20%20%20%7D%29%3B%0A%20%20%20%20%20%20%20%20%7D%3B%0A%20%20%20%20%20%20%20%20var%20geo_json_86e38833fad0426d9832667fede9b173%20%3D%20L.geoJson%28null%2C%20%7B%0A%20%20%20%20%20%20%20%20%20%20%20%20%20%20%20%20onEachFeature%3A%20geo_json_86e38833fad0426d9832667fede9b173_onEachFeature%2C%0A%20%20%20%20%20%20%20%20%20%20%20%20%0A%20%20%20%20%20%20%20%20%20%20%20%20%20%20%20%20style%3A%20geo_json_86e38833fad0426d9832667fede9b173_styler%2C%0A%20%20%20%20%20%20%20%20%7D%29%3B%0A%0A%20%20%20%20%20%20%20%20function%20geo_json_86e38833fad0426d9832667fede9b173_add%20%28data%29%20%7B%0A%20%20%20%20%20%20%20%20%20%20%20%20geo_json_86e38833fad0426d9832667fede9b173%0A%20%20%20%20%20%20%20%20%20%20%20%20%20%20%20%20.addData%28data%29%0A%20%20%20%20%20%20%20%20%20%20%20%20%20%20%20%20.addTo%28map_00b4a9a43dbb4e13b22179f670065c95%29%3B%0A%20%20%20%20%20%20%20%20%7D%0A%20%20%20%20%20%20%20%20%20%20%20%20geo_json_86e38833fad0426d9832667fede9b173_add%28%7B%22features%22%3A%20%5B%7B%22geometry%22%3A%20%7B%22coordinates%22%3A%20%5B%5B-73.99171%2C%2040.673615%5D%2C%20%5B-73.945629%2C%2040.719602%5D%2C%20%5B-73.955221%2C%2040.736704%5D%2C%20%5B-73.986409%2C%2040.755999%5D%2C%20%5B-73.986822%2C%2040.753422%5D%5D%2C%20%22type%22%3A%20%22LineString%22%7D%2C%20%22id%22%3A%20%220%22%2C%20%22type%22%3A%20%22Feature%22%7D%5D%2C%20%22type%22%3A%20%22FeatureCollection%22%7D%29%3B%0A%0A%20%20%20%20%20%20%20%20%0A%20%20%20%20%0A%20%20%20%20%20%20%20%20function%20geo_json_78a39f7bdb5d4414866ce76a0b909f43_styler%28feature%29%20%7B%0A%20%20%20%20%20%20%20%20%20%20%20%20switch%28feature.id%29%20%7B%0A%20%20%20%20%20%20%20%20%20%20%20%20%20%20%20%20default%3A%0A%20%20%20%20%20%20%20%20%20%20%20%20%20%20%20%20%20%20%20%20return%20%7B%22color%22%3A%20%22%23009FFA%22%2C%20%22dashArray%22%3A%20%220%2C%200%22%2C%20%22opacity%22%3A%200.75%2C%20%22weight%22%3A%202%7D%3B%0A%20%20%20%20%20%20%20%20%20%20%20%20%7D%0A%20%20%20%20%20%20%20%20%7D%0A%0A%20%20%20%20%20%20%20%20function%20geo_json_78a39f7bdb5d4414866ce76a0b909f43_onEachFeature%28feature%2C%20layer%29%20%7B%0A%20%20%20%20%20%20%20%20%20%20%20%20layer.on%28%7B%0A%20%20%20%20%20%20%20%20%20%20%20%20%7D%29%3B%0A%20%20%20%20%20%20%20%20%7D%3B%0A%20%20%20%20%20%20%20%20var%20geo_json_78a39f7bdb5d4414866ce76a0b909f43%20%3D%20L.geoJson%28null%2C%20%7B%0A%20%20%20%20%20%20%20%20%20%20%20%20%20%20%20%20onEachFeature%3A%20geo_json_78a39f7bdb5d4414866ce76a0b909f43_onEachFeature%2C%0A%20%20%20%20%20%20%20%20%20%20%20%20%0A%20%20%20%20%20%20%20%20%20%20%20%20%20%20%20%20style%3A%20geo_json_78a39f7bdb5d4414866ce76a0b909f43_styler%2C%0A%20%20%20%20%20%20%20%20%7D%29%3B%0A%0A%20%20%20%20%20%20%20%20function%20geo_json_78a39f7bdb5d4414866ce76a0b909f43_add%20%28data%29%20%7B%0A%20%20%20%20%20%20%20%20%20%20%20%20geo_json_78a39f7bdb5d4414866ce76a0b909f43%0A%20%20%20%20%20%20%20%20%20%20%20%20%20%20%20%20.addData%28data%29%0A%20%20%20%20%20%20%20%20%20%20%20%20%20%20%20%20.addTo%28map_00b4a9a43dbb4e13b22179f670065c95%29%3B%0A%20%20%20%20%20%20%20%20%7D%0A%20%20%20%20%20%20%20%20%20%20%20%20geo_json_78a39f7bdb5d4414866ce76a0b909f43_add%28%7B%22features%22%3A%20%5B%7B%22geometry%22%3A%20%7B%22coordinates%22%3A%20%5B%5B-73.989434%2C%2040.75815%5D%2C%20%5B-73.989434%2C%2040.75815%5D%2C%20%5B-73.942684%2C%2040.894891%5D%2C%20%5B-73.989434%2C%2040.75815%5D%2C%20%5B-73.99064%2C%2040.738084%5D%2C%20%5B-73.979752%2C%2040.743689%5D%2C%20%5B-73.993576%2C%2040.750795%5D%2C%20%5B-73.736756%2C%2040.769406%5D%2C%20%5B-73.989434%2C%2040.75815%5D%2C%20%5B-73.942684%2C%2040.894891%5D%2C%20%5B-73.989434%2C%2040.75815%5D%2C%20%5B-73.942684%2C%2040.894891%5D%2C%20%5B-73.989434%2C%2040.75815%5D%2C%20%5B-73.990157%2C%2040.756879%5D%2C%20%5B-73.990157%2C%2040.756879%5D%2C%20%5B-73.990157%2C%2040.756879%5D%2C%20%5B-73.942684%2C%2040.894891%5D%2C%20%5B-73.990157%2C%2040.756879%5D%5D%2C%20%22type%22%3A%20%22LineString%22%7D%2C%20%22id%22%3A%20%220%22%2C%20%22type%22%3A%20%22Feature%22%7D%5D%2C%20%22type%22%3A%20%22FeatureCollection%22%7D%29%3B%0A%0A%20%20%20%20%20%20%20%20%0A%20%20%20%20%0A%20%20%20%20%20%20%20%20function%20geo_json_11e40bae7a4948cbbafcab5c0ad7c3fb_styler%28feature%29%20%7B%0A%20%20%20%20%20%20%20%20%20%20%20%20switch%28feature.id%29%20%7B%0A%20%20%20%20%20%20%20%20%20%20%20%20%20%20%20%20default%3A%0A%20%20%20%20%20%20%20%20%20%20%20%20%20%20%20%20%20%20%20%20return%20%7B%22color%22%3A%20%22%23FF71FD%22%2C%20%22dashArray%22%3A%20%220%2C%200%22%2C%20%22opacity%22%3A%200.75%2C%20%22weight%22%3A%202%7D%3B%0A%20%20%20%20%20%20%20%20%20%20%20%20%7D%0A%20%20%20%20%20%20%20%20%7D%0A%0A%20%20%20%20%20%20%20%20function%20geo_json_11e40bae7a4948cbbafcab5c0ad7c3fb_onEachFeature%28feature%2C%20layer%29%20%7B%0A%20%20%20%20%20%20%20%20%20%20%20%20layer.on%28%7B%0A%20%20%20%20%20%20%20%20%20%20%20%20%7D%29%3B%0A%20%20%20%20%20%20%20%20%7D%3B%0A%20%20%20%20%20%20%20%20var%20geo_json_11e40bae7a4948cbbafcab5c0ad7c3fb%20%3D%20L.geoJson%28null%2C%20%7B%0A%20%20%20%20%20%20%20%20%20%20%20%20%20%20%20%20onEachFeature%3A%20geo_json_11e40bae7a4948cbbafcab5c0ad7c3fb_onEachFeature%2C%0A%20%20%20%20%20%20%20%20%20%20%20%20%0A%20%20%20%20%20%20%20%20%20%20%20%20%20%20%20%20style%3A%20geo_json_11e40bae7a4948cbbafcab5c0ad7c3fb_styler%2C%0A%20%20%20%20%20%20%20%20%7D%29%3B%0A%0A%20%20%20%20%20%20%20%20function%20geo_json_11e40bae7a4948cbbafcab5c0ad7c3fb_add%20%28data%29%20%7B%0A%20%20%20%20%20%20%20%20%20%20%20%20geo_json_11e40bae7a4948cbbafcab5c0ad7c3fb%0A%20%20%20%20%20%20%20%20%20%20%20%20%20%20%20%20.addData%28data%29%0A%20%20%20%20%20%20%20%20%20%20%20%20%20%20%20%20.addTo%28map_00b4a9a43dbb4e13b22179f670065c95%29%3B%0A%20%20%20%20%20%20%20%20%7D%0A%20%20%20%20%20%20%20%20%20%20%20%20geo_json_11e40bae7a4948cbbafcab5c0ad7c3fb_add%28%7B%22features%22%3A%20%5B%7B%22geometry%22%3A%20%7B%22coordinates%22%3A%20%5B%5B-73.898375%2C%2040.676798%5D%2C%20%5B-73.87131%2C%2040.734244%5D%2C%20%5B-73.870847%2C%2040.734056%5D%2C%20%5B-73.869492%2C%2040.734793%5D%2C%20%5B-73.869023%2C%2040.734348%5D%2C%20%5B-73.899891%2C%2040.743622%5D%2C%20%5B-73.899701%2C%2040.743821%5D%2C%20%5B-73.899701%2C%2040.743821%5D%2C%20%5B-74.077787%2C%2040.60615%5D%2C%20%5B-74.07337%2C%2040.605573%5D%2C%20%5B-74.04417%2C%2040.6068%5D%2C%20%5B-74.065723%2C%2040.602878%5D%2C%20%5B-73.989776%2C%2040.670268%5D%2C%20%5B-73.951937%2C%2040.790304%5D%2C%20%5B-73.965305%2C%2040.58696%5D%2C%20%5B-73.963%2C%2040.58794%5D%2C%20%5B-73.986673%2C%2040.769746%5D%2C%20%5B-73.951937%2C%2040.790304%5D%2C%20%5B-73.997324%2C%2040.670244%5D%2C%20%5B-73.989776%2C%2040.670268%5D%2C%20%5B-73.997324%2C%2040.670244%5D%2C%20%5B-73.980249%2C%2040.668254%5D%2C%20%5B-73.951937%2C%2040.790304%5D%2C%20%5B-74.02045%2C%2040.646033%5D%2C%20%5B-73.997015%2C%2040.670207%5D%2C%20%5B-73.994025%2C%2040.670502%5D%2C%20%5B-73.989776%2C%2040.670268%5D%2C%20%5B-73.869796%2C%2040.733438%5D%2C%20%5B-73.869383%2C%2040.734152%5D%5D%2C%20%22type%22%3A%20%22LineString%22%7D%2C%20%22id%22%3A%20%220%22%2C%20%22type%22%3A%20%22Feature%22%7D%5D%2C%20%22type%22%3A%20%22FeatureCollection%22%7D%29%3B%0A%0A%20%20%20%20%20%20%20%20%0A%20%20%20%20%0A%20%20%20%20%20%20%20%20function%20geo_json_ad0f0a24e12642c3878b2a508b2fcaf7_styler%28feature%29%20%7B%0A%20%20%20%20%20%20%20%20%20%20%20%20switch%28feature.id%29%20%7B%0A%20%20%20%20%20%20%20%20%20%20%20%20%20%20%20%20default%3A%0A%20%20%20%20%20%20%20%20%20%20%20%20%20%20%20%20%20%20%20%20return%20%7B%22color%22%3A%20%22%23EF0096%22%2C%20%22dashArray%22%3A%20%220%2C%200%22%2C%20%22opacity%22%3A%200.75%2C%20%22weight%22%3A%202%7D%3B%0A%20%20%20%20%20%20%20%20%20%20%20%20%7D%0A%20%20%20%20%20%20%20%20%7D%0A%0A%20%20%20%20%20%20%20%20function%20geo_json_ad0f0a24e12642c3878b2a508b2fcaf7_onEachFeature%28feature%2C%20layer%29%20%7B%0A%20%20%20%20%20%20%20%20%20%20%20%20layer.on%28%7B%0A%20%20%20%20%20%20%20%20%20%20%20%20%7D%29%3B%0A%20%20%20%20%20%20%20%20%7D%3B%0A%20%20%20%20%20%20%20%20var%20geo_json_ad0f0a24e12642c3878b2a508b2fcaf7%20%3D%20L.geoJson%28null%2C%20%7B%0A%20%20%20%20%20%20%20%20%20%20%20%20%20%20%20%20onEachFeature%3A%20geo_json_ad0f0a24e12642c3878b2a508b2fcaf7_onEachFeature%2C%0A%20%20%20%20%20%20%20%20%20%20%20%20%0A%20%20%20%20%20%20%20%20%20%20%20%20%20%20%20%20style%3A%20geo_json_ad0f0a24e12642c3878b2a508b2fcaf7_styler%2C%0A%20%20%20%20%20%20%20%20%7D%29%3B%0A%0A%20%20%20%20%20%20%20%20function%20geo_json_ad0f0a24e12642c3878b2a508b2fcaf7_add%20%28data%29%20%7B%0A%20%20%20%20%20%20%20%20%20%20%20%20geo_json_ad0f0a24e12642c3878b2a508b2fcaf7%0A%20%20%20%20%20%20%20%20%20%20%20%20%20%20%20%20.addData%28data%29%0A%20%20%20%20%20%20%20%20%20%20%20%20%20%20%20%20.addTo%28map_00b4a9a43dbb4e13b22179f670065c95%29%3B%0A%20%20%20%20%20%20%20%20%7D%0A%20%20%20%20%20%20%20%20%20%20%20%20geo_json_ad0f0a24e12642c3878b2a508b2fcaf7_add%28%7B%22features%22%3A%20%5B%7B%22geometry%22%3A%20%7B%22coordinates%22%3A%20%5B%5B-73.972256%2C%2040.752918%5D%2C%20%5B-73.985359%2C%2040.732558%5D%2C%20%5B-73.987132%2C%2040.667865%5D%2C%20%5B-73.971462%2C%2040.772709%5D%2C%20%5B-73.954997%2C%2040.781707%5D%2C%20%5B-73.95343%2C%2040.778511%5D%2C%20%5B-73.972256%2C%2040.752918%5D%2C%20%5B-73.980866%2C%2040.729765%5D%2C%20%5B-73.999494%2C%2040.722607%5D%2C%20%5B-74.004872%2C%2040.719339%5D%2C%20%5B-73.972256%2C%2040.752918%5D%2C%20%5B-73.985088%2C%2040.739779%5D%2C%20%5B-74.004872%2C%2040.719339%5D%2C%20%5B-73.972256%2C%2040.752918%5D%2C%20%5B-74.002702%2C%2040.750067%5D%2C%20%5B-73.980866%2C%2040.729765%5D%2C%20%5B-73.972256%2C%2040.752918%5D%5D%2C%20%22type%22%3A%20%22LineString%22%7D%2C%20%22id%22%3A%20%220%22%2C%20%22type%22%3A%20%22Feature%22%7D%5D%2C%20%22type%22%3A%20%22FeatureCollection%22%7D%29%3B%0A%0A%20%20%20%20%20%20%20%20%0A%20%20%20%20%0A%20%20%20%20%20%20%20%20function%20geo_json_596c85d2ec8541fea5bb26f874eaf623_styler%28feature%29%20%7B%0A%20%20%20%20%20%20%20%20%20%20%20%20switch%28feature.id%29%20%7B%0A%20%20%20%20%20%20%20%20%20%20%20%20%20%20%20%20default%3A%0A%20%20%20%20%20%20%20%20%20%20%20%20%20%20%20%20%20%20%20%20return%20%7B%22color%22%3A%20%22%23FFCFE2%22%2C%20%22dashArray%22%3A%20%220%2C%200%22%2C%20%22opacity%22%3A%200.75%2C%20%22weight%22%3A%202%7D%3B%0A%20%20%20%20%20%20%20%20%20%20%20%20%7D%0A%20%20%20%20%20%20%20%20%7D%0A%0A%20%20%20%20%20%20%20%20function%20geo_json_596c85d2ec8541fea5bb26f874eaf623_onEachFeature%28feature%2C%20layer%29%20%7B%0A%20%20%20%20%20%20%20%20%20%20%20%20layer.on%28%7B%0A%20%20%20%20%20%20%20%20%20%20%20%20%7D%29%3B%0A%20%20%20%20%20%20%20%20%7D%3B%0A%20%20%20%20%20%20%20%20var%20geo_json_596c85d2ec8541fea5bb26f874eaf623%20%3D%20L.geoJson%28null%2C%20%7B%0A%20%20%20%20%20%20%20%20%20%20%20%20%20%20%20%20onEachFeature%3A%20geo_json_596c85d2ec8541fea5bb26f874eaf623_onEachFeature%2C%0A%20%20%20%20%20%20%20%20%20%20%20%20%0A%20%20%20%20%20%20%20%20%20%20%20%20%20%20%20%20style%3A%20geo_json_596c85d2ec8541fea5bb26f874eaf623_styler%2C%0A%20%20%20%20%20%20%20%20%7D%29%3B%0A%0A%20%20%20%20%20%20%20%20function%20geo_json_596c85d2ec8541fea5bb26f874eaf623_add%20%28data%29%20%7B%0A%20%20%20%20%20%20%20%20%20%20%20%20geo_json_596c85d2ec8541fea5bb26f874eaf623%0A%20%20%20%20%20%20%20%20%20%20%20%20%20%20%20%20.addData%28data%29%0A%20%20%20%20%20%20%20%20%20%20%20%20%20%20%20%20.addTo%28map_00b4a9a43dbb4e13b22179f670065c95%29%3B%0A%20%20%20%20%20%20%20%20%7D%0A%20%20%20%20%20%20%20%20%20%20%20%20geo_json_596c85d2ec8541fea5bb26f874eaf623_add%28%7B%22features%22%3A%20%5B%7B%22geometry%22%3A%20%7B%22coordinates%22%3A%20%5B%5B-74.005582%2C%2040.727464%5D%2C%20%5B-73.988142%2C%2040.745878%5D%2C%20%5B-74.005582%2C%2040.727464%5D%5D%2C%20%22type%22%3A%20%22LineString%22%7D%2C%20%22id%22%3A%20%220%22%2C%20%22type%22%3A%20%22Feature%22%7D%5D%2C%20%22type%22%3A%20%22FeatureCollection%22%7D%29%3B%0A%0A%20%20%20%20%20%20%20%20%0A%20%20%20%20%0A%20%20%20%20%20%20%20%20function%20geo_json_ff395484963d46d98bf1658a07b85459_styler%28feature%29%20%7B%0A%20%20%20%20%20%20%20%20%20%20%20%20switch%28feature.id%29%20%7B%0A%20%20%20%20%20%20%20%20%20%20%20%20%20%20%20%20default%3A%0A%20%20%20%20%20%20%20%20%20%20%20%20%20%20%20%20%20%20%20%20return%20%7B%22color%22%3A%20%22%237CFFFA%22%2C%20%22dashArray%22%3A%20%220%2C%200%22%2C%20%22opacity%22%3A%200.75%2C%20%22weight%22%3A%202%7D%3B%0A%20%20%20%20%20%20%20%20%20%20%20%20%7D%0A%20%20%20%20%20%20%20%20%7D%0A%0A%20%20%20%20%20%20%20%20function%20geo_json_ff395484963d46d98bf1658a07b85459_onEachFeature%28feature%2C%20layer%29%20%7B%0A%20%20%20%20%20%20%20%20%20%20%20%20layer.on%28%7B%0A%20%20%20%20%20%20%20%20%20%20%20%20%7D%29%3B%0A%20%20%20%20%20%20%20%20%7D%3B%0A%20%20%20%20%20%20%20%20var%20geo_json_ff395484963d46d98bf1658a07b85459%20%3D%20L.geoJson%28null%2C%20%7B%0A%20%20%20%20%20%20%20%20%20%20%20%20%20%20%20%20onEachFeature%3A%20geo_json_ff395484963d46d98bf1658a07b85459_onEachFeature%2C%0A%20%20%20%20%20%20%20%20%20%20%20%20%0A%20%20%20%20%20%20%20%20%20%20%20%20%20%20%20%20style%3A%20geo_json_ff395484963d46d98bf1658a07b85459_styler%2C%0A%20%20%20%20%20%20%20%20%7D%29%3B%0A%0A%20%20%20%20%20%20%20%20function%20geo_json_ff395484963d46d98bf1658a07b85459_add%20%28data%29%20%7B%0A%20%20%20%20%20%20%20%20%20%20%20%20geo_json_ff395484963d46d98bf1658a07b85459%0A%20%20%20%20%20%20%20%20%20%20%20%20%20%20%20%20.addData%28data%29%0A%20%20%20%20%20%20%20%20%20%20%20%20%20%20%20%20.addTo%28map_00b4a9a43dbb4e13b22179f670065c95%29%3B%0A%20%20%20%20%20%20%20%20%7D%0A%20%20%20%20%20%20%20%20%20%20%20%20geo_json_ff395484963d46d98bf1658a07b85459_add%28%7B%22features%22%3A%20%5B%7B%22geometry%22%3A%20%7B%22coordinates%22%3A%20%5B%5B-74.071136%2C%2040.881088%5D%2C%20%5B-74.071136%2C%2040.881088%5D%2C%20%5B-74.047905%2C%2040.861982%5D%2C%20%5B-74.071136%2C%2040.881088%5D%2C%20%5B-74.071136%2C%2040.881088%5D%2C%20%5B-74.071136%2C%2040.881088%5D%2C%20%5B-74.047905%2C%2040.861982%5D%2C%20%5B-74.055621%2C%2040.862842%5D%2C%20%5B-74.071136%2C%2040.881088%5D%2C%20%5B-74.047905%2C%2040.861982%5D%2C%20%5B-74.071136%2C%2040.881088%5D%2C%20%5B-74.055621%2C%2040.862842%5D%2C%20%5B-74.071136%2C%2040.881088%5D%2C%20%5B-74.047905%2C%2040.861982%5D%5D%2C%20%22type%22%3A%20%22LineString%22%7D%2C%20%22id%22%3A%20%220%22%2C%20%22type%22%3A%20%22Feature%22%7D%5D%2C%20%22type%22%3A%20%22FeatureCollection%22%7D%29%3B%0A%0A%20%20%20%20%20%20%20%20%0A%20%20%20%20%0A%20%20%20%20%20%20%20%20function%20geo_json_53403c05b0d04ce59b9a2640de80f94b_styler%28feature%29%20%7B%0A%20%20%20%20%20%20%20%20%20%20%20%20switch%28feature.id%29%20%7B%0A%20%20%20%20%20%20%20%20%20%20%20%20%20%20%20%20default%3A%0A%20%20%20%20%20%20%20%20%20%20%20%20%20%20%20%20%20%20%20%20return%20%7B%22color%22%3A%20%22%23FFCFE2%22%2C%20%22dashArray%22%3A%20%220%2C%200%22%2C%20%22opacity%22%3A%200.75%2C%20%22weight%22%3A%202%7D%3B%0A%20%20%20%20%20%20%20%20%20%20%20%20%7D%0A%20%20%20%20%20%20%20%20%7D%0A%0A%20%20%20%20%20%20%20%20function%20geo_json_53403c05b0d04ce59b9a2640de80f94b_onEachFeature%28feature%2C%20layer%29%20%7B%0A%20%20%20%20%20%20%20%20%20%20%20%20layer.on%28%7B%0A%20%20%20%20%20%20%20%20%20%20%20%20%7D%29%3B%0A%20%20%20%20%20%20%20%20%7D%3B%0A%20%20%20%20%20%20%20%20var%20geo_json_53403c05b0d04ce59b9a2640de80f94b%20%3D%20L.geoJson%28null%2C%20%7B%0A%20%20%20%20%20%20%20%20%20%20%20%20%20%20%20%20onEachFeature%3A%20geo_json_53403c05b0d04ce59b9a2640de80f94b_onEachFeature%2C%0A%20%20%20%20%20%20%20%20%20%20%20%20%0A%20%20%20%20%20%20%20%20%20%20%20%20%20%20%20%20style%3A%20geo_json_53403c05b0d04ce59b9a2640de80f94b_styler%2C%0A%20%20%20%20%20%20%20%20%7D%29%3B%0A%0A%20%20%20%20%20%20%20%20function%20geo_json_53403c05b0d04ce59b9a2640de80f94b_add%20%28data%29%20%7B%0A%20%20%20%20%20%20%20%20%20%20%20%20geo_json_53403c05b0d04ce59b9a2640de80f94b%0A%20%20%20%20%20%20%20%20%20%20%20%20%20%20%20%20.addData%28data%29%0A%20%20%20%20%20%20%20%20%20%20%20%20%20%20%20%20.addTo%28map_00b4a9a43dbb4e13b22179f670065c95%29%3B%0A%20%20%20%20%20%20%20%20%7D%0A%20%20%20%20%20%20%20%20%20%20%20%20geo_json_53403c05b0d04ce59b9a2640de80f94b_add%28%7B%22features%22%3A%20%5B%7B%22geometry%22%3A%20%7B%22coordinates%22%3A%20%5B%5B-73.997211%2C%2040.724169%5D%2C%20%5B-73.997211%2C%2040.724169%5D%2C%20%5B-73.997211%2C%2040.724169%5D%2C%20%5B-73.997211%2C%2040.724169%5D%2C%20%5B-73.997248%2C%2040.724072%5D%2C%20%5B-74.002056%2C%2040.726895%5D%2C%20%5B-73.997211%2C%2040.724169%5D%2C%20%5B-73.997211%2C%2040.724169%5D%2C%20%5B-73.997211%2C%2040.724169%5D%5D%2C%20%22type%22%3A%20%22LineString%22%7D%2C%20%22id%22%3A%20%220%22%2C%20%22type%22%3A%20%22Feature%22%7D%5D%2C%20%22type%22%3A%20%22FeatureCollection%22%7D%29%3B%0A%0A%20%20%20%20%20%20%20%20%0A%20%20%20%20%0A%20%20%20%20%20%20%20%20function%20geo_json_c03f6f32112f426492222a3aab4b178c_styler%28feature%29%20%7B%0A%20%20%20%20%20%20%20%20%20%20%20%20switch%28feature.id%29%20%7B%0A%20%20%20%20%20%20%20%20%20%20%20%20%20%20%20%20default%3A%0A%20%20%20%20%20%20%20%20%20%20%20%20%20%20%20%20%20%20%20%20return%20%7B%22color%22%3A%20%22%23009FFA%22%2C%20%22dashArray%22%3A%20%220%2C%200%22%2C%20%22opacity%22%3A%200.75%2C%20%22weight%22%3A%202%7D%3B%0A%20%20%20%20%20%20%20%20%20%20%20%20%7D%0A%20%20%20%20%20%20%20%20%7D%0A%0A%20%20%20%20%20%20%20%20function%20geo_json_c03f6f32112f426492222a3aab4b178c_onEachFeature%28feature%2C%20layer%29%20%7B%0A%20%20%20%20%20%20%20%20%20%20%20%20layer.on%28%7B%0A%20%20%20%20%20%20%20%20%20%20%20%20%7D%29%3B%0A%20%20%20%20%20%20%20%20%7D%3B%0A%20%20%20%20%20%20%20%20var%20geo_json_c03f6f32112f426492222a3aab4b178c%20%3D%20L.geoJson%28null%2C%20%7B%0A%20%20%20%20%20%20%20%20%20%20%20%20%20%20%20%20onEachFeature%3A%20geo_json_c03f6f32112f426492222a3aab4b178c_onEachFeature%2C%0A%20%20%20%20%20%20%20%20%20%20%20%20%0A%20%20%20%20%20%20%20%20%20%20%20%20%20%20%20%20style%3A%20geo_json_c03f6f32112f426492222a3aab4b178c_styler%2C%0A%20%20%20%20%20%20%20%20%7D%29%3B%0A%0A%20%20%20%20%20%20%20%20function%20geo_json_c03f6f32112f426492222a3aab4b178c_add%20%28data%29%20%7B%0A%20%20%20%20%20%20%20%20%20%20%20%20geo_json_c03f6f32112f426492222a3aab4b178c%0A%20%20%20%20%20%20%20%20%20%20%20%20%20%20%20%20.addData%28data%29%0A%20%20%20%20%20%20%20%20%20%20%20%20%20%20%20%20.addTo%28map_00b4a9a43dbb4e13b22179f670065c95%29%3B%0A%20%20%20%20%20%20%20%20%7D%0A%20%20%20%20%20%20%20%20%20%20%20%20geo_json_c03f6f32112f426492222a3aab4b178c_add%28%7B%22features%22%3A%20%5B%7B%22geometry%22%3A%20%7B%22coordinates%22%3A%20%5B%5B-73.992169%2C%2040.72186%5D%2C%20%5B-73.981376%2C%2040.726641%5D%2C%20%5B-73.987718%2C%2040.729397%5D%2C%20%5B-74.006988%2C%2040.739871%5D%5D%2C%20%22type%22%3A%20%22LineString%22%7D%2C%20%22id%22%3A%20%220%22%2C%20%22type%22%3A%20%22Feature%22%7D%5D%2C%20%22type%22%3A%20%22FeatureCollection%22%7D%29%3B%0A%0A%20%20%20%20%20%20%20%20%0A%20%20%20%20%0A%20%20%20%20%20%20%20%20function%20geo_json_b4526e82ee394cdd84ef1f243fc0ae44_styler%28feature%29%20%7B%0A%20%20%20%20%20%20%20%20%20%20%20%20switch%28feature.id%29%20%7B%0A%20%20%20%20%20%20%20%20%20%20%20%20%20%20%20%20default%3A%0A%20%20%20%20%20%20%20%20%20%20%20%20%20%20%20%20%20%20%20%20return%20%7B%22color%22%3A%20%22%23008169%22%2C%20%22dashArray%22%3A%20%220%2C%200%22%2C%20%22opacity%22%3A%200.75%2C%20%22weight%22%3A%202%7D%3B%0A%20%20%20%20%20%20%20%20%20%20%20%20%7D%0A%20%20%20%20%20%20%20%20%7D%0A%0A%20%20%20%20%20%20%20%20function%20geo_json_b4526e82ee394cdd84ef1f243fc0ae44_onEachFeature%28feature%2C%20layer%29%20%7B%0A%20%20%20%20%20%20%20%20%20%20%20%20layer.on%28%7B%0A%20%20%20%20%20%20%20%20%20%20%20%20%7D%29%3B%0A%20%20%20%20%20%20%20%20%7D%3B%0A%20%20%20%20%20%20%20%20var%20geo_json_b4526e82ee394cdd84ef1f243fc0ae44%20%3D%20L.geoJson%28null%2C%20%7B%0A%20%20%20%20%20%20%20%20%20%20%20%20%20%20%20%20onEachFeature%3A%20geo_json_b4526e82ee394cdd84ef1f243fc0ae44_onEachFeature%2C%0A%20%20%20%20%20%20%20%20%20%20%20%20%0A%20%20%20%20%20%20%20%20%20%20%20%20%20%20%20%20style%3A%20geo_json_b4526e82ee394cdd84ef1f243fc0ae44_styler%2C%0A%20%20%20%20%20%20%20%20%7D%29%3B%0A%0A%20%20%20%20%20%20%20%20function%20geo_json_b4526e82ee394cdd84ef1f243fc0ae44_add%20%28data%29%20%7B%0A%20%20%20%20%20%20%20%20%20%20%20%20geo_json_b4526e82ee394cdd84ef1f243fc0ae44%0A%20%20%20%20%20%20%20%20%20%20%20%20%20%20%20%20.addData%28data%29%0A%20%20%20%20%20%20%20%20%20%20%20%20%20%20%20%20.addTo%28map_00b4a9a43dbb4e13b22179f670065c95%29%3B%0A%20%20%20%20%20%20%20%20%7D%0A%20%20%20%20%20%20%20%20%20%20%20%20geo_json_b4526e82ee394cdd84ef1f243fc0ae44_add%28%7B%22features%22%3A%20%5B%7B%22geometry%22%3A%20%7B%22coordinates%22%3A%20%5B%5B-73.983688%2C%2040.753728%5D%2C%20%5B-73.983688%2C%2040.753728%5D%2C%20%5B-73.969484%2C%2040.753651%5D%2C%20%5B-73.968381%2C%2040.755235%5D%2C%20%5B-73.98288%2C%2040.750781%5D%2C%20%5B-73.992856%2C%2040.73004%5D%2C%20%5B-73.98902%2C%2040.729279%5D%2C%20%5B-73.981869%2C%2040.768033%5D%2C%20%5B-73.98247%2C%2040.771434%5D%2C%20%5B-73.981848%2C%2040.768062%5D%2C%20%5B-73.968772%2C%2040.754533%5D%2C%20%5B-73.941748%2C%2040.714583%5D%2C%20%5B-73.933918%2C%2040.723677%5D%2C%20%5B-73.942822%2C%2040.70742%5D%2C%20%5B-73.95473%2C%2040.686778%5D%2C%20%5B-73.950663%2C%2040.744773%5D%2C%20%5B-73.965371%2C%2040.757533%5D%2C%20%5B-73.970861%2C%2040.75558%5D%2C%20%5B-73.973415%2C%2040.7828%5D%2C%20%5B-73.961207%2C%2040.57785%5D%2C%20%5B-73.961635%2C%2040.574848%5D%2C%20%5B-73.9797%2C%2040.575603%5D%2C%20%5B-73.977567%2C%2040.574848%5D%2C%20%5B-73.98288%2C%2040.750781%5D%2C%20%5B-73.999494%2C%2040.722607%5D%2C%20%5B-73.949463%2C%2040.71365%5D%2C%20%5B-73.949311%2C%2040.714049%5D%2C%20%5B-73.962163%2C%2040.779022%5D%2C%20%5B-73.962298%2C%2040.778937%5D%2C%20%5B-73.987456%2C%2040.727011%5D%2C%20%5B-73.997903%2C%2040.719555%5D%2C%20%5B-73.98288%2C%2040.750781%5D%2C%20%5B-73.981473%2C%2040.753323%5D%2C%20%5B-73.983688%2C%2040.753728%5D%5D%2C%20%22type%22%3A%20%22LineString%22%7D%2C%20%22id%22%3A%20%220%22%2C%20%22type%22%3A%20%22Feature%22%7D%5D%2C%20%22type%22%3A%20%22FeatureCollection%22%7D%29%3B%0A%0A%20%20%20%20%20%20%20%20%0A%20%20%20%20%0A%20%20%20%20%20%20%20%20function%20geo_json_4bc42012a5f6440f96049ef030c5df6d_styler%28feature%29%20%7B%0A%20%20%20%20%20%20%20%20%20%20%20%20switch%28feature.id%29%20%7B%0A%20%20%20%20%20%20%20%20%20%20%20%20%20%20%20%20default%3A%0A%20%20%20%20%20%20%20%20%20%20%20%20%20%20%20%20%20%20%20%20return%20%7B%22color%22%3A%20%22%2300DCB5%22%2C%20%22dashArray%22%3A%20%220%2C%200%22%2C%20%22opacity%22%3A%200.75%2C%20%22weight%22%3A%202%7D%3B%0A%20%20%20%20%20%20%20%20%20%20%20%20%7D%0A%20%20%20%20%20%20%20%20%7D%0A%0A%20%20%20%20%20%20%20%20function%20geo_json_4bc42012a5f6440f96049ef030c5df6d_onEachFeature%28feature%2C%20layer%29%20%7B%0A%20%20%20%20%20%20%20%20%20%20%20%20layer.on%28%7B%0A%20%20%20%20%20%20%20%20%20%20%20%20%7D%29%3B%0A%20%20%20%20%20%20%20%20%7D%3B%0A%20%20%20%20%20%20%20%20var%20geo_json_4bc42012a5f6440f96049ef030c5df6d%20%3D%20L.geoJson%28null%2C%20%7B%0A%20%20%20%20%20%20%20%20%20%20%20%20%20%20%20%20onEachFeature%3A%20geo_json_4bc42012a5f6440f96049ef030c5df6d_onEachFeature%2C%0A%20%20%20%20%20%20%20%20%20%20%20%20%0A%20%20%20%20%20%20%20%20%20%20%20%20%20%20%20%20style%3A%20geo_json_4bc42012a5f6440f96049ef030c5df6d_styler%2C%0A%20%20%20%20%20%20%20%20%7D%29%3B%0A%0A%20%20%20%20%20%20%20%20function%20geo_json_4bc42012a5f6440f96049ef030c5df6d_add%20%28data%29%20%7B%0A%20%20%20%20%20%20%20%20%20%20%20%20geo_json_4bc42012a5f6440f96049ef030c5df6d%0A%20%20%20%20%20%20%20%20%20%20%20%20%20%20%20%20.addData%28data%29%0A%20%20%20%20%20%20%20%20%20%20%20%20%20%20%20%20.addTo%28map_00b4a9a43dbb4e13b22179f670065c95%29%3B%0A%20%20%20%20%20%20%20%20%7D%0A%20%20%20%20%20%20%20%20%20%20%20%20geo_json_4bc42012a5f6440f96049ef030c5df6d_add%28%7B%22features%22%3A%20%5B%7B%22geometry%22%3A%20%7B%22coordinates%22%3A%20%5B%5B-74.138163%2C%2040.782228%5D%2C%20%5B-74.098953%2C%2040.799194%5D%2C%20%5B-74.119661%2C%2040.81237%5D%2C%20%5B-74.198755%2C%2040.792384%5D%2C%20%5B-73.990185%2C%2040.749974%5D%2C%20%5B-74.077845%2C%2040.806151%5D%2C%20%5B-74.077845%2C%2040.806151%5D%2C%20%5B-74.109607%2C%2040.813257%5D%2C%20%5B-74.077845%2C%2040.806151%5D%2C%20%5B-74.077845%2C%2040.806151%5D%2C%20%5B-74.211569%2C%2040.817789%5D%5D%2C%20%22type%22%3A%20%22LineString%22%7D%2C%20%22id%22%3A%20%220%22%2C%20%22type%22%3A%20%22Feature%22%7D%5D%2C%20%22type%22%3A%20%22FeatureCollection%22%7D%29%3B%0A%0A%20%20%20%20%20%20%20%20%0A%20%20%20%20%0A%20%20%20%20%20%20%20%20function%20geo_json_0f2f2932f3ef4103a03fe1c288a0022a_styler%28feature%29%20%7B%0A%20%20%20%20%20%20%20%20%20%20%20%20switch%28feature.id%29%20%7B%0A%20%20%20%20%20%20%20%20%20%20%20%20%20%20%20%20default%3A%0A%20%20%20%20%20%20%20%20%20%20%20%20%20%20%20%20%20%20%20%20return%20%7B%22color%22%3A%20%22%237CFFFA%22%2C%20%22dashArray%22%3A%20%220%2C%200%22%2C%20%22opacity%22%3A%200.75%2C%20%22weight%22%3A%202%7D%3B%0A%20%20%20%20%20%20%20%20%20%20%20%20%7D%0A%20%20%20%20%20%20%20%20%7D%0A%0A%20%20%20%20%20%20%20%20function%20geo_json_0f2f2932f3ef4103a03fe1c288a0022a_onEachFeature%28feature%2C%20layer%29%20%7B%0A%20%20%20%20%20%20%20%20%20%20%20%20layer.on%28%7B%0A%20%20%20%20%20%20%20%20%20%20%20%20%7D%29%3B%0A%20%20%20%20%20%20%20%20%7D%3B%0A%20%20%20%20%20%20%20%20var%20geo_json_0f2f2932f3ef4103a03fe1c288a0022a%20%3D%20L.geoJson%28null%2C%20%7B%0A%20%20%20%20%20%20%20%20%20%20%20%20%20%20%20%20onEachFeature%3A%20geo_json_0f2f2932f3ef4103a03fe1c288a0022a_onEachFeature%2C%0A%20%20%20%20%20%20%20%20%20%20%20%20%0A%20%20%20%20%20%20%20%20%20%20%20%20%20%20%20%20style%3A%20geo_json_0f2f2932f3ef4103a03fe1c288a0022a_styler%2C%0A%20%20%20%20%20%20%20%20%7D%29%3B%0A%0A%20%20%20%20%20%20%20%20function%20geo_json_0f2f2932f3ef4103a03fe1c288a0022a_add%20%28data%29%20%7B%0A%20%20%20%20%20%20%20%20%20%20%20%20geo_json_0f2f2932f3ef4103a03fe1c288a0022a%0A%20%20%20%20%20%20%20%20%20%20%20%20%20%20%20%20.addData%28data%29%0A%20%20%20%20%20%20%20%20%20%20%20%20%20%20%20%20.addTo%28map_00b4a9a43dbb4e13b22179f670065c95%29%3B%0A%20%20%20%20%20%20%20%20%7D%0A%20%20%20%20%20%20%20%20%20%20%20%20geo_json_0f2f2932f3ef4103a03fe1c288a0022a_add%28%7B%22features%22%3A%20%5B%7B%22geometry%22%3A%20%7B%22coordinates%22%3A%20%5B%5B-73.970511%2C%2040.76401%5D%2C%20%5B-73.966411%2C%2040.761849%5D%2C%20%5B-73.966052%2C%2040.762529%5D%2C%20%5B-73.957895%2C%2040.769662%5D%2C%20%5B-73.784523%2C%2040.645089%5D%2C%20%5B-73.789845%2C%2040.648785%5D%5D%2C%20%22type%22%3A%20%22LineString%22%7D%2C%20%22id%22%3A%20%220%22%2C%20%22type%22%3A%20%22Feature%22%7D%5D%2C%20%22type%22%3A%20%22FeatureCollection%22%7D%29%3B%0A%0A%20%20%20%20%20%20%20%20%0A%20%20%20%20%0A%20%20%20%20%20%20%20%20function%20geo_json_cf390d5160d6439e8af7756f2502b161_styler%28feature%29%20%7B%0A%20%20%20%20%20%20%20%20%20%20%20%20switch%28feature.id%29%20%7B%0A%20%20%20%20%20%20%20%20%20%20%20%20%20%20%20%20default%3A%0A%20%20%20%20%20%20%20%20%20%20%20%20%20%20%20%20%20%20%20%20return%20%7B%22color%22%3A%20%22%23FFDC3D%22%2C%20%22dashArray%22%3A%20%220%2C%200%22%2C%20%22opacity%22%3A%200.75%2C%20%22weight%22%3A%202%7D%3B%0A%20%20%20%20%20%20%20%20%20%20%20%20%7D%0A%20%20%20%20%20%20%20%20%7D%0A%0A%20%20%20%20%20%20%20%20function%20geo_json_cf390d5160d6439e8af7756f2502b161_onEachFeature%28feature%2C%20layer%29%20%7B%0A%20%20%20%20%20%20%20%20%20%20%20%20layer.on%28%7B%0A%20%20%20%20%20%20%20%20%20%20%20%20%7D%29%3B%0A%20%20%20%20%20%20%20%20%7D%3B%0A%20%20%20%20%20%20%20%20var%20geo_json_cf390d5160d6439e8af7756f2502b161%20%3D%20L.geoJson%28null%2C%20%7B%0A%20%20%20%20%20%20%20%20%20%20%20%20%20%20%20%20onEachFeature%3A%20geo_json_cf390d5160d6439e8af7756f2502b161_onEachFeature%2C%0A%20%20%20%20%20%20%20%20%20%20%20%20%0A%20%20%20%20%20%20%20%20%20%20%20%20%20%20%20%20style%3A%20geo_json_cf390d5160d6439e8af7756f2502b161_styler%2C%0A%20%20%20%20%20%20%20%20%7D%29%3B%0A%0A%20%20%20%20%20%20%20%20function%20geo_json_cf390d5160d6439e8af7756f2502b161_add%20%28data%29%20%7B%0A%20%20%20%20%20%20%20%20%20%20%20%20geo_json_cf390d5160d6439e8af7756f2502b161%0A%20%20%20%20%20%20%20%20%20%20%20%20%20%20%20%20.addData%28data%29%0A%20%20%20%20%20%20%20%20%20%20%20%20%20%20%20%20.addTo%28map_00b4a9a43dbb4e13b22179f670065c95%29%3B%0A%20%20%20%20%20%20%20%20%7D%0A%20%20%20%20%20%20%20%20%20%20%20%20geo_json_cf390d5160d6439e8af7756f2502b161_add%28%7B%22features%22%3A%20%5B%7B%22geometry%22%3A%20%7B%22coordinates%22%3A%20%5B%5B-73.833447%2C%2040.783222%5D%2C%20%5B-73.792844%2C%2040.682108%5D%2C%20%5B-73.827568%2C%2040.742153%5D%2C%20%5B-73.835379%2C%2040.753031%5D%2C%20%5B-73.846889%2C%2040.778162%5D%2C%20%5B-73.827568%2C%2040.742153%5D%2C%20%5B-73.826103%2C%2040.746309%5D%2C%20%5B-73.969429%2C%2040.761646%5D%2C%20%5B-73.835379%2C%2040.753031%5D%2C%20%5B-73.836108%2C%2040.78391%5D%5D%2C%20%22type%22%3A%20%22LineString%22%7D%2C%20%22id%22%3A%20%220%22%2C%20%22type%22%3A%20%22Feature%22%7D%5D%2C%20%22type%22%3A%20%22FeatureCollection%22%7D%29%3B%0A%0A%20%20%20%20%20%20%20%20%0A%20%20%20%20%0A%20%20%20%20%20%20%20%20function%20geo_json_e1c5a2054f75476db0955366e129b345_styler%28feature%29%20%7B%0A%20%20%20%20%20%20%20%20%20%20%20%20switch%28feature.id%29%20%7B%0A%20%20%20%20%20%20%20%20%20%20%20%20%20%20%20%20default%3A%0A%20%20%20%20%20%20%20%20%20%20%20%20%20%20%20%20%20%20%20%20return%20%7B%22color%22%3A%20%22%23EF0096%22%2C%20%22dashArray%22%3A%20%220%2C%200%22%2C%20%22opacity%22%3A%200.75%2C%20%22weight%22%3A%202%7D%3B%0A%20%20%20%20%20%20%20%20%20%20%20%20%7D%0A%20%20%20%20%20%20%20%20%7D%0A%0A%20%20%20%20%20%20%20%20function%20geo_json_e1c5a2054f75476db0955366e129b345_onEachFeature%28feature%2C%20layer%29%20%7B%0A%20%20%20%20%20%20%20%20%20%20%20%20layer.on%28%7B%0A%20%20%20%20%20%20%20%20%20%20%20%20%7D%29%3B%0A%20%20%20%20%20%20%20%20%7D%3B%0A%20%20%20%20%20%20%20%20var%20geo_json_e1c5a2054f75476db0955366e129b345%20%3D%20L.geoJson%28null%2C%20%7B%0A%20%20%20%20%20%20%20%20%20%20%20%20%20%20%20%20onEachFeature%3A%20geo_json_e1c5a2054f75476db0955366e129b345_onEachFeature%2C%0A%20%20%20%20%20%20%20%20%20%20%20%20%0A%20%20%20%20%20%20%20%20%20%20%20%20%20%20%20%20style%3A%20geo_json_e1c5a2054f75476db0955366e129b345_styler%2C%0A%20%20%20%20%20%20%20%20%7D%29%3B%0A%0A%20%20%20%20%20%20%20%20function%20geo_json_e1c5a2054f75476db0955366e129b345_add%20%28data%29%20%7B%0A%20%20%20%20%20%20%20%20%20%20%20%20geo_json_e1c5a2054f75476db0955366e129b345%0A%20%20%20%20%20%20%20%20%20%20%20%20%20%20%20%20.addData%28data%29%0A%20%20%20%20%20%20%20%20%20%20%20%20%20%20%20%20.addTo%28map_00b4a9a43dbb4e13b22179f670065c95%29%3B%0A%20%20%20%20%20%20%20%20%7D%0A%20%20%20%20%20%20%20%20%20%20%20%20geo_json_e1c5a2054f75476db0955366e129b345_add%28%7B%22features%22%3A%20%5B%7B%22geometry%22%3A%20%7B%22coordinates%22%3A%20%5B%5B-74.200323%2C%2040.751135%5D%2C%20%5B-74.176473%2C%2040.785143%5D%2C%20%5B-74.200323%2C%2040.751135%5D%2C%20%5B-74.176473%2C%2040.785143%5D%2C%20%5B-74.176473%2C%2040.785143%5D%2C%20%5B-74.201392%2C%2040.788795%5D%5D%2C%20%22type%22%3A%20%22LineString%22%7D%2C%20%22id%22%3A%20%220%22%2C%20%22type%22%3A%20%22Feature%22%7D%5D%2C%20%22type%22%3A%20%22FeatureCollection%22%7D%29%3B%0A%0A%20%20%20%20%20%20%20%20%0A%20%20%20%20%0A%20%20%20%20%20%20%20%20function%20geo_json_1d12707e9c5545b280a398eabdb7edee_styler%28feature%29%20%7B%0A%20%20%20%20%20%20%20%20%20%20%20%20switch%28feature.id%29%20%7B%0A%20%20%20%20%20%20%20%20%20%20%20%20%20%20%20%20default%3A%0A%20%20%20%20%20%20%20%20%20%20%20%20%20%20%20%20%20%20%20%20return%20%7B%22color%22%3A%20%22%23FFCFE2%22%2C%20%22dashArray%22%3A%20%220%2C%200%22%2C%20%22opacity%22%3A%200.75%2C%20%22weight%22%3A%202%7D%3B%0A%20%20%20%20%20%20%20%20%20%20%20%20%7D%0A%20%20%20%20%20%20%20%20%7D%0A%0A%20%20%20%20%20%20%20%20function%20geo_json_1d12707e9c5545b280a398eabdb7edee_onEachFeature%28feature%2C%20layer%29%20%7B%0A%20%20%20%20%20%20%20%20%20%20%20%20layer.on%28%7B%0A%20%20%20%20%20%20%20%20%20%20%20%20%7D%29%3B%0A%20%20%20%20%20%20%20%20%7D%3B%0A%20%20%20%20%20%20%20%20var%20geo_json_1d12707e9c5545b280a398eabdb7edee%20%3D%20L.geoJson%28null%2C%20%7B%0A%20%20%20%20%20%20%20%20%20%20%20%20%20%20%20%20onEachFeature%3A%20geo_json_1d12707e9c5545b280a398eabdb7edee_onEachFeature%2C%0A%20%20%20%20%20%20%20%20%20%20%20%20%0A%20%20%20%20%20%20%20%20%20%20%20%20%20%20%20%20style%3A%20geo_json_1d12707e9c5545b280a398eabdb7edee_styler%2C%0A%20%20%20%20%20%20%20%20%7D%29%3B%0A%0A%20%20%20%20%20%20%20%20function%20geo_json_1d12707e9c5545b280a398eabdb7edee_add%20%28data%29%20%7B%0A%20%20%20%20%20%20%20%20%20%20%20%20geo_json_1d12707e9c5545b280a398eabdb7edee%0A%20%20%20%20%20%20%20%20%20%20%20%20%20%20%20%20.addData%28data%29%0A%20%20%20%20%20%20%20%20%20%20%20%20%20%20%20%20.addTo%28map_00b4a9a43dbb4e13b22179f670065c95%29%3B%0A%20%20%20%20%20%20%20%20%7D%0A%20%20%20%20%20%20%20%20%20%20%20%20geo_json_1d12707e9c5545b280a398eabdb7edee_add%28%7B%22features%22%3A%20%5B%7B%22geometry%22%3A%20%7B%22coordinates%22%3A%20%5B%5B-73.996131%2C%2040.721799%5D%2C%20%5B-73.983023%2C%2040.764417%5D%2C%20%5B-73.883164%2C%2040.878234%5D%2C%20%5B-73.881735%2C%2040.883634%5D%2C%20%5B-73.989573%2C%2040.770897%5D%2C%20%5B-73.897319%2C%2040.862398%5D%2C%20%5B-73.946788%2C%2040.824338%5D%5D%2C%20%22type%22%3A%20%22LineString%22%7D%2C%20%22id%22%3A%20%220%22%2C%20%22type%22%3A%20%22Feature%22%7D%5D%2C%20%22type%22%3A%20%22FeatureCollection%22%7D%29%3B%0A%0A%20%20%20%20%20%20%20%20%0A%20%20%20%20%0A%20%20%20%20%20%20%20%20function%20geo_json_d715672714314ad295508f610e4d2cdd_styler%28feature%29%20%7B%0A%20%20%20%20%20%20%20%20%20%20%20%20switch%28feature.id%29%20%7B%0A%20%20%20%20%20%20%20%20%20%20%20%20%20%20%20%20default%3A%0A%20%20%20%20%20%20%20%20%20%20%20%20%20%20%20%20%20%20%20%20return%20%7B%22color%22%3A%20%22%23003C86%22%2C%20%22dashArray%22%3A%20%220%2C%200%22%2C%20%22opacity%22%3A%200.75%2C%20%22weight%22%3A%202%7D%3B%0A%20%20%20%20%20%20%20%20%20%20%20%20%7D%0A%20%20%20%20%20%20%20%20%7D%0A%0A%20%20%20%20%20%20%20%20function%20geo_json_d715672714314ad295508f610e4d2cdd_onEachFeature%28feature%2C%20layer%29%20%7B%0A%20%20%20%20%20%20%20%20%20%20%20%20layer.on%28%7B%0A%20%20%20%20%20%20%20%20%20%20%20%20%7D%29%3B%0A%20%20%20%20%20%20%20%20%7D%3B%0A%20%20%20%20%20%20%20%20var%20geo_json_d715672714314ad295508f610e4d2cdd%20%3D%20L.geoJson%28null%2C%20%7B%0A%20%20%20%20%20%20%20%20%20%20%20%20%20%20%20%20onEachFeature%3A%20geo_json_d715672714314ad295508f610e4d2cdd_onEachFeature%2C%0A%20%20%20%20%20%20%20%20%20%20%20%20%0A%20%20%20%20%20%20%20%20%20%20%20%20%20%20%20%20style%3A%20geo_json_d715672714314ad295508f610e4d2cdd_styler%2C%0A%20%20%20%20%20%20%20%20%7D%29%3B%0A%0A%20%20%20%20%20%20%20%20function%20geo_json_d715672714314ad295508f610e4d2cdd_add%20%28data%29%20%7B%0A%20%20%20%20%20%20%20%20%20%20%20%20geo_json_d715672714314ad295508f610e4d2cdd%0A%20%20%20%20%20%20%20%20%20%20%20%20%20%20%20%20.addData%28data%29%0A%20%20%20%20%20%20%20%20%20%20%20%20%20%20%20%20.addTo%28map_00b4a9a43dbb4e13b22179f670065c95%29%3B%0A%20%20%20%20%20%20%20%20%7D%0A%20%20%20%20%20%20%20%20%20%20%20%20geo_json_d715672714314ad295508f610e4d2cdd_add%28%7B%22features%22%3A%20%5B%7B%22geometry%22%3A%20%7B%22coordinates%22%3A%20%5B%5B-74.004014%2C%2040.742055%5D%2C%20%5B-73.974294%2C%2040.788634%5D%2C%20%5B-73.989962%2C%2040.749859%5D%2C%20%5B-73.962815%2C%2040.711955%5D%2C%20%5B-73.952065%2C%2040.851216%5D%2C%20%5B-73.97408%2C%2040.761431%5D%2C%20%5B-73.989178%2C%2040.759332%5D%5D%2C%20%22type%22%3A%20%22LineString%22%7D%2C%20%22id%22%3A%20%220%22%2C%20%22type%22%3A%20%22Feature%22%7D%5D%2C%20%22type%22%3A%20%22FeatureCollection%22%7D%29%3B%0A%0A%20%20%20%20%20%20%20%20%0A%20%20%20%20%0A%20%20%20%20%20%20%20%20function%20geo_json_76250ad1872149ecb52d3775781f40d7_styler%28feature%29%20%7B%0A%20%20%20%20%20%20%20%20%20%20%20%20switch%28feature.id%29%20%7B%0A%20%20%20%20%20%20%20%20%20%20%20%20%20%20%20%20default%3A%0A%20%20%20%20%20%20%20%20%20%20%20%20%20%20%20%20%20%20%20%20return%20%7B%22color%22%3A%20%22%23FF71FD%22%2C%20%22dashArray%22%3A%20%220%2C%200%22%2C%20%22opacity%22%3A%200.75%2C%20%22weight%22%3A%202%7D%3B%0A%20%20%20%20%20%20%20%20%20%20%20%20%7D%0A%20%20%20%20%20%20%20%20%7D%0A%0A%20%20%20%20%20%20%20%20function%20geo_json_76250ad1872149ecb52d3775781f40d7_onEachFeature%28feature%2C%20layer%29%20%7B%0A%20%20%20%20%20%20%20%20%20%20%20%20layer.on%28%7B%0A%20%20%20%20%20%20%20%20%20%20%20%20%7D%29%3B%0A%20%20%20%20%20%20%20%20%7D%3B%0A%20%20%20%20%20%20%20%20var%20geo_json_76250ad1872149ecb52d3775781f40d7%20%3D%20L.geoJson%28null%2C%20%7B%0A%20%20%20%20%20%20%20%20%20%20%20%20%20%20%20%20onEachFeature%3A%20geo_json_76250ad1872149ecb52d3775781f40d7_onEachFeature%2C%0A%20%20%20%20%20%20%20%20%20%20%20%20%0A%20%20%20%20%20%20%20%20%20%20%20%20%20%20%20%20style%3A%20geo_json_76250ad1872149ecb52d3775781f40d7_styler%2C%0A%20%20%20%20%20%20%20%20%7D%29%3B%0A%0A%20%20%20%20%20%20%20%20function%20geo_json_76250ad1872149ecb52d3775781f40d7_add%20%28data%29%20%7B%0A%20%20%20%20%20%20%20%20%20%20%20%20geo_json_76250ad1872149ecb52d3775781f40d7%0A%20%20%20%20%20%20%20%20%20%20%20%20%20%20%20%20.addData%28data%29%0A%20%20%20%20%20%20%20%20%20%20%20%20%20%20%20%20.addTo%28map_00b4a9a43dbb4e13b22179f670065c95%29%3B%0A%20%20%20%20%20%20%20%20%7D%0A%20%20%20%20%20%20%20%20%20%20%20%20geo_json_76250ad1872149ecb52d3775781f40d7_add%28%7B%22features%22%3A%20%5B%7B%22geometry%22%3A%20%7B%22coordinates%22%3A%20%5B%5B-73.957599%2C%2040.712852%5D%2C%20%5B-73.952661%2C%2040.726909%5D%2C%20%5B-73.983688%2C%2040.753728%5D%2C%20%5B-73.982225%2C%2040.750961%5D%2C%20%5B-73.957608%2C%2040.718026%5D%2C%20%5B-73.954939%2C%2040.733135%5D%5D%2C%20%22type%22%3A%20%22LineString%22%7D%2C%20%22id%22%3A%20%220%22%2C%20%22type%22%3A%20%22Feature%22%7D%5D%2C%20%22type%22%3A%20%22FeatureCollection%22%7D%29%3B%0A%0A%20%20%20%20%20%20%20%20%0A%20%20%20%20%0A%20%20%20%20%20%20%20%20function%20geo_json_cde0aa2a6c13453aab94f76605e019e1_styler%28feature%29%20%7B%0A%20%20%20%20%20%20%20%20%20%20%20%20switch%28feature.id%29%20%7B%0A%20%20%20%20%20%20%20%20%20%20%20%20%20%20%20%20default%3A%0A%20%20%20%20%20%20%20%20%20%20%20%20%20%20%20%20%20%20%20%20return%20%7B%22color%22%3A%20%22%23008607%22%2C%20%22dashArray%22%3A%20%220%2C%200%22%2C%20%22opacity%22%3A%200.75%2C%20%22weight%22%3A%202%7D%3B%0A%20%20%20%20%20%20%20%20%20%20%20%20%7D%0A%20%20%20%20%20%20%20%20%7D%0A%0A%20%20%20%20%20%20%20%20function%20geo_json_cde0aa2a6c13453aab94f76605e019e1_onEachFeature%28feature%2C%20layer%29%20%7B%0A%20%20%20%20%20%20%20%20%20%20%20%20layer.on%28%7B%0A%20%20%20%20%20%20%20%20%20%20%20%20%7D%29%3B%0A%20%20%20%20%20%20%20%20%7D%3B%0A%20%20%20%20%20%20%20%20var%20geo_json_cde0aa2a6c13453aab94f76605e019e1%20%3D%20L.geoJson%28null%2C%20%7B%0A%20%20%20%20%20%20%20%20%20%20%20%20%20%20%20%20onEachFeature%3A%20geo_json_cde0aa2a6c13453aab94f76605e019e1_onEachFeature%2C%0A%20%20%20%20%20%20%20%20%20%20%20%20%0A%20%20%20%20%20%20%20%20%20%20%20%20%20%20%20%20style%3A%20geo_json_cde0aa2a6c13453aab94f76605e019e1_styler%2C%0A%20%20%20%20%20%20%20%20%7D%29%3B%0A%0A%20%20%20%20%20%20%20%20function%20geo_json_cde0aa2a6c13453aab94f76605e019e1_add%20%28data%29%20%7B%0A%20%20%20%20%20%20%20%20%20%20%20%20geo_json_cde0aa2a6c13453aab94f76605e019e1%0A%20%20%20%20%20%20%20%20%20%20%20%20%20%20%20%20.addData%28data%29%0A%20%20%20%20%20%20%20%20%20%20%20%20%20%20%20%20.addTo%28map_00b4a9a43dbb4e13b22179f670065c95%29%3B%0A%20%20%20%20%20%20%20%20%7D%0A%20%20%20%20%20%20%20%20%20%20%20%20geo_json_cde0aa2a6c13453aab94f76605e019e1_add%28%7B%22features%22%3A%20%5B%7B%22geometry%22%3A%20%7B%22coordinates%22%3A%20%5B%5B-74.165099%2C%2040.765971%5D%2C%20%5B-73.988585%2C%2040.756717%5D%2C%20%5B-74.029387%2C%2040.736064%5D%2C%20%5B-74.030331%2C%2040.73929%5D%2C%20%5B-74.165099%2C%2040.765971%5D%2C%20%5B-73.992149%2C%2040.80494%5D%2C%20%5B-74.165099%2C%2040.765971%5D%2C%20%5B-73.993703%2C%2040.734225%5D%2C%20%5B-74.165099%2C%2040.765971%5D%2C%20%5B-74.137244%2C%2040.811048%5D%2C%20%5B-73.992149%2C%2040.80494%5D%2C%20%5B-74.165099%2C%2040.765971%5D%2C%20%5B-74.139433%2C%2040.829203%5D%2C%20%5B-74.033963%2C%2040.773611%5D%2C%20%5B-74.029%2C%2040.743162%5D%2C%20%5B-74.165099%2C%2040.765971%5D%2C%20%5B-73.992149%2C%2040.80494%5D%2C%20%5B-74.165099%2C%2040.765971%5D%2C%20%5B-74.159076%2C%2040.774703%5D%2C%20%5B-74.173769%2C%2040.731686%5D%2C%20%5B-74.165099%2C%2040.765971%5D%2C%20%5B-74.17063%2C%2040.741678%5D%2C%20%5B-74.067232%2C%2040.728833%5D%2C%20%5B-73.992149%2C%2040.80494%5D%2C%20%5B-74.165099%2C%2040.765971%5D%2C%20%5B-74.106378%2C%2040.708281%5D%2C%20%5B-73.992149%2C%2040.80494%5D%2C%20%5B-74.165099%2C%2040.765971%5D%5D%2C%20%22type%22%3A%20%22LineString%22%7D%2C%20%22id%22%3A%20%220%22%2C%20%22type%22%3A%20%22Feature%22%7D%5D%2C%20%22type%22%3A%20%22FeatureCollection%22%7D%29%3B%0A%0A%20%20%20%20%20%20%20%20%0A%20%20%20%20%0A%20%20%20%20%20%20%20%20function%20geo_json_de88e9d238c44d63bc5de5805ff2fe72_styler%28feature%29%20%7B%0A%20%20%20%20%20%20%20%20%20%20%20%20switch%28feature.id%29%20%7B%0A%20%20%20%20%20%20%20%20%20%20%20%20%20%20%20%20default%3A%0A%20%20%20%20%20%20%20%20%20%20%20%20%20%20%20%20%20%20%20%20return%20%7B%22color%22%3A%20%22%2300E307%22%2C%20%22dashArray%22%3A%20%220%2C%200%22%2C%20%22opacity%22%3A%200.75%2C%20%22weight%22%3A%202%7D%3B%0A%20%20%20%20%20%20%20%20%20%20%20%20%7D%0A%20%20%20%20%20%20%20%20%7D%0A%0A%20%20%20%20%20%20%20%20function%20geo_json_de88e9d238c44d63bc5de5805ff2fe72_onEachFeature%28feature%2C%20layer%29%20%7B%0A%20%20%20%20%20%20%20%20%20%20%20%20layer.on%28%7B%0A%20%20%20%20%20%20%20%20%20%20%20%20%7D%29%3B%0A%20%20%20%20%20%20%20%20%7D%3B%0A%20%20%20%20%20%20%20%20var%20geo_json_de88e9d238c44d63bc5de5805ff2fe72%20%3D%20L.geoJson%28null%2C%20%7B%0A%20%20%20%20%20%20%20%20%20%20%20%20%20%20%20%20onEachFeature%3A%20geo_json_de88e9d238c44d63bc5de5805ff2fe72_onEachFeature%2C%0A%20%20%20%20%20%20%20%20%20%20%20%20%0A%20%20%20%20%20%20%20%20%20%20%20%20%20%20%20%20style%3A%20geo_json_de88e9d238c44d63bc5de5805ff2fe72_styler%2C%0A%20%20%20%20%20%20%20%20%7D%29%3B%0A%0A%20%20%20%20%20%20%20%20function%20geo_json_de88e9d238c44d63bc5de5805ff2fe72_add%20%28data%29%20%7B%0A%20%20%20%20%20%20%20%20%20%20%20%20geo_json_de88e9d238c44d63bc5de5805ff2fe72%0A%20%20%20%20%20%20%20%20%20%20%20%20%20%20%20%20.addData%28data%29%0A%20%20%20%20%20%20%20%20%20%20%20%20%20%20%20%20.addTo%28map_00b4a9a43dbb4e13b22179f670065c95%29%3B%0A%20%20%20%20%20%20%20%20%7D%0A%20%20%20%20%20%20%20%20%20%20%20%20geo_json_de88e9d238c44d63bc5de5805ff2fe72_add%28%7B%22features%22%3A%20%5B%7B%22geometry%22%3A%20%7B%22coordinates%22%3A%20%5B%5B-73.985542%2C%2040.75841%5D%2C%20%5B-73.860816%2C%2040.833045%5D%2C%20%5B-73.938379%2C%2040.804221%5D%2C%20%5B-73.874345%2C%2040.775066%5D%2C%20%5B-73.87122%2C%2040.773839%5D%2C%20%5B-73.983737%2C%2040.744045%5D%2C%20%5B-73.985256%2C%2040.74477%5D%2C%20%5B-73.98471%2C%2040.742708%5D%5D%2C%20%22type%22%3A%20%22LineString%22%7D%2C%20%22id%22%3A%20%220%22%2C%20%22type%22%3A%20%22Feature%22%7D%5D%2C%20%22type%22%3A%20%22FeatureCollection%22%7D%29%3B%0A%0A%20%20%20%20%20%20%20%20%0A%20%20%20%20%0A%20%20%20%20%20%20%20%20function%20geo_json_9beb706a67ab48fdae4335c2e48c7fb9_styler%28feature%29%20%7B%0A%20%20%20%20%20%20%20%20%20%20%20%20switch%28feature.id%29%20%7B%0A%20%20%20%20%20%20%20%20%20%20%20%20%20%20%20%20default%3A%0A%20%20%20%20%20%20%20%20%20%20%20%20%20%20%20%20%20%20%20%20return%20%7B%22color%22%3A%20%22%237CFFFA%22%2C%20%22dashArray%22%3A%20%220%2C%200%22%2C%20%22opacity%22%3A%200.75%2C%20%22weight%22%3A%202%7D%3B%0A%20%20%20%20%20%20%20%20%20%20%20%20%7D%0A%20%20%20%20%20%20%20%20%7D%0A%0A%20%20%20%20%20%20%20%20function%20geo_json_9beb706a67ab48fdae4335c2e48c7fb9_onEachFeature%28feature%2C%20layer%29%20%7B%0A%20%20%20%20%20%20%20%20%20%20%20%20layer.on%28%7B%0A%20%20%20%20%20%20%20%20%20%20%20%20%7D%29%3B%0A%20%20%20%20%20%20%20%20%7D%3B%0A%20%20%20%20%20%20%20%20var%20geo_json_9beb706a67ab48fdae4335c2e48c7fb9%20%3D%20L.geoJson%28null%2C%20%7B%0A%20%20%20%20%20%20%20%20%20%20%20%20%20%20%20%20onEachFeature%3A%20geo_json_9beb706a67ab48fdae4335c2e48c7fb9_onEachFeature%2C%0A%20%20%20%20%20%20%20%20%20%20%20%20%0A%20%20%20%20%20%20%20%20%20%20%20%20%20%20%20%20style%3A%20geo_json_9beb706a67ab48fdae4335c2e48c7fb9_styler%2C%0A%20%20%20%20%20%20%20%20%7D%29%3B%0A%0A%20%20%20%20%20%20%20%20function%20geo_json_9beb706a67ab48fdae4335c2e48c7fb9_add%20%28data%29%20%7B%0A%20%20%20%20%20%20%20%20%20%20%20%20geo_json_9beb706a67ab48fdae4335c2e48c7fb9%0A%20%20%20%20%20%20%20%20%20%20%20%20%20%20%20%20.addData%28data%29%0A%20%20%20%20%20%20%20%20%20%20%20%20%20%20%20%20.addTo%28map_00b4a9a43dbb4e13b22179f670065c95%29%3B%0A%20%20%20%20%20%20%20%20%7D%0A%20%20%20%20%20%20%20%20%20%20%20%20geo_json_9beb706a67ab48fdae4335c2e48c7fb9_add%28%7B%22features%22%3A%20%5B%7B%22geometry%22%3A%20%7B%22coordinates%22%3A%20%5B%5B-73.846235%2C%2040.8555%5D%2C%20%5B-73.846722%2C%2040.856751%5D%2C%20%5B-73.846722%2C%2040.856751%5D%2C%20%5B-73.993576%2C%2040.750795%5D%2C%20%5B-73.988564%2C%2040.750614%5D%2C%20%5B-73.846235%2C%2040.8555%5D%2C%20%5B-73.846722%2C%2040.856751%5D%2C%20%5B-73.846235%2C%2040.8555%5D%2C%20%5B-73.846235%2C%2040.8555%5D%2C%20%5B-73.846722%2C%2040.856751%5D%2C%20%5B-73.883251%2C%2040.837604%5D%2C%20%5B-73.846235%2C%2040.8555%5D%2C%20%5B-73.846722%2C%2040.856751%5D%5D%2C%20%22type%22%3A%20%22LineString%22%7D%2C%20%22id%22%3A%20%220%22%2C%20%22type%22%3A%20%22Feature%22%7D%5D%2C%20%22type%22%3A%20%22FeatureCollection%22%7D%29%3B%0A%0A%20%20%20%20%20%20%20%20%0A%20%20%20%20%0A%20%20%20%20%20%20%20%20function%20geo_json_8a18db275b1e42c68ac0f9f4dfea68a0_styler%28feature%29%20%7B%0A%20%20%20%20%20%20%20%20%20%20%20%20switch%28feature.id%29%20%7B%0A%20%20%20%20%20%20%20%20%20%20%20%20%20%20%20%20default%3A%0A%20%20%20%20%20%20%20%20%20%20%20%20%20%20%20%20%20%20%20%20return%20%7B%22color%22%3A%20%22%23009FFA%22%2C%20%22dashArray%22%3A%20%220%2C%200%22%2C%20%22opacity%22%3A%200.75%2C%20%22weight%22%3A%202%7D%3B%0A%20%20%20%20%20%20%20%20%20%20%20%20%7D%0A%20%20%20%20%20%20%20%20%7D%0A%0A%20%20%20%20%20%20%20%20function%20geo_json_8a18db275b1e42c68ac0f9f4dfea68a0_onEachFeature%28feature%2C%20layer%29%20%7B%0A%20%20%20%20%20%20%20%20%20%20%20%20layer.on%28%7B%0A%20%20%20%20%20%20%20%20%20%20%20%20%7D%29%3B%0A%20%20%20%20%20%20%20%20%7D%3B%0A%20%20%20%20%20%20%20%20var%20geo_json_8a18db275b1e42c68ac0f9f4dfea68a0%20%3D%20L.geoJson%28null%2C%20%7B%0A%20%20%20%20%20%20%20%20%20%20%20%20%20%20%20%20onEachFeature%3A%20geo_json_8a18db275b1e42c68ac0f9f4dfea68a0_onEachFeature%2C%0A%20%20%20%20%20%20%20%20%20%20%20%20%0A%20%20%20%20%20%20%20%20%20%20%20%20%20%20%20%20style%3A%20geo_json_8a18db275b1e42c68ac0f9f4dfea68a0_styler%2C%0A%20%20%20%20%20%20%20%20%7D%29%3B%0A%0A%20%20%20%20%20%20%20%20function%20geo_json_8a18db275b1e42c68ac0f9f4dfea68a0_add%20%28data%29%20%7B%0A%20%20%20%20%20%20%20%20%20%20%20%20geo_json_8a18db275b1e42c68ac0f9f4dfea68a0%0A%20%20%20%20%20%20%20%20%20%20%20%20%20%20%20%20.addData%28data%29%0A%20%20%20%20%20%20%20%20%20%20%20%20%20%20%20%20.addTo%28map_00b4a9a43dbb4e13b22179f670065c95%29%3B%0A%20%20%20%20%20%20%20%20%7D%0A%20%20%20%20%20%20%20%20%20%20%20%20geo_json_8a18db275b1e42c68ac0f9f4dfea68a0_add%28%7B%22features%22%3A%20%5B%7B%22geometry%22%3A%20%7B%22coordinates%22%3A%20%5B%5B-73.910765%2C%2040.699532%5D%2C%20%5B-73.911821%2C%2040.699682%5D%2C%20%5B-73.88307%2C%2040.716162%5D%2C%20%5B-73.896302%2C%2040.706159%5D%2C%20%5B-73.848514%2C%2040.711181%5D%2C%20%5B-73.910765%2C%2040.700031%5D%2C%20%5B-73.911821%2C%2040.699682%5D%2C%20%5B-73.862377%2C%2040.710102%5D%2C%20%5B-73.88307%2C%2040.716162%5D%2C%20%5B-73.88307%2C%2040.716162%5D%2C%20%5B-73.900212%2C%2040.71263%5D%2C%20%5B-73.95965%2C%2040.709347%5D%2C%20%5B-73.960909%2C%2040.710227%5D%2C%20%5B-73.795552%2C%2040.707645%5D%2C%20%5B-73.896302%2C%2040.706159%5D%2C%20%5B-73.911821%2C%2040.699682%5D%2C%20%5B-73.829974%2C%2040.759585%5D%2C%20%5B-73.829469%2C%2040.757334%5D%2C%20%5B-73.910765%2C%2040.700031%5D%2C%20%5B-73.896302%2C%2040.706159%5D%2C%20%5B-73.88307%2C%2040.716162%5D%2C%20%5B-73.88307%2C%2040.716162%5D%2C%20%5B-73.868941%2C%2040.708601%5D%2C%20%5B-73.86868%2C%2040.708198%5D%2C%20%5B-73.88307%2C%2040.716162%5D%2C%20%5B-73.975979%2C%2040.68312%5D%2C%20%5B-73.98723%2C%2040.6921%5D%2C%20%5B-73.896302%2C%2040.706159%5D%2C%20%5B-73.88307%2C%2040.716162%5D%2C%20%5B-73.896302%2C%2040.706159%5D%2C%20%5B-73.910765%2C%2040.700031%5D%2C%20%5B-73.911821%2C%2040.699682%5D%2C%20%5B-73.911776%2C%2040.699526%5D%2C%20%5B-73.848514%2C%2040.711181%5D%2C%20%5B-73.896302%2C%2040.706159%5D%5D%2C%20%22type%22%3A%20%22LineString%22%7D%2C%20%22id%22%3A%20%220%22%2C%20%22type%22%3A%20%22Feature%22%7D%5D%2C%20%22type%22%3A%20%22FeatureCollection%22%7D%29%3B%0A%0A%20%20%20%20%20%20%20%20%0A%20%20%20%20%0A%20%20%20%20%20%20%20%20function%20geo_json_edf77c8ecb1b4fd4b26b6c085a844690_styler%28feature%29%20%7B%0A%20%20%20%20%20%20%20%20%20%20%20%20switch%28feature.id%29%20%7B%0A%20%20%20%20%20%20%20%20%20%20%20%20%20%20%20%20default%3A%0A%20%20%20%20%20%20%20%20%20%20%20%20%20%20%20%20%20%20%20%20return%20%7B%22color%22%3A%20%22%2300DCB5%22%2C%20%22dashArray%22%3A%20%220%2C%200%22%2C%20%22opacity%22%3A%200.75%2C%20%22weight%22%3A%202%7D%3B%0A%20%20%20%20%20%20%20%20%20%20%20%20%7D%0A%20%20%20%20%20%20%20%20%7D%0A%0A%20%20%20%20%20%20%20%20function%20geo_json_edf77c8ecb1b4fd4b26b6c085a844690_onEachFeature%28feature%2C%20layer%29%20%7B%0A%20%20%20%20%20%20%20%20%20%20%20%20layer.on%28%7B%0A%20%20%20%20%20%20%20%20%20%20%20%20%7D%29%3B%0A%20%20%20%20%20%20%20%20%7D%3B%0A%20%20%20%20%20%20%20%20var%20geo_json_edf77c8ecb1b4fd4b26b6c085a844690%20%3D%20L.geoJson%28null%2C%20%7B%0A%20%20%20%20%20%20%20%20%20%20%20%20%20%20%20%20onEachFeature%3A%20geo_json_edf77c8ecb1b4fd4b26b6c085a844690_onEachFeature%2C%0A%20%20%20%20%20%20%20%20%20%20%20%20%0A%20%20%20%20%20%20%20%20%20%20%20%20%20%20%20%20style%3A%20geo_json_edf77c8ecb1b4fd4b26b6c085a844690_styler%2C%0A%20%20%20%20%20%20%20%20%7D%29%3B%0A%0A%20%20%20%20%20%20%20%20function%20geo_json_edf77c8ecb1b4fd4b26b6c085a844690_add%20%28data%29%20%7B%0A%20%20%20%20%20%20%20%20%20%20%20%20geo_json_edf77c8ecb1b4fd4b26b6c085a844690%0A%20%20%20%20%20%20%20%20%20%20%20%20%20%20%20%20.addData%28data%29%0A%20%20%20%20%20%20%20%20%20%20%20%20%20%20%20%20.addTo%28map_00b4a9a43dbb4e13b22179f670065c95%29%3B%0A%20%20%20%20%20%20%20%20%7D%0A%20%20%20%20%20%20%20%20%20%20%20%20geo_json_edf77c8ecb1b4fd4b26b6c085a844690_add%28%7B%22features%22%3A%20%5B%7B%22geometry%22%3A%20%7B%22coordinates%22%3A%20%5B%5B-73.898699%2C%2040.676928%5D%2C%20%5B-73.985603%2C%2040.758538%5D%2C%20%5B-73.987384%2C%2040.769849%5D%2C%20%5B-73.898699%2C%2040.676928%5D%2C%20%5B-73.989835%2C%2040.757321%5D%2C%20%5B-73.989193%2C%2040.757649%5D%5D%2C%20%22type%22%3A%20%22LineString%22%7D%2C%20%22id%22%3A%20%220%22%2C%20%22type%22%3A%20%22Feature%22%7D%5D%2C%20%22type%22%3A%20%22FeatureCollection%22%7D%29%3B%0A%0A%20%20%20%20%20%20%20%20%0A%20%20%20%20%0A%20%20%20%20%20%20%20%20function%20geo_json_1fe97c80dd474244b51097ff2bf661d3_styler%28feature%29%20%7B%0A%20%20%20%20%20%20%20%20%20%20%20%20switch%28feature.id%29%20%7B%0A%20%20%20%20%20%20%20%20%20%20%20%20%20%20%20%20default%3A%0A%20%20%20%20%20%20%20%20%20%20%20%20%20%20%20%20%20%20%20%20return%20%7B%22color%22%3A%20%22%23FFDC3D%22%2C%20%22dashArray%22%3A%20%220%2C%200%22%2C%20%22opacity%22%3A%200.75%2C%20%22weight%22%3A%202%7D%3B%0A%20%20%20%20%20%20%20%20%20%20%20%20%7D%0A%20%20%20%20%20%20%20%20%7D%0A%0A%20%20%20%20%20%20%20%20function%20geo_json_1fe97c80dd474244b51097ff2bf661d3_onEachFeature%28feature%2C%20layer%29%20%7B%0A%20%20%20%20%20%20%20%20%20%20%20%20layer.on%28%7B%0A%20%20%20%20%20%20%20%20%20%20%20%20%7D%29%3B%0A%20%20%20%20%20%20%20%20%7D%3B%0A%20%20%20%20%20%20%20%20var%20geo_json_1fe97c80dd474244b51097ff2bf661d3%20%3D%20L.geoJson%28null%2C%20%7B%0A%20%20%20%20%20%20%20%20%20%20%20%20%20%20%20%20onEachFeature%3A%20geo_json_1fe97c80dd474244b51097ff2bf661d3_onEachFeature%2C%0A%20%20%20%20%20%20%20%20%20%20%20%20%0A%20%20%20%20%20%20%20%20%20%20%20%20%20%20%20%20style%3A%20geo_json_1fe97c80dd474244b51097ff2bf661d3_styler%2C%0A%20%20%20%20%20%20%20%20%7D%29%3B%0A%0A%20%20%20%20%20%20%20%20function%20geo_json_1fe97c80dd474244b51097ff2bf661d3_add%20%28data%29%20%7B%0A%20%20%20%20%20%20%20%20%20%20%20%20geo_json_1fe97c80dd474244b51097ff2bf661d3%0A%20%20%20%20%20%20%20%20%20%20%20%20%20%20%20%20.addData%28data%29%0A%20%20%20%20%20%20%20%20%20%20%20%20%20%20%20%20.addTo%28map_00b4a9a43dbb4e13b22179f670065c95%29%3B%0A%20%20%20%20%20%20%20%20%7D%0A%20%20%20%20%20%20%20%20%20%20%20%20geo_json_1fe97c80dd474244b51097ff2bf661d3_add%28%7B%22features%22%3A%20%5B%7B%22geometry%22%3A%20%7B%22coordinates%22%3A%20%5B%5B-73.993363%2C%2040.75262%5D%2C%20%5B-73.998185%2C%2040.745255%5D%2C%20%5B-73.992881%2C%2040.753018%5D%2C%20%5B-73.980142%2C%2040.759742%5D%2C%20%5B-73.98758%2C%2040.762147%5D%2C%20%5B-73.993363%2C%2040.75262%5D%2C%20%5B-73.968141%2C%2040.757087%5D%2C%20%5B-73.993363%2C%2040.75262%5D%5D%2C%20%22type%22%3A%20%22LineString%22%7D%2C%20%22id%22%3A%20%220%22%2C%20%22type%22%3A%20%22Feature%22%7D%5D%2C%20%22type%22%3A%20%22FeatureCollection%22%7D%29%3B%0A%0A%20%20%20%20%20%20%20%20%0A%20%20%20%20%0A%20%20%20%20%20%20%20%20function%20geo_json_3cbb8ba2178849398f19c8a658467626_styler%28feature%29%20%7B%0A%20%20%20%20%20%20%20%20%20%20%20%20switch%28feature.id%29%20%7B%0A%20%20%20%20%20%20%20%20%20%20%20%20%20%20%20%20default%3A%0A%20%20%20%20%20%20%20%20%20%20%20%20%20%20%20%20%20%20%20%20return%20%7B%22color%22%3A%20%22%23009FFA%22%2C%20%22dashArray%22%3A%20%220%2C%200%22%2C%20%22opacity%22%3A%200.75%2C%20%22weight%22%3A%202%7D%3B%0A%20%20%20%20%20%20%20%20%20%20%20%20%7D%0A%20%20%20%20%20%20%20%20%7D%0A%0A%20%20%20%20%20%20%20%20function%20geo_json_3cbb8ba2178849398f19c8a658467626_onEachFeature%28feature%2C%20layer%29%20%7B%0A%20%20%20%20%20%20%20%20%20%20%20%20layer.on%28%7B%0A%20%20%20%20%20%20%20%20%20%20%20%20%7D%29%3B%0A%20%20%20%20%20%20%20%20%7D%3B%0A%20%20%20%20%20%20%20%20var%20geo_json_3cbb8ba2178849398f19c8a658467626%20%3D%20L.geoJson%28null%2C%20%7B%0A%20%20%20%20%20%20%20%20%20%20%20%20%20%20%20%20onEachFeature%3A%20geo_json_3cbb8ba2178849398f19c8a658467626_onEachFeature%2C%0A%20%20%20%20%20%20%20%20%20%20%20%20%0A%20%20%20%20%20%20%20%20%20%20%20%20%20%20%20%20style%3A%20geo_json_3cbb8ba2178849398f19c8a658467626_styler%2C%0A%20%20%20%20%20%20%20%20%7D%29%3B%0A%0A%20%20%20%20%20%20%20%20function%20geo_json_3cbb8ba2178849398f19c8a658467626_add%20%28data%29%20%7B%0A%20%20%20%20%20%20%20%20%20%20%20%20geo_json_3cbb8ba2178849398f19c8a658467626%0A%20%20%20%20%20%20%20%20%20%20%20%20%20%20%20%20.addData%28data%29%0A%20%20%20%20%20%20%20%20%20%20%20%20%20%20%20%20.addTo%28map_00b4a9a43dbb4e13b22179f670065c95%29%3B%0A%20%20%20%20%20%20%20%20%7D%0A%20%20%20%20%20%20%20%20%20%20%20%20geo_json_3cbb8ba2178849398f19c8a658467626_add%28%7B%22features%22%3A%20%5B%7B%22geometry%22%3A%20%7B%22coordinates%22%3A%20%5B%5B-73.991643%2C%2040.684767%5D%2C%20%5B-73.992413%2C%2040.689649%5D%2C%20%5B-73.983017%2C%2040.66276%5D%2C%20%5B-73.983017%2C%2040.66276%5D%2C%20%5B-73.980472%2C%2040.664145%5D%2C%20%5B-73.983017%2C%2040.66276%5D%5D%2C%20%22type%22%3A%20%22LineString%22%7D%2C%20%22id%22%3A%20%220%22%2C%20%22type%22%3A%20%22Feature%22%7D%5D%2C%20%22type%22%3A%20%22FeatureCollection%22%7D%29%3B%0A%0A%20%20%20%20%20%20%20%20%0A%20%20%20%20%0A%20%20%20%20%20%20%20%20function%20geo_json_072c19316267410aa3e52e33291cc035_styler%28feature%29%20%7B%0A%20%20%20%20%20%20%20%20%20%20%20%20switch%28feature.id%29%20%7B%0A%20%20%20%20%20%20%20%20%20%20%20%20%20%20%20%20default%3A%0A%20%20%20%20%20%20%20%20%20%20%20%20%20%20%20%20%20%20%20%20return%20%7B%22color%22%3A%20%22%23EF0096%22%2C%20%22dashArray%22%3A%20%220%2C%200%22%2C%20%22opacity%22%3A%200.75%2C%20%22weight%22%3A%202%7D%3B%0A%20%20%20%20%20%20%20%20%20%20%20%20%7D%0A%20%20%20%20%20%20%20%20%7D%0A%0A%20%20%20%20%20%20%20%20function%20geo_json_072c19316267410aa3e52e33291cc035_onEachFeature%28feature%2C%20layer%29%20%7B%0A%20%20%20%20%20%20%20%20%20%20%20%20layer.on%28%7B%0A%20%20%20%20%20%20%20%20%20%20%20%20%7D%29%3B%0A%20%20%20%20%20%20%20%20%7D%3B%0A%20%20%20%20%20%20%20%20var%20geo_json_072c19316267410aa3e52e33291cc035%20%3D%20L.geoJson%28null%2C%20%7B%0A%20%20%20%20%20%20%20%20%20%20%20%20%20%20%20%20onEachFeature%3A%20geo_json_072c19316267410aa3e52e33291cc035_onEachFeature%2C%0A%20%20%20%20%20%20%20%20%20%20%20%20%0A%20%20%20%20%20%20%20%20%20%20%20%20%20%20%20%20style%3A%20geo_json_072c19316267410aa3e52e33291cc035_styler%2C%0A%20%20%20%20%20%20%20%20%7D%29%3B%0A%0A%20%20%20%20%20%20%20%20function%20geo_json_072c19316267410aa3e52e33291cc035_add%20%28data%29%20%7B%0A%20%20%20%20%20%20%20%20%20%20%20%20geo_json_072c19316267410aa3e52e33291cc035%0A%20%20%20%20%20%20%20%20%20%20%20%20%20%20%20%20.addData%28data%29%0A%20%20%20%20%20%20%20%20%20%20%20%20%20%20%20%20.addTo%28map_00b4a9a43dbb4e13b22179f670065c95%29%3B%0A%20%20%20%20%20%20%20%20%7D%0A%20%20%20%20%20%20%20%20%20%20%20%20geo_json_072c19316267410aa3e52e33291cc035_add%28%7B%22features%22%3A%20%5B%7B%22geometry%22%3A%20%7B%22coordinates%22%3A%20%5B%5B-73.941347%2C%2040.824623%5D%2C%20%5B-73.900845%2C%2040.856028%5D%2C%20%5B-73.90528%2C%2040.854907%5D%2C%20%5B-73.907068%2C%2040.854348%5D%2C%20%5B-73.975024%2C%2040.756002%5D%2C%20%5B-73.969817%2C%2040.756221%5D%2C%20%5B-73.986725%2C%2040.764104%5D%2C%20%5B-73.984157%2C%2040.726349%5D%2C%20%5B-73.99104%2C%2040.733162%5D%2C%20%5B-73.941347%2C%2040.824623%5D%2C%20%5B-73.938832%2C%2040.826813%5D%2C%20%5B-73.941347%2C%2040.824623%5D%2C%20%5B-73.941347%2C%2040.824623%5D%2C%20%5B-73.904708%2C%2040.854775%5D%2C%20%5B-73.975389%2C%2040.755661%5D%2C%20%5B-73.883958%2C%2040.747615%5D%2C%20%5B-73.846064%2C%2040.756457%5D%2C%20%5B-73.846406%2C%2040.757099%5D%2C%20%5B-73.982076%2C%2040.758731%5D%2C%20%5B-73.941347%2C%2040.824623%5D%2C%20%5B-73.900845%2C%2040.856028%5D%2C%20%5B-73.904708%2C%2040.854775%5D%2C%20%5B-73.904708%2C%2040.854775%5D%2C%20%5B-73.941347%2C%2040.824623%5D%2C%20%5B-73.904708%2C%2040.854775%5D%2C%20%5B-73.941347%2C%2040.824623%5D%2C%20%5B-73.904708%2C%2040.854775%5D%2C%20%5B-73.941347%2C%2040.824623%5D%5D%2C%20%22type%22%3A%20%22LineString%22%7D%2C%20%22id%22%3A%20%220%22%2C%20%22type%22%3A%20%22Feature%22%7D%5D%2C%20%22type%22%3A%20%22FeatureCollection%22%7D%29%3B%0A%0A%20%20%20%20%20%20%20%20%0A%20%20%20%20%0A%20%20%20%20%20%20%20%20function%20geo_json_3eb3af59b0544479a54b1b07ff5f9db3_styler%28feature%29%20%7B%0A%20%20%20%20%20%20%20%20%20%20%20%20switch%28feature.id%29%20%7B%0A%20%20%20%20%20%20%20%20%20%20%20%20%20%20%20%20default%3A%0A%20%20%20%20%20%20%20%20%20%20%20%20%20%20%20%20%20%20%20%20return%20%7B%22color%22%3A%20%22%239400E6%22%2C%20%22dashArray%22%3A%20%220%2C%200%22%2C%20%22opacity%22%3A%200.75%2C%20%22weight%22%3A%202%7D%3B%0A%20%20%20%20%20%20%20%20%20%20%20%20%7D%0A%20%20%20%20%20%20%20%20%7D%0A%0A%20%20%20%20%20%20%20%20function%20geo_json_3eb3af59b0544479a54b1b07ff5f9db3_onEachFeature%28feature%2C%20layer%29%20%7B%0A%20%20%20%20%20%20%20%20%20%20%20%20layer.on%28%7B%0A%20%20%20%20%20%20%20%20%20%20%20%20%7D%29%3B%0A%20%20%20%20%20%20%20%20%7D%3B%0A%20%20%20%20%20%20%20%20var%20geo_json_3eb3af59b0544479a54b1b07ff5f9db3%20%3D%20L.geoJson%28null%2C%20%7B%0A%20%20%20%20%20%20%20%20%20%20%20%20%20%20%20%20onEachFeature%3A%20geo_json_3eb3af59b0544479a54b1b07ff5f9db3_onEachFeature%2C%0A%20%20%20%20%20%20%20%20%20%20%20%20%0A%20%20%20%20%20%20%20%20%20%20%20%20%20%20%20%20style%3A%20geo_json_3eb3af59b0544479a54b1b07ff5f9db3_styler%2C%0A%20%20%20%20%20%20%20%20%7D%29%3B%0A%0A%20%20%20%20%20%20%20%20function%20geo_json_3eb3af59b0544479a54b1b07ff5f9db3_add%20%28data%29%20%7B%0A%20%20%20%20%20%20%20%20%20%20%20%20geo_json_3eb3af59b0544479a54b1b07ff5f9db3%0A%20%20%20%20%20%20%20%20%20%20%20%20%20%20%20%20.addData%28data%29%0A%20%20%20%20%20%20%20%20%20%20%20%20%20%20%20%20.addTo%28map_00b4a9a43dbb4e13b22179f670065c95%29%3B%0A%20%20%20%20%20%20%20%20%7D%0A%20%20%20%20%20%20%20%20%20%20%20%20geo_json_3eb3af59b0544479a54b1b07ff5f9db3_add%28%7B%22features%22%3A%20%5B%7B%22geometry%22%3A%20%7B%22coordinates%22%3A%20%5B%5B-74.141613%2C%2040.772557%5D%2C%20%5B-74.087831%2C%2040.709517%5D%2C%20%5B-74.141613%2C%2040.772557%5D%2C%20%5B-74.049603%2C%2040.726023%5D%2C%20%5B-74.043496%2C%2040.885957%5D%2C%20%5B-73.96398%2C%2040.732734%5D%2C%20%5B-74.087831%2C%2040.709517%5D%2C%20%5B-74.089902%2C%2040.712898%5D%5D%2C%20%22type%22%3A%20%22LineString%22%7D%2C%20%22id%22%3A%20%220%22%2C%20%22type%22%3A%20%22Feature%22%7D%5D%2C%20%22type%22%3A%20%22FeatureCollection%22%7D%29%3B%0A%0A%20%20%20%20%20%20%20%20%0A%20%20%20%20%0A%20%20%20%20%20%20%20%20function%20geo_json_e30c0912c6834032987cee946d0a464c_styler%28feature%29%20%7B%0A%20%20%20%20%20%20%20%20%20%20%20%20switch%28feature.id%29%20%7B%0A%20%20%20%20%20%20%20%20%20%20%20%20%20%20%20%20default%3A%0A%20%20%20%20%20%20%20%20%20%20%20%20%20%20%20%20%20%20%20%20return%20%7B%22color%22%3A%20%22%23FFDC3D%22%2C%20%22dashArray%22%3A%20%220%2C%200%22%2C%20%22opacity%22%3A%200.75%2C%20%22weight%22%3A%202%7D%3B%0A%20%20%20%20%20%20%20%20%20%20%20%20%7D%0A%20%20%20%20%20%20%20%20%7D%0A%0A%20%20%20%20%20%20%20%20function%20geo_json_e30c0912c6834032987cee946d0a464c_onEachFeature%28feature%2C%20layer%29%20%7B%0A%20%20%20%20%20%20%20%20%20%20%20%20layer.on%28%7B%0A%20%20%20%20%20%20%20%20%20%20%20%20%7D%29%3B%0A%20%20%20%20%20%20%20%20%7D%3B%0A%20%20%20%20%20%20%20%20var%20geo_json_e30c0912c6834032987cee946d0a464c%20%3D%20L.geoJson%28null%2C%20%7B%0A%20%20%20%20%20%20%20%20%20%20%20%20%20%20%20%20onEachFeature%3A%20geo_json_e30c0912c6834032987cee946d0a464c_onEachFeature%2C%0A%20%20%20%20%20%20%20%20%20%20%20%20%0A%20%20%20%20%20%20%20%20%20%20%20%20%20%20%20%20style%3A%20geo_json_e30c0912c6834032987cee946d0a464c_styler%2C%0A%20%20%20%20%20%20%20%20%7D%29%3B%0A%0A%20%20%20%20%20%20%20%20function%20geo_json_e30c0912c6834032987cee946d0a464c_add%20%28data%29%20%7B%0A%20%20%20%20%20%20%20%20%20%20%20%20geo_json_e30c0912c6834032987cee946d0a464c%0A%20%20%20%20%20%20%20%20%20%20%20%20%20%20%20%20.addData%28data%29%0A%20%20%20%20%20%20%20%20%20%20%20%20%20%20%20%20.addTo%28map_00b4a9a43dbb4e13b22179f670065c95%29%3B%0A%20%20%20%20%20%20%20%20%7D%0A%20%20%20%20%20%20%20%20%20%20%20%20geo_json_e30c0912c6834032987cee946d0a464c_add%28%7B%22features%22%3A%20%5B%7B%22geometry%22%3A%20%7B%22coordinates%22%3A%20%5B%5B-73.999281%2C%2040.728277%5D%2C%20%5B-73.973844%2C%2040.782247%5D%2C%20%5B-74.004779%2C%2040.74205%5D%2C%20%5B-73.973844%2C%2040.782247%5D%2C%20%5B-73.973844%2C%2040.782247%5D%2C%20%5B-73.978265%2C%2040.783335%5D%2C%20%5B-73.973844%2C%2040.782247%5D%5D%2C%20%22type%22%3A%20%22LineString%22%7D%2C%20%22id%22%3A%20%220%22%2C%20%22type%22%3A%20%22Feature%22%7D%5D%2C%20%22type%22%3A%20%22FeatureCollection%22%7D%29%3B%0A%0A%20%20%20%20%20%20%20%20%0A%20%20%20%20%0A%20%20%20%20%20%20%20%20function%20geo_json_8f95d5bb0a314ad0bc44600602327838_styler%28feature%29%20%7B%0A%20%20%20%20%20%20%20%20%20%20%20%20switch%28feature.id%29%20%7B%0A%20%20%20%20%20%20%20%20%20%20%20%20%20%20%20%20default%3A%0A%20%20%20%20%20%20%20%20%20%20%20%20%20%20%20%20%20%20%20%20return%20%7B%22color%22%3A%20%22%23EF0096%22%2C%20%22dashArray%22%3A%20%220%2C%200%22%2C%20%22opacity%22%3A%200.75%2C%20%22weight%22%3A%202%7D%3B%0A%20%20%20%20%20%20%20%20%20%20%20%20%7D%0A%20%20%20%20%20%20%20%20%7D%0A%0A%20%20%20%20%20%20%20%20function%20geo_json_8f95d5bb0a314ad0bc44600602327838_onEachFeature%28feature%2C%20layer%29%20%7B%0A%20%20%20%20%20%20%20%20%20%20%20%20layer.on%28%7B%0A%20%20%20%20%20%20%20%20%20%20%20%20%7D%29%3B%0A%20%20%20%20%20%20%20%20%7D%3B%0A%20%20%20%20%20%20%20%20var%20geo_json_8f95d5bb0a314ad0bc44600602327838%20%3D%20L.geoJson%28null%2C%20%7B%0A%20%20%20%20%20%20%20%20%20%20%20%20%20%20%20%20onEachFeature%3A%20geo_json_8f95d5bb0a314ad0bc44600602327838_onEachFeature%2C%0A%20%20%20%20%20%20%20%20%20%20%20%20%0A%20%20%20%20%20%20%20%20%20%20%20%20%20%20%20%20style%3A%20geo_json_8f95d5bb0a314ad0bc44600602327838_styler%2C%0A%20%20%20%20%20%20%20%20%7D%29%3B%0A%0A%20%20%20%20%20%20%20%20function%20geo_json_8f95d5bb0a314ad0bc44600602327838_add%20%28data%29%20%7B%0A%20%20%20%20%20%20%20%20%20%20%20%20geo_json_8f95d5bb0a314ad0bc44600602327838%0A%20%20%20%20%20%20%20%20%20%20%20%20%20%20%20%20.addData%28data%29%0A%20%20%20%20%20%20%20%20%20%20%20%20%20%20%20%20.addTo%28map_00b4a9a43dbb4e13b22179f670065c95%29%3B%0A%20%20%20%20%20%20%20%20%7D%0A%20%20%20%20%20%20%20%20%20%20%20%20geo_json_8f95d5bb0a314ad0bc44600602327838_add%28%7B%22features%22%3A%20%5B%7B%22geometry%22%3A%20%7B%22coordinates%22%3A%20%5B%5B-73.985863%2C%2040.732841%5D%2C%20%5B-73.829982%2C%2040.758859%5D%5D%2C%20%22type%22%3A%20%22LineString%22%7D%2C%20%22id%22%3A%20%220%22%2C%20%22type%22%3A%20%22Feature%22%7D%5D%2C%20%22type%22%3A%20%22FeatureCollection%22%7D%29%3B%0A%0A%20%20%20%20%20%20%20%20%0A%20%20%20%20%0A%20%20%20%20%20%20%20%20function%20geo_json_466808dc746d49e88f616d6e4a034374_styler%28feature%29%20%7B%0A%20%20%20%20%20%20%20%20%20%20%20%20switch%28feature.id%29%20%7B%0A%20%20%20%20%20%20%20%20%20%20%20%20%20%20%20%20default%3A%0A%20%20%20%20%20%20%20%20%20%20%20%20%20%20%20%20%20%20%20%20return%20%7B%22color%22%3A%20%22%23FFDC3D%22%2C%20%22dashArray%22%3A%20%220%2C%200%22%2C%20%22opacity%22%3A%200.75%2C%20%22weight%22%3A%202%7D%3B%0A%20%20%20%20%20%20%20%20%20%20%20%20%7D%0A%20%20%20%20%20%20%20%20%7D%0A%0A%20%20%20%20%20%20%20%20function%20geo_json_466808dc746d49e88f616d6e4a034374_onEachFeature%28feature%2C%20layer%29%20%7B%0A%20%20%20%20%20%20%20%20%20%20%20%20layer.on%28%7B%0A%20%20%20%20%20%20%20%20%20%20%20%20%7D%29%3B%0A%20%20%20%20%20%20%20%20%7D%3B%0A%20%20%20%20%20%20%20%20var%20geo_json_466808dc746d49e88f616d6e4a034374%20%3D%20L.geoJson%28null%2C%20%7B%0A%20%20%20%20%20%20%20%20%20%20%20%20%20%20%20%20onEachFeature%3A%20geo_json_466808dc746d49e88f616d6e4a034374_onEachFeature%2C%0A%20%20%20%20%20%20%20%20%20%20%20%20%0A%20%20%20%20%20%20%20%20%20%20%20%20%20%20%20%20style%3A%20geo_json_466808dc746d49e88f616d6e4a034374_styler%2C%0A%20%20%20%20%20%20%20%20%7D%29%3B%0A%0A%20%20%20%20%20%20%20%20function%20geo_json_466808dc746d49e88f616d6e4a034374_add%20%28data%29%20%7B%0A%20%20%20%20%20%20%20%20%20%20%20%20geo_json_466808dc746d49e88f616d6e4a034374%0A%20%20%20%20%20%20%20%20%20%20%20%20%20%20%20%20.addData%28data%29%0A%20%20%20%20%20%20%20%20%20%20%20%20%20%20%20%20.addTo%28map_00b4a9a43dbb4e13b22179f670065c95%29%3B%0A%20%20%20%20%20%20%20%20%7D%0A%20%20%20%20%20%20%20%20%20%20%20%20geo_json_466808dc746d49e88f616d6e4a034374_add%28%7B%22features%22%3A%20%5B%7B%22geometry%22%3A%20%7B%22coordinates%22%3A%20%5B%5B-73.983875%2C%2040.668003%5D%2C%20%5B-73.940227%2C%2040.692678%5D%2C%20%5B-74.001445%2C%2040.732204%5D%2C%20%5B-73.871933%2C%2040.649832%5D%2C%20%5B-73.976204%2C%2040.684592%5D%5D%2C%20%22type%22%3A%20%22LineString%22%7D%2C%20%22id%22%3A%20%220%22%2C%20%22type%22%3A%20%22Feature%22%7D%5D%2C%20%22type%22%3A%20%22FeatureCollection%22%7D%29%3B%0A%0A%20%20%20%20%20%20%20%20%0A%20%20%20%20%0A%20%20%20%20%20%20%20%20function%20geo_json_19cc7c445169413fadc6300dff81d423_styler%28feature%29%20%7B%0A%20%20%20%20%20%20%20%20%20%20%20%20switch%28feature.id%29%20%7B%0A%20%20%20%20%20%20%20%20%20%20%20%20%20%20%20%20default%3A%0A%20%20%20%20%20%20%20%20%20%20%20%20%20%20%20%20%20%20%20%20return%20%7B%22color%22%3A%20%22%23008607%22%2C%20%22dashArray%22%3A%20%220%2C%200%22%2C%20%22opacity%22%3A%200.75%2C%20%22weight%22%3A%202%7D%3B%0A%20%20%20%20%20%20%20%20%20%20%20%20%7D%0A%20%20%20%20%20%20%20%20%7D%0A%0A%20%20%20%20%20%20%20%20function%20geo_json_19cc7c445169413fadc6300dff81d423_onEachFeature%28feature%2C%20layer%29%20%7B%0A%20%20%20%20%20%20%20%20%20%20%20%20layer.on%28%7B%0A%20%20%20%20%20%20%20%20%20%20%20%20%7D%29%3B%0A%20%20%20%20%20%20%20%20%7D%3B%0A%20%20%20%20%20%20%20%20var%20geo_json_19cc7c445169413fadc6300dff81d423%20%3D%20L.geoJson%28null%2C%20%7B%0A%20%20%20%20%20%20%20%20%20%20%20%20%20%20%20%20onEachFeature%3A%20geo_json_19cc7c445169413fadc6300dff81d423_onEachFeature%2C%0A%20%20%20%20%20%20%20%20%20%20%20%20%0A%20%20%20%20%20%20%20%20%20%20%20%20%20%20%20%20style%3A%20geo_json_19cc7c445169413fadc6300dff81d423_styler%2C%0A%20%20%20%20%20%20%20%20%7D%29%3B%0A%0A%20%20%20%20%20%20%20%20function%20geo_json_19cc7c445169413fadc6300dff81d423_add%20%28data%29%20%7B%0A%20%20%20%20%20%20%20%20%20%20%20%20geo_json_19cc7c445169413fadc6300dff81d423%0A%20%20%20%20%20%20%20%20%20%20%20%20%20%20%20%20.addData%28data%29%0A%20%20%20%20%20%20%20%20%20%20%20%20%20%20%20%20.addTo%28map_00b4a9a43dbb4e13b22179f670065c95%29%3B%0A%20%20%20%20%20%20%20%20%7D%0A%20%20%20%20%20%20%20%20%20%20%20%20geo_json_19cc7c445169413fadc6300dff81d423_add%28%7B%22features%22%3A%20%5B%7B%22geometry%22%3A%20%7B%22coordinates%22%3A%20%5B%5B-74.002214%2C%2040.637762%5D%2C%20%5B-74.002214%2C%2040.637762%5D%2C%20%5B-73.996768%2C%2040.744606%5D%2C%20%5B-74.002214%2C%2040.637762%5D%2C%20%5B-73.992267%2C%2040.74515%5D%2C%20%5B-73.996568%2C%2040.705953%5D%2C%20%5B-74.002214%2C%2040.637762%5D%2C%20%5B-73.992267%2C%2040.74515%5D%5D%2C%20%22type%22%3A%20%22LineString%22%7D%2C%20%22id%22%3A%20%220%22%2C%20%22type%22%3A%20%22Feature%22%7D%5D%2C%20%22type%22%3A%20%22FeatureCollection%22%7D%29%3B%0A%0A%20%20%20%20%20%20%20%20%0A%20%20%20%20%0A%20%20%20%20%20%20%20%20function%20geo_json_c8820d34d0f54192a421cec7d534536a_styler%28feature%29%20%7B%0A%20%20%20%20%20%20%20%20%20%20%20%20switch%28feature.id%29%20%7B%0A%20%20%20%20%20%20%20%20%20%20%20%20%20%20%20%20default%3A%0A%20%20%20%20%20%20%20%20%20%20%20%20%20%20%20%20%20%20%20%20return%20%7B%22color%22%3A%20%22%237CFFFA%22%2C%20%22dashArray%22%3A%20%220%2C%200%22%2C%20%22opacity%22%3A%200.75%2C%20%22weight%22%3A%202%7D%3B%0A%20%20%20%20%20%20%20%20%20%20%20%20%7D%0A%20%20%20%20%20%20%20%20%7D%0A%0A%20%20%20%20%20%20%20%20function%20geo_json_c8820d34d0f54192a421cec7d534536a_onEachFeature%28feature%2C%20layer%29%20%7B%0A%20%20%20%20%20%20%20%20%20%20%20%20layer.on%28%7B%0A%20%20%20%20%20%20%20%20%20%20%20%20%7D%29%3B%0A%20%20%20%20%20%20%20%20%7D%3B%0A%20%20%20%20%20%20%20%20var%20geo_json_c8820d34d0f54192a421cec7d534536a%20%3D%20L.geoJson%28null%2C%20%7B%0A%20%20%20%20%20%20%20%20%20%20%20%20%20%20%20%20onEachFeature%3A%20geo_json_c8820d34d0f54192a421cec7d534536a_onEachFeature%2C%0A%20%20%20%20%20%20%20%20%20%20%20%20%0A%20%20%20%20%20%20%20%20%20%20%20%20%20%20%20%20style%3A%20geo_json_c8820d34d0f54192a421cec7d534536a_styler%2C%0A%20%20%20%20%20%20%20%20%7D%29%3B%0A%0A%20%20%20%20%20%20%20%20function%20geo_json_c8820d34d0f54192a421cec7d534536a_add%20%28data%29%20%7B%0A%20%20%20%20%20%20%20%20%20%20%20%20geo_json_c8820d34d0f54192a421cec7d534536a%0A%20%20%20%20%20%20%20%20%20%20%20%20%20%20%20%20.addData%28data%29%0A%20%20%20%20%20%20%20%20%20%20%20%20%20%20%20%20.addTo%28map_00b4a9a43dbb4e13b22179f670065c95%29%3B%0A%20%20%20%20%20%20%20%20%7D%0A%20%20%20%20%20%20%20%20%20%20%20%20geo_json_c8820d34d0f54192a421cec7d534536a_add%28%7B%22features%22%3A%20%5B%7B%22geometry%22%3A%20%7B%22coordinates%22%3A%20%5B%5B-73.989972%2C%2040.679278%5D%2C%20%5B-73.993359%2C%2040.682407%5D%2C%20%5B-73.995548%2C%2040.67919%5D%2C%20%5B-73.97403%2C%2040.76289%5D%2C%20%5B-73.979788%2C%2040.760033%5D%2C%20%5B-73.978874%2C%2040.760979%5D%2C%20%5B-73.998053%2C%2040.677352%5D%2C%20%5B-73.997175%2C%2040.679925%5D%2C%20%5B-73.99796%2C%2040.678245%5D%2C%20%5B-73.990173%2C%2040.676049%5D%2C%20%5B-73.984895%2C%2040.673087%5D%2C%20%5B-73.980067%2C%2040.677119%5D%2C%20%5B-73.9837%2C%2040.671852%5D%2C%20%5B-73.997175%2C%2040.679925%5D%2C%20%5B-73.995931%2C%2040.682201%5D%2C%20%5B-73.99511%2C%2040.680991%5D%2C%20%5B-73.974529%2C%2040.752346%5D%2C%20%5B-73.976934%2C%2040.760061%5D%2C%20%5B-73.993576%2C%2040.750795%5D%2C%20%5B-73.994616%2C%2040.75048%5D%2C%20%5B-73.992556%2C%2040.750427%5D%2C%20%5B-73.94269%2C%2040.842206%5D%2C%20%5B-73.995548%2C%2040.67919%5D%2C%20%5B-73.976934%2C%2040.760061%5D%2C%20%5B-73.978874%2C%2040.760979%5D%2C%20%5B-73.899477%2C%2040.700559%5D%2C%20%5B-73.995931%2C%2040.682201%5D%2C%20%5B-73.978874%2C%2040.760979%5D%2C%20%5B-74.008895%2C%2040.655362%5D%5D%2C%20%22type%22%3A%20%22LineString%22%7D%2C%20%22id%22%3A%20%220%22%2C%20%22type%22%3A%20%22Feature%22%7D%5D%2C%20%22type%22%3A%20%22FeatureCollection%22%7D%29%3B%0A%0A%20%20%20%20%20%20%20%20%0A%20%20%20%20%0A%20%20%20%20%20%20%20%20function%20geo_json_7e7bd0e9745048c9a49aa5fb43a520a7_styler%28feature%29%20%7B%0A%20%20%20%20%20%20%20%20%20%20%20%20switch%28feature.id%29%20%7B%0A%20%20%20%20%20%20%20%20%20%20%20%20%20%20%20%20default%3A%0A%20%20%20%20%20%20%20%20%20%20%20%20%20%20%20%20%20%20%20%20return%20%7B%22color%22%3A%20%22%23008607%22%2C%20%22dashArray%22%3A%20%220%2C%200%22%2C%20%22opacity%22%3A%200.75%2C%20%22weight%22%3A%202%7D%3B%0A%20%20%20%20%20%20%20%20%20%20%20%20%7D%0A%20%20%20%20%20%20%20%20%7D%0A%0A%20%20%20%20%20%20%20%20function%20geo_json_7e7bd0e9745048c9a49aa5fb43a520a7_onEachFeature%28feature%2C%20layer%29%20%7B%0A%20%20%20%20%20%20%20%20%20%20%20%20layer.on%28%7B%0A%20%20%20%20%20%20%20%20%20%20%20%20%7D%29%3B%0A%20%20%20%20%20%20%20%20%7D%3B%0A%20%20%20%20%20%20%20%20var%20geo_json_7e7bd0e9745048c9a49aa5fb43a520a7%20%3D%20L.geoJson%28null%2C%20%7B%0A%20%20%20%20%20%20%20%20%20%20%20%20%20%20%20%20onEachFeature%3A%20geo_json_7e7bd0e9745048c9a49aa5fb43a520a7_onEachFeature%2C%0A%20%20%20%20%20%20%20%20%20%20%20%20%0A%20%20%20%20%20%20%20%20%20%20%20%20%20%20%20%20style%3A%20geo_json_7e7bd0e9745048c9a49aa5fb43a520a7_styler%2C%0A%20%20%20%20%20%20%20%20%7D%29%3B%0A%0A%20%20%20%20%20%20%20%20function%20geo_json_7e7bd0e9745048c9a49aa5fb43a520a7_add%20%28data%29%20%7B%0A%20%20%20%20%20%20%20%20%20%20%20%20geo_json_7e7bd0e9745048c9a49aa5fb43a520a7%0A%20%20%20%20%20%20%20%20%20%20%20%20%20%20%20%20.addData%28data%29%0A%20%20%20%20%20%20%20%20%20%20%20%20%20%20%20%20.addTo%28map_00b4a9a43dbb4e13b22179f670065c95%29%3B%0A%20%20%20%20%20%20%20%20%7D%0A%20%20%20%20%20%20%20%20%20%20%20%20geo_json_7e7bd0e9745048c9a49aa5fb43a520a7_add%28%7B%22features%22%3A%20%5B%7B%22geometry%22%3A%20%7B%22coordinates%22%3A%20%5B%5B-73.975924%2C%2040.748696%5D%2C%20%5B-73.950992%2C%2040.785773%5D%2C%20%5B-73.950723%2C%2040.786423%5D%2C%20%5B-73.950992%2C%2040.785773%5D%2C%20%5B-73.977175%2C%2040.752806%5D%2C%20%5B-73.977175%2C%2040.752806%5D%2C%20%5B-73.950992%2C%2040.785773%5D%2C%20%5B-73.950992%2C%2040.785773%5D%2C%20%5B-73.949038%2C%2040.788711%5D%2C%20%5B-73.977175%2C%2040.752806%5D%2C%20%5B-73.950992%2C%2040.785773%5D%2C%20%5B-73.947937%2C%2040.77914%5D%2C%20%5B-73.944555%2C%2040.77438%5D%2C%20%5B-73.942881%2C%2040.774919%5D%2C%20%5B-73.952%2C%2040.777632%5D%2C%20%5B-73.95281%2C%2040.778421%5D%2C%20%5B-73.970346%2C%2040.75649%5D%2C%20%5B-73.966471%2C%2040.756578%5D%2C%20%5B-73.996568%2C%2040.705953%5D%2C%20%5B-73.990685%2C%2040.702345%5D%2C%20%5B-73.993502%2C%2040.702518%5D%2C%20%5B-73.993487%2C%2040.700246%5D%2C%20%5B-73.95281%2C%2040.778421%5D%2C%20%5B-73.977175%2C%2040.752806%5D%2C%20%5B-73.971763%2C%2040.794676%5D%2C%20%5B-73.950992%2C%2040.785773%5D%2C%20%5B-73.950992%2C%2040.785773%5D%2C%20%5B-73.980678%2C%2040.752713%5D%2C%20%5B-73.87122%2C%2040.773839%5D%2C%20%5B-73.871298%2C%2040.774854%5D%2C%20%5B-73.87122%2C%2040.773839%5D%2C%20%5B-73.950992%2C%2040.785773%5D%2C%20%5B-73.950992%2C%2040.785773%5D%2C%20%5B-73.977175%2C%2040.752806%5D%2C%20%5B-73.983216%2C%2040.752719%5D%5D%2C%20%22type%22%3A%20%22LineString%22%7D%2C%20%22id%22%3A%20%220%22%2C%20%22type%22%3A%20%22Feature%22%7D%5D%2C%20%22type%22%3A%20%22FeatureCollection%22%7D%29%3B%0A%0A%20%20%20%20%20%20%20%20%0A%20%20%20%20%0A%20%20%20%20%20%20%20%20function%20geo_json_c110083fdc934673a10f5ab705738f3c_styler%28feature%29%20%7B%0A%20%20%20%20%20%20%20%20%20%20%20%20switch%28feature.id%29%20%7B%0A%20%20%20%20%20%20%20%20%20%20%20%20%20%20%20%20default%3A%0A%20%20%20%20%20%20%20%20%20%20%20%20%20%20%20%20%20%20%20%20return%20%7B%22color%22%3A%20%22%236A0213%22%2C%20%22dashArray%22%3A%20%220%2C%200%22%2C%20%22opacity%22%3A%200.75%2C%20%22weight%22%3A%202%7D%3B%0A%20%20%20%20%20%20%20%20%20%20%20%20%7D%0A%20%20%20%20%20%20%20%20%7D%0A%0A%20%20%20%20%20%20%20%20function%20geo_json_c110083fdc934673a10f5ab705738f3c_onEachFeature%28feature%2C%20layer%29%20%7B%0A%20%20%20%20%20%20%20%20%20%20%20%20layer.on%28%7B%0A%20%20%20%20%20%20%20%20%20%20%20%20%7D%29%3B%0A%20%20%20%20%20%20%20%20%7D%3B%0A%20%20%20%20%20%20%20%20var%20geo_json_c110083fdc934673a10f5ab705738f3c%20%3D%20L.geoJson%28null%2C%20%7B%0A%20%20%20%20%20%20%20%20%20%20%20%20%20%20%20%20onEachFeature%3A%20geo_json_c110083fdc934673a10f5ab705738f3c_onEachFeature%2C%0A%20%20%20%20%20%20%20%20%20%20%20%20%0A%20%20%20%20%20%20%20%20%20%20%20%20%20%20%20%20style%3A%20geo_json_c110083fdc934673a10f5ab705738f3c_styler%2C%0A%20%20%20%20%20%20%20%20%7D%29%3B%0A%0A%20%20%20%20%20%20%20%20function%20geo_json_c110083fdc934673a10f5ab705738f3c_add%20%28data%29%20%7B%0A%20%20%20%20%20%20%20%20%20%20%20%20geo_json_c110083fdc934673a10f5ab705738f3c%0A%20%20%20%20%20%20%20%20%20%20%20%20%20%20%20%20.addData%28data%29%0A%20%20%20%20%20%20%20%20%20%20%20%20%20%20%20%20.addTo%28map_00b4a9a43dbb4e13b22179f670065c95%29%3B%0A%20%20%20%20%20%20%20%20%7D%0A%20%20%20%20%20%20%20%20%20%20%20%20geo_json_c110083fdc934673a10f5ab705738f3c_add%28%7B%22features%22%3A%20%5B%7B%22geometry%22%3A%20%7B%22coordinates%22%3A%20%5B%5B-73.75367%2C%2040.756862%5D%2C%20%5B-73.758528%2C%2040.764374%5D%2C%20%5B-73.75367%2C%2040.756862%5D%2C%20%5B-73.761187%2C%2040.76123%5D%2C%20%5B-73.776838%2C%2040.779092%5D%2C%20%5B-73.778815%2C%2040.778886%5D%2C%20%5B-73.766468%2C%2040.76088%5D%2C%20%5B-73.75367%2C%2040.756862%5D%2C%20%5B-73.75887%2C%2040.761699%5D%2C%20%5B-73.75367%2C%2040.756862%5D%2C%20%5B-73.779774%2C%2040.771413%5D%2C%20%5B-73.75367%2C%2040.756862%5D%2C%20%5B-73.758302%2C%2040.75623%5D%2C%20%5B-73.793499%2C%2040.757405%5D%2C%20%5B-73.732803%2C%2040.77433%5D%2C%20%5B-73.718364%2C%2040.781377%5D%2C%20%5B-73.75367%2C%2040.756862%5D%2C%20%5B-73.756199%2C%2040.756197%5D%2C%20%5B-73.755641%2C%2040.755677%5D%2C%20%5B-73.776838%2C%2040.779092%5D%2C%20%5B-73.75367%2C%2040.756862%5D%2C%20%5B-73.75367%2C%2040.756862%5D%2C%20%5B-73.75367%2C%2040.756862%5D%2C%20%5B-73.763488%2C%2040.761284%5D%2C%20%5B-73.75367%2C%2040.756862%5D%2C%20%5B-73.758302%2C%2040.75623%5D%5D%2C%20%22type%22%3A%20%22LineString%22%7D%2C%20%22id%22%3A%20%220%22%2C%20%22type%22%3A%20%22Feature%22%7D%5D%2C%20%22type%22%3A%20%22FeatureCollection%22%7D%29%3B%0A%0A%20%20%20%20%20%20%20%20%0A%20%20%20%20%0A%20%20%20%20%20%20%20%20function%20geo_json_692d68b0e7b34b3081f0c3975bd3cf71_styler%28feature%29%20%7B%0A%20%20%20%20%20%20%20%20%20%20%20%20switch%28feature.id%29%20%7B%0A%20%20%20%20%20%20%20%20%20%20%20%20%20%20%20%20default%3A%0A%20%20%20%20%20%20%20%20%20%20%20%20%20%20%20%20%20%20%20%20return%20%7B%22color%22%3A%20%22%23009FFA%22%2C%20%22dashArray%22%3A%20%220%2C%200%22%2C%20%22opacity%22%3A%200.75%2C%20%22weight%22%3A%202%7D%3B%0A%20%20%20%20%20%20%20%20%20%20%20%20%7D%0A%20%20%20%20%20%20%20%20%7D%0A%0A%20%20%20%20%20%20%20%20function%20geo_json_692d68b0e7b34b3081f0c3975bd3cf71_onEachFeature%28feature%2C%20layer%29%20%7B%0A%20%20%20%20%20%20%20%20%20%20%20%20layer.on%28%7B%0A%20%20%20%20%20%20%20%20%20%20%20%20%7D%29%3B%0A%20%20%20%20%20%20%20%20%7D%3B%0A%20%20%20%20%20%20%20%20var%20geo_json_692d68b0e7b34b3081f0c3975bd3cf71%20%3D%20L.geoJson%28null%2C%20%7B%0A%20%20%20%20%20%20%20%20%20%20%20%20%20%20%20%20onEachFeature%3A%20geo_json_692d68b0e7b34b3081f0c3975bd3cf71_onEachFeature%2C%0A%20%20%20%20%20%20%20%20%20%20%20%20%0A%20%20%20%20%20%20%20%20%20%20%20%20%20%20%20%20style%3A%20geo_json_692d68b0e7b34b3081f0c3975bd3cf71_styler%2C%0A%20%20%20%20%20%20%20%20%7D%29%3B%0A%0A%20%20%20%20%20%20%20%20function%20geo_json_692d68b0e7b34b3081f0c3975bd3cf71_add%20%28data%29%20%7B%0A%20%20%20%20%20%20%20%20%20%20%20%20geo_json_692d68b0e7b34b3081f0c3975bd3cf71%0A%20%20%20%20%20%20%20%20%20%20%20%20%20%20%20%20.addData%28data%29%0A%20%20%20%20%20%20%20%20%20%20%20%20%20%20%20%20.addTo%28map_00b4a9a43dbb4e13b22179f670065c95%29%3B%0A%20%20%20%20%20%20%20%20%7D%0A%20%20%20%20%20%20%20%20%20%20%20%20geo_json_692d68b0e7b34b3081f0c3975bd3cf71_add%28%7B%22features%22%3A%20%5B%7B%22geometry%22%3A%20%7B%22coordinates%22%3A%20%5B%5B-74.038196%2C%2040.882955%5D%2C%20%5B-74.049096%2C%2040.790322%5D%2C%20%5B-74.045212%2C%2040.786423%5D%2C%20%5B-74.038324%2C%2040.726966%5D%2C%20%5B-74.122523%2C%2040.663863%5D%2C%20%5B-74.12046%2C%2040.661037%5D%2C%20%5B-74.100662%2C%2040.684971%5D%2C%20%5B-74.108571%2C%2040.660671%5D%2C%20%5B-74.11452%2C%2040.667039%5D%2C%20%5B-74.049096%2C%2040.790322%5D%2C%20%5B-74.05036%2C%2040.791529%5D%2C%20%5B-74.049096%2C%2040.790322%5D%2C%20%5B-74.049096%2C%2040.790322%5D%2C%20%5B-74.049096%2C%2040.790322%5D%5D%2C%20%22type%22%3A%20%22LineString%22%7D%2C%20%22id%22%3A%20%220%22%2C%20%22type%22%3A%20%22Feature%22%7D%5D%2C%20%22type%22%3A%20%22FeatureCollection%22%7D%29%3B%0A%0A%20%20%20%20%20%20%20%20%0A%20%20%20%20%0A%20%20%20%20%20%20%20%20function%20geo_json_045a9e3f21bc48fe9875dfbb42f269d8_styler%28feature%29%20%7B%0A%20%20%20%20%20%20%20%20%20%20%20%20switch%28feature.id%29%20%7B%0A%20%20%20%20%20%20%20%20%20%20%20%20%20%20%20%20default%3A%0A%20%20%20%20%20%20%20%20%20%20%20%20%20%20%20%20%20%20%20%20return%20%7B%22color%22%3A%20%22%237CFFFA%22%2C%20%22dashArray%22%3A%20%220%2C%200%22%2C%20%22opacity%22%3A%200.75%2C%20%22weight%22%3A%202%7D%3B%0A%20%20%20%20%20%20%20%20%20%20%20%20%7D%0A%20%20%20%20%20%20%20%20%7D%0A%0A%20%20%20%20%20%20%20%20function%20geo_json_045a9e3f21bc48fe9875dfbb42f269d8_onEachFeature%28feature%2C%20layer%29%20%7B%0A%20%20%20%20%20%20%20%20%20%20%20%20layer.on%28%7B%0A%20%20%20%20%20%20%20%20%20%20%20%20%7D%29%3B%0A%20%20%20%20%20%20%20%20%7D%3B%0A%20%20%20%20%20%20%20%20var%20geo_json_045a9e3f21bc48fe9875dfbb42f269d8%20%3D%20L.geoJson%28null%2C%20%7B%0A%20%20%20%20%20%20%20%20%20%20%20%20%20%20%20%20onEachFeature%3A%20geo_json_045a9e3f21bc48fe9875dfbb42f269d8_onEachFeature%2C%0A%20%20%20%20%20%20%20%20%20%20%20%20%0A%20%20%20%20%20%20%20%20%20%20%20%20%20%20%20%20style%3A%20geo_json_045a9e3f21bc48fe9875dfbb42f269d8_styler%2C%0A%20%20%20%20%20%20%20%20%7D%29%3B%0A%0A%20%20%20%20%20%20%20%20function%20geo_json_045a9e3f21bc48fe9875dfbb42f269d8_add%20%28data%29%20%7B%0A%20%20%20%20%20%20%20%20%20%20%20%20geo_json_045a9e3f21bc48fe9875dfbb42f269d8%0A%20%20%20%20%20%20%20%20%20%20%20%20%20%20%20%20.addData%28data%29%0A%20%20%20%20%20%20%20%20%20%20%20%20%20%20%20%20.addTo%28map_00b4a9a43dbb4e13b22179f670065c95%29%3B%0A%20%20%20%20%20%20%20%20%7D%0A%20%20%20%20%20%20%20%20%20%20%20%20geo_json_045a9e3f21bc48fe9875dfbb42f269d8_add%28%7B%22features%22%3A%20%5B%7B%22geometry%22%3A%20%7B%22coordinates%22%3A%20%5B%5B-73.973397%2C%2040.753245%5D%2C%20%5B-73.973702%2C%2040.752808%5D%2C%20%5B-73.973473%2C%2040.754813%5D%2C%20%5B-73.973358%2C%2040.752545%5D%2C%20%5B-73.973473%2C%2040.754813%5D%2C%20%5B-73.973002%2C%2040.752647%5D%2C%20%5B-73.972771%2C%2040.752946%5D%2C%20%5B-73.918346%2C%2040.770593%5D%2C%20%5B-73.920881%2C%2040.766648%5D%2C%20%5B-73.910857%2C%2040.766002%5D%2C%20%5B-73.910716%2C%2040.766225%5D%2C%20%5B-73.921629%2C%2040.766886%5D%2C%20%5B-73.921983%2C%2040.767059%5D%2C%20%5B-73.921487%2C%2040.766697%5D%2C%20%5B-73.920881%2C%2040.766648%5D%2C%20%5B-73.973702%2C%2040.752808%5D%2C%20%5B-73.973674%2C%2040.752857%5D%2C%20%5B-73.973002%2C%2040.752647%5D%2C%20%5B-73.973588%2C%2040.752752%5D%2C%20%5B-73.973794%2C%2040.753126%5D%2C%20%5B-73.973106%2C%2040.753181%5D%2C%20%5B-73.97326%2C%2040.753238%5D%2C%20%5B-73.973308%2C%2040.752741%5D%2C%20%5B-73.973308%2C%2040.752741%5D%2C%20%5B-73.972979%2C%2040.752905%5D%2C%20%5B-73.984245%2C%2040.758358%5D%2C%20%5B-73.984245%2C%2040.758358%5D%2C%20%5B-73.984389%2C%2040.758606%5D%2C%20%5B-73.983918%2C%2040.758992%5D%2C%20%5B-73.985325%2C%2040.758399%5D%2C%20%5B-73.98453%2C%2040.758737%5D%2C%20%5B-73.985603%2C%2040.758538%5D%2C%20%5B-73.983924%2C%2040.758347%5D%2C%20%5B-73.918539%2C%2040.76772%5D%2C%20%5B-73.91293%2C%2040.766591%5D%2C%20%5B-74.005966%2C%2040.714216%5D%2C%20%5B-73.910716%2C%2040.766225%5D%2C%20%5B-73.913741%2C%2040.765396%5D%2C%20%5B-73.913713%2C%2040.765114%5D%2C%20%5B-73.913825%2C%2040.765484%5D%2C%20%5B-73.912507%2C%2040.766979%5D%2C%20%5B-73.910857%2C%2040.766002%5D%2C%20%5B-73.974524%2C%2040.784018%5D%2C%20%5B-73.979126%2C%2040.783453%5D%2C%20%5B-73.985273%2C%2040.737523%5D%2C%20%5B-74.005966%2C%2040.714216%5D%2C%20%5B-73.910716%2C%2040.766225%5D%2C%20%5B-73.904696%2C%2040.776099%5D%2C%20%5B-73.912507%2C%2040.766979%5D%2C%20%5B-73.91293%2C%2040.766591%5D%2C%20%5B-73.910716%2C%2040.766225%5D%2C%20%5B-73.910254%2C%2040.767808%5D%2C%20%5B-73.912907%2C%2040.766626%5D%2C%20%5B-73.974288%2C%2040.7888%5D%2C%20%5B-73.975005%2C%2040.787732%5D%2C%20%5B-73.975017%2C%2040.787592%5D%2C%20%5B-73.913779%2C%2040.765811%5D%2C%20%5B-73.910716%2C%2040.766225%5D%2C%20%5B-73.910857%2C%2040.766002%5D%2C%20%5B-74.005966%2C%2040.714216%5D%2C%20%5B-73.921294%2C%2040.766991%5D%2C%20%5B-73.921983%2C%2040.767059%5D%2C%20%5B-73.921317%2C%2040.767089%5D%2C%20%5B-73.974288%2C%2040.7888%5D%2C%20%5B-73.975005%2C%2040.787732%5D%2C%20%5B-73.975017%2C%2040.787592%5D%2C%20%5B-73.974294%2C%2040.788634%5D%2C%20%5B-73.973794%2C%2040.78842%5D%2C%20%5B-73.972771%2C%2040.752946%5D%2C%20%5B-73.921604%2C%2040.76685%5D%2C%20%5B-73.927716%2C%2040.769771%5D%2C%20%5B-73.914578%2C%2040.76586%5D%2C%20%5B-73.930092%2C%2040.771832%5D%2C%20%5B-73.912907%2C%2040.766626%5D%2C%20%5B-73.910254%2C%2040.767808%5D%2C%20%5B-74.005966%2C%2040.714216%5D%2C%20%5B-73.925686%2C%2040.762098%5D%2C%20%5B-73.928838%2C%2040.758031%5D%2C%20%5B-73.974294%2C%2040.788634%5D%2C%20%5B-73.973794%2C%2040.78842%5D%2C%20%5B-73.974288%2C%2040.7888%5D%2C%20%5B-73.914578%2C%2040.76586%5D%2C%20%5B-73.913741%2C%2040.765396%5D%2C%20%5B-73.913825%2C%2040.765484%5D%2C%20%5B-73.913713%2C%2040.765114%5D%2C%20%5B-73.912907%2C%2040.766626%5D%2C%20%5B-73.973674%2C%2040.752857%5D%2C%20%5B-73.973702%2C%2040.752808%5D%2C%20%5B-73.973794%2C%2040.753126%5D%2C%20%5B-73.97326%2C%2040.753238%5D%2C%20%5B-73.973467%2C%2040.753072%5D%2C%20%5B-73.973674%2C%2040.752857%5D%2C%20%5B-73.973054%2C%2040.752752%5D%2C%20%5B-73.973002%2C%2040.752647%5D%2C%20%5B-73.972979%2C%2040.752905%5D%2C%20%5B-73.98453%2C%2040.758737%5D%5D%2C%20%22type%22%3A%20%22LineString%22%7D%2C%20%22id%22%3A%20%220%22%2C%20%22type%22%3A%20%22Feature%22%7D%5D%2C%20%22type%22%3A%20%22FeatureCollection%22%7D%29%3B%0A%0A%20%20%20%20%20%20%20%20%0A%20%20%20%20%0A%20%20%20%20%20%20%20%20function%20geo_json_3177f71a457c4cabb53600f9e1cd3abb_styler%28feature%29%20%7B%0A%20%20%20%20%20%20%20%20%20%20%20%20switch%28feature.id%29%20%7B%0A%20%20%20%20%20%20%20%20%20%20%20%20%20%20%20%20default%3A%0A%20%20%20%20%20%20%20%20%20%20%20%20%20%20%20%20%20%20%20%20return%20%7B%22color%22%3A%20%22%2300E307%22%2C%20%22dashArray%22%3A%20%220%2C%200%22%2C%20%22opacity%22%3A%200.75%2C%20%22weight%22%3A%202%7D%3B%0A%20%20%20%20%20%20%20%20%20%20%20%20%7D%0A%20%20%20%20%20%20%20%20%7D%0A%0A%20%20%20%20%20%20%20%20function%20geo_json_3177f71a457c4cabb53600f9e1cd3abb_onEachFeature%28feature%2C%20layer%29%20%7B%0A%20%20%20%20%20%20%20%20%20%20%20%20layer.on%28%7B%0A%20%20%20%20%20%20%20%20%20%20%20%20%7D%29%3B%0A%20%20%20%20%20%20%20%20%7D%3B%0A%20%20%20%20%20%20%20%20var%20geo_json_3177f71a457c4cabb53600f9e1cd3abb%20%3D%20L.geoJson%28null%2C%20%7B%0A%20%20%20%20%20%20%20%20%20%20%20%20%20%20%20%20onEachFeature%3A%20geo_json_3177f71a457c4cabb53600f9e1cd3abb_onEachFeature%2C%0A%20%20%20%20%20%20%20%20%20%20%20%20%0A%20%20%20%20%20%20%20%20%20%20%20%20%20%20%20%20style%3A%20geo_json_3177f71a457c4cabb53600f9e1cd3abb_styler%2C%0A%20%20%20%20%20%20%20%20%7D%29%3B%0A%0A%20%20%20%20%20%20%20%20function%20geo_json_3177f71a457c4cabb53600f9e1cd3abb_add%20%28data%29%20%7B%0A%20%20%20%20%20%20%20%20%20%20%20%20geo_json_3177f71a457c4cabb53600f9e1cd3abb%0A%20%20%20%20%20%20%20%20%20%20%20%20%20%20%20%20.addData%28data%29%0A%20%20%20%20%20%20%20%20%20%20%20%20%20%20%20%20.addTo%28map_00b4a9a43dbb4e13b22179f670065c95%29%3B%0A%20%20%20%20%20%20%20%20%7D%0A%20%20%20%20%20%20%20%20%20%20%20%20geo_json_3177f71a457c4cabb53600f9e1cd3abb_add%28%7B%22features%22%3A%20%5B%7B%22geometry%22%3A%20%7B%22coordinates%22%3A%20%5B%5B-73.9929%2C%2040.766955%5D%2C%20%5B-73.991379%2C%2040.693249%5D%2C%20%5B-74.001573%2C%2040.731198%5D%2C%20%5B-74.005538%2C%2040.737232%5D%2C%20%5B-73.999781%2C%2040.723363%5D%2C%20%5B-73.999494%2C%2040.722607%5D%2C%20%5B-73.984616%2C%2040.773229%5D%2C%20%5B-73.9929%2C%2040.766955%5D%2C%20%5B-73.991339%2C%2040.765025%5D%2C%20%5B-73.991788%2C%2040.673848%5D%2C%20%5B-73.99171%2C%2040.673615%5D%5D%2C%20%22type%22%3A%20%22LineString%22%7D%2C%20%22id%22%3A%20%220%22%2C%20%22type%22%3A%20%22Feature%22%7D%5D%2C%20%22type%22%3A%20%22FeatureCollection%22%7D%29%3B%0A%0A%20%20%20%20%20%20%20%20%0A%20%20%20%20%0A%20%20%20%20%20%20%20%20function%20geo_json_730306d1079747948ca16557c23a2da5_styler%28feature%29%20%7B%0A%20%20%20%20%20%20%20%20%20%20%20%20switch%28feature.id%29%20%7B%0A%20%20%20%20%20%20%20%20%20%20%20%20%20%20%20%20default%3A%0A%20%20%20%20%20%20%20%20%20%20%20%20%20%20%20%20%20%20%20%20return%20%7B%22color%22%3A%20%22%23FFDC3D%22%2C%20%22dashArray%22%3A%20%220%2C%200%22%2C%20%22opacity%22%3A%200.75%2C%20%22weight%22%3A%202%7D%3B%0A%20%20%20%20%20%20%20%20%20%20%20%20%7D%0A%20%20%20%20%20%20%20%20%7D%0A%0A%20%20%20%20%20%20%20%20function%20geo_json_730306d1079747948ca16557c23a2da5_onEachFeature%28feature%2C%20layer%29%20%7B%0A%20%20%20%20%20%20%20%20%20%20%20%20layer.on%28%7B%0A%20%20%20%20%20%20%20%20%20%20%20%20%7D%29%3B%0A%20%20%20%20%20%20%20%20%7D%3B%0A%20%20%20%20%20%20%20%20var%20geo_json_730306d1079747948ca16557c23a2da5%20%3D%20L.geoJson%28null%2C%20%7B%0A%20%20%20%20%20%20%20%20%20%20%20%20%20%20%20%20onEachFeature%3A%20geo_json_730306d1079747948ca16557c23a2da5_onEachFeature%2C%0A%20%20%20%20%20%20%20%20%20%20%20%20%0A%20%20%20%20%20%20%20%20%20%20%20%20%20%20%20%20style%3A%20geo_json_730306d1079747948ca16557c23a2da5_styler%2C%0A%20%20%20%20%20%20%20%20%7D%29%3B%0A%0A%20%20%20%20%20%20%20%20function%20geo_json_730306d1079747948ca16557c23a2da5_add%20%28data%29%20%7B%0A%20%20%20%20%20%20%20%20%20%20%20%20geo_json_730306d1079747948ca16557c23a2da5%0A%20%20%20%20%20%20%20%20%20%20%20%20%20%20%20%20.addData%28data%29%0A%20%20%20%20%20%20%20%20%20%20%20%20%20%20%20%20.addTo%28map_00b4a9a43dbb4e13b22179f670065c95%29%3B%0A%20%20%20%20%20%20%20%20%7D%0A%20%20%20%20%20%20%20%20%20%20%20%20geo_json_730306d1079747948ca16557c23a2da5_add%28%7B%22features%22%3A%20%5B%7B%22geometry%22%3A%20%7B%22coordinates%22%3A%20%5B%5B-73.970563%2C%2040.763313%5D%2C%20%5B-73.970563%2C%2040.763313%5D%2C%20%5B-73.991974%2C%2040.753779%5D%2C%20%5B-73.970563%2C%2040.763313%5D%2C%20%5B-73.987109%2C%2040.76144%5D%2C%20%5B-73.970563%2C%2040.763313%5D%2C%20%5B-73.9836%2C%2040.676509%5D%2C%20%5B-73.991185%2C%2040.750317%5D%5D%2C%20%22type%22%3A%20%22LineString%22%7D%2C%20%22id%22%3A%20%220%22%2C%20%22type%22%3A%20%22Feature%22%7D%5D%2C%20%22type%22%3A%20%22FeatureCollection%22%7D%29%3B%0A%0A%20%20%20%20%20%20%20%20%0A%20%20%20%20%0A%20%20%20%20%20%20%20%20function%20geo_json_33f1d8fdbec445669125568df25473c4_styler%28feature%29%20%7B%0A%20%20%20%20%20%20%20%20%20%20%20%20switch%28feature.id%29%20%7B%0A%20%20%20%20%20%20%20%20%20%20%20%20%20%20%20%20default%3A%0A%20%20%20%20%20%20%20%20%20%20%20%20%20%20%20%20%20%20%20%20return%20%7B%22color%22%3A%20%22%23009FFA%22%2C%20%22dashArray%22%3A%20%220%2C%200%22%2C%20%22opacity%22%3A%200.75%2C%20%22weight%22%3A%202%7D%3B%0A%20%20%20%20%20%20%20%20%20%20%20%20%7D%0A%20%20%20%20%20%20%20%20%7D%0A%0A%20%20%20%20%20%20%20%20function%20geo_json_33f1d8fdbec445669125568df25473c4_onEachFeature%28feature%2C%20layer%29%20%7B%0A%20%20%20%20%20%20%20%20%20%20%20%20layer.on%28%7B%0A%20%20%20%20%20%20%20%20%20%20%20%20%7D%29%3B%0A%20%20%20%20%20%20%20%20%7D%3B%0A%20%20%20%20%20%20%20%20var%20geo_json_33f1d8fdbec445669125568df25473c4%20%3D%20L.geoJson%28null%2C%20%7B%0A%20%20%20%20%20%20%20%20%20%20%20%20%20%20%20%20onEachFeature%3A%20geo_json_33f1d8fdbec445669125568df25473c4_onEachFeature%2C%0A%20%20%20%20%20%20%20%20%20%20%20%20%0A%20%20%20%20%20%20%20%20%20%20%20%20%20%20%20%20style%3A%20geo_json_33f1d8fdbec445669125568df25473c4_styler%2C%0A%20%20%20%20%20%20%20%20%7D%29%3B%0A%0A%20%20%20%20%20%20%20%20function%20geo_json_33f1d8fdbec445669125568df25473c4_add%20%28data%29%20%7B%0A%20%20%20%20%20%20%20%20%20%20%20%20geo_json_33f1d8fdbec445669125568df25473c4%0A%20%20%20%20%20%20%20%20%20%20%20%20%20%20%20%20.addData%28data%29%0A%20%20%20%20%20%20%20%20%20%20%20%20%20%20%20%20.addTo%28map_00b4a9a43dbb4e13b22179f670065c95%29%3B%0A%20%20%20%20%20%20%20%20%7D%0A%20%20%20%20%20%20%20%20%20%20%20%20geo_json_33f1d8fdbec445669125568df25473c4_add%28%7B%22features%22%3A%20%5B%7B%22geometry%22%3A%20%7B%22coordinates%22%3A%20%5B%5B-73.987522%2C%2040.766036%5D%2C%20%5B-73.991677%2C%2040.737885%5D%2C%20%5B-73.99698%2C%2040.719165%5D%2C%20%5B-73.995854%2C%2040.72302%5D%2C%20%5B-74.00322%2C%2040.705823%5D%2C%20%5B-73.991677%2C%2040.737885%5D%2C%20%5B-73.991563%2C%2040.73785%5D%2C%20%5B-73.998593%2C%2040.720571%5D%2C%20%5B-73.991677%2C%2040.737885%5D%2C%20%5B-73.991563%2C%2040.73785%5D%2C%20%5B-73.99154%2C%2040.737444%5D%2C%20%5B-73.996865%2C%2040.715002%5D%2C%20%5B-73.991563%2C%2040.73785%5D%2C%20%5B-73.991563%2C%2040.73785%5D%5D%2C%20%22type%22%3A%20%22LineString%22%7D%2C%20%22id%22%3A%20%220%22%2C%20%22type%22%3A%20%22Feature%22%7D%5D%2C%20%22type%22%3A%20%22FeatureCollection%22%7D%29%3B%0A%0A%20%20%20%20%20%20%20%20%0A%20%20%20%20%0A%20%20%20%20%20%20%20%20function%20geo_json_c1a6cdafb9c2498cb5e85eee9c5cdfa3_styler%28feature%29%20%7B%0A%20%20%20%20%20%20%20%20%20%20%20%20switch%28feature.id%29%20%7B%0A%20%20%20%20%20%20%20%20%20%20%20%20%20%20%20%20default%3A%0A%20%20%20%20%20%20%20%20%20%20%20%20%20%20%20%20%20%20%20%20return%20%7B%22color%22%3A%20%22%2300DCB5%22%2C%20%22dashArray%22%3A%20%220%2C%200%22%2C%20%22opacity%22%3A%200.75%2C%20%22weight%22%3A%202%7D%3B%0A%20%20%20%20%20%20%20%20%20%20%20%20%7D%0A%20%20%20%20%20%20%20%20%7D%0A%0A%20%20%20%20%20%20%20%20function%20geo_json_c1a6cdafb9c2498cb5e85eee9c5cdfa3_onEachFeature%28feature%2C%20layer%29%20%7B%0A%20%20%20%20%20%20%20%20%20%20%20%20layer.on%28%7B%0A%20%20%20%20%20%20%20%20%20%20%20%20%7D%29%3B%0A%20%20%20%20%20%20%20%20%7D%3B%0A%20%20%20%20%20%20%20%20var%20geo_json_c1a6cdafb9c2498cb5e85eee9c5cdfa3%20%3D%20L.geoJson%28null%2C%20%7B%0A%20%20%20%20%20%20%20%20%20%20%20%20%20%20%20%20onEachFeature%3A%20geo_json_c1a6cdafb9c2498cb5e85eee9c5cdfa3_onEachFeature%2C%0A%20%20%20%20%20%20%20%20%20%20%20%20%0A%20%20%20%20%20%20%20%20%20%20%20%20%20%20%20%20style%3A%20geo_json_c1a6cdafb9c2498cb5e85eee9c5cdfa3_styler%2C%0A%20%20%20%20%20%20%20%20%7D%29%3B%0A%0A%20%20%20%20%20%20%20%20function%20geo_json_c1a6cdafb9c2498cb5e85eee9c5cdfa3_add%20%28data%29%20%7B%0A%20%20%20%20%20%20%20%20%20%20%20%20geo_json_c1a6cdafb9c2498cb5e85eee9c5cdfa3%0A%20%20%20%20%20%20%20%20%20%20%20%20%20%20%20%20.addData%28data%29%0A%20%20%20%20%20%20%20%20%20%20%20%20%20%20%20%20.addTo%28map_00b4a9a43dbb4e13b22179f670065c95%29%3B%0A%20%20%20%20%20%20%20%20%7D%0A%20%20%20%20%20%20%20%20%20%20%20%20geo_json_c1a6cdafb9c2498cb5e85eee9c5cdfa3_add%28%7B%22features%22%3A%20%5B%7B%22geometry%22%3A%20%7B%22coordinates%22%3A%20%5B%5B-74.003298%2C%2040.73353%5D%2C%20%5B-74.003298%2C%2040.73353%5D%2C%20%5B-73.982626%2C%2040.742691%5D%5D%2C%20%22type%22%3A%20%22LineString%22%7D%2C%20%22id%22%3A%20%220%22%2C%20%22type%22%3A%20%22Feature%22%7D%5D%2C%20%22type%22%3A%20%22FeatureCollection%22%7D%29%3B%0A%0A%20%20%20%20%20%20%20%20%0A%20%20%20%20%0A%20%20%20%20%20%20%20%20function%20geo_json_0c6a470d1219442aba11c0f297c49c25_styler%28feature%29%20%7B%0A%20%20%20%20%20%20%20%20%20%20%20%20switch%28feature.id%29%20%7B%0A%20%20%20%20%20%20%20%20%20%20%20%20%20%20%20%20default%3A%0A%20%20%20%20%20%20%20%20%20%20%20%20%20%20%20%20%20%20%20%20return%20%7B%22color%22%3A%20%22%23003C86%22%2C%20%22dashArray%22%3A%20%220%2C%200%22%2C%20%22opacity%22%3A%200.75%2C%20%22weight%22%3A%202%7D%3B%0A%20%20%20%20%20%20%20%20%20%20%20%20%7D%0A%20%20%20%20%20%20%20%20%7D%0A%0A%20%20%20%20%20%20%20%20function%20geo_json_0c6a470d1219442aba11c0f297c49c25_onEachFeature%28feature%2C%20layer%29%20%7B%0A%20%20%20%20%20%20%20%20%20%20%20%20layer.on%28%7B%0A%20%20%20%20%20%20%20%20%20%20%20%20%7D%29%3B%0A%20%20%20%20%20%20%20%20%7D%3B%0A%20%20%20%20%20%20%20%20var%20geo_json_0c6a470d1219442aba11c0f297c49c25%20%3D%20L.geoJson%28null%2C%20%7B%0A%20%20%20%20%20%20%20%20%20%20%20%20%20%20%20%20onEachFeature%3A%20geo_json_0c6a470d1219442aba11c0f297c49c25_onEachFeature%2C%0A%20%20%20%20%20%20%20%20%20%20%20%20%0A%20%20%20%20%20%20%20%20%20%20%20%20%20%20%20%20style%3A%20geo_json_0c6a470d1219442aba11c0f297c49c25_styler%2C%0A%20%20%20%20%20%20%20%20%7D%29%3B%0A%0A%20%20%20%20%20%20%20%20function%20geo_json_0c6a470d1219442aba11c0f297c49c25_add%20%28data%29%20%7B%0A%20%20%20%20%20%20%20%20%20%20%20%20geo_json_0c6a470d1219442aba11c0f297c49c25%0A%20%20%20%20%20%20%20%20%20%20%20%20%20%20%20%20.addData%28data%29%0A%20%20%20%20%20%20%20%20%20%20%20%20%20%20%20%20.addTo%28map_00b4a9a43dbb4e13b22179f670065c95%29%3B%0A%20%20%20%20%20%20%20%20%7D%0A%20%20%20%20%20%20%20%20%20%20%20%20geo_json_0c6a470d1219442aba11c0f297c49c25_add%28%7B%22features%22%3A%20%5B%7B%22geometry%22%3A%20%7B%22coordinates%22%3A%20%5B%5B-73.828866%2C%2040.833502%5D%2C%20%5B-73.973088%2C%2040.763939%5D%2C%20%5B-74.009056%2C%2040.751939%5D%5D%2C%20%22type%22%3A%20%22LineString%22%7D%2C%20%22id%22%3A%20%220%22%2C%20%22type%22%3A%20%22Feature%22%7D%5D%2C%20%22type%22%3A%20%22FeatureCollection%22%7D%29%3B%0A%0A%20%20%20%20%20%20%20%20%0A%20%20%20%20%0A%20%20%20%20%20%20%20%20function%20geo_json_3a837ccff999455b9d1b57c5bf817fd4_styler%28feature%29%20%7B%0A%20%20%20%20%20%20%20%20%20%20%20%20switch%28feature.id%29%20%7B%0A%20%20%20%20%20%20%20%20%20%20%20%20%20%20%20%20default%3A%0A%20%20%20%20%20%20%20%20%20%20%20%20%20%20%20%20%20%20%20%20return%20%7B%22color%22%3A%20%22%236A0213%22%2C%20%22dashArray%22%3A%20%220%2C%200%22%2C%20%22opacity%22%3A%200.75%2C%20%22weight%22%3A%202%7D%3B%0A%20%20%20%20%20%20%20%20%20%20%20%20%7D%0A%20%20%20%20%20%20%20%20%7D%0A%0A%20%20%20%20%20%20%20%20function%20geo_json_3a837ccff999455b9d1b57c5bf817fd4_onEachFeature%28feature%2C%20layer%29%20%7B%0A%20%20%20%20%20%20%20%20%20%20%20%20layer.on%28%7B%0A%20%20%20%20%20%20%20%20%20%20%20%20%7D%29%3B%0A%20%20%20%20%20%20%20%20%7D%3B%0A%20%20%20%20%20%20%20%20var%20geo_json_3a837ccff999455b9d1b57c5bf817fd4%20%3D%20L.geoJson%28null%2C%20%7B%0A%20%20%20%20%20%20%20%20%20%20%20%20%20%20%20%20onEachFeature%3A%20geo_json_3a837ccff999455b9d1b57c5bf817fd4_onEachFeature%2C%0A%20%20%20%20%20%20%20%20%20%20%20%20%0A%20%20%20%20%20%20%20%20%20%20%20%20%20%20%20%20style%3A%20geo_json_3a837ccff999455b9d1b57c5bf817fd4_styler%2C%0A%20%20%20%20%20%20%20%20%7D%29%3B%0A%0A%20%20%20%20%20%20%20%20function%20geo_json_3a837ccff999455b9d1b57c5bf817fd4_add%20%28data%29%20%7B%0A%20%20%20%20%20%20%20%20%20%20%20%20geo_json_3a837ccff999455b9d1b57c5bf817fd4%0A%20%20%20%20%20%20%20%20%20%20%20%20%20%20%20%20.addData%28data%29%0A%20%20%20%20%20%20%20%20%20%20%20%20%20%20%20%20.addTo%28map_00b4a9a43dbb4e13b22179f670065c95%29%3B%0A%20%20%20%20%20%20%20%20%7D%0A%20%20%20%20%20%20%20%20%20%20%20%20geo_json_3a837ccff999455b9d1b57c5bf817fd4_add%28%7B%22features%22%3A%20%5B%7B%22geometry%22%3A%20%7B%22coordinates%22%3A%20%5B%5B-73.983994%2C%2040.721294%5D%2C%20%5B-73.978965%2C%2040.756151%5D%2C%20%5B-73.975671%2C%2040.749112%5D%2C%20%5B-73.97174%2C%2040.762763%5D%2C%20%5B-74.001292%2C%2040.721182%5D%2C%20%5B-74.013283%2C%2040.711467%5D%2C%20%5B-73.981022%2C%2040.737831%5D%2C%20%5B-73.987172%2C%2040.729395%5D%2C%20%5B-73.982205%2C%2040.740015%5D%2C%20%5B-73.982971%2C%2040.738871%5D%2C%20%5B-74.003545%2C%2040.762348%5D%2C%20%5B-73.994415%2C%2040.761071%5D%2C%20%5B-73.973308%2C%2040.752741%5D%2C%20%5B-73.967733%2C%2040.755998%5D%2C%20%5B-73.967636%2C%2040.756364%5D%2C%20%5B-73.982205%2C%2040.740015%5D%2C%20%5B-73.990426%2C%2040.744341%5D%2C%20%5B-74.005194%2C%2040.747062%5D%2C%20%5B-74.005175%2C%2040.742023%5D%2C%20%5B-74.005714%2C%2040.740186%5D%2C%20%5B-74.001292%2C%2040.721182%5D%2C%20%5B-73.987924%2C%2040.742188%5D%2C%20%5B-73.982191%2C%2040.738478%5D%2C%20%5B-73.97818%2C%2040.755578%5D%2C%20%5B-73.981227%2C%2040.740218%5D%2C%20%5B-73.978965%2C%2040.756151%5D%2C%20%5B-73.979639%2C%2040.755404%5D%2C%20%5B-73.981221%2C%2040.755312%5D%2C%20%5B-73.987365%2C%2040.740861%5D%2C%20%5B-73.975671%2C%2040.749112%5D%2C%20%5B-73.98607%2C%2040.740092%5D%2C%20%5B-73.979639%2C%2040.755404%5D%2C%20%5B-73.981824%2C%2040.753532%5D%2C%20%5B-73.979639%2C%2040.755404%5D%2C%20%5B-73.999037%2C%2040.733373%5D%2C%20%5B-73.999402%2C%2040.734035%5D%5D%2C%20%22type%22%3A%20%22LineString%22%7D%2C%20%22id%22%3A%20%220%22%2C%20%22type%22%3A%20%22Feature%22%7D%5D%2C%20%22type%22%3A%20%22FeatureCollection%22%7D%29%3B%0A%0A%20%20%20%20%20%20%20%20%0A%20%20%20%20%0A%20%20%20%20%20%20%20%20function%20geo_json_9aa7962b9f074cf3be1c42be0b7992c8_styler%28feature%29%20%7B%0A%20%20%20%20%20%20%20%20%20%20%20%20switch%28feature.id%29%20%7B%0A%20%20%20%20%20%20%20%20%20%20%20%20%20%20%20%20default%3A%0A%20%20%20%20%20%20%20%20%20%20%20%20%20%20%20%20%20%20%20%20return%20%7B%22color%22%3A%20%22%2368023F%22%2C%20%22dashArray%22%3A%20%220%2C%200%22%2C%20%22opacity%22%3A%200.75%2C%20%22weight%22%3A%202%7D%3B%0A%20%20%20%20%20%20%20%20%20%20%20%20%7D%0A%20%20%20%20%20%20%20%20%7D%0A%0A%20%20%20%20%20%20%20%20function%20geo_json_9aa7962b9f074cf3be1c42be0b7992c8_onEachFeature%28feature%2C%20layer%29%20%7B%0A%20%20%20%20%20%20%20%20%20%20%20%20layer.on%28%7B%0A%20%20%20%20%20%20%20%20%20%20%20%20%7D%29%3B%0A%20%20%20%20%20%20%20%20%7D%3B%0A%20%20%20%20%20%20%20%20var%20geo_json_9aa7962b9f074cf3be1c42be0b7992c8%20%3D%20L.geoJson%28null%2C%20%7B%0A%20%20%20%20%20%20%20%20%20%20%20%20%20%20%20%20onEachFeature%3A%20geo_json_9aa7962b9f074cf3be1c42be0b7992c8_onEachFeature%2C%0A%20%20%20%20%20%20%20%20%20%20%20%20%0A%20%20%20%20%20%20%20%20%20%20%20%20%20%20%20%20style%3A%20geo_json_9aa7962b9f074cf3be1c42be0b7992c8_styler%2C%0A%20%20%20%20%20%20%20%20%7D%29%3B%0A%0A%20%20%20%20%20%20%20%20function%20geo_json_9aa7962b9f074cf3be1c42be0b7992c8_add%20%28data%29%20%7B%0A%20%20%20%20%20%20%20%20%20%20%20%20geo_json_9aa7962b9f074cf3be1c42be0b7992c8%0A%20%20%20%20%20%20%20%20%20%20%20%20%20%20%20%20.addData%28data%29%0A%20%20%20%20%20%20%20%20%20%20%20%20%20%20%20%20.addTo%28map_00b4a9a43dbb4e13b22179f670065c95%29%3B%0A%20%20%20%20%20%20%20%20%7D%0A%20%20%20%20%20%20%20%20%20%20%20%20geo_json_9aa7962b9f074cf3be1c42be0b7992c8_add%28%7B%22features%22%3A%20%5B%7B%22geometry%22%3A%20%7B%22coordinates%22%3A%20%5B%5B-73.95963%2C%2040.779786%5D%2C%20%5B-73.801352%2C%2040.703034%5D%2C%20%5B-73.736329%2C%2040.713598%5D%2C%20%5B-73.715534%2C%2040.70382%5D%2C%20%5B-73.961976%2C%2040.778895%5D%5D%2C%20%22type%22%3A%20%22LineString%22%7D%2C%20%22id%22%3A%20%220%22%2C%20%22type%22%3A%20%22Feature%22%7D%5D%2C%20%22type%22%3A%20%22FeatureCollection%22%7D%29%3B%0A%0A%20%20%20%20%20%20%20%20%0A%20%20%20%20%0A%20%20%20%20%20%20%20%20function%20geo_json_7e86f1f4611043959548c9b99ee5d829_styler%28feature%29%20%7B%0A%20%20%20%20%20%20%20%20%20%20%20%20switch%28feature.id%29%20%7B%0A%20%20%20%20%20%20%20%20%20%20%20%20%20%20%20%20default%3A%0A%20%20%20%20%20%20%20%20%20%20%20%20%20%20%20%20%20%20%20%20return%20%7B%22color%22%3A%20%22%23003C86%22%2C%20%22dashArray%22%3A%20%220%2C%200%22%2C%20%22opacity%22%3A%200.75%2C%20%22weight%22%3A%202%7D%3B%0A%20%20%20%20%20%20%20%20%20%20%20%20%7D%0A%20%20%20%20%20%20%20%20%7D%0A%0A%20%20%20%20%20%20%20%20function%20geo_json_7e86f1f4611043959548c9b99ee5d829_onEachFeature%28feature%2C%20layer%29%20%7B%0A%20%20%20%20%20%20%20%20%20%20%20%20layer.on%28%7B%0A%20%20%20%20%20%20%20%20%20%20%20%20%7D%29%3B%0A%20%20%20%20%20%20%20%20%7D%3B%0A%20%20%20%20%20%20%20%20var%20geo_json_7e86f1f4611043959548c9b99ee5d829%20%3D%20L.geoJson%28null%2C%20%7B%0A%20%20%20%20%20%20%20%20%20%20%20%20%20%20%20%20onEachFeature%3A%20geo_json_7e86f1f4611043959548c9b99ee5d829_onEachFeature%2C%0A%20%20%20%20%20%20%20%20%20%20%20%20%0A%20%20%20%20%20%20%20%20%20%20%20%20%20%20%20%20style%3A%20geo_json_7e86f1f4611043959548c9b99ee5d829_styler%2C%0A%20%20%20%20%20%20%20%20%7D%29%3B%0A%0A%20%20%20%20%20%20%20%20function%20geo_json_7e86f1f4611043959548c9b99ee5d829_add%20%28data%29%20%7B%0A%20%20%20%20%20%20%20%20%20%20%20%20geo_json_7e86f1f4611043959548c9b99ee5d829%0A%20%20%20%20%20%20%20%20%20%20%20%20%20%20%20%20.addData%28data%29%0A%20%20%20%20%20%20%20%20%20%20%20%20%20%20%20%20.addTo%28map_00b4a9a43dbb4e13b22179f670065c95%29%3B%0A%20%20%20%20%20%20%20%20%7D%0A%20%20%20%20%20%20%20%20%20%20%20%20geo_json_7e86f1f4611043959548c9b99ee5d829_add%28%7B%22features%22%3A%20%5B%7B%22geometry%22%3A%20%7B%22coordinates%22%3A%20%5B%5B-73.969019%2C%2040.80389%5D%2C%20%5B-73.981944%2C%2040.767924%5D%2C%20%5B-73.988636%2C%2040.729024%5D%2C%20%5B-73.969019%2C%2040.80389%5D%2C%20%5B-73.976483%2C%2040.785903%5D%2C%20%5B-73.993585%2C%2040.752188%5D%2C%20%5B-73.98439%2C%2040.76022%5D%2C%20%5B-73.976526%2C%2040.758505%5D%2C%20%5B-73.976986%2C%2040.761397%5D%2C%20%5B-73.992211%2C%2040.75045%5D%2C%20%5B-73.976327%2C%2040.780755%5D%2C%20%5B-73.973203%2C%2040.781184%5D%2C%20%5B-73.970958%2C%2040.774064%5D%5D%2C%20%22type%22%3A%20%22LineString%22%7D%2C%20%22id%22%3A%20%220%22%2C%20%22type%22%3A%20%22Feature%22%7D%5D%2C%20%22type%22%3A%20%22FeatureCollection%22%7D%29%3B%0A%0A%20%20%20%20%20%20%20%20%0A%20%20%20%20%0A%20%20%20%20%20%20%20%20function%20geo_json_8935c20745994088ba3bf2fce784c063_styler%28feature%29%20%7B%0A%20%20%20%20%20%20%20%20%20%20%20%20switch%28feature.id%29%20%7B%0A%20%20%20%20%20%20%20%20%20%20%20%20%20%20%20%20default%3A%0A%20%20%20%20%20%20%20%20%20%20%20%20%20%20%20%20%20%20%20%20return%20%7B%22color%22%3A%20%22%237CFFFA%22%2C%20%22dashArray%22%3A%20%220%2C%200%22%2C%20%22opacity%22%3A%200.75%2C%20%22weight%22%3A%202%7D%3B%0A%20%20%20%20%20%20%20%20%20%20%20%20%7D%0A%20%20%20%20%20%20%20%20%7D%0A%0A%20%20%20%20%20%20%20%20function%20geo_json_8935c20745994088ba3bf2fce784c063_onEachFeature%28feature%2C%20layer%29%20%7B%0A%20%20%20%20%20%20%20%20%20%20%20%20layer.on%28%7B%0A%20%20%20%20%20%20%20%20%20%20%20%20%7D%29%3B%0A%20%20%20%20%20%20%20%20%7D%3B%0A%20%20%20%20%20%20%20%20var%20geo_json_8935c20745994088ba3bf2fce784c063%20%3D%20L.geoJson%28null%2C%20%7B%0A%20%20%20%20%20%20%20%20%20%20%20%20%20%20%20%20onEachFeature%3A%20geo_json_8935c20745994088ba3bf2fce784c063_onEachFeature%2C%0A%20%20%20%20%20%20%20%20%20%20%20%20%0A%20%20%20%20%20%20%20%20%20%20%20%20%20%20%20%20style%3A%20geo_json_8935c20745994088ba3bf2fce784c063_styler%2C%0A%20%20%20%20%20%20%20%20%7D%29%3B%0A%0A%20%20%20%20%20%20%20%20function%20geo_json_8935c20745994088ba3bf2fce784c063_add%20%28data%29%20%7B%0A%20%20%20%20%20%20%20%20%20%20%20%20geo_json_8935c20745994088ba3bf2fce784c063%0A%20%20%20%20%20%20%20%20%20%20%20%20%20%20%20%20.addData%28data%29%0A%20%20%20%20%20%20%20%20%20%20%20%20%20%20%20%20.addTo%28map_00b4a9a43dbb4e13b22179f670065c95%29%3B%0A%20%20%20%20%20%20%20%20%7D%0A%20%20%20%20%20%20%20%20%20%20%20%20geo_json_8935c20745994088ba3bf2fce784c063_add%28%7B%22features%22%3A%20%5B%7B%22geometry%22%3A%20%7B%22coordinates%22%3A%20%5B%5B-73.943023%2C%2040.700455%5D%2C%20%5B-73.989784%2C%2040.749877%5D%2C%20%5B-74.012273%2C%2040.717436%5D%5D%2C%20%22type%22%3A%20%22LineString%22%7D%2C%20%22id%22%3A%20%220%22%2C%20%22type%22%3A%20%22Feature%22%7D%5D%2C%20%22type%22%3A%20%22FeatureCollection%22%7D%29%3B%0A%0A%20%20%20%20%20%20%20%20%0A%20%20%20%20%0A%20%20%20%20%20%20%20%20function%20geo_json_47fb61056bf94db6b26286da109d00c9_styler%28feature%29%20%7B%0A%20%20%20%20%20%20%20%20%20%20%20%20switch%28feature.id%29%20%7B%0A%20%20%20%20%20%20%20%20%20%20%20%20%20%20%20%20default%3A%0A%20%20%20%20%20%20%20%20%20%20%20%20%20%20%20%20%20%20%20%20return%20%7B%22color%22%3A%20%22%23008607%22%2C%20%22dashArray%22%3A%20%220%2C%200%22%2C%20%22opacity%22%3A%200.75%2C%20%22weight%22%3A%202%7D%3B%0A%20%20%20%20%20%20%20%20%20%20%20%20%7D%0A%20%20%20%20%20%20%20%20%7D%0A%0A%20%20%20%20%20%20%20%20function%20geo_json_47fb61056bf94db6b26286da109d00c9_onEachFeature%28feature%2C%20layer%29%20%7B%0A%20%20%20%20%20%20%20%20%20%20%20%20layer.on%28%7B%0A%20%20%20%20%20%20%20%20%20%20%20%20%7D%29%3B%0A%20%20%20%20%20%20%20%20%7D%3B%0A%20%20%20%20%20%20%20%20var%20geo_json_47fb61056bf94db6b26286da109d00c9%20%3D%20L.geoJson%28null%2C%20%7B%0A%20%20%20%20%20%20%20%20%20%20%20%20%20%20%20%20onEachFeature%3A%20geo_json_47fb61056bf94db6b26286da109d00c9_onEachFeature%2C%0A%20%20%20%20%20%20%20%20%20%20%20%20%0A%20%20%20%20%20%20%20%20%20%20%20%20%20%20%20%20style%3A%20geo_json_47fb61056bf94db6b26286da109d00c9_styler%2C%0A%20%20%20%20%20%20%20%20%7D%29%3B%0A%0A%20%20%20%20%20%20%20%20function%20geo_json_47fb61056bf94db6b26286da109d00c9_add%20%28data%29%20%7B%0A%20%20%20%20%20%20%20%20%20%20%20%20geo_json_47fb61056bf94db6b26286da109d00c9%0A%20%20%20%20%20%20%20%20%20%20%20%20%20%20%20%20.addData%28data%29%0A%20%20%20%20%20%20%20%20%20%20%20%20%20%20%20%20.addTo%28map_00b4a9a43dbb4e13b22179f670065c95%29%3B%0A%20%20%20%20%20%20%20%20%7D%0A%20%20%20%20%20%20%20%20%20%20%20%20geo_json_47fb61056bf94db6b26286da109d00c9_add%28%7B%22features%22%3A%20%5B%7B%22geometry%22%3A%20%7B%22coordinates%22%3A%20%5B%5B-74.033024%2C%2040.718591%5D%2C%20%5B-74.033681%2C%2040.719086%5D%2C%20%5B-73.993576%2C%2040.750795%5D%2C%20%5B-73.769008%2C%2040.764962%5D%2C%20%5B-73.788969%2C%2040.761943%5D%2C%20%5B-73.789963%2C%2040.761435%5D%2C%20%5B-73.801885%2C%2040.76162%5D%2C%20%5B-73.814542%2C%2040.762682%5D%2C%20%5B-73.830514%2C%2040.758345%5D%2C%20%5B-73.902969%2C%2040.745794%5D%2C%20%5B-74.033207%2C%2040.716249%5D%2C%20%5B-74.042873%2C%2040.719957%5D%2C%20%5B-74.034762%2C%2040.718363%5D%2C%20%5B-74.034944%2C%2040.719286%5D%2C%20%5B-73.992091%2C%2040.750375%5D%2C%20%5B-73.789963%2C%2040.761435%5D%2C%20%5B-73.847787%2C%2040.780256%5D%2C%20%5B-73.835778%2C%2040.786618%5D%2C%20%5B-73.836098%2C%2040.7864%5D%2C%20%5B-73.83585%2C%2040.785917%5D%2C%20%5B-73.807397%2C%2040.770272%5D%2C%20%5B-73.808384%2C%2040.770434%5D%2C%20%5B-73.788969%2C%2040.761943%5D%2C%20%5B-73.788969%2C%2040.761943%5D%2C%20%5B-73.847787%2C%2040.780256%5D%2C%20%5B-73.788969%2C%2040.761943%5D%2C%20%5B-73.788969%2C%2040.761943%5D%2C%20%5B-73.788969%2C%2040.761943%5D%2C%20%5B-73.789963%2C%2040.761435%5D%2C%20%5B-73.993576%2C%2040.750795%5D%2C%20%5B-73.992091%2C%2040.750375%5D%2C%20%5B-73.902969%2C%2040.745794%5D%2C%20%5B-73.788969%2C%2040.761943%5D%2C%20%5B-73.789963%2C%2040.761435%5D%2C%20%5B-74.033207%2C%2040.716249%5D%2C%20%5B-74.042873%2C%2040.719957%5D%2C%20%5B-74.034162%2C%2040.715891%5D%2C%20%5B-74.034762%2C%2040.718363%5D%2C%20%5B-74.033024%2C%2040.718591%5D%2C%20%5B-74.033681%2C%2040.719086%5D%2C%20%5B-73.993576%2C%2040.750795%5D%2C%20%5B-73.992448%2C%2040.750118%5D%2C%20%5B-73.770404%2C%2040.763595%5D%2C%20%5B-73.788969%2C%2040.761943%5D%2C%20%5B-73.789963%2C%2040.761435%5D%2C%20%5B-73.902969%2C%2040.745794%5D%2C%20%5B-74.033024%2C%2040.718591%5D%5D%2C%20%22type%22%3A%20%22LineString%22%7D%2C%20%22id%22%3A%20%220%22%2C%20%22type%22%3A%20%22Feature%22%7D%5D%2C%20%22type%22%3A%20%22FeatureCollection%22%7D%29%3B%0A%0A%20%20%20%20%20%20%20%20%0A%20%20%20%20%0A%20%20%20%20%20%20%20%20function%20geo_json_37c8ea2d16b843c98a42d915d79e426a_styler%28feature%29%20%7B%0A%20%20%20%20%20%20%20%20%20%20%20%20switch%28feature.id%29%20%7B%0A%20%20%20%20%20%20%20%20%20%20%20%20%20%20%20%20default%3A%0A%20%20%20%20%20%20%20%20%20%20%20%20%20%20%20%20%20%20%20%20return%20%7B%22color%22%3A%20%22%236A0213%22%2C%20%22dashArray%22%3A%20%220%2C%200%22%2C%20%22opacity%22%3A%200.75%2C%20%22weight%22%3A%202%7D%3B%0A%20%20%20%20%20%20%20%20%20%20%20%20%7D%0A%20%20%20%20%20%20%20%20%7D%0A%0A%20%20%20%20%20%20%20%20function%20geo_json_37c8ea2d16b843c98a42d915d79e426a_onEachFeature%28feature%2C%20layer%29%20%7B%0A%20%20%20%20%20%20%20%20%20%20%20%20layer.on%28%7B%0A%20%20%20%20%20%20%20%20%20%20%20%20%7D%29%3B%0A%20%20%20%20%20%20%20%20%7D%3B%0A%20%20%20%20%20%20%20%20var%20geo_json_37c8ea2d16b843c98a42d915d79e426a%20%3D%20L.geoJson%28null%2C%20%7B%0A%20%20%20%20%20%20%20%20%20%20%20%20%20%20%20%20onEachFeature%3A%20geo_json_37c8ea2d16b843c98a42d915d79e426a_onEachFeature%2C%0A%20%20%20%20%20%20%20%20%20%20%20%20%0A%20%20%20%20%20%20%20%20%20%20%20%20%20%20%20%20style%3A%20geo_json_37c8ea2d16b843c98a42d915d79e426a_styler%2C%0A%20%20%20%20%20%20%20%20%7D%29%3B%0A%0A%20%20%20%20%20%20%20%20function%20geo_json_37c8ea2d16b843c98a42d915d79e426a_add%20%28data%29%20%7B%0A%20%20%20%20%20%20%20%20%20%20%20%20geo_json_37c8ea2d16b843c98a42d915d79e426a%0A%20%20%20%20%20%20%20%20%20%20%20%20%20%20%20%20.addData%28data%29%0A%20%20%20%20%20%20%20%20%20%20%20%20%20%20%20%20.addTo%28map_00b4a9a43dbb4e13b22179f670065c95%29%3B%0A%20%20%20%20%20%20%20%20%7D%0A%20%20%20%20%20%20%20%20%20%20%20%20geo_json_37c8ea2d16b843c98a42d915d79e426a_add%28%7B%22features%22%3A%20%5B%7B%22geometry%22%3A%20%7B%22coordinates%22%3A%20%5B%5B-74.026303%2C%2040.735162%5D%2C%20%5B-73.989288%2C%2040.741673%5D%2C%20%5B-73.989358%2C%2040.741307%5D%2C%20%5B-73.987385%2C%2040.74157%5D%2C%20%5B-73.987924%2C%2040.742188%5D%2C%20%5B-73.985382%2C%2040.741779%5D%2C%20%5B-73.985382%2C%2040.741779%5D%2C%20%5B-73.989288%2C%2040.741673%5D%2C%20%5B-73.989358%2C%2040.741307%5D%2C%20%5B-73.987924%2C%2040.742188%5D%2C%20%5B-73.987598%2C%2040.741112%5D%2C%20%5B-73.986966%2C%2040.742207%5D%2C%20%5B-73.985382%2C%2040.741779%5D%2C%20%5B-73.987924%2C%2040.742188%5D%2C%20%5B-73.989288%2C%2040.741673%5D%2C%20%5B-73.989358%2C%2040.741307%5D%2C%20%5B-73.987598%2C%2040.741112%5D%2C%20%5B-73.986966%2C%2040.742207%5D%2C%20%5B-73.985382%2C%2040.741779%5D%2C%20%5B-74.193139%2C%2040.68407%5D%2C%20%5B-74.173722%2C%2040.694989%5D%2C%20%5B-73.985382%2C%2040.741779%5D%5D%2C%20%22type%22%3A%20%22LineString%22%7D%2C%20%22id%22%3A%20%220%22%2C%20%22type%22%3A%20%22Feature%22%7D%5D%2C%20%22type%22%3A%20%22FeatureCollection%22%7D%29%3B%0A%0A%20%20%20%20%20%20%20%20%0A%20%20%20%20%0A%20%20%20%20%20%20%20%20function%20geo_json_334ea9246e2b44339806cbdd806e9c2d_styler%28feature%29%20%7B%0A%20%20%20%20%20%20%20%20%20%20%20%20switch%28feature.id%29%20%7B%0A%20%20%20%20%20%20%20%20%20%20%20%20%20%20%20%20default%3A%0A%20%20%20%20%20%20%20%20%20%20%20%20%20%20%20%20%20%20%20%20return%20%7B%22color%22%3A%20%22%23003C86%22%2C%20%22dashArray%22%3A%20%220%2C%200%22%2C%20%22opacity%22%3A%200.75%2C%20%22weight%22%3A%202%7D%3B%0A%20%20%20%20%20%20%20%20%20%20%20%20%7D%0A%20%20%20%20%20%20%20%20%7D%0A%0A%20%20%20%20%20%20%20%20function%20geo_json_334ea9246e2b44339806cbdd806e9c2d_onEachFeature%28feature%2C%20layer%29%20%7B%0A%20%20%20%20%20%20%20%20%20%20%20%20layer.on%28%7B%0A%20%20%20%20%20%20%20%20%20%20%20%20%7D%29%3B%0A%20%20%20%20%20%20%20%20%7D%3B%0A%20%20%20%20%20%20%20%20var%20geo_json_334ea9246e2b44339806cbdd806e9c2d%20%3D%20L.geoJson%28null%2C%20%7B%0A%20%20%20%20%20%20%20%20%20%20%20%20%20%20%20%20onEachFeature%3A%20geo_json_334ea9246e2b44339806cbdd806e9c2d_onEachFeature%2C%0A%20%20%20%20%20%20%20%20%20%20%20%20%0A%20%20%20%20%20%20%20%20%20%20%20%20%20%20%20%20style%3A%20geo_json_334ea9246e2b44339806cbdd806e9c2d_styler%2C%0A%20%20%20%20%20%20%20%20%7D%29%3B%0A%0A%20%20%20%20%20%20%20%20function%20geo_json_334ea9246e2b44339806cbdd806e9c2d_add%20%28data%29%20%7B%0A%20%20%20%20%20%20%20%20%20%20%20%20geo_json_334ea9246e2b44339806cbdd806e9c2d%0A%20%20%20%20%20%20%20%20%20%20%20%20%20%20%20%20.addData%28data%29%0A%20%20%20%20%20%20%20%20%20%20%20%20%20%20%20%20.addTo%28map_00b4a9a43dbb4e13b22179f670065c95%29%3B%0A%20%20%20%20%20%20%20%20%7D%0A%20%20%20%20%20%20%20%20%20%20%20%20geo_json_334ea9246e2b44339806cbdd806e9c2d_add%28%7B%22features%22%3A%20%5B%7B%22geometry%22%3A%20%7B%22coordinates%22%3A%20%5B%5B-74.006208%2C%2040.706409%5D%2C%20%5B-73.790207%2C%2040.694851%5D%2C%20%5B-74.004762%2C%2040.70652%5D%2C%20%5B-73.77789%2C%2040.689365%5D%2C%20%5B-73.779251%2C%2040.691265%5D%2C%20%5B-73.778355%2C%2040.692782%5D%2C%20%5B-74.004762%2C%2040.70652%5D%2C%20%5B-74.006087%2C%2040.706858%5D%2C%20%5B-74.006374%2C%2040.706073%5D%2C%20%5B-73.986908%2C%2040.740394%5D%2C%20%5B-74.006867%2C%2040.706905%5D%2C%20%5B-74.007109%2C%2040.707002%5D%2C%20%5B-73.752894%2C%2040.689442%5D%5D%2C%20%22type%22%3A%20%22LineString%22%7D%2C%20%22id%22%3A%20%220%22%2C%20%22type%22%3A%20%22Feature%22%7D%5D%2C%20%22type%22%3A%20%22FeatureCollection%22%7D%29%3B%0A%0A%20%20%20%20%20%20%20%20%0A%20%20%20%20%0A%20%20%20%20%20%20%20%20function%20geo_json_c66439056ce5494da6d63a84f9300492_styler%28feature%29%20%7B%0A%20%20%20%20%20%20%20%20%20%20%20%20switch%28feature.id%29%20%7B%0A%20%20%20%20%20%20%20%20%20%20%20%20%20%20%20%20default%3A%0A%20%20%20%20%20%20%20%20%20%20%20%20%20%20%20%20%20%20%20%20return%20%7B%22color%22%3A%20%22%236A0213%22%2C%20%22dashArray%22%3A%20%220%2C%200%22%2C%20%22opacity%22%3A%200.75%2C%20%22weight%22%3A%202%7D%3B%0A%20%20%20%20%20%20%20%20%20%20%20%20%7D%0A%20%20%20%20%20%20%20%20%7D%0A%0A%20%20%20%20%20%20%20%20function%20geo_json_c66439056ce5494da6d63a84f9300492_onEachFeature%28feature%2C%20layer%29%20%7B%0A%20%20%20%20%20%20%20%20%20%20%20%20layer.on%28%7B%0A%20%20%20%20%20%20%20%20%20%20%20%20%7D%29%3B%0A%20%20%20%20%20%20%20%20%7D%3B%0A%20%20%20%20%20%20%20%20var%20geo_json_c66439056ce5494da6d63a84f9300492%20%3D%20L.geoJson%28null%2C%20%7B%0A%20%20%20%20%20%20%20%20%20%20%20%20%20%20%20%20onEachFeature%3A%20geo_json_c66439056ce5494da6d63a84f9300492_onEachFeature%2C%0A%20%20%20%20%20%20%20%20%20%20%20%20%0A%20%20%20%20%20%20%20%20%20%20%20%20%20%20%20%20style%3A%20geo_json_c66439056ce5494da6d63a84f9300492_styler%2C%0A%20%20%20%20%20%20%20%20%7D%29%3B%0A%0A%20%20%20%20%20%20%20%20function%20geo_json_c66439056ce5494da6d63a84f9300492_add%20%28data%29%20%7B%0A%20%20%20%20%20%20%20%20%20%20%20%20geo_json_c66439056ce5494da6d63a84f9300492%0A%20%20%20%20%20%20%20%20%20%20%20%20%20%20%20%20.addData%28data%29%0A%20%20%20%20%20%20%20%20%20%20%20%20%20%20%20%20.addTo%28map_00b4a9a43dbb4e13b22179f670065c95%29%3B%0A%20%20%20%20%20%20%20%20%7D%0A%20%20%20%20%20%20%20%20%20%20%20%20geo_json_c66439056ce5494da6d63a84f9300492_add%28%7B%22features%22%3A%20%5B%7B%22geometry%22%3A%20%7B%22coordinates%22%3A%20%5B%5B-73.989984%2C%2040.742024%5D%2C%20%5B-73.981977%2C%2040.670548%5D%2C%20%5B-73.986224%2C%2040.669373%5D%2C%20%5B-74.000216%2C%2040.738836%5D%2C%20%5B-74.002074%2C%2040.739489%5D%2C%20%5B-73.989984%2C%2040.742024%5D%5D%2C%20%22type%22%3A%20%22LineString%22%7D%2C%20%22id%22%3A%20%220%22%2C%20%22type%22%3A%20%22Feature%22%7D%5D%2C%20%22type%22%3A%20%22FeatureCollection%22%7D%29%3B%0A%0A%20%20%20%20%20%20%20%20%0A%20%20%20%20%0A%20%20%20%20%20%20%20%20function%20geo_json_7329308953e641849e68edcf4229eb25_styler%28feature%29%20%7B%0A%20%20%20%20%20%20%20%20%20%20%20%20switch%28feature.id%29%20%7B%0A%20%20%20%20%20%20%20%20%20%20%20%20%20%20%20%20default%3A%0A%20%20%20%20%20%20%20%20%20%20%20%20%20%20%20%20%20%20%20%20return%20%7B%22color%22%3A%20%22%2300E307%22%2C%20%22dashArray%22%3A%20%220%2C%200%22%2C%20%22opacity%22%3A%200.75%2C%20%22weight%22%3A%202%7D%3B%0A%20%20%20%20%20%20%20%20%20%20%20%20%7D%0A%20%20%20%20%20%20%20%20%7D%0A%0A%20%20%20%20%20%20%20%20function%20geo_json_7329308953e641849e68edcf4229eb25_onEachFeature%28feature%2C%20layer%29%20%7B%0A%20%20%20%20%20%20%20%20%20%20%20%20layer.on%28%7B%0A%20%20%20%20%20%20%20%20%20%20%20%20%7D%29%3B%0A%20%20%20%20%20%20%20%20%7D%3B%0A%20%20%20%20%20%20%20%20var%20geo_json_7329308953e641849e68edcf4229eb25%20%3D%20L.geoJson%28null%2C%20%7B%0A%20%20%20%20%20%20%20%20%20%20%20%20%20%20%20%20onEachFeature%3A%20geo_json_7329308953e641849e68edcf4229eb25_onEachFeature%2C%0A%20%20%20%20%20%20%20%20%20%20%20%20%0A%20%20%20%20%20%20%20%20%20%20%20%20%20%20%20%20style%3A%20geo_json_7329308953e641849e68edcf4229eb25_styler%2C%0A%20%20%20%20%20%20%20%20%7D%29%3B%0A%0A%20%20%20%20%20%20%20%20function%20geo_json_7329308953e641849e68edcf4229eb25_add%20%28data%29%20%7B%0A%20%20%20%20%20%20%20%20%20%20%20%20geo_json_7329308953e641849e68edcf4229eb25%0A%20%20%20%20%20%20%20%20%20%20%20%20%20%20%20%20.addData%28data%29%0A%20%20%20%20%20%20%20%20%20%20%20%20%20%20%20%20.addTo%28map_00b4a9a43dbb4e13b22179f670065c95%29%3B%0A%20%20%20%20%20%20%20%20%7D%0A%20%20%20%20%20%20%20%20%20%20%20%20geo_json_7329308953e641849e68edcf4229eb25_add%28%7B%22features%22%3A%20%5B%7B%22geometry%22%3A%20%7B%22coordinates%22%3A%20%5B%5B-74.073044%2C%2040.915718%5D%2C%20%5B-74.026523%2C%2040.919901%5D%2C%20%5B-74.023709%2C%2040.889655%5D%2C%20%5B-73.996904%2C%2040.938992%5D%2C%20%5B-73.993273%2C%2040.94042%5D%2C%20%5B-73.995322%2C%2040.940347%5D%2C%20%5B-73.975705%2C%2040.889559%5D%2C%20%5B-73.975855%2C%2040.889556%5D%2C%20%5B-74.026523%2C%2040.919901%5D%2C%20%5B-73.975705%2C%2040.889559%5D%2C%20%5B-73.975855%2C%2040.889556%5D%2C%20%5B-73.954893%2C%2040.968719%5D%2C%20%5B-73.955307%2C%2040.969127%5D%2C%20%5B-73.942443%2C%2040.968005%5D%2C%20%5B-74.000633%2C%2040.940092%5D%2C%20%5B-73.996904%2C%2040.938992%5D%2C%20%5B-73.975855%2C%2040.889556%5D%2C%20%5B-73.975705%2C%2040.889559%5D%2C%20%5B-74.000633%2C%2040.940092%5D%2C%20%5B-73.975855%2C%2040.889556%5D%2C%20%5B-73.975705%2C%2040.889559%5D%5D%2C%20%22type%22%3A%20%22LineString%22%7D%2C%20%22id%22%3A%20%220%22%2C%20%22type%22%3A%20%22Feature%22%7D%5D%2C%20%22type%22%3A%20%22FeatureCollection%22%7D%29%3B%0A%0A%20%20%20%20%20%20%20%20%0A%20%20%20%20%0A%20%20%20%20%20%20%20%20function%20geo_json_f54f3874d57a42b2aa47ddc707e3211c_styler%28feature%29%20%7B%0A%20%20%20%20%20%20%20%20%20%20%20%20switch%28feature.id%29%20%7B%0A%20%20%20%20%20%20%20%20%20%20%20%20%20%20%20%20default%3A%0A%20%20%20%20%20%20%20%20%20%20%20%20%20%20%20%20%20%20%20%20return%20%7B%22color%22%3A%20%22%23F60239%22%2C%20%22dashArray%22%3A%20%220%2C%200%22%2C%20%22opacity%22%3A%200.75%2C%20%22weight%22%3A%202%7D%3B%0A%20%20%20%20%20%20%20%20%20%20%20%20%7D%0A%20%20%20%20%20%20%20%20%7D%0A%0A%20%20%20%20%20%20%20%20function%20geo_json_f54f3874d57a42b2aa47ddc707e3211c_onEachFeature%28feature%2C%20layer%29%20%7B%0A%20%20%20%20%20%20%20%20%20%20%20%20layer.on%28%7B%0A%20%20%20%20%20%20%20%20%20%20%20%20%7D%29%3B%0A%20%20%20%20%20%20%20%20%7D%3B%0A%20%20%20%20%20%20%20%20var%20geo_json_f54f3874d57a42b2aa47ddc707e3211c%20%3D%20L.geoJson%28null%2C%20%7B%0A%20%20%20%20%20%20%20%20%20%20%20%20%20%20%20%20onEachFeature%3A%20geo_json_f54f3874d57a42b2aa47ddc707e3211c_onEachFeature%2C%0A%20%20%20%20%20%20%20%20%20%20%20%20%0A%20%20%20%20%20%20%20%20%20%20%20%20%20%20%20%20style%3A%20geo_json_f54f3874d57a42b2aa47ddc707e3211c_styler%2C%0A%20%20%20%20%20%20%20%20%7D%29%3B%0A%0A%20%20%20%20%20%20%20%20function%20geo_json_f54f3874d57a42b2aa47ddc707e3211c_add%20%28data%29%20%7B%0A%20%20%20%20%20%20%20%20%20%20%20%20geo_json_f54f3874d57a42b2aa47ddc707e3211c%0A%20%20%20%20%20%20%20%20%20%20%20%20%20%20%20%20.addData%28data%29%0A%20%20%20%20%20%20%20%20%20%20%20%20%20%20%20%20.addTo%28map_00b4a9a43dbb4e13b22179f670065c95%29%3B%0A%20%20%20%20%20%20%20%20%7D%0A%20%20%20%20%20%20%20%20%20%20%20%20geo_json_f54f3874d57a42b2aa47ddc707e3211c_add%28%7B%22features%22%3A%20%5B%7B%22geometry%22%3A%20%7B%22coordinates%22%3A%20%5B%5B-73.987581%2C%2040.762796%5D%2C%20%5B-73.98762%2C%2040.762747%5D%2C%20%5B-73.980521%2C%2040.790606%5D%2C%20%5B-73.980501%2C%2040.790522%5D%2C%20%5B-73.980521%2C%2040.790606%5D%2C%20%5B-73.980501%2C%2040.790522%5D%2C%20%5B-73.980501%2C%2040.790522%5D%2C%20%5B-73.987581%2C%2040.762796%5D%2C%20%5B-73.98762%2C%2040.762747%5D%2C%20%5B-73.865998%2C%2040.771864%5D%2C%20%5B-73.87122%2C%2040.773839%5D%5D%2C%20%22type%22%3A%20%22LineString%22%7D%2C%20%22id%22%3A%20%220%22%2C%20%22type%22%3A%20%22Feature%22%7D%5D%2C%20%22type%22%3A%20%22FeatureCollection%22%7D%29%3B%0A%0A%20%20%20%20%20%20%20%20%0A%20%20%20%20%0A%20%20%20%20%20%20%20%20function%20geo_json_eaddd6b47c734087bbc6a46d4a6d21a1_styler%28feature%29%20%7B%0A%20%20%20%20%20%20%20%20%20%20%20%20switch%28feature.id%29%20%7B%0A%20%20%20%20%20%20%20%20%20%20%20%20%20%20%20%20default%3A%0A%20%20%20%20%20%20%20%20%20%20%20%20%20%20%20%20%20%20%20%20return%20%7B%22color%22%3A%20%22%23003C86%22%2C%20%22dashArray%22%3A%20%220%2C%200%22%2C%20%22opacity%22%3A%200.75%2C%20%22weight%22%3A%202%7D%3B%0A%20%20%20%20%20%20%20%20%20%20%20%20%7D%0A%20%20%20%20%20%20%20%20%7D%0A%0A%20%20%20%20%20%20%20%20function%20geo_json_eaddd6b47c734087bbc6a46d4a6d21a1_onEachFeature%28feature%2C%20layer%29%20%7B%0A%20%20%20%20%20%20%20%20%20%20%20%20layer.on%28%7B%0A%20%20%20%20%20%20%20%20%20%20%20%20%7D%29%3B%0A%20%20%20%20%20%20%20%20%7D%3B%0A%20%20%20%20%20%20%20%20var%20geo_json_eaddd6b47c734087bbc6a46d4a6d21a1%20%3D%20L.geoJson%28null%2C%20%7B%0A%20%20%20%20%20%20%20%20%20%20%20%20%20%20%20%20onEachFeature%3A%20geo_json_eaddd6b47c734087bbc6a46d4a6d21a1_onEachFeature%2C%0A%20%20%20%20%20%20%20%20%20%20%20%20%0A%20%20%20%20%20%20%20%20%20%20%20%20%20%20%20%20style%3A%20geo_json_eaddd6b47c734087bbc6a46d4a6d21a1_styler%2C%0A%20%20%20%20%20%20%20%20%7D%29%3B%0A%0A%20%20%20%20%20%20%20%20function%20geo_json_eaddd6b47c734087bbc6a46d4a6d21a1_add%20%28data%29%20%7B%0A%20%20%20%20%20%20%20%20%20%20%20%20geo_json_eaddd6b47c734087bbc6a46d4a6d21a1%0A%20%20%20%20%20%20%20%20%20%20%20%20%20%20%20%20.addData%28data%29%0A%20%20%20%20%20%20%20%20%20%20%20%20%20%20%20%20.addTo%28map_00b4a9a43dbb4e13b22179f670065c95%29%3B%0A%20%20%20%20%20%20%20%20%7D%0A%20%20%20%20%20%20%20%20%20%20%20%20geo_json_eaddd6b47c734087bbc6a46d4a6d21a1_add%28%7B%22features%22%3A%20%5B%7B%22geometry%22%3A%20%7B%22coordinates%22%3A%20%5B%5B-73.994542%2C%2040.680571%5D%2C%20%5B-73.981419%2C%2040.724755%5D%2C%20%5B-73.961506%2C%2040.716432%5D%2C%20%5B-73.961448%2C%2040.716534%5D%2C%20%5B-73.99193%2C%2040.748243%5D%2C%20%5B-73.99193%2C%2040.748243%5D%5D%2C%20%22type%22%3A%20%22LineString%22%7D%2C%20%22id%22%3A%20%220%22%2C%20%22type%22%3A%20%22Feature%22%7D%5D%2C%20%22type%22%3A%20%22FeatureCollection%22%7D%29%3B%0A%0A%20%20%20%20%20%20%20%20%0A%20%20%20%20%0A%20%20%20%20%20%20%20%20function%20geo_json_3b91c7c1b11146c2b8caf588e8da563f_styler%28feature%29%20%7B%0A%20%20%20%20%20%20%20%20%20%20%20%20switch%28feature.id%29%20%7B%0A%20%20%20%20%20%20%20%20%20%20%20%20%20%20%20%20default%3A%0A%20%20%20%20%20%20%20%20%20%20%20%20%20%20%20%20%20%20%20%20return%20%7B%22color%22%3A%20%22%23FFCFE2%22%2C%20%22dashArray%22%3A%20%220%2C%200%22%2C%20%22opacity%22%3A%200.75%2C%20%22weight%22%3A%202%7D%3B%0A%20%20%20%20%20%20%20%20%20%20%20%20%7D%0A%20%20%20%20%20%20%20%20%7D%0A%0A%20%20%20%20%20%20%20%20function%20geo_json_3b91c7c1b11146c2b8caf588e8da563f_onEachFeature%28feature%2C%20layer%29%20%7B%0A%20%20%20%20%20%20%20%20%20%20%20%20layer.on%28%7B%0A%20%20%20%20%20%20%20%20%20%20%20%20%7D%29%3B%0A%20%20%20%20%20%20%20%20%7D%3B%0A%20%20%20%20%20%20%20%20var%20geo_json_3b91c7c1b11146c2b8caf588e8da563f%20%3D%20L.geoJson%28null%2C%20%7B%0A%20%20%20%20%20%20%20%20%20%20%20%20%20%20%20%20onEachFeature%3A%20geo_json_3b91c7c1b11146c2b8caf588e8da563f_onEachFeature%2C%0A%20%20%20%20%20%20%20%20%20%20%20%20%0A%20%20%20%20%20%20%20%20%20%20%20%20%20%20%20%20style%3A%20geo_json_3b91c7c1b11146c2b8caf588e8da563f_styler%2C%0A%20%20%20%20%20%20%20%20%7D%29%3B%0A%0A%20%20%20%20%20%20%20%20function%20geo_json_3b91c7c1b11146c2b8caf588e8da563f_add%20%28data%29%20%7B%0A%20%20%20%20%20%20%20%20%20%20%20%20geo_json_3b91c7c1b11146c2b8caf588e8da563f%0A%20%20%20%20%20%20%20%20%20%20%20%20%20%20%20%20.addData%28data%29%0A%20%20%20%20%20%20%20%20%20%20%20%20%20%20%20%20.addTo%28map_00b4a9a43dbb4e13b22179f670065c95%29%3B%0A%20%20%20%20%20%20%20%20%7D%0A%20%20%20%20%20%20%20%20%20%20%20%20geo_json_3b91c7c1b11146c2b8caf588e8da563f_add%28%7B%22features%22%3A%20%5B%7B%22geometry%22%3A%20%7B%22coordinates%22%3A%20%5B%5B-74.018206%2C%2040.707294%5D%2C%20%5B-74.01684%2C%2040.712016%5D%2C%20%5B-74.008933%2C%2040.709951%5D%2C%20%5B-74.008676%2C%2040.714671%5D%2C%20%5B-74.012385%2C%2040.714787%5D%2C%20%5B-74.013344%2C%2040.708887%5D%5D%2C%20%22type%22%3A%20%22LineString%22%7D%2C%20%22id%22%3A%20%220%22%2C%20%22type%22%3A%20%22Feature%22%7D%5D%2C%20%22type%22%3A%20%22FeatureCollection%22%7D%29%3B%0A%0A%20%20%20%20%20%20%20%20%0A%20%20%20%20%0A%20%20%20%20%20%20%20%20function%20geo_json_f41b22825b1e4ea59be88bb5400848a8_styler%28feature%29%20%7B%0A%20%20%20%20%20%20%20%20%20%20%20%20switch%28feature.id%29%20%7B%0A%20%20%20%20%20%20%20%20%20%20%20%20%20%20%20%20default%3A%0A%20%20%20%20%20%20%20%20%20%20%20%20%20%20%20%20%20%20%20%20return%20%7B%22color%22%3A%20%22%23003C86%22%2C%20%22dashArray%22%3A%20%220%2C%200%22%2C%20%22opacity%22%3A%200.75%2C%20%22weight%22%3A%202%7D%3B%0A%20%20%20%20%20%20%20%20%20%20%20%20%7D%0A%20%20%20%20%20%20%20%20%7D%0A%0A%20%20%20%20%20%20%20%20function%20geo_json_f41b22825b1e4ea59be88bb5400848a8_onEachFeature%28feature%2C%20layer%29%20%7B%0A%20%20%20%20%20%20%20%20%20%20%20%20layer.on%28%7B%0A%20%20%20%20%20%20%20%20%20%20%20%20%7D%29%3B%0A%20%20%20%20%20%20%20%20%7D%3B%0A%20%20%20%20%20%20%20%20var%20geo_json_f41b22825b1e4ea59be88bb5400848a8%20%3D%20L.geoJson%28null%2C%20%7B%0A%20%20%20%20%20%20%20%20%20%20%20%20%20%20%20%20onEachFeature%3A%20geo_json_f41b22825b1e4ea59be88bb5400848a8_onEachFeature%2C%0A%20%20%20%20%20%20%20%20%20%20%20%20%0A%20%20%20%20%20%20%20%20%20%20%20%20%20%20%20%20style%3A%20geo_json_f41b22825b1e4ea59be88bb5400848a8_styler%2C%0A%20%20%20%20%20%20%20%20%7D%29%3B%0A%0A%20%20%20%20%20%20%20%20function%20geo_json_f41b22825b1e4ea59be88bb5400848a8_add%20%28data%29%20%7B%0A%20%20%20%20%20%20%20%20%20%20%20%20geo_json_f41b22825b1e4ea59be88bb5400848a8%0A%20%20%20%20%20%20%20%20%20%20%20%20%20%20%20%20.addData%28data%29%0A%20%20%20%20%20%20%20%20%20%20%20%20%20%20%20%20.addTo%28map_00b4a9a43dbb4e13b22179f670065c95%29%3B%0A%20%20%20%20%20%20%20%20%7D%0A%20%20%20%20%20%20%20%20%20%20%20%20geo_json_f41b22825b1e4ea59be88bb5400848a8_add%28%7B%22features%22%3A%20%5B%7B%22geometry%22%3A%20%7B%22coordinates%22%3A%20%5B%5B-73.843682%2C%2040.676553%5D%2C%20%5B-74.000633%2C%2040.920391%5D%2C%20%5B-74.139122%2C%2040.826609%5D%2C%20%5B-74.139937%2C%2040.827043%5D%2C%20%5B-74.087205%2C%2040.950295%5D%5D%2C%20%22type%22%3A%20%22LineString%22%7D%2C%20%22id%22%3A%20%220%22%2C%20%22type%22%3A%20%22Feature%22%7D%5D%2C%20%22type%22%3A%20%22FeatureCollection%22%7D%29%3B%0A%0A%20%20%20%20%20%20%20%20%0A%20%20%20%20%0A%20%20%20%20%20%20%20%20function%20geo_json_7aae6aaac30849e5b529f2dcd2e95b21_styler%28feature%29%20%7B%0A%20%20%20%20%20%20%20%20%20%20%20%20switch%28feature.id%29%20%7B%0A%20%20%20%20%20%20%20%20%20%20%20%20%20%20%20%20default%3A%0A%20%20%20%20%20%20%20%20%20%20%20%20%20%20%20%20%20%20%20%20return%20%7B%22color%22%3A%20%22%2300DCB5%22%2C%20%22dashArray%22%3A%20%220%2C%200%22%2C%20%22opacity%22%3A%200.75%2C%20%22weight%22%3A%202%7D%3B%0A%20%20%20%20%20%20%20%20%20%20%20%20%7D%0A%20%20%20%20%20%20%20%20%7D%0A%0A%20%20%20%20%20%20%20%20function%20geo_json_7aae6aaac30849e5b529f2dcd2e95b21_onEachFeature%28feature%2C%20layer%29%20%7B%0A%20%20%20%20%20%20%20%20%20%20%20%20layer.on%28%7B%0A%20%20%20%20%20%20%20%20%20%20%20%20%7D%29%3B%0A%20%20%20%20%20%20%20%20%7D%3B%0A%20%20%20%20%20%20%20%20var%20geo_json_7aae6aaac30849e5b529f2dcd2e95b21%20%3D%20L.geoJson%28null%2C%20%7B%0A%20%20%20%20%20%20%20%20%20%20%20%20%20%20%20%20onEachFeature%3A%20geo_json_7aae6aaac30849e5b529f2dcd2e95b21_onEachFeature%2C%0A%20%20%20%20%20%20%20%20%20%20%20%20%0A%20%20%20%20%20%20%20%20%20%20%20%20%20%20%20%20style%3A%20geo_json_7aae6aaac30849e5b529f2dcd2e95b21_styler%2C%0A%20%20%20%20%20%20%20%20%7D%29%3B%0A%0A%20%20%20%20%20%20%20%20function%20geo_json_7aae6aaac30849e5b529f2dcd2e95b21_add%20%28data%29%20%7B%0A%20%20%20%20%20%20%20%20%20%20%20%20geo_json_7aae6aaac30849e5b529f2dcd2e95b21%0A%20%20%20%20%20%20%20%20%20%20%20%20%20%20%20%20.addData%28data%29%0A%20%20%20%20%20%20%20%20%20%20%20%20%20%20%20%20.addTo%28map_00b4a9a43dbb4e13b22179f670065c95%29%3B%0A%20%20%20%20%20%20%20%20%7D%0A%20%20%20%20%20%20%20%20%20%20%20%20geo_json_7aae6aaac30849e5b529f2dcd2e95b21_add%28%7B%22features%22%3A%20%5B%7B%22geometry%22%3A%20%7B%22coordinates%22%3A%20%5B%5B-73.988343%2C%2040.729018%5D%2C%20%5B-73.983993%2C%2040.740363%5D%2C%20%5B-73.989902%2C%2040.741128%5D%2C%20%5B-73.99166%2C%2040.741505%5D%2C%20%5B-73.82321%2C%2040.78193%5D%2C%20%5B-73.835399%2C%2040.786797%5D%2C%20%5B-73.812237%2C%2040.764713%5D%2C%20%5B-73.830807%2C%2040.7587%5D%2C%20%5B-73.824722%2C%2040.761074%5D%2C%20%5B-73.828332%2C%2040.760114%5D%2C%20%5B-73.983482%2C%2040.740225%5D%2C%20%5B-73.82964%2C%2040.758115%5D%2C%20%5B-73.836045%2C%2040.78588%5D%2C%20%5B-73.984787%2C%2040.739909%5D%2C%20%5B-73.984787%2C%2040.739909%5D%2C%20%5B-73.989015%2C%2040.742656%5D%5D%2C%20%22type%22%3A%20%22LineString%22%7D%2C%20%22id%22%3A%20%220%22%2C%20%22type%22%3A%20%22Feature%22%7D%5D%2C%20%22type%22%3A%20%22FeatureCollection%22%7D%29%3B%0A%0A%20%20%20%20%20%20%20%20%0A%20%20%20%20%0A%20%20%20%20%20%20%20%20function%20geo_json_6365d819cbeb4379aaf33147d8603a97_styler%28feature%29%20%7B%0A%20%20%20%20%20%20%20%20%20%20%20%20switch%28feature.id%29%20%7B%0A%20%20%20%20%20%20%20%20%20%20%20%20%20%20%20%20default%3A%0A%20%20%20%20%20%20%20%20%20%20%20%20%20%20%20%20%20%20%20%20return%20%7B%22color%22%3A%20%22%23008169%22%2C%20%22dashArray%22%3A%20%220%2C%200%22%2C%20%22opacity%22%3A%200.75%2C%20%22weight%22%3A%202%7D%3B%0A%20%20%20%20%20%20%20%20%20%20%20%20%7D%0A%20%20%20%20%20%20%20%20%7D%0A%0A%20%20%20%20%20%20%20%20function%20geo_json_6365d819cbeb4379aaf33147d8603a97_onEachFeature%28feature%2C%20layer%29%20%7B%0A%20%20%20%20%20%20%20%20%20%20%20%20layer.on%28%7B%0A%20%20%20%20%20%20%20%20%20%20%20%20%7D%29%3B%0A%20%20%20%20%20%20%20%20%7D%3B%0A%20%20%20%20%20%20%20%20var%20geo_json_6365d819cbeb4379aaf33147d8603a97%20%3D%20L.geoJson%28null%2C%20%7B%0A%20%20%20%20%20%20%20%20%20%20%20%20%20%20%20%20onEachFeature%3A%20geo_json_6365d819cbeb4379aaf33147d8603a97_onEachFeature%2C%0A%20%20%20%20%20%20%20%20%20%20%20%20%0A%20%20%20%20%20%20%20%20%20%20%20%20%20%20%20%20style%3A%20geo_json_6365d819cbeb4379aaf33147d8603a97_styler%2C%0A%20%20%20%20%20%20%20%20%7D%29%3B%0A%0A%20%20%20%20%20%20%20%20function%20geo_json_6365d819cbeb4379aaf33147d8603a97_add%20%28data%29%20%7B%0A%20%20%20%20%20%20%20%20%20%20%20%20geo_json_6365d819cbeb4379aaf33147d8603a97%0A%20%20%20%20%20%20%20%20%20%20%20%20%20%20%20%20.addData%28data%29%0A%20%20%20%20%20%20%20%20%20%20%20%20%20%20%20%20.addTo%28map_00b4a9a43dbb4e13b22179f670065c95%29%3B%0A%20%20%20%20%20%20%20%20%7D%0A%20%20%20%20%20%20%20%20%20%20%20%20geo_json_6365d819cbeb4379aaf33147d8603a97_add%28%7B%22features%22%3A%20%5B%7B%22geometry%22%3A%20%7B%22coordinates%22%3A%20%5B%5B-73.997576%2C%2040.763625%5D%2C%20%5B-73.996762%2C%2040.763331%5D%2C%20%5B-73.993726%2C%2040.762198%5D%2C%20%5B-74.07433%2C%2040.813484%5D%2C%20%5B-74.061914%2C%2040.795747%5D%2C%20%5B-73.98888%2C%2040.711455%5D%2C%20%5B-73.997576%2C%2040.763625%5D%5D%2C%20%22type%22%3A%20%22LineString%22%7D%2C%20%22id%22%3A%20%220%22%2C%20%22type%22%3A%20%22Feature%22%7D%5D%2C%20%22type%22%3A%20%22FeatureCollection%22%7D%29%3B%0A%0A%20%20%20%20%20%20%20%20%0A%20%20%20%20%0A%20%20%20%20%20%20%20%20function%20geo_json_81ee97f28f004950be0630659c339265_styler%28feature%29%20%7B%0A%20%20%20%20%20%20%20%20%20%20%20%20switch%28feature.id%29%20%7B%0A%20%20%20%20%20%20%20%20%20%20%20%20%20%20%20%20default%3A%0A%20%20%20%20%20%20%20%20%20%20%20%20%20%20%20%20%20%20%20%20return%20%7B%22color%22%3A%20%22%2300DCB5%22%2C%20%22dashArray%22%3A%20%220%2C%200%22%2C%20%22opacity%22%3A%200.75%2C%20%22weight%22%3A%202%7D%3B%0A%20%20%20%20%20%20%20%20%20%20%20%20%7D%0A%20%20%20%20%20%20%20%20%7D%0A%0A%20%20%20%20%20%20%20%20function%20geo_json_81ee97f28f004950be0630659c339265_onEachFeature%28feature%2C%20layer%29%20%7B%0A%20%20%20%20%20%20%20%20%20%20%20%20layer.on%28%7B%0A%20%20%20%20%20%20%20%20%20%20%20%20%7D%29%3B%0A%20%20%20%20%20%20%20%20%7D%3B%0A%20%20%20%20%20%20%20%20var%20geo_json_81ee97f28f004950be0630659c339265%20%3D%20L.geoJson%28null%2C%20%7B%0A%20%20%20%20%20%20%20%20%20%20%20%20%20%20%20%20onEachFeature%3A%20geo_json_81ee97f28f004950be0630659c339265_onEachFeature%2C%0A%20%20%20%20%20%20%20%20%20%20%20%20%0A%20%20%20%20%20%20%20%20%20%20%20%20%20%20%20%20style%3A%20geo_json_81ee97f28f004950be0630659c339265_styler%2C%0A%20%20%20%20%20%20%20%20%7D%29%3B%0A%0A%20%20%20%20%20%20%20%20function%20geo_json_81ee97f28f004950be0630659c339265_add%20%28data%29%20%7B%0A%20%20%20%20%20%20%20%20%20%20%20%20geo_json_81ee97f28f004950be0630659c339265%0A%20%20%20%20%20%20%20%20%20%20%20%20%20%20%20%20.addData%28data%29%0A%20%20%20%20%20%20%20%20%20%20%20%20%20%20%20%20.addTo%28map_00b4a9a43dbb4e13b22179f670065c95%29%3B%0A%20%20%20%20%20%20%20%20%7D%0A%20%20%20%20%20%20%20%20%20%20%20%20geo_json_81ee97f28f004950be0630659c339265_add%28%7B%22features%22%3A%20%5B%7B%22geometry%22%3A%20%7B%22coordinates%22%3A%20%5B%5B-74.255927%2C%2040.792889%5D%2C%20%5B-74.248631%2C%2040.80413%5D%2C%20%5B-74.256806%2C%2040.793864%5D%2C%20%5B-74.268374%2C%2040.792973%5D%2C%20%5B-74.26018%2C%2040.746011%5D%2C%20%5B-73.986418%2C%2040.757904%5D%2C%20%5B-74.007774%2C%2040.727734%5D%2C%20%5B-74.007281%2C%2040.727511%5D%2C%20%5B-74.007774%2C%2040.727734%5D%2C%20%5B-73.987006%2C%2040.761194%5D%2C%20%5B-73.990426%2C%2040.744341%5D%2C%20%5B-74.26018%2C%2040.746011%5D%2C%20%5B-74.007774%2C%2040.727734%5D%5D%2C%20%22type%22%3A%20%22LineString%22%7D%2C%20%22id%22%3A%20%220%22%2C%20%22type%22%3A%20%22Feature%22%7D%5D%2C%20%22type%22%3A%20%22FeatureCollection%22%7D%29%3B%0A%0A%20%20%20%20%20%20%20%20%0A%20%20%20%20%0A%20%20%20%20%20%20%20%20function%20geo_json_5cefa6b3d679414b89e225a8671c62ae_styler%28feature%29%20%7B%0A%20%20%20%20%20%20%20%20%20%20%20%20switch%28feature.id%29%20%7B%0A%20%20%20%20%20%20%20%20%20%20%20%20%20%20%20%20default%3A%0A%20%20%20%20%20%20%20%20%20%20%20%20%20%20%20%20%20%20%20%20return%20%7B%22color%22%3A%20%22%23009FFA%22%2C%20%22dashArray%22%3A%20%220%2C%200%22%2C%20%22opacity%22%3A%200.75%2C%20%22weight%22%3A%202%7D%3B%0A%20%20%20%20%20%20%20%20%20%20%20%20%7D%0A%20%20%20%20%20%20%20%20%7D%0A%0A%20%20%20%20%20%20%20%20function%20geo_json_5cefa6b3d679414b89e225a8671c62ae_onEachFeature%28feature%2C%20layer%29%20%7B%0A%20%20%20%20%20%20%20%20%20%20%20%20layer.on%28%7B%0A%20%20%20%20%20%20%20%20%20%20%20%20%7D%29%3B%0A%20%20%20%20%20%20%20%20%7D%3B%0A%20%20%20%20%20%20%20%20var%20geo_json_5cefa6b3d679414b89e225a8671c62ae%20%3D%20L.geoJson%28null%2C%20%7B%0A%20%20%20%20%20%20%20%20%20%20%20%20%20%20%20%20onEachFeature%3A%20geo_json_5cefa6b3d679414b89e225a8671c62ae_onEachFeature%2C%0A%20%20%20%20%20%20%20%20%20%20%20%20%0A%20%20%20%20%20%20%20%20%20%20%20%20%20%20%20%20style%3A%20geo_json_5cefa6b3d679414b89e225a8671c62ae_styler%2C%0A%20%20%20%20%20%20%20%20%7D%29%3B%0A%0A%20%20%20%20%20%20%20%20function%20geo_json_5cefa6b3d679414b89e225a8671c62ae_add%20%28data%29%20%7B%0A%20%20%20%20%20%20%20%20%20%20%20%20geo_json_5cefa6b3d679414b89e225a8671c62ae%0A%20%20%20%20%20%20%20%20%20%20%20%20%20%20%20%20.addData%28data%29%0A%20%20%20%20%20%20%20%20%20%20%20%20%20%20%20%20.addTo%28map_00b4a9a43dbb4e13b22179f670065c95%29%3B%0A%20%20%20%20%20%20%20%20%7D%0A%20%20%20%20%20%20%20%20%20%20%20%20geo_json_5cefa6b3d679414b89e225a8671c62ae_add%28%7B%22features%22%3A%20%5B%7B%22geometry%22%3A%20%7B%22coordinates%22%3A%20%5B%5B-74.22036%2C%2040.816155%5D%2C%20%5B-74.14829%2C%2040.79691%5D%2C%20%5B-74.22036%2C%2040.816155%5D%2C%20%5B-74.21841%2C%2040.816129%5D%2C%20%5B-74.200323%2C%2040.800551%5D%2C%20%5B-74.219987%2C%2040.813796%5D%2C%20%5B-74.22036%2C%2040.816155%5D%2C%20%5B-74.220629%2C%2040.815758%5D%2C%20%5B-74.22036%2C%2040.816155%5D%5D%2C%20%22type%22%3A%20%22LineString%22%7D%2C%20%22id%22%3A%20%220%22%2C%20%22type%22%3A%20%22Feature%22%7D%5D%2C%20%22type%22%3A%20%22FeatureCollection%22%7D%29%3B%0A%0A%20%20%20%20%20%20%20%20%0A%20%20%20%20%0A%20%20%20%20%20%20%20%20function%20geo_json_8fe52598cdd742d3a5555cfc6ed48dbf_styler%28feature%29%20%7B%0A%20%20%20%20%20%20%20%20%20%20%20%20switch%28feature.id%29%20%7B%0A%20%20%20%20%20%20%20%20%20%20%20%20%20%20%20%20default%3A%0A%20%20%20%20%20%20%20%20%20%20%20%20%20%20%20%20%20%20%20%20return%20%7B%22color%22%3A%20%22%2368023F%22%2C%20%22dashArray%22%3A%20%220%2C%200%22%2C%20%22opacity%22%3A%200.75%2C%20%22weight%22%3A%202%7D%3B%0A%20%20%20%20%20%20%20%20%20%20%20%20%7D%0A%20%20%20%20%20%20%20%20%7D%0A%0A%20%20%20%20%20%20%20%20function%20geo_json_8fe52598cdd742d3a5555cfc6ed48dbf_onEachFeature%28feature%2C%20layer%29%20%7B%0A%20%20%20%20%20%20%20%20%20%20%20%20layer.on%28%7B%0A%20%20%20%20%20%20%20%20%20%20%20%20%7D%29%3B%0A%20%20%20%20%20%20%20%20%7D%3B%0A%20%20%20%20%20%20%20%20var%20geo_json_8fe52598cdd742d3a5555cfc6ed48dbf%20%3D%20L.geoJson%28null%2C%20%7B%0A%20%20%20%20%20%20%20%20%20%20%20%20%20%20%20%20onEachFeature%3A%20geo_json_8fe52598cdd742d3a5555cfc6ed48dbf_onEachFeature%2C%0A%20%20%20%20%20%20%20%20%20%20%20%20%0A%20%20%20%20%20%20%20%20%20%20%20%20%20%20%20%20style%3A%20geo_json_8fe52598cdd742d3a5555cfc6ed48dbf_styler%2C%0A%20%20%20%20%20%20%20%20%7D%29%3B%0A%0A%20%20%20%20%20%20%20%20function%20geo_json_8fe52598cdd742d3a5555cfc6ed48dbf_add%20%28data%29%20%7B%0A%20%20%20%20%20%20%20%20%20%20%20%20geo_json_8fe52598cdd742d3a5555cfc6ed48dbf%0A%20%20%20%20%20%20%20%20%20%20%20%20%20%20%20%20.addData%28data%29%0A%20%20%20%20%20%20%20%20%20%20%20%20%20%20%20%20.addTo%28map_00b4a9a43dbb4e13b22179f670065c95%29%3B%0A%20%20%20%20%20%20%20%20%7D%0A%20%20%20%20%20%20%20%20%20%20%20%20geo_json_8fe52598cdd742d3a5555cfc6ed48dbf_add%28%7B%22features%22%3A%20%5B%7B%22geometry%22%3A%20%7B%22coordinates%22%3A%20%5B%5B-73.98894%2C%2040.738783%5D%2C%20%5B-73.943074%2C%2040.711728%5D%2C%20%5B-73.943074%2C%2040.711728%5D%2C%20%5B-73.933758%2C%2040.705013%5D%2C%20%5B-73.933644%2C%2040.705079%5D%2C%20%5B-73.932782%2C%2040.705466%5D%2C%20%5B-73.989055%2C%2040.753154%5D%2C%20%5B-73.989055%2C%2040.753154%5D%2C%20%5B-73.991901%2C%2040.759302%5D%5D%2C%20%22type%22%3A%20%22LineString%22%7D%2C%20%22id%22%3A%20%220%22%2C%20%22type%22%3A%20%22Feature%22%7D%5D%2C%20%22type%22%3A%20%22FeatureCollection%22%7D%29%3B%0A%0A%20%20%20%20%20%20%20%20%0A%20%20%20%20%0A%20%20%20%20%20%20%20%20function%20geo_json_0a8cf221a0a141e1b02a6d26bae95c72_styler%28feature%29%20%7B%0A%20%20%20%20%20%20%20%20%20%20%20%20switch%28feature.id%29%20%7B%0A%20%20%20%20%20%20%20%20%20%20%20%20%20%20%20%20default%3A%0A%20%20%20%20%20%20%20%20%20%20%20%20%20%20%20%20%20%20%20%20return%20%7B%22color%22%3A%20%22%23003C86%22%2C%20%22dashArray%22%3A%20%220%2C%200%22%2C%20%22opacity%22%3A%200.75%2C%20%22weight%22%3A%202%7D%3B%0A%20%20%20%20%20%20%20%20%20%20%20%20%7D%0A%20%20%20%20%20%20%20%20%7D%0A%0A%20%20%20%20%20%20%20%20function%20geo_json_0a8cf221a0a141e1b02a6d26bae95c72_onEachFeature%28feature%2C%20layer%29%20%7B%0A%20%20%20%20%20%20%20%20%20%20%20%20layer.on%28%7B%0A%20%20%20%20%20%20%20%20%20%20%20%20%7D%29%3B%0A%20%20%20%20%20%20%20%20%7D%3B%0A%20%20%20%20%20%20%20%20var%20geo_json_0a8cf221a0a141e1b02a6d26bae95c72%20%3D%20L.geoJson%28null%2C%20%7B%0A%20%20%20%20%20%20%20%20%20%20%20%20%20%20%20%20onEachFeature%3A%20geo_json_0a8cf221a0a141e1b02a6d26bae95c72_onEachFeature%2C%0A%20%20%20%20%20%20%20%20%20%20%20%20%0A%20%20%20%20%20%20%20%20%20%20%20%20%20%20%20%20style%3A%20geo_json_0a8cf221a0a141e1b02a6d26bae95c72_styler%2C%0A%20%20%20%20%20%20%20%20%7D%29%3B%0A%0A%20%20%20%20%20%20%20%20function%20geo_json_0a8cf221a0a141e1b02a6d26bae95c72_add%20%28data%29%20%7B%0A%20%20%20%20%20%20%20%20%20%20%20%20geo_json_0a8cf221a0a141e1b02a6d26bae95c72%0A%20%20%20%20%20%20%20%20%20%20%20%20%20%20%20%20.addData%28data%29%0A%20%20%20%20%20%20%20%20%20%20%20%20%20%20%20%20.addTo%28map_00b4a9a43dbb4e13b22179f670065c95%29%3B%0A%20%20%20%20%20%20%20%20%7D%0A%20%20%20%20%20%20%20%20%20%20%20%20geo_json_0a8cf221a0a141e1b02a6d26bae95c72_add%28%7B%22features%22%3A%20%5B%7B%22geometry%22%3A%20%7B%22coordinates%22%3A%20%5B%5B-74.015944%2C%2040.71324%5D%2C%20%5B-74.00648%2C%2040.70819%5D%2C%20%5B-73.989787%2C%2040.733015%5D%2C%20%5B-73.990839%2C%2040.73695%5D%2C%20%5B-73.964089%2C%2040.767629%5D%2C%20%5B-73.975212%2C%2040.748576%5D%2C%20%5B-74.00648%2C%2040.70819%5D%2C%20%5B-73.982599%2C%2040.742299%5D%2C%20%5B-73.99365%2C%2040.74174%5D%2C%20%5B-73.986257%2C%2040.722649%5D%2C%20%5B-74.00875%2C%2040.713866%5D%2C%20%5B-74.00648%2C%2040.70819%5D%2C%20%5B-73.938379%2C%2040.804221%5D%2C%20%5B-73.87122%2C%2040.773839%5D%5D%2C%20%22type%22%3A%20%22LineString%22%7D%2C%20%22id%22%3A%20%220%22%2C%20%22type%22%3A%20%22Feature%22%7D%5D%2C%20%22type%22%3A%20%22FeatureCollection%22%7D%29%3B%0A%0A%20%20%20%20%20%20%20%20%0A%20%20%20%20%0A%20%20%20%20%20%20%20%20function%20geo_json_42fa8549b1c84502a50b16a2cf58b5ef_styler%28feature%29%20%7B%0A%20%20%20%20%20%20%20%20%20%20%20%20switch%28feature.id%29%20%7B%0A%20%20%20%20%20%20%20%20%20%20%20%20%20%20%20%20default%3A%0A%20%20%20%20%20%20%20%20%20%20%20%20%20%20%20%20%20%20%20%20return%20%7B%22color%22%3A%20%22%236A0213%22%2C%20%22dashArray%22%3A%20%220%2C%200%22%2C%20%22opacity%22%3A%200.75%2C%20%22weight%22%3A%202%7D%3B%0A%20%20%20%20%20%20%20%20%20%20%20%20%7D%0A%20%20%20%20%20%20%20%20%7D%0A%0A%20%20%20%20%20%20%20%20function%20geo_json_42fa8549b1c84502a50b16a2cf58b5ef_onEachFeature%28feature%2C%20layer%29%20%7B%0A%20%20%20%20%20%20%20%20%20%20%20%20layer.on%28%7B%0A%20%20%20%20%20%20%20%20%20%20%20%20%7D%29%3B%0A%20%20%20%20%20%20%20%20%7D%3B%0A%20%20%20%20%20%20%20%20var%20geo_json_42fa8549b1c84502a50b16a2cf58b5ef%20%3D%20L.geoJson%28null%2C%20%7B%0A%20%20%20%20%20%20%20%20%20%20%20%20%20%20%20%20onEachFeature%3A%20geo_json_42fa8549b1c84502a50b16a2cf58b5ef_onEachFeature%2C%0A%20%20%20%20%20%20%20%20%20%20%20%20%0A%20%20%20%20%20%20%20%20%20%20%20%20%20%20%20%20style%3A%20geo_json_42fa8549b1c84502a50b16a2cf58b5ef_styler%2C%0A%20%20%20%20%20%20%20%20%7D%29%3B%0A%0A%20%20%20%20%20%20%20%20function%20geo_json_42fa8549b1c84502a50b16a2cf58b5ef_add%20%28data%29%20%7B%0A%20%20%20%20%20%20%20%20%20%20%20%20geo_json_42fa8549b1c84502a50b16a2cf58b5ef%0A%20%20%20%20%20%20%20%20%20%20%20%20%20%20%20%20.addData%28data%29%0A%20%20%20%20%20%20%20%20%20%20%20%20%20%20%20%20.addTo%28map_00b4a9a43dbb4e13b22179f670065c95%29%3B%0A%20%20%20%20%20%20%20%20%7D%0A%20%20%20%20%20%20%20%20%20%20%20%20geo_json_42fa8549b1c84502a50b16a2cf58b5ef_add%28%7B%22features%22%3A%20%5B%7B%22geometry%22%3A%20%7B%22coordinates%22%3A%20%5B%5B-73.996568%2C%2040.740348%5D%2C%20%5B-73.987924%2C%2040.7211%5D%2C%20%5B-73.988337%2C%2040.685887%5D%2C%20%5B-74.003%2C%2040.671586%5D%2C%20%5B-74.013524%2C%2040.676767%5D%2C%20%5B-74.015326%2C%2040.677174%5D%2C%20%5B-74.010122%2C%2040.67975%5D%2C%20%5B-74.010955%2C%2040.679173%5D%2C%20%5B-73.980102%2C%2040.676851%5D%2C%20%5B-73.994271%2C%2040.72764%5D%2C%20%5B-73.996309%2C%2040.726034%5D%2C%20%5B-73.998329%2C%2040.677192%5D%2C%20%5B-73.980102%2C%2040.676851%5D%5D%2C%20%22type%22%3A%20%22LineString%22%7D%2C%20%22id%22%3A%20%220%22%2C%20%22type%22%3A%20%22Feature%22%7D%5D%2C%20%22type%22%3A%20%22FeatureCollection%22%7D%29%3B%0A%0A%20%20%20%20%20%20%20%20%0A%20%20%20%20%0A%20%20%20%20%20%20%20%20function%20geo_json_88f0366775234dc1a8118c095df29e1f_styler%28feature%29%20%7B%0A%20%20%20%20%20%20%20%20%20%20%20%20switch%28feature.id%29%20%7B%0A%20%20%20%20%20%20%20%20%20%20%20%20%20%20%20%20default%3A%0A%20%20%20%20%20%20%20%20%20%20%20%20%20%20%20%20%20%20%20%20return%20%7B%22color%22%3A%20%22%23003C86%22%2C%20%22dashArray%22%3A%20%220%2C%200%22%2C%20%22opacity%22%3A%200.75%2C%20%22weight%22%3A%202%7D%3B%0A%20%20%20%20%20%20%20%20%20%20%20%20%7D%0A%20%20%20%20%20%20%20%20%7D%0A%0A%20%20%20%20%20%20%20%20function%20geo_json_88f0366775234dc1a8118c095df29e1f_onEachFeature%28feature%2C%20layer%29%20%7B%0A%20%20%20%20%20%20%20%20%20%20%20%20layer.on%28%7B%0A%20%20%20%20%20%20%20%20%20%20%20%20%7D%29%3B%0A%20%20%20%20%20%20%20%20%7D%3B%0A%20%20%20%20%20%20%20%20var%20geo_json_88f0366775234dc1a8118c095df29e1f%20%3D%20L.geoJson%28null%2C%20%7B%0A%20%20%20%20%20%20%20%20%20%20%20%20%20%20%20%20onEachFeature%3A%20geo_json_88f0366775234dc1a8118c095df29e1f_onEachFeature%2C%0A%20%20%20%20%20%20%20%20%20%20%20%20%0A%20%20%20%20%20%20%20%20%20%20%20%20%20%20%20%20style%3A%20geo_json_88f0366775234dc1a8118c095df29e1f_styler%2C%0A%20%20%20%20%20%20%20%20%7D%29%3B%0A%0A%20%20%20%20%20%20%20%20function%20geo_json_88f0366775234dc1a8118c095df29e1f_add%20%28data%29%20%7B%0A%20%20%20%20%20%20%20%20%20%20%20%20geo_json_88f0366775234dc1a8118c095df29e1f%0A%20%20%20%20%20%20%20%20%20%20%20%20%20%20%20%20.addData%28data%29%0A%20%20%20%20%20%20%20%20%20%20%20%20%20%20%20%20.addTo%28map_00b4a9a43dbb4e13b22179f670065c95%29%3B%0A%20%20%20%20%20%20%20%20%7D%0A%20%20%20%20%20%20%20%20%20%20%20%20geo_json_88f0366775234dc1a8118c095df29e1f_add%28%7B%22features%22%3A%20%5B%7B%22geometry%22%3A%20%7B%22coordinates%22%3A%20%5B%5B-73.951863%2C%2040.717751%5D%2C%20%5B-73.992373%2C%2040.738933%5D%2C%20%5B-73.992373%2C%2040.738933%5D%2C%20%5B-73.992373%2C%2040.738933%5D%2C%20%5B-73.992373%2C%2040.738933%5D%2C%20%5B-73.990206%2C%2040.737145%5D%2C%20%5B-73.992373%2C%2040.738933%5D%2C%20%5B-73.951432%2C%2040.717952%5D%5D%2C%20%22type%22%3A%20%22LineString%22%7D%2C%20%22id%22%3A%20%220%22%2C%20%22type%22%3A%20%22Feature%22%7D%5D%2C%20%22type%22%3A%20%22FeatureCollection%22%7D%29%3B%0A%0A%20%20%20%20%20%20%20%20%0A%20%20%20%20%0A%20%20%20%20%20%20%20%20function%20geo_json_28c312722a8a4c3391e905105f05796a_styler%28feature%29%20%7B%0A%20%20%20%20%20%20%20%20%20%20%20%20switch%28feature.id%29%20%7B%0A%20%20%20%20%20%20%20%20%20%20%20%20%20%20%20%20default%3A%0A%20%20%20%20%20%20%20%20%20%20%20%20%20%20%20%20%20%20%20%20return%20%7B%22color%22%3A%20%22%23FFDC3D%22%2C%20%22dashArray%22%3A%20%220%2C%200%22%2C%20%22opacity%22%3A%200.75%2C%20%22weight%22%3A%202%7D%3B%0A%20%20%20%20%20%20%20%20%20%20%20%20%7D%0A%20%20%20%20%20%20%20%20%7D%0A%0A%20%20%20%20%20%20%20%20function%20geo_json_28c312722a8a4c3391e905105f05796a_onEachFeature%28feature%2C%20layer%29%20%7B%0A%20%20%20%20%20%20%20%20%20%20%20%20layer.on%28%7B%0A%20%20%20%20%20%20%20%20%20%20%20%20%7D%29%3B%0A%20%20%20%20%20%20%20%20%7D%3B%0A%20%20%20%20%20%20%20%20var%20geo_json_28c312722a8a4c3391e905105f05796a%20%3D%20L.geoJson%28null%2C%20%7B%0A%20%20%20%20%20%20%20%20%20%20%20%20%20%20%20%20onEachFeature%3A%20geo_json_28c312722a8a4c3391e905105f05796a_onEachFeature%2C%0A%20%20%20%20%20%20%20%20%20%20%20%20%0A%20%20%20%20%20%20%20%20%20%20%20%20%20%20%20%20style%3A%20geo_json_28c312722a8a4c3391e905105f05796a_styler%2C%0A%20%20%20%20%20%20%20%20%7D%29%3B%0A%0A%20%20%20%20%20%20%20%20function%20geo_json_28c312722a8a4c3391e905105f05796a_add%20%28data%29%20%7B%0A%20%20%20%20%20%20%20%20%20%20%20%20geo_json_28c312722a8a4c3391e905105f05796a%0A%20%20%20%20%20%20%20%20%20%20%20%20%20%20%20%20.addData%28data%29%0A%20%20%20%20%20%20%20%20%20%20%20%20%20%20%20%20.addTo%28map_00b4a9a43dbb4e13b22179f670065c95%29%3B%0A%20%20%20%20%20%20%20%20%7D%0A%20%20%20%20%20%20%20%20%20%20%20%20geo_json_28c312722a8a4c3391e905105f05796a_add%28%7B%22features%22%3A%20%5B%7B%22geometry%22%3A%20%7B%22coordinates%22%3A%20%5B%5B-73.993841%2C%2040.734427%5D%2C%20%5B-73.993049%2C%2040.734048%5D%2C%20%5B-74.005261%2C%2040.723833%5D%2C%20%5B-73.997716%2C%2040.730129%5D%2C%20%5B-73.984787%2C%2040.739909%5D%2C%20%5B-73.999046%2C%2040.602399%5D%2C%20%5B-73.983244%2C%2040.612324%5D%2C%20%5B-73.985603%2C%2040.758538%5D%2C%20%5B-73.99531%2C%2040.731096%5D%2C%20%5B-73.926553%2C%2040.828277%5D%5D%2C%20%22type%22%3A%20%22LineString%22%7D%2C%20%22id%22%3A%20%220%22%2C%20%22type%22%3A%20%22Feature%22%7D%5D%2C%20%22type%22%3A%20%22FeatureCollection%22%7D%29%3B%0A%0A%20%20%20%20%20%20%20%20%0A%20%20%20%20%0A%20%20%20%20%20%20%20%20function%20geo_json_12dfa1b651ef48e2a4363983302e4c2e_styler%28feature%29%20%7B%0A%20%20%20%20%20%20%20%20%20%20%20%20switch%28feature.id%29%20%7B%0A%20%20%20%20%20%20%20%20%20%20%20%20%20%20%20%20default%3A%0A%20%20%20%20%20%20%20%20%20%20%20%20%20%20%20%20%20%20%20%20return%20%7B%22color%22%3A%20%22%23FF71FD%22%2C%20%22dashArray%22%3A%20%220%2C%200%22%2C%20%22opacity%22%3A%200.75%2C%20%22weight%22%3A%202%7D%3B%0A%20%20%20%20%20%20%20%20%20%20%20%20%7D%0A%20%20%20%20%20%20%20%20%7D%0A%0A%20%20%20%20%20%20%20%20function%20geo_json_12dfa1b651ef48e2a4363983302e4c2e_onEachFeature%28feature%2C%20layer%29%20%7B%0A%20%20%20%20%20%20%20%20%20%20%20%20layer.on%28%7B%0A%20%20%20%20%20%20%20%20%20%20%20%20%7D%29%3B%0A%20%20%20%20%20%20%20%20%7D%3B%0A%20%20%20%20%20%20%20%20var%20geo_json_12dfa1b651ef48e2a4363983302e4c2e%20%3D%20L.geoJson%28null%2C%20%7B%0A%20%20%20%20%20%20%20%20%20%20%20%20%20%20%20%20onEachFeature%3A%20geo_json_12dfa1b651ef48e2a4363983302e4c2e_onEachFeature%2C%0A%20%20%20%20%20%20%20%20%20%20%20%20%0A%20%20%20%20%20%20%20%20%20%20%20%20%20%20%20%20style%3A%20geo_json_12dfa1b651ef48e2a4363983302e4c2e_styler%2C%0A%20%20%20%20%20%20%20%20%7D%29%3B%0A%0A%20%20%20%20%20%20%20%20function%20geo_json_12dfa1b651ef48e2a4363983302e4c2e_add%20%28data%29%20%7B%0A%20%20%20%20%20%20%20%20%20%20%20%20geo_json_12dfa1b651ef48e2a4363983302e4c2e%0A%20%20%20%20%20%20%20%20%20%20%20%20%20%20%20%20.addData%28data%29%0A%20%20%20%20%20%20%20%20%20%20%20%20%20%20%20%20.addTo%28map_00b4a9a43dbb4e13b22179f670065c95%29%3B%0A%20%20%20%20%20%20%20%20%7D%0A%20%20%20%20%20%20%20%20%20%20%20%20geo_json_12dfa1b651ef48e2a4363983302e4c2e_add%28%7B%22features%22%3A%20%5B%7B%22geometry%22%3A%20%7B%22coordinates%22%3A%20%5B%5B-73.918346%2C%2040.612374%5D%2C%20%5B-73.950893%2C%2040.590725%5D%2C%20%5B-73.912964%2C%2040.612521%5D%2C%20%5B-73.911764%2C%2040.564889%5D%2C%20%5B-73.911548%2C%2040.557295%5D%2C%20%5B-73.950893%2C%2040.590725%5D%5D%2C%20%22type%22%3A%20%22LineString%22%7D%2C%20%22id%22%3A%20%220%22%2C%20%22type%22%3A%20%22Feature%22%7D%5D%2C%20%22type%22%3A%20%22FeatureCollection%22%7D%29%3B%0A%0A%20%20%20%20%20%20%20%20%0A%3C/script%3E onload=\"this.contentDocument.open();this.contentDocument.write(    decodeURIComponent(this.getAttribute('data-html')));this.contentDocument.close();\" allowfullscreen webkitallowfullscreen mozallowfullscreen></iframe></div></div>"
      ],
      "text/plain": [
       "<folium.folium.Map at 0x2740e485c70>"
      ]
     },
     "execution_count": 13,
     "metadata": {},
     "output_type": "execute_result"
    }
   ],
   "source": [
    "tdf_week.plot_trajectory(max_users=100, zoom=9, start_end_markers=False)"
   ]
  },
  {
   "cell_type": "markdown",
   "id": "7ac224ec",
   "metadata": {},
   "source": [
    "From the visualization, it is evident that the dataset contains trajectories made outside New York City (e.g., in New Jersey).\n",
    "Let's begin the data cleaning!"
   ]
  },
  {
   "cell_type": "markdown",
   "id": "7c64c01b",
   "metadata": {},
   "source": [
    "### 4.2 Preprocessing <a id=\"pptutorial\"></a>"
   ]
  },
  {
   "cell_type": "markdown",
   "id": "37923cb6",
   "metadata": {},
   "source": [
    "Create and visualize the spatial tessellation relative to New York City."
   ]
  },
  {
   "cell_type": "code",
   "execution_count": 14,
   "id": "beb94b8d",
   "metadata": {},
   "outputs": [
    {
     "ename": "NameError",
     "evalue": "name 'tilers' is not defined",
     "output_type": "error",
     "traceback": [
      "\u001b[1;31m---------------------------------------------------------------------------\u001b[0m",
      "\u001b[1;31mNameError\u001b[0m                                 Traceback (most recent call last)",
      "\u001b[1;32m<ipython-input-14-86d687d84e5d>\u001b[0m in \u001b[0;36m<module>\u001b[1;34m\u001b[0m\n\u001b[1;32m----> 1\u001b[1;33m \u001b[0mtess_nyc\u001b[0m \u001b[1;33m=\u001b[0m \u001b[0mtilers\u001b[0m\u001b[1;33m.\u001b[0m\u001b[0mtiler\u001b[0m\u001b[1;33m.\u001b[0m\u001b[0mget\u001b[0m\u001b[1;33m(\u001b[0m\u001b[1;34m\"squared\"\u001b[0m\u001b[1;33m,\u001b[0m \u001b[0mbase_shape\u001b[0m\u001b[1;33m=\u001b[0m\u001b[1;34m\"New York City, USA\"\u001b[0m\u001b[1;33m,\u001b[0m \u001b[0mmeters\u001b[0m\u001b[1;33m=\u001b[0m\u001b[1;36m2000\u001b[0m\u001b[1;33m)\u001b[0m\u001b[1;33m\u001b[0m\u001b[1;33m\u001b[0m\u001b[0m\n\u001b[0m\u001b[0;32m      2\u001b[0m \u001b[1;33m\u001b[0m\u001b[0m\n\u001b[0;32m      3\u001b[0m \u001b[0mtex_style\u001b[0m \u001b[1;33m=\u001b[0m \u001b[1;33m{\u001b[0m\u001b[1;34m'fillColor'\u001b[0m\u001b[1;33m:\u001b[0m\u001b[1;34m'gray'\u001b[0m\u001b[1;33m,\u001b[0m \u001b[1;34m'color'\u001b[0m\u001b[1;33m:\u001b[0m\u001b[1;34m'black'\u001b[0m\u001b[1;33m,\u001b[0m \u001b[1;34m'opacity'\u001b[0m\u001b[1;33m:\u001b[0m \u001b[1;36m0.2\u001b[0m\u001b[1;33m}\u001b[0m\u001b[1;33m\u001b[0m\u001b[1;33m\u001b[0m\u001b[0m\n\u001b[0;32m      4\u001b[0m \u001b[0mplot_gdf\u001b[0m\u001b[1;33m(\u001b[0m\u001b[0mtess_nyc\u001b[0m\u001b[1;33m,\u001b[0m \u001b[0mstyle_func_args\u001b[0m\u001b[1;33m=\u001b[0m\u001b[0mtex_style\u001b[0m\u001b[1;33m,\u001b[0m \u001b[0mzoom\u001b[0m\u001b[1;33m=\u001b[0m\u001b[1;36m10\u001b[0m\u001b[1;33m)\u001b[0m\u001b[1;33m\u001b[0m\u001b[1;33m\u001b[0m\u001b[0m\n",
      "\u001b[1;31mNameError\u001b[0m: name 'tilers' is not defined"
     ]
    }
   ],
   "source": [
    "tess_nyc = tilers.tiler.get(\"squared\", base_shape=\"New York City, USA\", meters=2000)\n",
    "\n",
    "tex_style = {'fillColor':'gray', 'color':'black', 'opacity': 0.2}\n",
    "plot_gdf(tess_nyc, style_func_args=tex_style, zoom=10)"
   ]
  },
  {
   "cell_type": "markdown",
   "id": "a402c38d",
   "metadata": {},
   "source": [
    "Keep only the trajectory inside the spatial tessellation. <br>\n",
    "There are necessary two steps:\n",
    "- Map each point into a tile;\n",
    "- Discard the trajectory with at least one point outside the region."
   ]
  },
  {
   "cell_type": "markdown",
   "id": "00d79521",
   "metadata": {},
   "source": [
    "Map each point into a tile <br>\n",
    "Points that do not have a corresponding tile in the spatial tessellation have `tile_ID=NaN`."
   ]
  },
  {
   "cell_type": "code",
   "execution_count": null,
   "id": "afe81b2f",
   "metadata": {},
   "outputs": [],
   "source": [
    "mapped_tdf = tdf_week.mapping(tess_nyc, remove_na=False)\n",
    "mapped_tdf[2004:2008]"
   ]
  },
  {
   "cell_type": "code",
   "execution_count": null,
   "id": "f333f9be",
   "metadata": {},
   "outputs": [],
   "source": [
    "points_outside = mapped_tdf[mapped_tdf['tile_ID'].isna()]\n",
    "uid_outside = points_outside['uid'].unique()\n",
    "tdf_week_nyc = mapped_tdf[~mapped_tdf['uid'].isin(uid_outside)]\n",
    "\n",
    "print(str(len(points_outside))+\" GPS points outside New York City\")\n",
    "print(str(len(uid_outside))+\" trajectories with at least one GPS point outside New York City\")"
   ]
  },
  {
   "cell_type": "markdown",
   "id": "224b6a62",
   "metadata": {},
   "source": [
    "Visualize the trajectories in New York City"
   ]
  },
  {
   "cell_type": "code",
   "execution_count": null,
   "id": "d8b68e06",
   "metadata": {},
   "outputs": [],
   "source": [
    "tdf_week_nyc.plot_trajectory(max_users=100, zoom=10, start_end_markers=False)"
   ]
  },
  {
   "cell_type": "markdown",
   "id": "ce3718ae",
   "metadata": {},
   "source": [
    "#### Filtering"
   ]
  },
  {
   "cell_type": "code",
   "execution_count": null,
   "id": "5c27c683",
   "metadata": {},
   "outputs": [],
   "source": [
    "max_speed_kmh = 300\n",
    "tdf_filtered_nyc = filtering.filter(tdf_week_nyc, max_speed_kmh=max_speed_kmh)\n",
    "\n",
    "print(\"Filtered \"+str(len(tdf_week_nyc)-len(tdf_filtered_nyc))+\" GPS point.\")"
   ]
  },
  {
   "cell_type": "markdown",
   "id": "72317008",
   "metadata": {},
   "source": [
    "#### Compression"
   ]
  },
  {
   "cell_type": "code",
   "execution_count": null,
   "id": "6298fdff",
   "metadata": {},
   "outputs": [],
   "source": [
    "spatial_radius_km = 10/1000 #10 meters\n",
    "tdf_compressed_nyc = compression.compress(tdf_filtered_nyc, \n",
    "                                          spatial_radius_km=spatial_radius_km)\n",
    "\n",
    "print(\"Compressed \"+str(len(tdf_filtered_nyc)-len(tdf_compressed_nyc))+\" GPS points.\")"
   ]
  },
  {
   "cell_type": "code",
   "execution_count": null,
   "id": "49c97b0d",
   "metadata": {},
   "outputs": [],
   "source": [
    "print(\"Statistics after pre-processing:\\t\")\n",
    "\n",
    "print(\"There are \"+str(len(tdf_compressed_nyc))+\" GPS points.\")\n",
    "print(\"There are \"+str(len(tdf_compressed_nyc['uid'].unique()))+\" users.\")"
   ]
  },
  {
   "cell_type": "markdown",
   "id": "41ce7749",
   "metadata": {},
   "source": [
    "Filter out users with only one GPS point (no mobility can be inferred)"
   ]
  },
  {
   "cell_type": "code",
   "execution_count": null,
   "id": "0c2431c7",
   "metadata": {},
   "outputs": [],
   "source": [
    "# compute the number of points for each user\n",
    "tdf_gb = tdf_compressed_nyc.groupby(['uid'],as_index=False).count()\n",
    "tdf_gb[:3]"
   ]
  },
  {
   "cell_type": "code",
   "execution_count": null,
   "id": "0197a21c",
   "metadata": {},
   "outputs": [],
   "source": [
    "# list of users with more than one GPS point\n",
    "users_to_keep = tdf_gb.query(\"lat>1\")['uid']\n",
    "\n",
    "# TrajDataFrame of users WITH mobility (>1 GPS points)\n",
    "tdf_final = tdf_compressed_nyc[tdf_compressed_nyc['uid'].isin(users_to_keep)]\n",
    "\n",
    "print(\"# users with no mobility: \"\n",
    "      +str(len(tdf_compressed_nyc['uid'].unique())-len(users_to_keep)))"
   ]
  },
  {
   "cell_type": "code",
   "execution_count": null,
   "id": "d55fe184",
   "metadata": {},
   "outputs": [],
   "source": [
    "print(\"Final statistics:\\t\")\n",
    "\n",
    "print(\"There are \"+str(len(tdf_final))+\" GPS points.\")\n",
    "print(\"There are \"+str(len(tdf_final['uid'].unique()))+\" users.\")"
   ]
  },
  {
   "cell_type": "markdown",
   "id": "66f4ca34",
   "metadata": {},
   "source": [
    "## 4.3 Flow <a id=\"mobnet\"></a>"
   ]
  },
  {
   "cell_type": "markdown",
   "id": "3dbbb640",
   "metadata": {},
   "source": [
    "To create the mobility network we first need to create flows through a `TraDataFrame`."
   ]
  },
  {
   "cell_type": "code",
   "execution_count": null,
   "id": "0d8705a2",
   "metadata": {},
   "outputs": [],
   "source": [
    "#no self loops\n",
    "tdf_final = tdf_final.drop(['tile_ID'], axis=1)\n",
    "fdf = tdf_final.to_flowdataframe(tess_nyc, self_loops=False)"
   ]
  },
  {
   "cell_type": "code",
   "execution_count": null,
   "id": "9ee9a408",
   "metadata": {},
   "outputs": [],
   "source": [
    "fdf.head()"
   ]
  },
  {
   "cell_type": "markdown",
   "id": "7c15feb5",
   "metadata": {},
   "source": [
    "Visualize the flow/mobility network"
   ]
  },
  {
   "cell_type": "code",
   "execution_count": null,
   "id": "c5d22a95",
   "metadata": {
    "scrolled": false
   },
   "outputs": [],
   "source": [
    "tex_style = {'fillColor':'gray', 'color':'black', 'opacity': 0.1}\n",
    "map_f = fdf.plot_tessellation(style_func_args=tex_style, tiles='CartoDB positron', \n",
    "                                   zoom=10)\n",
    "fdf.plot_flows(map_f=map_f, flow_color='green', tiles='CartoDB positron',\n",
    "                   opacity=0.3, flow_weight=0.6, radius_origin_point=1)"
   ]
  },
  {
   "cell_type": "markdown",
   "id": "0399b131",
   "metadata": {},
   "source": [
    "What are the most \"important\" nodes?\n",
    "- Note the high flow in the area of Manhattan;\n",
    "- The JFK Airport (tile 518) plays an important role too."
   ]
  },
  {
   "cell_type": "code",
   "execution_count": null,
   "id": "086c0126",
   "metadata": {},
   "outputs": [],
   "source": [
    "to_208 = fdf[fdf['destination']==\"208\"]\n",
    "others = fdf[fdf['destination']!=\"208\"]\n",
    "\n",
    "map_f = fdf.plot_tessellation(style_func_args=tex_style, tiles='CartoDB positron',zoom=10)\n",
    "\n",
    "\n",
    "#others\n",
    "map_f = others.plot_flows(map_f=map_f, flow_color='green', tiles='CartoDB positron',\n",
    "                   opacity=0.3, flow_weight=0.6, radius_origin_point=1)\n",
    "#to 208\n",
    "map_f = to_208.plot_flows(map_f=map_f, flow_color='blue', tiles='CartoDB positron',\n",
    "                   opacity=0.7, flow_weight=1.5, radius_origin_point=1)\n",
    "\n",
    "\n",
    "map_f"
   ]
  },
  {
   "cell_type": "markdown",
   "id": "6cd2daf0",
   "metadata": {},
   "source": [
    "## 4.4 Export the Mobility Network <a id=\"export\"></a>"
   ]
  },
  {
   "cell_type": "code",
   "execution_count": null,
   "id": "53cd9e12",
   "metadata": {},
   "outputs": [],
   "source": [
    "fdf.head()"
   ]
  },
  {
   "cell_type": "markdown",
   "id": "3879bdbe",
   "metadata": {},
   "source": [
    "The `FlowDataFrame` is already in a **weighted edge list** representation, we can save it as a csv to use it later."
   ]
  },
  {
   "cell_type": "code",
   "execution_count": null,
   "id": "9d0c8369",
   "metadata": {},
   "outputs": [],
   "source": [
    "fdf.to_csv('mobility_network_nyc_acai2021.csv', sep=\",\", index=False)"
   ]
  },
  {
   "cell_type": "markdown",
   "id": "a5e278dc",
   "metadata": {},
   "source": [
    "## 5. Conclusions <a id=\"conclusion\"></a>\n",
    "In this notebook we introduced the basic functionalities of `scikit-mobility`, namely, how to **visualize and represent** trajectories, flows and tessellations, how to **filter and clean raw mobility data** by using standard techniques proposed in the mobility data mining literature, and how to extract a **mobility network** from real data. <br><br>\n",
    "\n",
    "\n",
    "For any question, please feel free to contact me at giuliano.cornacchia@phd.unipi.it\n",
    "\n",
    "For any issue, suggestion, bug report please contact us on the official GitHub at https://github.com/scikit-mobility"
   ]
  },
  {
   "cell_type": "markdown",
   "id": "c59b81bc",
   "metadata": {},
   "source": [
    "## 6. Exercises <a id=\"exercise\"></a>\n",
    "\n",
    "**Exercise 1:**\n",
    "- Download the dataset containing the GPS traces of 536 taxis operating in San Francisco over 25 days https://crawdad.org/epfl/mobility/20090224/;\n",
    "- Select only a subset of 5 taxis for this exercise;\n",
    "- Try to segment the trajectories with respect to each trip (tip: use the attribute `occupancy`);\n",
    "- Clean and preprocess the dataset using the standard methods;\n",
    "- Select and visualize a set of trajectories;\n",
    "- Try to answer the following questions:\n",
    "    - What are the five most visited tiles of San Francisco?\n",
    "    - What hour is the peak for departures from the San Francisco airport?\n",
    "- Create and visualize the mobility network as shown in the tutorial;\n",
    "- Create and visualize the mobility network by considering only origin and destination points for each trip.\n",
    "\n",
    "**Exercise 2:**\n",
    "- Given a trajectory $T$ of $n$ GPS points, and a squared spatial tessellation $S$ in which each square has size $x$. What is the upper bound of the \"mapping\" error caused by the mapping of $T$ with respect to the tessellation? (see 2.2 of this tutorial)"
   ]
  }
 ],
 "metadata": {
  "kernelspec": {
   "display_name": "Python 3",
   "language": "python",
   "name": "python3"
  },
  "language_info": {
   "codemirror_mode": {
    "name": "ipython",
    "version": 3
   },
   "file_extension": ".py",
   "mimetype": "text/x-python",
   "name": "python",
   "nbconvert_exporter": "python",
   "pygments_lexer": "ipython3",
   "version": "3.9.4"
  }
 },
 "nbformat": 4,
 "nbformat_minor": 5
}
